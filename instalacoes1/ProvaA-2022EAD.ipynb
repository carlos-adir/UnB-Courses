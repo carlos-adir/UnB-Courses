{
 "cells": [
  {
   "cell_type": "markdown",
   "metadata": {},
   "source": [
    "[![Open In Colab](https://colab.research.google.com/assets/colab-badge.svg)](https://colab.research.google.com/github/carlos-adir/UnB-Courses/blob/main/instalacoes1/ProvaA-2022EAD.ipynb)"
   ]
  },
  {
   "cell_type": "code",
   "execution_count": 1,
   "metadata": {
    "cell_id": "9c209854-a71e-4843-86d7-d11678dc70c8",
    "deepnote_cell_height": 225,
    "deepnote_cell_type": "code",
    "deepnote_to_be_reexecuted": false,
    "execution_millis": 1,
    "execution_start": 1652273817941,
    "source_hash": "df823cdb",
    "tags": []
   },
   "outputs": [],
   "source": [
    "try:\n",
    "    import CoolProp\n",
    "except ModuleNotFoundError:\n",
    "    import os\n",
    "    os.system(\"pip install CoolProp\")\n",
    "    import CoolProp\n",
    "\n",
    "PropsSI = CoolProp.CoolProp.PropsSI\n",
    "Celsius0 = 273.15\n"
   ]
  },
  {
   "cell_type": "markdown",
   "metadata": {
    "cell_id": "9c0871abc90547fe9478e2fd5c471bb0",
    "deepnote_cell_height": 176,
    "deepnote_cell_type": "markdown",
    "tags": []
   },
   "source": [
    "Podemos obter as propriedades do fluido utilizando a função ```PropsSI```.\n",
    "Há uma tabela de *inputs* dadas no link [Tabela de Parametros](http://www.coolprop.org/coolprop/HighLevelAPI.html#parameter-table)\n",
    "\n",
    "```python\n",
    "Temperature = PropsSI(\"T\", \"P\", Pression,\"Q\", Titulo, Fluido)  # Kelvin\n",
    "Entropy = PropsSI(\"SMASS\", \"P\", Pression, \"Q\", Titulo, Fluido)  # J/kg\n",
    "Enthalpy = PropsSI(\"HMASS\", \"P\", Pression, \"Q\", Titulo, Fluido)  # J/kg\n",
    "\n",
    "```"
   ]
  },
  {
   "cell_type": "markdown",
   "metadata": {
    "cell_id": "d55ec70896b2427ab2848e4993739cb3",
    "deepnote_cell_height": 100.390625,
    "deepnote_cell_type": "markdown",
    "tags": []
   },
   "source": [
    "### Questão 1\n",
    "\n",
    "Temos um ciclo de refrigeração por compressão a vapor. Os diagramas são dados abaixo."
   ]
  },
  {
   "cell_type": "markdown",
   "metadata": {
    "cell_id": "db28894169fe48cb8513c7b03e8f1823",
    "deepnote_cell_height": 728.65625,
    "deepnote_cell_type": "markdown",
    "owner_user_id": "4ceab1a1-ba24-4c76-8c5a-89e7333425d4",
    "tags": []
   },
   "source": [
    "<img src=\"https://github.com/carlos-adir/UnB-Courses/blob/main/instalacoes1/EsquemaCicloVapor.png?raw=true\" alt=\"EsquemaCicloVapor\" width=\"450px\">\n",
    "\n",
    "<img src=\"https://github.com/carlos-adir/UnB-Courses/blob/main/instalacoes1/TemperaturaEntropiaCicloVapor.png?raw=true\" alt=\"EsquemaCicloVapor\" width=\"300px\">\n",
    "\n",
    "<img src=\"https://github.com/carlos-adir/UnB-Courses/blob/main/instalacoes1/PressaoEntalpiaCicloVapor.png?raw=true\" alt=\"EsquemaCicloVapor\" width=\"300px\">"
   ]
  },
  {
   "cell_type": "markdown",
   "metadata": {
    "cell_id": "558ea58631b848fd981df0c4c59fb447",
    "deepnote_cell_height": 102.796875,
    "deepnote_cell_type": "markdown",
    "tags": []
   },
   "source": [
    "A capacidade de refrigeração é de **5 kW**, isto é\n",
    "\n",
    "$$\n",
    "\\dot{Q}_{f} = 5\\ \\text{kW} = 5 \\cdot 10^{3} \\ \\text{W}\n",
    "$$"
   ]
  },
  {
   "cell_type": "code",
   "execution_count": 2,
   "metadata": {
    "cell_id": "cc3765f6bbfc401bab37f5d1758ec263",
    "deepnote_cell_height": 81,
    "deepnote_cell_type": "code",
    "deepnote_to_be_reexecuted": false,
    "execution_millis": 0,
    "execution_start": 1652273393522,
    "source_hash": "466f2cd9",
    "tags": []
   },
   "outputs": [],
   "source": [
    "Qfdot = 5000  # W"
   ]
  },
  {
   "cell_type": "markdown",
   "metadata": {
    "cell_id": "0808d49add8442f4ad155ae7bb7d6dfb",
    "deepnote_cell_height": 52.390625,
    "deepnote_cell_type": "markdown",
    "tags": []
   },
   "source": [
    "O fluido refrigerante utilizado será o **R134a**"
   ]
  },
  {
   "cell_type": "code",
   "execution_count": 3,
   "metadata": {
    "cell_id": "cd212374f6bc4e6f8924bed935ad286a",
    "deepnote_cell_height": 81,
    "deepnote_cell_type": "code",
    "deepnote_to_be_reexecuted": false,
    "execution_millis": 32544,
    "execution_start": 1652273393523,
    "source_hash": "b7a5eb50",
    "tags": []
   },
   "outputs": [],
   "source": [
    "fluido = \"R134a\"\n",
    "# fluido = \"R22\"\n"
   ]
  },
  {
   "cell_type": "markdown",
   "metadata": {
    "cell_id": "212cc50c2092450090b0860f9d3954a4",
    "deepnote_cell_height": 139.84375,
    "deepnote_cell_type": "markdown",
    "tags": []
   },
   "source": [
    "As pressões de evaporação e condensação valem respectivamente **380 kPa** e **1500 kPa**. Logo\n",
    "\n",
    "$$\n",
    "P_{evap} = 380 \\ \\text{kPa} = 3.8 \\cdot 10^{5} \\ \\text{Pa} \n",
    "$$\n",
    "$$\n",
    "P_{cond} = 1500 \\ \\text{kPa} = 15 \\cdot 10^{5} \\ \\text{Pa}\n",
    "$$"
   ]
  },
  {
   "cell_type": "code",
   "execution_count": 4,
   "metadata": {
    "cell_id": "875a239edcb44850ab5ec702d251eef8",
    "deepnote_cell_height": 99,
    "deepnote_cell_type": "code",
    "deepnote_to_be_reexecuted": false,
    "execution_millis": 32543,
    "execution_start": 1652273393524,
    "source_hash": "19dc90f3",
    "tags": []
   },
   "outputs": [],
   "source": [
    "Pevap = 3.8e+5  # Pa\n",
    "Pcond = 15e+5  # Pa"
   ]
  },
  {
   "cell_type": "markdown",
   "metadata": {
    "cell_id": "6eb9cf0000d14a2882a86a778b6349ea",
    "deepnote_cell_height": 455.21875,
    "deepnote_cell_type": "markdown",
    "tags": []
   },
   "source": [
    "Dos diagrama observados, obtemos algumas equações que são dadas por:\n",
    "\n",
    "#### Usando o diagrama $S \\times T$\n",
    "\n",
    "* $T_1 = T_{evap}$  (Equação 1)\n",
    "* $T_3 = T_{cond}$ (Equação 2)\n",
    "* $T_4 = T_{evap}$ (Equação 3)\n",
    "* $s_1 = s_2$  (Equação 4)\n",
    "* $x_{1} = 1$  (Equação 5)\n",
    "* $x_{3} = 0$  (Equação 6)\n",
    "\n",
    "\n",
    "#### Usando o diagrama $H \\times P$\n",
    "\n",
    "* $P_1 = P_{evap}$  (Equação 7)\n",
    "* $P_2 = P_{cond}$  (Equação 8)\n",
    "* $P_3 = P_{cond}$  (Equação 9)\n",
    "* $P_4 = P_{evap}$  (Equação 10)\n",
    "* $h_3 = h_4$  (Equação 11)"
   ]
  },
  {
   "cell_type": "code",
   "execution_count": 5,
   "metadata": {
    "cell_id": "77e79e94bd2d4691bf28b0fd8d5e35f9",
    "deepnote_cell_height": 171,
    "deepnote_cell_type": "code",
    "deepnote_to_be_reexecuted": false,
    "execution_millis": 32521,
    "execution_start": 1652273393525,
    "source_hash": "c353dba2",
    "tags": []
   },
   "outputs": [],
   "source": [
    "x1 = 1  # Equacao 5\n",
    "x3 = 0  # Equacao 6\n",
    "P1 = Pevap  # Equacao 7\n",
    "P2 = Pcond  # Equacao 8\n",
    "P3 = Pcond  # Equacao 9\n",
    "P4 = Pevap  # Equacao 10"
   ]
  },
  {
   "cell_type": "code",
   "execution_count": 6,
   "metadata": {
    "cell_id": "b680efd30748481eb21db586034ff5b0",
    "deepnote_cell_height": 186,
    "deepnote_cell_type": "code",
    "deepnote_to_be_reexecuted": false,
    "execution_millis": 32554,
    "execution_start": 1652273393559,
    "source_hash": "6d324153",
    "tags": []
   },
   "outputs": [
    {
     "name": "stdout",
     "output_type": "stream",
     "text": [
      "Temperatura de condensação: 328.383 K = 55.233 oC\n",
      "Temperatura de evaporação:  280.567 K = 7.417 oC\n"
     ]
    }
   ],
   "source": [
    "Tcond = PropsSI('T', 'P', P3,'Q', x3, fluido)\n",
    "Tevap = PropsSI('T', 'P', P1,'Q', x1, fluido)\n",
    "print(\"Temperatura de condensação: %.3f K = %.3f oC\" % (Tcond, Tcond-Celsius0))\n",
    "print(\"Temperatura de evaporação:  %.3f K = %.3f oC\" % (Tevap, Tevap-Celsius0))"
   ]
  },
  {
   "cell_type": "code",
   "execution_count": 7,
   "metadata": {
    "cell_id": "058fc82972b24c8b9d67b019824bc568",
    "deepnote_cell_height": 117,
    "deepnote_cell_type": "code",
    "deepnote_to_be_reexecuted": false,
    "execution_millis": 2,
    "execution_start": 1652273393561,
    "source_hash": "f81bc5b2",
    "tags": []
   },
   "outputs": [],
   "source": [
    "T1 = Tevap  # Equacao 1\n",
    "T3 = Tcond  # Equacao 2\n",
    "T4 = Tevap  # Equacao 3"
   ]
  },
  {
   "cell_type": "code",
   "execution_count": 8,
   "metadata": {
    "cell_id": "f47812dad14f43578cd3a2da228b7583",
    "deepnote_cell_height": 207,
    "deepnote_cell_type": "code",
    "deepnote_to_be_reexecuted": false,
    "execution_millis": 0,
    "execution_start": 1652273393561,
    "source_hash": "3543b96a",
    "tags": []
   },
   "outputs": [],
   "source": [
    "h1 = PropsSI(\"HMASS\", \"P\", P1, \"Q\", x1, fluido)\n",
    "s1 = PropsSI(\"SMASS\", \"P\", P1, \"Q\", x1, fluido)\n",
    "s2 = s1  # Equacao 4\n",
    "h3 = PropsSI(\"HMASS\", \"P\", P3, \"Q\", x3, fluido)\n",
    "h4 = h3  # Equacao 11\n",
    "h2 = PropsSI(\"HMASS\", \"P\", P2, \"SMASS\", s2, fluido)\n",
    "s3 = PropsSI(\"SMASS\", \"P\", P3, \"HMASS\", h3, fluido)\n",
    "s4 = PropsSI(\"SMASS\", \"P\", P4, \"HMASS\", h4, fluido)"
   ]
  },
  {
   "cell_type": "markdown",
   "metadata": {
    "cell_id": "2ae87a19b9154894aec8c8cd4217dcb5",
    "deepnote_cell_height": 52.390625,
    "deepnote_cell_type": "markdown",
    "tags": []
   },
   "source": [
    "Calculamos os demais componentes do circuito"
   ]
  },
  {
   "cell_type": "code",
   "execution_count": 9,
   "metadata": {
    "cell_id": "558faa435ce6496fa40a8c9a3a75fe0e",
    "deepnote_cell_height": 117,
    "deepnote_cell_type": "code",
    "deepnote_to_be_reexecuted": false,
    "execution_millis": 1,
    "execution_start": 1652273393564,
    "source_hash": "3b95d527",
    "tags": []
   },
   "outputs": [],
   "source": [
    "T2 = PropsSI(\"T\", \"P\", P2, \"HMASS\", h2, fluido)\n",
    "# x2 = PropsSI(\"Q\", \"P\", P2, \"HMASS\", h2, fluido)  # Inexistente pois vapor superaquecido\n",
    "x4 = PropsSI(\"Q\", \"P\", P4, \"HMASS\", h4, fluido)"
   ]
  },
  {
   "cell_type": "markdown",
   "metadata": {
    "cell_id": "4e367768f8db4415b4c97365da206877",
    "deepnote_cell_height": 52.390625,
    "deepnote_cell_type": "markdown",
    "tags": []
   },
   "source": [
    "Mostrando então os resultados"
   ]
  },
  {
   "cell_type": "code",
   "execution_count": 10,
   "metadata": {
    "cell_id": "4726b2fd4d764b02b0f7fd45517eb1b3",
    "deepnote_cell_height": 1096,
    "deepnote_cell_type": "code",
    "deepnote_to_be_reexecuted": false,
    "execution_millis": 3,
    "execution_start": 1652273393613,
    "source_hash": "82468ebd",
    "tags": []
   },
   "outputs": [
    {
     "name": "stdout",
     "output_type": "stream",
     "text": [
      "Pressoes\n",
      "P1 = 380000.000 Pa\n",
      "P2 = 1500000.000 Pa\n",
      "P3 = 1500000.000 Pa\n",
      "P4 = 380000.000 Pa\n",
      "Temperaturas\n",
      "T1 = 280.567 K = 7.417 oC\n",
      "T2 = 333.142 K = 59.992 oC\n",
      "T3 = 328.383 K = 55.233 oC\n",
      "T4 = 280.567 K = 7.417 oC\n",
      "Titulos\n",
      "x1 = 1.000\n",
      "x2 = Vapor superaquecido\n",
      "x3 = 0.000\n",
      "x4 = 0.362\n",
      "Entalpias\n",
      "h1 = 402866.622 J/kg\n",
      "h2 = 431310.779 J/kg\n",
      "h3 = 279838.967 J/kg\n",
      "h4 = 279838.967 J/kg\n",
      "Entropias\n",
      "s1 = 1723.294 J/(kg*K)\n",
      "s2 = 1723.294 J/(kg*K)\n",
      "s3 = 1262.160 J/(kg*K)\n",
      "s4 = 1284.798 J/(kg*K)\n"
     ]
    }
   ],
   "source": [
    "print(\"Pressoes\")\n",
    "print(\"P1 = %.3f Pa\" % P1)\n",
    "print(\"P2 = %.3f Pa\" % P2)\n",
    "print(\"P3 = %.3f Pa\" % P3)\n",
    "print(\"P4 = %.3f Pa\" % P4)\n",
    "\n",
    "print(\"Temperaturas\")\n",
    "print(\"T1 = %.3f K = %.3f oC\" % (T1, T1-Celsius0))\n",
    "print(\"T2 = %.3f K = %.3f oC\" % (T2, T2-Celsius0))\n",
    "print(\"T3 = %.3f K = %.3f oC\" % (T3, T3-Celsius0))\n",
    "print(\"T4 = %.3f K = %.3f oC\" % (T4, T4-Celsius0))\n",
    "\n",
    "print(\"Titulos\")\n",
    "print(\"x1 = %.3f\" % x1)\n",
    "print(\"x2 = Vapor superaquecido\")\n",
    "print(\"x3 = %.3f\" % x3)\n",
    "print(\"x4 = %.3f\" % x4)\n",
    "\n",
    "print(\"Entalpias\")\n",
    "print(\"h1 = %.3f J/kg\" % h1)\n",
    "print(\"h2 = %.3f J/kg\" % h2)\n",
    "print(\"h3 = %.3f J/kg\" % h3)\n",
    "print(\"h4 = %.3f J/kg\" % h4)\n",
    "\n",
    "print(\"Entropias\")\n",
    "print(\"s1 = %.3f J/(kg*K)\" % s1)\n",
    "print(\"s2 = %.3f J/(kg*K)\" % s2)\n",
    "print(\"s3 = %.3f J/(kg*K)\" % s3)\n",
    "print(\"s4 = %.3f J/(kg*K)\" % s4)"
   ]
  },
  {
   "cell_type": "markdown",
   "metadata": {
    "cell_id": "ffc495f412b34c8d99a318285e58c1f8",
    "deepnote_cell_height": 154.5625,
    "deepnote_cell_type": "markdown",
    "tags": []
   },
   "source": [
    "Agora, temos as três quantidades importantes para o sistema que são\n",
    "\n",
    "* $w = h_{2} - h_1$  (Equação 12)\n",
    "* $q_f = h_1 - h_4$  (Equação 13)\n",
    "* $q_q = h_2 - h_3$  (Equação 14)"
   ]
  },
  {
   "cell_type": "code",
   "execution_count": 11,
   "metadata": {
    "cell_id": "5f8bd87ca2a94292af59f7903ac7f3c2",
    "deepnote_cell_height": 298,
    "deepnote_cell_type": "code",
    "deepnote_to_be_reexecuted": false,
    "execution_millis": 2,
    "execution_start": 1652273393614,
    "source_hash": "5befc4d5",
    "tags": []
   },
   "outputs": [
    {
     "name": "stdout",
     "output_type": "stream",
     "text": [
      "Valores de calor do ciclo por unidade de massa:\n",
      "w  = 28444.157 J/kg\n",
      "qf = 123027.655 J/kg\n",
      "qq = 151471.812 J/kg\n"
     ]
    }
   ],
   "source": [
    "w = h2 - h1  # Equacao 12\n",
    "qf = h1 - h4  # Equacao 13\n",
    "qq = h2 - h3  # Equacao 14\n",
    "\n",
    "print(\"Valores de calor do ciclo por unidade de massa:\")\n",
    "print(\"w  = %.3f J/kg\" % w)\n",
    "print(\"qf = %.3f J/kg\" % qf)\n",
    "print(\"qq = %.3f J/kg\" % qq)"
   ]
  },
  {
   "cell_type": "markdown",
   "metadata": {
    "cell_id": "5fd4efd680a1435496d7af446cf6b7a4",
    "deepnote_cell_height": 110.765625,
    "deepnote_cell_type": "markdown",
    "tags": []
   },
   "source": [
    "O **COP** é então dado pela equação\n",
    "\n",
    "$$\n",
    "\\text{COP} = \\dfrac{q_f}{w}\n",
    "$$"
   ]
  },
  {
   "cell_type": "code",
   "execution_count": 12,
   "metadata": {
    "cell_id": "b480c303d7d34d7fbcef33b8ed737751",
    "deepnote_cell_height": 130,
    "deepnote_cell_type": "code",
    "deepnote_to_be_reexecuted": false,
    "execution_millis": 3,
    "execution_start": 1652273393644,
    "source_hash": "5c2fa866",
    "tags": []
   },
   "outputs": [
    {
     "name": "stdout",
     "output_type": "stream",
     "text": [
      "COP = 4.325\n"
     ]
    }
   ],
   "source": [
    "COP = qf/w\n",
    "print(\"COP = %.3f\" % COP)"
   ]
  },
  {
   "cell_type": "markdown",
   "metadata": {
    "cell_id": "8348e63a1c5b43fcbff336e09cc1656b",
    "deepnote_cell_height": 123.90625,
    "deepnote_cell_type": "markdown",
    "tags": []
   },
   "source": [
    "Agora calculamos o valor do fluxo de massa $\\dot{m}$ dado por\n",
    "\n",
    "$$\n",
    "\\dot{m} = \\dfrac{\\dot{Q}_{f}}{q_f}\n",
    "$$"
   ]
  },
  {
   "cell_type": "code",
   "execution_count": 13,
   "metadata": {
    "cell_id": "4ce33a718f9649049df0792fa2d7bf04",
    "deepnote_cell_height": 130,
    "deepnote_cell_type": "code",
    "deepnote_to_be_reexecuted": false,
    "execution_millis": 3,
    "execution_start": 1652273393644,
    "source_hash": "df0d474f",
    "tags": []
   },
   "outputs": [
    {
     "name": "stdout",
     "output_type": "stream",
     "text": [
      "mdot = 0.041 kg/s\n"
     ]
    }
   ],
   "source": [
    "mdot = Qfdot/qf\n",
    "print(\"mdot = %.3f kg/s\" % (mdot))"
   ]
  },
  {
   "cell_type": "markdown",
   "metadata": {
    "cell_id": "5e1f2dce9daa444fa74db2dda3215f59",
    "deepnote_cell_height": 163.203125,
    "deepnote_cell_type": "markdown",
    "tags": []
   },
   "source": [
    "E a vazão volumérica é dada por\n",
    "\n",
    "$$\n",
    "\\dot{V} = \\dfrac{\\dot{m}}{\\rho}\n",
    "$$\n",
    "\n",
    "Visto que o fluido muda de temperatura, de fase, ele também mudará sua massa específica $\\rho$ e então a vazão volumétrica. Ou seja, iremos calcular a vazão para cada ponto."
   ]
  },
  {
   "cell_type": "code",
   "execution_count": 14,
   "metadata": {
    "cell_id": "f30129fab24d48e1bb3b8126af2aa73a",
    "deepnote_cell_height": 876,
    "deepnote_cell_type": "code",
    "deepnote_to_be_reexecuted": false,
    "execution_millis": 27,
    "execution_start": 1652273393645,
    "source_hash": "c7abea41",
    "tags": []
   },
   "outputs": [
    {
     "name": "stdout",
     "output_type": "stream",
     "text": [
      "rho1 = 18.575 kg/m^3\n",
      "rho2 = 73.455 kg/m^3\n",
      "rho3 = 1077.166 kg/m^3\n",
      "rho4 = 50.027 kg/m^3\n",
      "V1dot = 0.002 m^3/s = 2.188 L/s\n",
      "V2dot = 0.001 m^3/s = 0.553 L/s\n",
      "V3dot = 0.000 m^3/s = 0.038 L/s\n",
      "V4dot = 0.001 m^3/s = 0.812 L/s\n",
      "cp1 = 801.740 J/(kg*K)\n",
      "cp2 = 894.417 J/(kg*K)\n",
      "cp3 = 886.265 J/(kg*K)\n",
      "cp4 = 801.740 J/(kg*K)\n",
      "Calor latente Baixa pressao = 192824.664 J/kg\n",
      "Calor latente Alta pressao = 145388.457 J/kg\n"
     ]
    }
   ],
   "source": [
    "rho1 = PropsSI('D', 'P', P1,'SMASS',s1, fluido)\n",
    "rho2 = PropsSI('D', 'P', P2,'SMASS',s2, fluido)\n",
    "rho3 = PropsSI('D', 'P', P3,'SMASS',s3, fluido)\n",
    "rho4 = PropsSI('D', 'P', P4,'SMASS',s4, fluido)\n",
    "V1dot = mdot/rho1\n",
    "V2dot = mdot/rho2\n",
    "V3dot = mdot/rho3\n",
    "V4dot = mdot/rho4\n",
    "cp1 = PropsSI(\"CP0MASS\", \"P\", P1, \"SMASS\", s1, fluido)\n",
    "cp2 = PropsSI(\"CP0MASS\", \"P\", P2, \"SMASS\", s2, fluido)\n",
    "cp3 = PropsSI(\"CP0MASS\", \"P\", P3, \"SMASS\", s3, fluido)\n",
    "cp4 = PropsSI(\"CP0MASS\", \"P\", P4, \"SMASS\", s4, fluido)\n",
    "clHPres = PropsSI(\"HMASS\", \"P\", P3, \"Q\", 1, fluido) -  PropsSI(\"HMASS\", \"P\", P3, \"Q\", 0, fluido)\n",
    "clLPres = PropsSI(\"HMASS\", \"P\", P4, \"Q\", 1, fluido) -  PropsSI(\"HMASS\", \"P\", P4, \"Q\", 0, fluido) \n",
    "\n",
    "print(\"rho1 = %.3f kg/m^3\" % rho1)\n",
    "print(\"rho2 = %.3f kg/m^3\" % rho2)\n",
    "print(\"rho3 = %.3f kg/m^3\" % rho3)\n",
    "print(\"rho4 = %.3f kg/m^3\" % rho4)\n",
    "print(\"V1dot = %.3f m^3/s = %.3f L/s\" % (V1dot, 1000*V1dot))\n",
    "print(\"V2dot = %.3f m^3/s = %.3f L/s\" % (V2dot, 1000*V2dot))\n",
    "print(\"V3dot = %.3f m^3/s = %.3f L/s\" % (V3dot, 1000*V3dot))\n",
    "print(\"V4dot = %.3f m^3/s = %.3f L/s\" % (V4dot, 1000*V4dot))\n",
    "print(\"cp1 = %.3f J/(kg*K)\" % cp1)\n",
    "print(\"cp2 = %.3f J/(kg*K)\" % cp2)\n",
    "print(\"cp3 = %.3f J/(kg*K)\" % cp3)\n",
    "print(\"cp4 = %.3f J/(kg*K)\" % cp4)\n",
    "print(\"Calor latente Baixa pressao = %.3f J/kg\" % clLPres)\n",
    "print(\"Calor latente Alta pressao = %.3f J/kg\" % clHPres)"
   ]
  },
  {
   "cell_type": "markdown",
   "metadata": {
    "cell_id": "3998dc448edd4005bc8af0caf563350c",
    "deepnote_cell_height": 75.125,
    "deepnote_cell_type": "markdown",
    "tags": []
   },
   "source": [
    "Agora mostramos os gráficos do ciclo.\n",
    "Para isso, usaremos as mesmas equações acima, mas utilizaremos $n$ valores entre cada passo."
   ]
  },
  {
   "cell_type": "code",
   "execution_count": 15,
   "metadata": {
    "cell_id": "7f97d0fe720c48fc9186d6a78b5a9f25",
    "deepnote_cell_height": 1197,
    "deepnote_cell_type": "code",
    "deepnote_to_be_reexecuted": false,
    "execution_millis": 1304,
    "execution_start": 1652273393673,
    "source_hash": "a9085132",
    "tags": []
   },
   "outputs": [],
   "source": [
    "import numpy as np\n",
    "from matplotlib import pyplot as plt\n",
    "\n",
    "PM = Pcond\n",
    "TM = Tcond\n",
    "xM = 1\n",
    "hM = PropsSI(\"HMASS\", \"P\", PM, \"Q\", xM, fluido)\n",
    "sM = PropsSI(\"SMASS\", \"P\", PM, \"Q\", xM, fluido)\n",
    "\n",
    "\n",
    "n = 2**3 + 1\n",
    "\n",
    "\n",
    "# Encontrar de 1 ate 2. S constante e T linear\n",
    "s1to2 = s1 * np.ones(n)\n",
    "T1to2 = np.linspace(T1, T2, n)\n",
    "P1to2 = np.zeros(n)\n",
    "h1to2 = np.zeros(n)\n",
    "for i in range(n):\n",
    "    P1to2[i] = PropsSI(\"P\", \"T\", T1to2[i], \"SMASS\", s2, fluido)\n",
    "    h1to2[i] = PropsSI(\"HMASS\", \"T\", T1to2[i], \"SMASS\", s2, fluido)\n",
    "    \n",
    "\n",
    "# Encontrar de 2 ate M. P constante e H linear\n",
    "P2toM = Pcond * np.ones(n)\n",
    "h2toM = np.linspace(h2, hM, n)\n",
    "T2toM = np.zeros(n)\n",
    "s2toM = np.zeros(n)\n",
    "for i in range(n):\n",
    "    T2toM[i] = PropsSI(\"T\", \"P\", P3, \"HMASS\", h2toM[i], fluido)\n",
    "    s2toM[i] = PropsSI(\"SMASS\", \"P\", P3, \"HMASS\", h2toM[i], fluido)\n",
    "    \n",
    "# Encontrar de M ate 3. P constante, T constante e X linear\n",
    "PMto3 = Pcond * np.ones(n)\n",
    "TMto3 = Tcond * np.ones(n)\n",
    "xMto3 = np.linspace(1, 0, n)\n",
    "hMto3 = np.zeros(n)\n",
    "sMto3 = np.zeros(n)\n",
    "for i in range(n):\n",
    "    hMto3[i] = PropsSI(\"HMASS\", \"P\", Pcond, \"Q\", xMto3[i], fluido)\n",
    "    sMto3[i] = PropsSI(\"SMASS\", \"P\", Pcond, \"Q\", xMto3[i], fluido)\n",
    "    \n",
    "\n",
    "# Encontrar de 3 ate 4. H constante e P linear\n",
    "h3to4 = h3 * np.ones(n)\n",
    "P3to4 = np.linspace(P3, P4, n)\n",
    "T3to4 = np.zeros(n)\n",
    "s3to4 = np.zeros(n)\n",
    "x3to4 = np.zeros(n)\n",
    "for i in range(n):\n",
    "    T3to4[i] = PropsSI(\"T\", \"HMASS\", h3, \"P\", P3to4[i], fluido)\n",
    "    s3to4[i] = PropsSI(\"SMASS\", \"HMASS\", h3, \"P\", P3to4[i], fluido)\n",
    "    x3to4[i] = PropsSI(\"Q\", \"HMASS\", h3, \"P\", P3to4[i], fluido)\n",
    "    \n",
    "# Encontrar de 4 ate 1. P constante, T constante e X linear\n",
    "P4to1 = Pevap * np.ones(n)\n",
    "T4to1 = Tevap * np.ones(n)\n",
    "h4to1 = np.zeros(n)\n",
    "s4to1 = np.zeros(n)\n",
    "x4to1 = np.linspace(x4, 1, n)\n",
    "for i in range(n):\n",
    "    h4to1[i] = PropsSI(\"HMASS\", \"P\", Pevap, \"Q\", x4to1[i], fluido)\n",
    "    s4to1[i] = PropsSI(\"SMASS\", \"P\", Pevap, \"Q\", x4to1[i], fluido)"
   ]
  },
  {
   "cell_type": "code",
   "execution_count": 16,
   "metadata": {
    "cell_id": "7215946cf9f143d5a1098584356ec655",
    "deepnote_cell_height": 297,
    "deepnote_cell_type": "code",
    "deepnote_to_be_reexecuted": false,
    "execution_millis": 45,
    "execution_start": 1652273394996,
    "source_hash": "a0ad63c1",
    "tags": []
   },
   "outputs": [],
   "source": [
    "t1, t2, t3, t4, t1r = 1, 2, 3, 4, 5\n",
    "tM = ((h2-hM)*t3  + (hM-h3)*t2)/(h2-h3)\n",
    "time1to2 = np.linspace(t1, t2, n)\n",
    "time2toM = np.linspace(t2, tM, n)\n",
    "timeMto3 = np.linspace(tM, t3, n)\n",
    "time3to4 = np.linspace(t3, t4, n)\n",
    "time4to1 = np.linspace(t4, t1r, n)\n",
    "time = np.concatenate([time1to2, time2toM, timeMto3, time3to4, time4to1])\n",
    "T = np.concatenate([T1to2, T2toM, TMto3, T3to4, T4to1])\n",
    "P = np.concatenate([P1to2, P2toM, PMto3, P3to4, P4to1])\n",
    "h = np.concatenate([h1to2, h2toM, hMto3, h3to4, h4to1])\n",
    "s = np.concatenate([s1to2, s2toM, sMto3, s3to4, s4to1])\n",
    "x = np.concatenate([xMto3, x3to4, x4to1])"
   ]
  },
  {
   "cell_type": "code",
   "execution_count": 17,
   "metadata": {
    "cell_id": "0789e6f0b3af4e81ad2707eb0c39fe49",
    "deepnote_cell_height": 600.1875,
    "deepnote_cell_type": "code",
    "deepnote_output_heights": [
     null,
     253
    ],
    "deepnote_to_be_reexecuted": false,
    "execution_millis": 953,
    "execution_start": 1652273395085,
    "source_hash": "6ed9053f",
    "tags": []
   },
   "outputs": [
    {
     "data": {
      "text/plain": [
       "<matplotlib.legend.Legend at 0x269e60cda60>"
      ]
     },
     "execution_count": 17,
     "metadata": {},
     "output_type": "execute_result"
    },
    {
     "data": {
      "image/png": "[encoded data removed]",
      "text/plain": [
       "<Figure size 432x288 with 1 Axes>"
      ]
     },
     "metadata": {
      "needs_background": "light"
     },
     "output_type": "display_data"
    }
   ],
   "source": [
    "plt.figure(1)\n",
    "plt.plot(time, T-Celsius0, color=\"black\")\n",
    "plt.scatter(t1, T1-Celsius0, label=\"1\", color=\"blue\")\n",
    "plt.scatter(t2, T2-Celsius0, label=\"2\", color=\"red\")\n",
    "plt.scatter(tM, TM-Celsius0, label=\"M\", color=\"grey\")\n",
    "plt.scatter(t3, T3-Celsius0, label=\"3\", color=\"orange\")\n",
    "plt.scatter(t4, T4-Celsius0, label=\"4\", color=\"green\")\n",
    "plt.scatter(t1r, T1-Celsius0, color=\"blue\")\n",
    "plt.title(\"Temperature\")\n",
    "plt.ylabel(r\"$T$ (oC)\")\n",
    "plt.xticks([])\n",
    "plt.legend()"
   ]
  },
  {
   "cell_type": "code",
   "execution_count": 18,
   "metadata": {
    "cell_id": "ca06f4b154df44179e0dedea280b80bc",
    "deepnote_cell_height": 600.1875,
    "deepnote_cell_type": "code",
    "deepnote_output_heights": [
     null,
     253
    ],
    "deepnote_to_be_reexecuted": false,
    "execution_millis": 391,
    "execution_start": 1652273395684,
    "source_hash": "b0514100",
    "tags": []
   },
   "outputs": [
    {
     "data": {
      "text/plain": [
       "<matplotlib.legend.Legend at 0x269e61fc3a0>"
      ]
     },
     "execution_count": 18,
     "metadata": {},
     "output_type": "execute_result"
    },
    {
     "data": {
      "image/png": "[encoded data removed]",
      "text/plain": [
       "<Figure size 432x288 with 1 Axes>"
      ]
     },
     "metadata": {
      "needs_background": "light"
     },
     "output_type": "display_data"
    }
   ],
   "source": [
    "plt.figure(2)\n",
    "plt.plot(time, P, color=\"black\")\n",
    "plt.scatter(t1, P1, label=\"1\", color=\"blue\")\n",
    "plt.scatter(t2, P2, label=\"2\", color=\"red\")\n",
    "plt.scatter(tM, PM, label=\"M\", color=\"grey\")\n",
    "plt.scatter(t3, P3, label=\"3\", color=\"orange\")\n",
    "plt.scatter(t4, P4, label=\"4\", color=\"green\")\n",
    "plt.scatter(t1r, P1, color=\"blue\")\n",
    "plt.title(\"Pressao\")\n",
    "plt.ylabel(r\"$P$ (Pa)\")\n",
    "plt.xticks([])\n",
    "plt.legend()"
   ]
  },
  {
   "cell_type": "code",
   "execution_count": 19,
   "metadata": {
    "cell_id": "8cbf347ea68c4921b518a74e35e94b17",
    "deepnote_cell_height": 600.1875,
    "deepnote_cell_type": "code",
    "deepnote_output_heights": [
     null,
     253
    ],
    "deepnote_to_be_reexecuted": false,
    "execution_millis": 382,
    "execution_start": 1652273396020,
    "source_hash": "3a4f0005",
    "tags": []
   },
   "outputs": [
    {
     "data": {
      "text/plain": [
       "<matplotlib.legend.Legend at 0x269e62b1a00>"
      ]
     },
     "execution_count": 19,
     "metadata": {},
     "output_type": "execute_result"
    },
    {
     "data": {
      "image/png": "[encoded data removed]",
      "text/plain": [
       "<Figure size 432x288 with 1 Axes>"
      ]
     },
     "metadata": {
      "needs_background": "light"
     },
     "output_type": "display_data"
    }
   ],
   "source": [
    "plt.figure(3)\n",
    "plt.plot(time, h, color=\"black\")\n",
    "plt.scatter(t1, h1, label=\"1\", color=\"blue\")\n",
    "plt.scatter(t2, h2, label=\"2\", color=\"red\")\n",
    "plt.scatter(tM, hM, label=\"M\", color=\"grey\")\n",
    "plt.scatter(t3, h3, label=\"3\", color=\"orange\")\n",
    "plt.scatter(t4, h4, label=\"4\", color=\"green\")\n",
    "plt.scatter(t1r, h1, color=\"blue\")\n",
    "plt.title(\"Entalpia especifica\")\n",
    "plt.ylabel(r\"$h$ (J/kg)\")\n",
    "plt.xticks([])\n",
    "plt.legend()"
   ]
  },
  {
   "cell_type": "code",
   "execution_count": 20,
   "metadata": {
    "cell_id": "8cc8a3b16f38492cb00448c6e283beaa",
    "deepnote_cell_height": 600.1875,
    "deepnote_cell_type": "code",
    "deepnote_output_heights": [
     null,
     253
    ],
    "deepnote_to_be_reexecuted": false,
    "execution_millis": 285,
    "execution_start": 1652273396397,
    "source_hash": "7e314af",
    "tags": []
   },
   "outputs": [
    {
     "data": {
      "text/plain": [
       "<matplotlib.legend.Legend at 0x269e6325f10>"
      ]
     },
     "execution_count": 20,
     "metadata": {},
     "output_type": "execute_result"
    },
    {
     "data": {
      "image/png": "[encoded data removed]",
      "text/plain": [
       "<Figure size 432x288 with 1 Axes>"
      ]
     },
     "metadata": {
      "needs_background": "light"
     },
     "output_type": "display_data"
    }
   ],
   "source": [
    "plt.figure(4)\n",
    "plt.plot(time, s, color=\"black\")\n",
    "plt.scatter(t1, s1, label=\"1\", color=\"blue\")\n",
    "plt.scatter(t2, s2, label=\"2\", color=\"red\")\n",
    "plt.scatter(tM, sM, label=\"M\", color=\"grey\")\n",
    "plt.scatter(t3, s3, label=\"3\", color=\"orange\")\n",
    "plt.scatter(t4, s4, label=\"4\", color=\"green\")\n",
    "plt.scatter(t1r, s1, color=\"blue\")\n",
    "plt.title(\"Entropia especifica\")\n",
    "plt.ylabel(r\"$s$ (J/kg*K)\")\n",
    "plt.xticks([])\n",
    "plt.legend()"
   ]
  },
  {
   "cell_type": "code",
   "execution_count": 21,
   "metadata": {
    "cell_id": "238242cc29e64b90a382077fe0ad935a",
    "deepnote_cell_height": 618.1875,
    "deepnote_cell_type": "code",
    "deepnote_output_heights": [
     null,
     253
    ],
    "deepnote_to_be_reexecuted": false,
    "execution_millis": 249,
    "execution_start": 1652273396752,
    "source_hash": "2613dcaa",
    "tags": []
   },
   "outputs": [
    {
     "data": {
      "text/plain": [
       "<matplotlib.legend.Legend at 0x269e7367790>"
      ]
     },
     "execution_count": 21,
     "metadata": {},
     "output_type": "execute_result"
    },
    {
     "data": {
      "image/png": "[encoded data removed]",
      "text/plain": [
       "<Figure size 432x288 with 1 Axes>"
      ]
     },
     "metadata": {
      "needs_background": "light"
     },
     "output_type": "display_data"
    }
   ],
   "source": [
    "plt.figure(5)\n",
    "timeliquido = np.concatenate([timeMto3, time3to4, time4to1])\n",
    "plt.plot(timeliquido, x, color=\"black\")\n",
    "plt.scatter(t1, x1, label=\"1\", color=\"blue\")\n",
    "plt.plot((t1, tM), (x1, xM), ls=\"dashed\", color=\"black\")\n",
    "plt.scatter(tM, xM, label=\"M\", color=\"grey\")\n",
    "plt.scatter(t3, x3, label=\"3\", color=\"orange\")\n",
    "plt.scatter(t4, x4, label=\"4\", color=\"green\")\n",
    "plt.scatter(t1r, x1, color=\"blue\")\n",
    "plt.title(\"Titulo\")\n",
    "plt.ylabel(r\"$x$\")\n",
    "plt.xticks([])\n",
    "plt.legend()"
   ]
  },
  {
   "cell_type": "code",
   "execution_count": 22,
   "metadata": {
    "cell_id": "3e98a209923c40ffa7a87144118a5ecf",
    "deepnote_cell_height": 531,
    "deepnote_cell_type": "code",
    "deepnote_to_be_reexecuted": false,
    "execution_millis": 0,
    "execution_start": 1652273397089,
    "source_hash": "36f11c92",
    "tags": []
   },
   "outputs": [],
   "source": [
    "# Pegar os pontos criticos\n",
    "try:\n",
    "    m = 129\n",
    "    Pcrit = PropsSI(fluido, 'Pcrit')\n",
    "    Tcrit = PropsSI(fluido, 'Tcrit')\n",
    "    Tmax = Tcrit - 1e-6\n",
    "    try:\n",
    "        Tmin = Tmax\n",
    "        while True:\n",
    "            PropsSI(\"P\", \"T\", Tmin, \"Q\", 0, fluido)\n",
    "            Tmin /= 2\n",
    "    except Exception as e:\n",
    "        Tmin *= 2\n",
    "    Trange = np.linspace(Tmin, Tmax, m)\n",
    "    Pleft = PropsSI(\"P\", \"T\", Trange, \"Q\", 0, fluido)\n",
    "    Pright = PropsSI(\"P\", \"T\", Trange, \"Q\", 0, fluido)\n",
    "    sleft = PropsSI(\"SMASS\", \"T\", Trange, \"Q\", 0, fluido)\n",
    "    sright = PropsSI(\"SMASS\", \"T\", Trange, \"Q\", 1, fluido)\n",
    "    hleft = PropsSI(\"HMASS\", \"T\", Trange, \"Q\", 0, fluido)\n",
    "    hright = PropsSI(\"HMASS\", \"T\", Trange, \"Q\", 1, fluido)\n",
    "    drawborder = True\n",
    "    \n",
    "except Exception as e:\n",
    "    print(\"Could not draw border. Cause:\")\n",
    "    print(e)\n",
    "    drawborder = False"
   ]
  },
  {
   "cell_type": "code",
   "execution_count": 23,
   "metadata": {
    "cell_id": "d57e6c03446d4a979f969f7908c6fd08",
    "deepnote_cell_height": 883.1875,
    "deepnote_cell_type": "code",
    "deepnote_output_heights": [
     null,
     284
    ],
    "deepnote_to_be_reexecuted": false,
    "execution_millis": 371,
    "execution_start": 1652273397170,
    "source_hash": "423c3f24",
    "tags": []
   },
   "outputs": [
    {
     "data": {
      "text/plain": [
       "<matplotlib.legend.Legend at 0x269e73d2f70>"
      ]
     },
     "execution_count": 23,
     "metadata": {},
     "output_type": "execute_result"
    },
    {
     "data": {
      "image/png": "[encoded data removed]",
      "text/plain": [
       "<Figure size 432x288 with 1 Axes>"
      ]
     },
     "metadata": {
      "needs_background": "light"
     },
     "output_type": "display_data"
    }
   ],
   "source": [
    "dP = np.max(P) - np.min(P)\n",
    "Pmean = (np.max(P) + np.min(P))/2.\n",
    "dh = np.max(h) - np.min(h)\n",
    "hmean = (np.max(h) + np.min(h))/2.\n",
    "fatorx = 1\n",
    "fatory = 1.5\n",
    "\n",
    "Pmin = np.max([Pmean - fatory*dP, 0])\n",
    "Pmax = Pmean + fatory*dP\n",
    "\n",
    "plt.figure(6)\n",
    "plt.plot(h, P, color=\"black\")\n",
    "plt.scatter(h1, P1, label=\"1\", color=\"blue\")\n",
    "plt.scatter(h2, P2, label=\"2\", color=\"red\")\n",
    "plt.scatter(hM, PM, label=\"M\", color=\"grey\")\n",
    "plt.scatter(h3, P3, label=\"3\", color=\"orange\")\n",
    "plt.scatter(h4, P4, label=\"4\", color=\"green\")\n",
    "if drawborder:\n",
    "    plt.plot(hleft, Pleft, ls=\"dotted\", color=\"black\")\n",
    "    plt.plot(hright, Pleft, ls=\"dotted\", color=\"black\")\n",
    "plt.title(\"Grafico Pressao - Entalpia\")\n",
    "plt.xlabel(r\"Entalpia $h (J/kg)$\")\n",
    "plt.ylabel(r\"Pressão $P (Pa)$\")\n",
    "plt.xlim([hmean-fatorx*dh, hmean+fatorx*dh])\n",
    "plt.ylim([Pmin, Pmax])\n",
    "plt.legend()"
   ]
  },
  {
   "cell_type": "code",
   "execution_count": 24,
   "metadata": {
    "cell_id": "97c9a3450fcd4040847463a6280874f5",
    "deepnote_cell_height": 883.1875,
    "deepnote_cell_type": "code",
    "deepnote_output_heights": [
     null,
     284
    ],
    "deepnote_to_be_reexecuted": false,
    "execution_millis": 344,
    "execution_start": 1652273397646,
    "source_hash": "49eb4f46",
    "tags": []
   },
   "outputs": [
    {
     "data": {
      "text/plain": [
       "<matplotlib.legend.Legend at 0x269e748bb50>"
      ]
     },
     "execution_count": 24,
     "metadata": {},
     "output_type": "execute_result"
    },
    {
     "data": {
      "image/png": "[encoded data removed]",
      "text/plain": [
       "<Figure size 432x288 with 1 Axes>"
      ]
     },
     "metadata": {
      "needs_background": "light"
     },
     "output_type": "display_data"
    }
   ],
   "source": [
    "dT = np.max(T) - np.min(T)\n",
    "Tmean = (np.max(T) + np.min(T))/2.\n",
    "ds = np.max(s) - np.min(s)\n",
    "smean = (np.max(s) + np.min(s))/2.\n",
    "fatorx = 1\n",
    "fatory = 1\n",
    "\n",
    "Tmin = np.max([Tmean-fatory*dT, 0])\n",
    "Tmax = Tmean+fatory*dT \n",
    "\n",
    "plt.figure(7)\n",
    "plt.plot(s, T, color=\"black\")\n",
    "plt.scatter(s1, T1, label=\"1\", color=\"blue\")\n",
    "plt.scatter(s2, T2, label=\"2\", color=\"red\")\n",
    "plt.scatter(sM, TM, label=\"M\", color=\"grey\")\n",
    "plt.scatter(s3, T3, label=\"3\", color=\"orange\")\n",
    "plt.scatter(s4, T4, label=\"4\", color=\"green\")\n",
    "if drawborder:\n",
    "    plt.plot(sleft, Trange, ls=\"dotted\", color=\"black\")\n",
    "    plt.plot(sright, Trange, ls=\"dotted\", color=\"black\")\n",
    "plt.title(\"Grafico Temperatura Entropia\")\n",
    "plt.xlabel(r\"Entropia $s (J/kg\\cdot K)$\")\n",
    "plt.ylabel(r\"Temperatura $T (K)$\")\n",
    "plt.xlim([smean-fatorx*ds, smean+fatorx*ds])\n",
    "plt.ylim([Tmin, Tmax])\n",
    "plt.legend()"
   ]
  },
  {
   "cell_type": "code",
   "execution_count": 25,
   "metadata": {
    "cell_id": "641efab7090d40248b11b79b16be30e3",
    "deepnote_cell_height": 1871,
    "deepnote_cell_type": "code",
    "deepnote_to_be_reexecuted": false,
    "execution_millis": 739,
    "execution_start": 1652273398062,
    "source_hash": "b961f6d1",
    "tags": []
   },
   "outputs": [
    {
     "name": "stdout",
     "output_type": "stream",
     "text": [
      "Todas as informacoes\n",
      "Fluido: R134a\n",
      "Temperatura de condensação: 328.383 K = 55.233 oC\n",
      "Temperatura de evaporação:  280.567 K = 7.417 oC\n",
      "Pressao de condensação: 1500000.000 Pa = 1500.000 kPa\n",
      "Pressao de evaporação:  380000.000 Pa = 380.000 kPa\n",
      "\n",
      "Pressoes\n",
      "P1 = 380000.000 Pa = 380.000 kPa\n",
      "P2 = 1500000.000 Pa = 1500.000 kPa\n",
      "PM = 1500000.000 Pa = 1500.000 kPa\n",
      "P3 = 1500000.000 Pa = 1500.000 kPa\n",
      "P4 = 380000.000 Pa = 380.000 kPa\n",
      "\n",
      "Temperaturas\n",
      "T1 = 280.567 K = 7.417 oC\n",
      "T2 = 333.142 K = 59.992 oC\n",
      "TM = 328.383 K = 55.233 oC\n",
      "T3 = 328.383 K = 55.233 oC\n",
      "T4 = 280.567 K = 7.417 oC\n",
      "\n",
      "Titulos\n",
      "x1 = 1.000\n",
      "x2 = Vapor superaquecido\n",
      "xM = 1.000\n",
      "x3 = 0.000\n",
      "x4 = 0.362\n",
      "\n",
      "Entalpias\n",
      "h1 = 402866.622 J/kg\n",
      "h2 = 431310.779 J/kg\n",
      "hM = 425227.424 J/kg\n",
      "h3 = 279838.967 J/kg\n",
      "h4 = 279838.967 J/kg\n",
      "\n",
      "Entropias\n",
      "s1 = 1723.294 J/(kg*K)\n",
      "s2 = 1723.294 J/(kg*K)\n",
      "sM = 1704.901 J/(kg*K)\n",
      "s3 = 1262.160 J/(kg*K)\n",
      "s4 = 1284.798 J/(kg*K)\n",
      "\n",
      "Valores de calor do ciclo por unidade de massa:\n",
      "w  = 28444.157 J/kg\n",
      "qf = 123027.655 J/kg\n",
      "qq = 151471.812 J/kg\n",
      "Valores de calor do ciclo:\n",
      "W  = 1156.007 J = 1.156 kJ\n",
      "Qf = 5000.000 J = 5.000 kJ\n",
      "QQ = 6156.007 J = 6.156 kJ\n",
      "\n",
      "mdot = 0.041 kg/s\n",
      "rho1 = 18.575 kg/m^3\n",
      "rho2 = 73.455 kg/m^3\n",
      "rho3 = 1077.166 kg/m^3\n",
      "rho4 = 50.027 kg/m^3\n",
      "V1dot = 0.002 m^3/s = 2.188 L/s\n",
      "V2dot = 0.001 m^3/s = 0.553 L/s\n",
      "V3dot = 0.000 m^3/s = 0.038 L/s\n",
      "V4dot = 0.001 m^3/s = 0.812 L/s\n",
      "cp1 = 801.740 J/(kg*K)\n",
      "cp2 = 894.417 J/(kg*K)\n",
      "cp3 = 886.265 J/(kg*K)\n",
      "cp4 = 801.740 J/(kg*K)\n",
      "Calor latente Baixa pressao = 192824.664 J/kg\n",
      "Calor latente Alta pressao = 145388.457 J/kg\n"
     ]
    }
   ],
   "source": [
    "print(\"Todas as informacoes\")\n",
    "print(\"Fluido: \" + fluido)\n",
    "print(\"Temperatura de condensação: %.3f K = %.3f oC\" % (Tcond, Tcond-Celsius0))\n",
    "print(\"Temperatura de evaporação:  %.3f K = %.3f oC\" % (Tevap, Tevap-Celsius0))\n",
    "print(\"Pressao de condensação: %.3f Pa = %.3f kPa\" % (Pcond, Pcond/1000))\n",
    "print(\"Pressao de evaporação:  %.3f Pa = %.3f kPa\" % (Pevap, Pevap/1000))\n",
    "print(\"\")\n",
    "print(\"Pressoes\")\n",
    "print(\"P1 = %.3f Pa = %.3f kPa\" % (P1, P1/1000))\n",
    "print(\"P2 = %.3f Pa = %.3f kPa\" % (P2, P2/1000))\n",
    "print(\"PM = %.3f Pa = %.3f kPa\" % (PM, PM/1000))\n",
    "print(\"P3 = %.3f Pa = %.3f kPa\" % (P3, P3/1000))\n",
    "print(\"P4 = %.3f Pa = %.3f kPa\" % (P4, P4/1000))\n",
    "print(\"\")\n",
    "print(\"Temperaturas\")\n",
    "print(\"T1 = %.3f K = %.3f oC\" % (T1, T1-Celsius0))\n",
    "print(\"T2 = %.3f K = %.3f oC\" % (T2, T2-Celsius0))\n",
    "print(\"TM = %.3f K = %.3f oC\" % (TM, TM-Celsius0))\n",
    "print(\"T3 = %.3f K = %.3f oC\" % (T3, T3-Celsius0))\n",
    "print(\"T4 = %.3f K = %.3f oC\" % (T4, T4-Celsius0))\n",
    "print(\"\")\n",
    "print(\"Titulos\")\n",
    "print(\"x1 = %.3f\" % x1)\n",
    "print(\"x2 = Vapor superaquecido\")\n",
    "print(\"xM = %.3f\" % xM)\n",
    "print(\"x3 = %.3f\" % x3)\n",
    "print(\"x4 = %.3f\" % x4)\n",
    "print(\"\")\n",
    "print(\"Entalpias\")\n",
    "print(\"h1 = %.3f J/kg\" % h1)\n",
    "print(\"h2 = %.3f J/kg\" % h2)\n",
    "print(\"hM = %.3f J/kg\" % hM)\n",
    "print(\"h3 = %.3f J/kg\" % h3)\n",
    "print(\"h4 = %.3f J/kg\" % h4)\n",
    "print(\"\")\n",
    "print(\"Entropias\")\n",
    "print(\"s1 = %.3f J/(kg*K)\" % s1)\n",
    "print(\"s2 = %.3f J/(kg*K)\" % s2)\n",
    "print(\"sM = %.3f J/(kg*K)\" % sM)\n",
    "print(\"s3 = %.3f J/(kg*K)\" % s3)\n",
    "print(\"s4 = %.3f J/(kg*K)\" % s4)\n",
    "print(\"\")\n",
    "print(\"Valores de calor do ciclo por unidade de massa:\")\n",
    "print(\"w  = %.3f J/kg\" % w)\n",
    "print(\"qf = %.3f J/kg\" % qf)\n",
    "print(\"qq = %.3f J/kg\" % qq)\n",
    "print(\"Valores de calor do ciclo:\")\n",
    "print(\"W  = %.3f J = %.3f kJ\" % (w*mdot, w*mdot/1000))\n",
    "print(\"Qf = %.3f J = %.3f kJ\" % (qf*mdot, qf*mdot/1000))\n",
    "print(\"QQ = %.3f J = %.3f kJ\" % (qq*mdot, qq*mdot/1000))\n",
    "print(\"\")\n",
    "print(\"mdot = %.3f kg/s\" % mdot)\n",
    "print(\"rho1 = %.3f kg/m^3\" % rho1)\n",
    "print(\"rho2 = %.3f kg/m^3\" % rho2)\n",
    "print(\"rho3 = %.3f kg/m^3\" % rho3)\n",
    "print(\"rho4 = %.3f kg/m^3\" % rho4)\n",
    "print(\"V1dot = %.3f m^3/s = %.3f L/s\" % (V1dot, 1000*V1dot))\n",
    "print(\"V2dot = %.3f m^3/s = %.3f L/s\" % (V2dot, 1000*V2dot))\n",
    "print(\"V3dot = %.3f m^3/s = %.3f L/s\" % (V3dot, 1000*V3dot))\n",
    "print(\"V4dot = %.3f m^3/s = %.3f L/s\" % (V4dot, 1000*V4dot))\n",
    "print(\"cp1 = %.3f J/(kg*K)\" % cp1)\n",
    "print(\"cp2 = %.3f J/(kg*K)\" % cp2)\n",
    "print(\"cp3 = %.3f J/(kg*K)\" % cp3)\n",
    "print(\"cp4 = %.3f J/(kg*K)\" % cp4)\n",
    "print(\"Calor latente Baixa pressao = %.3f J/kg\" % clLPres)\n",
    "print(\"Calor latente Alta pressao = %.3f J/kg\" % clHPres)"
   ]
  },
  {
   "cell_type": "markdown",
   "metadata": {},
   "source": [
    "## Disponível online\n",
    "\n",
    "Esse python notebook está disponível online no GitHub através do link:\n",
    "\n",
    "* [GitHub/carlos-adir/UnB-Courses/instalacoes1/ProvaA-2022EAD.ipynb](https://github.com/carlos-adir/UnB-Courses/blob/main/instalacoes1/ProvaA-2022EAD.ipynb)"
   ]
  }
 ],
 "metadata": {
  "deepnote": {},
  "deepnote_execution_queue": [],
  "deepnote_notebook_id": "4af27c30-6dcf-4563-af6e-8b52fba480ce",
  "kernelspec": {
   "display_name": "Python 3.9.1 64-bit",
   "language": "python",
   "name": "python3"
  },
  "language_info": {
   "codemirror_mode": {
    "name": "ipython",
    "version": 3
   },
   "file_extension": ".py",
   "mimetype": "text/x-python",
   "name": "python",
   "nbconvert_exporter": "python",
   "pygments_lexer": "ipython3",
   "version": "3.9.1"
  },
  "orig_nbformat": 2,
  "vscode": {
   "interpreter": {
    "hash": "11938c6bc6919ae2720b4d5011047913343b08a43b18698fd82dedb0d4417594"
   }
  }
 },
 "nbformat": 4,
 "nbformat_minor": 2
}
