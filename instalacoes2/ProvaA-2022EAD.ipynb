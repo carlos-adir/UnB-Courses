{
 "cells": [
  {
   "cell_type": "code",
   "execution_count": 1,
   "metadata": {
    "cell_id": "1e72dad3-aad7-432f-876e-6248aba0f386",
    "deepnote_cell_height": 99,
    "deepnote_cell_type": "code",
    "deepnote_to_be_reexecuted": false,
    "execution_millis": 7257,
    "execution_start": 1651761098448,
    "source_hash": "ff600b31",
    "tags": []
   },
   "outputs": [],
   "source": [
    "from psicrometria import PsicrometryPoint, PsicrometryChart\n",
    "Celsius0 = 273.15"
   ]
  },
  {
   "cell_type": "markdown",
   "metadata": {
    "cell_id": "be5a38ce9bca473fab41f2dc9cb6a2d9",
    "deepnote_cell_height": 432.390625,
    "deepnote_cell_type": "markdown",
    "tags": []
   },
   "source": [
    "# Questão 1\n",
    "\n",
    "Aqui resolveremos a questão 1 da prova A de instalações termomecânicas 2\n",
    "\n",
    "Temos os pontos na carta psicrométrica\n",
    "\n",
    "* Ponto A:\n",
    "   * **T**emperatura de **B**ulbo **S**eco: **TBS** $= 30 \\ ^o\\text{C}$\n",
    "   * **U**midade **R**elativa: **UR** $= 30\\% = 0.30$\n",
    "* Ponto B:\n",
    "   * **T**emperatura de **B**ulbo **U**mido: **TBU** $= 30 \\ ^o \\text{C}$\n",
    "   * **T**emperatura de **P**onto de **O**rvalho: **TPO** $ = 21 \\ ^o\\text{C}$\n",
    "* Ponto C:\n",
    "   * **P**ressão Parcial de Agua (**w**ater): **Pw** $ = 1300 \\ \\text{Pa}$\n",
    "   * **U**midade **R**elativa: **UR** $= 70\\% = 0.70$"
   ]
  },
  {
   "cell_type": "code",
   "execution_count": 2,
   "metadata": {
    "cell_id": "0bc70b1be34440b7846c2f9e6701f7a8",
    "deepnote_cell_height": 117,
    "deepnote_cell_type": "code",
    "deepnote_to_be_reexecuted": false,
    "execution_millis": 0,
    "execution_start": 1651761105706,
    "source_hash": "b151c072",
    "tags": []
   },
   "outputs": [],
   "source": [
    "A = PsicrometryPoint(TBS = 30+Celsius0, UR = 0.30)\n",
    "B = PsicrometryPoint(TBU = 30+Celsius0, TPO = 21+Celsius0)\n",
    "C = PsicrometryPoint(Pw = 1300, UR = 0.70)"
   ]
  },
  {
   "cell_type": "markdown",
   "metadata": {
    "cell_id": "a408202fa78647e9a7ca59d3e5f38a5e",
    "deepnote_cell_height": 102.796875,
    "deepnote_cell_type": "markdown",
    "tags": []
   },
   "source": [
    "Agora, seja o ponto E o ponto saturado de mesma temperatura de bulbo úmido que o ponto A.\n",
    "\n",
    "$$\n",
    "\\text{TBU}_{E} = \\text{TBU}_{A}\n",
    "$$"
   ]
  },
  {
   "cell_type": "markdown",
   "metadata": {
    "cell_id": "4232031cce914edda5bb45696ba3cb4f",
    "deepnote_cell_height": 103.4375,
    "deepnote_cell_type": "markdown",
    "tags": []
   },
   "source": [
    "Para o ponto D, com uma eficiência $\\varepsilon$, ele ficará entra a linha de A e E, de tal modo\n",
    "\n",
    "$$\n",
    "\\text{TBS}_{D} = \\varepsilon \\cdot \\text{TBS}_{E} + (1-\\varepsilon) \\cdot \\text{TBS}_{A}\n",
    "$$"
   ]
  },
  {
   "cell_type": "markdown",
   "metadata": {
    "cell_id": "cfd50d4894f946dc963584cefd65a6e1",
    "deepnote_cell_height": 238.375,
    "deepnote_cell_type": "markdown",
    "tags": []
   },
   "source": [
    "Como o ponto E está saturado $\\left(\\text{UR}_{E} = 1\\right)$, então \n",
    "\n",
    "$$\n",
    "\\text{TBS}_{E} = \\text{TBU}_{E}\n",
    "$$\n",
    "\n",
    "Então reescrevemos a equação da evaporação\n",
    "\n",
    "$$\n",
    "\\text{TBS}_{D} = \\varepsilon \\cdot \\text{TBU}_{A} + (1-\\varepsilon) \\cdot \\text{TBS}_{A}\n",
    "$$\n",
    "\n",
    "* Se $\\varepsilon = 0$, continua-se na temperatura $\\text{TBS}_A$. \n",
    "* Se $\\varepsilon = 1$, então se atinge a temperatura $\\text{TBU}_{A}$"
   ]
  },
  {
   "cell_type": "code",
   "execution_count": 3,
   "metadata": {
    "cell_id": "fdabf469086440e48f6a06fbca2672ca",
    "deepnote_cell_height": 99,
    "deepnote_cell_type": "code",
    "deepnote_to_be_reexecuted": false,
    "execution_millis": 0,
    "execution_start": 1651761105707,
    "source_hash": "3e3994de",
    "tags": []
   },
   "outputs": [],
   "source": [
    "TBSA = A.get(\"TBS\")\n",
    "TBUA = A.get(\"TBU\")"
   ]
  },
  {
   "cell_type": "markdown",
   "metadata": {
    "cell_id": "eb7d4835bf144ce0bc02083403711004",
    "deepnote_cell_height": 52.71875,
    "deepnote_cell_type": "markdown",
    "tags": []
   },
   "source": [
    "Do enunciado, teremos uma eficiência $\\varepsilon = 0.75$ do resfriamento evaporativo"
   ]
  },
  {
   "cell_type": "code",
   "execution_count": 4,
   "metadata": {
    "cell_id": "f3a6a48a89d24ae48f8e48aa9c7d2323",
    "deepnote_cell_height": 99,
    "deepnote_cell_type": "code",
    "deepnote_to_be_reexecuted": false,
    "execution_millis": 1,
    "execution_start": 1651761105707,
    "source_hash": "7fcf80a",
    "tags": []
   },
   "outputs": [],
   "source": [
    "epsilon = 0.75\n",
    "TBSD = epsilon * TBUA + (1-epsilon) * TBSA"
   ]
  },
  {
   "cell_type": "markdown",
   "metadata": {
    "cell_id": "51fa6df1581e4c3a95019edd99d82402",
    "deepnote_cell_height": 52.390625,
    "deepnote_cell_type": "markdown",
    "tags": []
   },
   "source": [
    "Podemos então definir o ponto D usando a temperatura de bulbo seco $\\text{TBS}_{D}$ e a temperatura de bulbo úmido, que é igual à de A:\n"
   ]
  },
  {
   "cell_type": "code",
   "execution_count": 5,
   "metadata": {
    "cell_id": "5ef54b3acbcd448189065ca1e41b75c9",
    "deepnote_cell_height": 81,
    "deepnote_cell_type": "code",
    "deepnote_to_be_reexecuted": false,
    "execution_millis": 0,
    "execution_start": 1651761105718,
    "source_hash": "32491450",
    "tags": []
   },
   "outputs": [],
   "source": [
    "D = PsicrometryPoint(TBS=TBSD, TBU=TBUA)"
   ]
  },
  {
   "cell_type": "markdown",
   "metadata": {
    "cell_id": "85ff8f354e5143f0b5f374feb82349d3",
    "deepnote_cell_height": 52.390625,
    "deepnote_cell_type": "markdown",
    "tags": []
   },
   "source": [
    "Podemos marcar o ponto E para ilustração:"
   ]
  },
  {
   "cell_type": "code",
   "execution_count": 6,
   "metadata": {
    "cell_id": "a1b03dbcd44f4e60b31a63fba911578c",
    "deepnote_cell_height": 81,
    "deepnote_cell_type": "code",
    "deepnote_to_be_reexecuted": false,
    "execution_millis": 43412145,
    "execution_start": 1651761105761,
    "source_hash": "2479fc74",
    "tags": []
   },
   "outputs": [],
   "source": [
    "E = PsicrometryPoint(TBU=TBUA, UR=1)"
   ]
  },
  {
   "cell_type": "markdown",
   "metadata": {
    "cell_id": "9805e687e3c24f6ab9a9d78fc37c00ac",
    "deepnote_cell_height": 97.1875,
    "deepnote_cell_type": "markdown",
    "tags": []
   },
   "source": [
    "Agora plotamos o gráfico psicrométrico.\n",
    "Como pegamos diversos pontos para plotar, ele pode demorar um pouco.\n",
    "Após terminar, ele gera um PDF ```CartaPsicrometrica.pdf``` e um PNG ```CartaPsicrometrica.png```, que tem maior resolução e pode anexar caso necessário.\n",
    "Eles se encontram junto com os outros arquivos."
   ]
  },
  {
   "cell_type": "code",
   "execution_count": 7,
   "metadata": {
    "cell_id": "f238c7ac4c7d49cbb8f7cfed67673539",
    "deepnote_cell_height": 365,
    "deepnote_cell_type": "code",
    "deepnote_output_heights": [
     268
    ],
    "deepnote_to_be_reexecuted": false,
    "execution_millis": 9492,
    "execution_start": 1651761105761,
    "source_hash": "f530f9b6",
    "tags": []
   },
   "outputs": [
    {
     "name": "stderr",
     "output_type": "stream",
     "text": [
      "c:\\Users\\Carlos\\Documents\\Git\\UnB-Courses\\instalacoes2\\psicrometria.py:417: MatplotlibDeprecationWarning: savefig() got unexpected keyword argument \"papertype\" which is no longer supported as of 3.3 and will become an error two minor releases later\n",
      "  plt.savefig(\"CartaPsicrometrica.pdf\", dpi=1600, papertype=\"a4\")\n"
     ]
    },
    {
     "data": {
      "image/png": "[encoded data removed]",
      "text/plain": [
       "<Figure size 432x288 with 1 Axes>"
      ]
     },
     "metadata": {
      "needs_background": "light"
     },
     "output_type": "display_data"
    }
   ],
   "source": [
    "PsicrometryChart([A, B, C, D, E]).plot()"
   ]
  },
  {
   "cell_type": "markdown",
   "metadata": {
    "cell_id": "e8aac6fc98aa411583b3661bf3af04fb",
    "deepnote_cell_height": 52.390625,
    "deepnote_cell_type": "markdown",
    "tags": []
   },
   "source": [
    "Agora pegamos os valores de todos os pontos"
   ]
  },
  {
   "cell_type": "code",
   "execution_count": 8,
   "metadata": {
    "cell_id": "2bc651d7fa17437d92ca9d4b74434124",
    "deepnote_cell_height": 1053,
    "deepnote_cell_type": "code",
    "deepnote_to_be_reexecuted": false,
    "execution_millis": 1785,
    "execution_start": 1651761115346,
    "source_hash": "54688902",
    "tags": []
   },
   "outputs": [],
   "source": [
    "# Entalpias\n",
    "hA = A.get(\"h\")\n",
    "hB = B.get(\"h\")\n",
    "hC = C.get(\"h\")\n",
    "hD = D.get(\"h\")\n",
    "hE = E.get(\"h\")\n",
    "\n",
    "# Temperatura de Bulbo Seco\n",
    "TBSA = A.get(\"TBS\")-Celsius0\n",
    "TBSB = B.get(\"TBS\")-Celsius0\n",
    "TBSC = C.get(\"TBS\")-Celsius0\n",
    "TBSD = D.get(\"TBS\")-Celsius0\n",
    "TBSE = E.get(\"TBS\")-Celsius0\n",
    "\n",
    "# Temperatura de Bulbo Umido\n",
    "TBUA = A.get(\"TBU\")-Celsius0\n",
    "TBUB = B.get(\"TBU\")-Celsius0\n",
    "TBUC = C.get(\"TBU\")-Celsius0\n",
    "TBUD = D.get(\"TBU\")-Celsius0\n",
    "TBUE = E.get(\"TBU\")-Celsius0\n",
    "\n",
    "# Temperatura de Ponto de Orvalho\n",
    "TPOA = A.get(\"TPO\")-Celsius0\n",
    "TPOB = B.get(\"TPO\")-Celsius0\n",
    "TPOC = C.get(\"TPO\")-Celsius0\n",
    "TPOD = D.get(\"TPO\")-Celsius0\n",
    "TPOE = E.get(\"TPO\")-Celsius0\n",
    "\n",
    "# Umidade Relativa\n",
    "URA = A.get(\"UR\")\n",
    "URB = B.get(\"UR\")\n",
    "URC = C.get(\"UR\")\n",
    "URD = D.get(\"UR\")\n",
    "URE = E.get(\"UR\")\n",
    "\n",
    "# Umidade Absoluta\n",
    "wA = A.get(\"w\")\n",
    "wB = B.get(\"w\")\n",
    "wC = C.get(\"w\")\n",
    "wD = D.get(\"w\")\n",
    "wE = E.get(\"w\")\n",
    "\n",
    "# Pressão Parcial de vapor de agua\n",
    "PwA = A.get(\"Pw\")\n",
    "PwB = B.get(\"Pw\")\n",
    "PwC = C.get(\"Pw\")\n",
    "PwD = D.get(\"Pw\")\n",
    "PwE = E.get(\"Pw\")\n",
    "\n",
    "# Volume específico\n",
    "VA = A.get(\"V\")\n",
    "VB = B.get(\"V\")\n",
    "VC = C.get(\"V\")\n",
    "VD = D.get(\"V\")\n",
    "VE = E.get(\"V\")"
   ]
  },
  {
   "cell_type": "code",
   "execution_count": 9,
   "metadata": {
    "cell_id": "ca090713f12f4c02ab8a1d9f5a9e8755",
    "deepnote_cell_height": 302,
    "deepnote_cell_type": "code",
    "deepnote_to_be_reexecuted": false,
    "execution_millis": 9,
    "execution_start": 1651761117151,
    "source_hash": "d4307c0f",
    "tags": []
   },
   "outputs": [
    {
     "name": "stdout",
     "output_type": "stream",
     "text": [
      "         | TBS (oC) | TBU (oC) | UR (%) | h (J/kg) | TPO (oC) | w (g/kg) |  Pw (Pa)  | V (m^3/kg) |\n",
      " Ponto A |  30.000  |  17.961  | 30.000 |  50.513  |  10.553  |   7.955  |  1279.654 |   0.870   |\n",
      " Ponto B |  57.186  |  30.000  | 14.206 |  98.550  |  21.000  |  15.724  |  2498.534 |   0.959   |\n",
      " Ponto C |  16.263  |  13.059  | 70.000 |  36.809  |  10.790  |   8.083  |  1300.000 |   0.830   |\n",
      " Ponto D |  20.971  |  17.961  | 75.011 |  50.796  |  16.378  |  11.700  |  1870.852 |   0.849   |\n",
      " Ponto E |  17.961  |  17.961  | 100.00 |  50.891  |  17.961  |  12.959  |  2068.184 |   0.841   |\n"
     ]
    }
   ],
   "source": [
    "print(\"         | TBS (oC) | TBU (oC) | UR (%) | h (J/kg) | TPO (oC) | w (g/kg) |  Pw (Pa)  | V (m^3/kg) |\")\n",
    "print(\" Ponto A |  %.3f  |  %.3f  | %.3f |  %.3f  |  %.3f  |   %.3f  |  %.3f |   %.3f   |\" % (TBSA, TBUA, 100*URA, hA/1000, TPOA, 1000*wA, PwA, VA))\n",
    "print(\" Ponto B |  %.3f  |  %.3f  | %.3f |  %.3f  |  %.3f  |  %.3f  |  %.3f |   %.3f   |\" % (TBSB, TBUB, 100*URB, hB/1000, TPOB, 1000*wB, PwB,VB))\n",
    "print(\" Ponto C |  %.3f  |  %.3f  | %.3f |  %.3f  |  %.3f  |   %.3f  |  %.3f |   %.3f   |\" % (TBSC, TBUC, 100*URC, hC/1000, TPOC, 1000*wC, PwC,VC))\n",
    "print(\" Ponto D |  %.3f  |  %.3f  | %.3f |  %.3f  |  %.3f  |  %.3f  |  %.3f |   %.3f   |\" % (TBSD, TBUD, 100*URD, hD/1000, TPOD, 1000*wD, PwD,VD))\n",
    "print(\" Ponto E |  %.3f  |  %.3f  | %.2f |  %.3f  |  %.3f  |  %.3f  |  %.3f |   %.3f   |\" % (TBSE, TBUE, 100*URE, hE/1000, TPOE, 1000*wE, PwE,VE))"
   ]
  },
  {
   "cell_type": "markdown",
   "metadata": {
    "cell_id": "41125f560d314dc29bcd6ae8d94ba4e1",
    "deepnote_cell_height": 212.796875,
    "deepnote_cell_type": "markdown",
    "tags": []
   },
   "source": [
    "Como mostra os resultados acima, temos a tabela com os valores\n",
    "\n",
    "|         | TBS ($^o\\text{C}$) | TBU ($^o\\text{C}$) |  UR (%)  | h (kJ/kg) |  TPO ($^o\\text{C}$) |  w (g/kg)  | Pw (Pa) |\n",
    "|--------:|:--------:|:--------:|:--------:|:---------:|:---------:|:----------:|:----------:|\n",
    "| Ponto A |    30    |  17.961  |    30    |   50.513  |   10.553  |   7.955 |   1279.654 |\n",
    "| Ponto B |  57.186  |    30    |  14.206  |   98.550  |   21      |   15.724 |   2498.534 |\n",
    "| Ponto C |  16.263  |  13.059  |    70  |   36.809  |   10.790      |   8.083 |   1300 |\n",
    "| Ponto D |  30.000  |  30.000  | 75.669 |  50.799  |  16.428  |  11.737  |  1876.781 |\n",
    "| Ponto E |  57.186  |  13.059  | 100.00 |  50.513  |  17.841  |  12.859  |  2052.535 |"
   ]
  },
  {
   "cell_type": "markdown",
   "metadata": {
    "cell_id": "2b8033fefaca403fa009c9e1644a6d24",
    "deepnote_cell_height": 330.796875,
    "deepnote_cell_type": "markdown",
    "tags": []
   },
   "source": [
    "# Questão 3\n",
    "\n",
    "Para a questão 2, temos dois pontos no mapa psicrométrico\n",
    "\n",
    "* Ponto **A**\n",
    "    * **T**emperatura de **B**ulbo **S**eco: **TBS** $= 36 \\ ^o\\text{C}$\n",
    "    * **U**midade **R**elativa: **UR** $= 50\\% = 0.50$\n",
    "\n",
    "* Ponto **B**\n",
    "    * **T**emperatura de **B**ulbo **S**eco: **TBS**$=22 \\ ^o\\text{C}$\n",
    "    * **U**midade **R**elativa: **UR** $ = 84\\% = 0.84$\n",
    "\n"
   ]
  },
  {
   "cell_type": "code",
   "execution_count": 10,
   "metadata": {
    "cell_id": "d75ff4de7c5e46ba961872623001d46c",
    "deepnote_cell_height": 99,
    "deepnote_cell_type": "code",
    "deepnote_to_be_reexecuted": false,
    "execution_millis": 43413241,
    "execution_start": 1651761117169,
    "source_hash": "f991cfaa",
    "tags": []
   },
   "outputs": [],
   "source": [
    "A = PsicrometryPoint(TBS=36+Celsius0, UR=0.50)\n",
    "B = PsicrometryPoint(TBS=22+Celsius0, UR=0.84)"
   ]
  },
  {
   "cell_type": "markdown",
   "metadata": {
    "cell_id": "aac12ebd5e30417a9adc8d8b0402969a",
    "deepnote_cell_height": 52.390625,
    "deepnote_cell_type": "markdown",
    "tags": []
   },
   "source": [
    "Além disso, temos uma vazão de ar de $\\dot{V}_{ar} = 15 \\ \\text{m}^3/\\text{s}$."
   ]
  },
  {
   "cell_type": "code",
   "execution_count": 11,
   "metadata": {
    "cell_id": "9935dc288a214054bd0289ae2d5c4432",
    "deepnote_cell_height": 81,
    "deepnote_cell_type": "code",
    "deepnote_to_be_reexecuted": false,
    "execution_millis": 43413223,
    "execution_start": 1651761117179,
    "source_hash": "79b12923",
    "tags": []
   },
   "outputs": [],
   "source": [
    "Vdotar = 15"
   ]
  },
  {
   "cell_type": "markdown",
   "metadata": {
    "cell_id": "04225caf82234540994068f9faa3d20e",
    "deepnote_cell_height": 88.796875,
    "deepnote_cell_type": "markdown",
    "tags": []
   },
   "source": [
    "Agora vamos às contas:\n",
    "\n",
    "Primeiro pegamos o volume específico no ponto **A**"
   ]
  },
  {
   "cell_type": "code",
   "execution_count": 12,
   "metadata": {
    "cell_id": "a631f94b23b24343a6ee6931fe82d5f7",
    "deepnote_cell_height": 204,
    "deepnote_cell_type": "code",
    "deepnote_to_be_reexecuted": false,
    "execution_millis": 43413220,
    "execution_start": 1651761117187,
    "source_hash": "b399219f",
    "tags": []
   },
   "outputs": [
    {
     "name": "stdout",
     "output_type": "stream",
     "text": [
      "Volume específico de ar:\n",
      "     vA = 0.902 m^3/kg\n"
     ]
    }
   ],
   "source": [
    "vA = A.get(\"V\")\n",
    "vB = B.get(\"V\")\n",
    "v = (vA+vB)/2\n",
    "print(\"Volume específico de ar:\")\n",
    "print(\"     vA = %.3f m^3/kg\" % vA)"
   ]
  },
  {
   "cell_type": "markdown",
   "metadata": {
    "cell_id": "3ca8ce4488b84d418ae367d934c8207c",
    "deepnote_cell_height": 121.609375,
    "deepnote_cell_type": "markdown",
    "tags": []
   },
   "source": [
    "Agora calculamos a massa de ar $\\dot{m}_{ar}$ usando o volume específico\n",
    "\n",
    "$$\n",
    "\\dot{m}_{ar} = \\dfrac{\\dot{V}_{ar}}{v_{ar}}\n",
    "$$"
   ]
  },
  {
   "cell_type": "code",
   "execution_count": 13,
   "metadata": {
    "cell_id": "a368f6590ee940c4bb36414c996065d7",
    "deepnote_cell_height": 206,
    "deepnote_cell_type": "code",
    "deepnote_to_be_reexecuted": false,
    "execution_millis": 43413226,
    "execution_start": 1651761117191,
    "source_hash": "7972588d",
    "tags": []
   },
   "outputs": [
    {
     "name": "stdout",
     "output_type": "stream",
     "text": [
      "Massa de ar por segundo:\n",
      "    m dot ar = 16.628 kg/s\n",
      "             = 16627.743 g/s\n"
     ]
    }
   ],
   "source": [
    "mdotar = Vdotar/vA\n",
    "print(\"Massa de ar por segundo:\")\n",
    "print(\"    m dot ar = %.3f kg/s\" % mdotar)\n",
    "print(\"             = %.3f g/s\" % (mdotar*1000))"
   ]
  },
  {
   "cell_type": "markdown",
   "metadata": {
    "cell_id": "286dbe0fc8a34d78ae1ec080067c00ab",
    "deepnote_cell_height": 140.171875,
    "deepnote_cell_type": "markdown",
    "tags": []
   },
   "source": [
    "Calculamos a variação de entalpia $\\Delta h$ e a variação de agua $\\Delta w$ por unidade de massa de ar seco\n",
    "\n",
    "$$\n",
    "\\Delta h = h_{A}-h_{B}\n",
    "$$\n",
    "$$\n",
    "\\Delta w = w_{A} - w_{B}\n",
    "$$"
   ]
  },
  {
   "cell_type": "code",
   "execution_count": 14,
   "metadata": {
    "cell_id": "cb318ed596b242edae0dca6049075f4e",
    "deepnote_cell_height": 338,
    "deepnote_cell_type": "code",
    "deepnote_to_be_reexecuted": false,
    "execution_millis": 43413230,
    "execution_start": 1651761117199,
    "source_hash": "65f44b42",
    "tags": []
   },
   "outputs": [
    {
     "name": "stdout",
     "output_type": "stream",
     "text": [
      "Variacao de entalpia:\n",
      "   Delta h = 27009.845 J/kg\n",
      "           = 27.010 kJ/kg\n",
      "Variacao de massa de agua por quilo de agua:\n",
      "   Delta w = 0.005 kg/kg\n",
      "           = 4.891 g/kg\n"
     ]
    }
   ],
   "source": [
    "Deltah = A.get(\"h\") - B.get(\"h\")\n",
    "Deltaw = A.get(\"w\") - B.get(\"w\")\n",
    "print(\"Variacao de entalpia:\")\n",
    "print(\"   Delta h = %.3f J/kg\" % Deltah)\n",
    "print(\"           = %.3f kJ/kg\" % (Deltah/1000))\n",
    "print(\"Variacao de massa de agua por quilo de agua:\")\n",
    "print(\"   Delta w = %.3f kg/kg\" % Deltaw)\n",
    "print(\"           = %.3f g/kg\" % (1000*Deltaw))"
   ]
  },
  {
   "cell_type": "markdown",
   "metadata": {
    "cell_id": "718a41a01cbb4f76aede29d3dee1b4d9",
    "deepnote_cell_height": 139.84375,
    "deepnote_cell_type": "markdown",
    "tags": []
   },
   "source": [
    "Podemos então calcular o calor retirado e agua que sai por segundo:\n",
    "\n",
    "$$\n",
    "\\dot{Q}_{frio} = \\dot{m} \\cdot \\Delta h\n",
    "$$\n",
    "$$\n",
    "\\dot{m}_{agua} = \\dot{m} \\cdot \\Delta w\n",
    "$$"
   ]
  },
  {
   "cell_type": "code",
   "execution_count": 15,
   "metadata": {
    "cell_id": "ca62306a4abf4d5eb34f63d3b6403f60",
    "deepnote_cell_height": 338,
    "deepnote_cell_type": "code",
    "deepnote_to_be_reexecuted": false,
    "execution_millis": 1,
    "execution_start": 1651761117205,
    "source_hash": "60d1e3aa",
    "tags": []
   },
   "outputs": [
    {
     "name": "stdout",
     "output_type": "stream",
     "text": [
      "Calor retirado:\n",
      "   Q dot frio = 449112.762 J/s\n",
      "              = 449.113 kJ/s\n",
      "Variacao de massa de agua por quilo de agua:\n",
      "   m dot agua = 0.081 kg/s\n",
      "              = 81.321 g/s\n"
     ]
    }
   ],
   "source": [
    "Qdotfrio = mdotar * Deltah\n",
    "mdotagua = mdotar * Deltaw\n",
    "print(\"Calor retirado:\")\n",
    "print(\"   Q dot frio = %.3f J/s\" % Qdotfrio)\n",
    "print(\"              = %.3f kJ/s\" % (Qdotfrio/1000))\n",
    "print(\"Variacao de massa de agua por quilo de agua:\")\n",
    "print(\"   m dot agua = %.3f kg/s\" % mdotagua)\n",
    "print(\"              = %.3f g/s\" % (1000*mdotagua))"
   ]
  },
  {
   "cell_type": "markdown",
   "metadata": {
    "cell_id": "e26739d0add149e1983e815f6b59ed96",
    "deepnote_cell_height": 198.796875,
    "deepnote_cell_type": "markdown",
    "tags": []
   },
   "source": [
    "Como temos a conversão de\n",
    "\n",
    "$$\n",
    "1 \\ \\left[\\text{TR}\\right] = \\dfrac{65941}{18750} \\ \\left[\\text{kW}\\right] \\approx 3.51 \\ \\left[\\text{kW}\\right]\n",
    "$$\n",
    "\n",
    "Então temos a quantidade de calor dada em TR por\n",
    "\n",
    "$$\n",
    "\\dot{Q}_{frio} \\ \\left[\\text{TR}\\right] = \\dfrac{1}{3.51} \\cdot \\dot{Q}_{frio} \\ \\left[\\text{kW}\\right]\n",
    "$$"
   ]
  },
  {
   "cell_type": "code",
   "execution_count": 16,
   "metadata": {
    "cell_id": "b473ef96f1bf4c0f947e0785fae0330d",
    "deepnote_cell_height": 188,
    "deepnote_cell_type": "code",
    "deepnote_to_be_reexecuted": false,
    "execution_millis": 3,
    "execution_start": 1651761117213,
    "source_hash": "f6c97d46",
    "tags": []
   },
   "outputs": [
    {
     "name": "stdout",
     "output_type": "stream",
     "text": [
      "Calor retirado:\n",
      "   Q dot frio = 449.113 kW/s\n",
      "              = 127.952 TR\n"
     ]
    }
   ],
   "source": [
    "print(\"Calor retirado:\")\n",
    "print(\"   Q dot frio = %.3f kW/s\" % (Qdotfrio/1000))\n",
    "print(\"              = %.3f TR\" % (Qdotfrio/3510))"
   ]
  },
  {
   "cell_type": "markdown",
   "metadata": {
    "cell_id": "e9792ef43255437d8f12777e5d6d0625",
    "deepnote_cell_height": 52.390625,
    "deepnote_cell_type": "markdown",
    "tags": []
   },
   "source": [
    "Plotando a carta psicrométrica com os dois pontos analisados"
   ]
  },
  {
   "cell_type": "code",
   "execution_count": 17,
   "metadata": {
    "cell_id": "7ea7e09e40a1460c9139b217c523954a",
    "deepnote_cell_height": 365,
    "deepnote_cell_type": "code",
    "deepnote_output_heights": [
     268
    ],
    "deepnote_to_be_reexecuted": false,
    "execution_millis": 6948,
    "execution_start": 1651761117225,
    "source_hash": "7477ee76",
    "tags": []
   },
   "outputs": [
    {
     "name": "stderr",
     "output_type": "stream",
     "text": [
      "c:\\Users\\Carlos\\Documents\\Git\\UnB-Courses\\instalacoes2\\psicrometria.py:417: MatplotlibDeprecationWarning: savefig() got unexpected keyword argument \"papertype\" which is no longer supported as of 3.3 and will become an error two minor releases later\n",
      "  plt.savefig(\"CartaPsicrometrica.pdf\", dpi=1600, papertype=\"a4\")\n"
     ]
    },
    {
     "data": {
      "image/png": "[encoded data removed]",
      "text/plain": [
       "<Figure size 432x288 with 1 Axes>"
      ]
     },
     "metadata": {
      "needs_background": "light"
     },
     "output_type": "display_data"
    }
   ],
   "source": [
    "PsicrometryChart([A, B]).plot()"
   ]
  },
  {
   "cell_type": "markdown",
   "metadata": {
    "cell_id": "36838cff6ad140eaaad0116d9832eb0b",
    "deepnote_cell_height": 74.796875,
    "deepnote_cell_type": "markdown",
    "tags": []
   },
   "source": [
    "Esse valor obtido acima desconsidera a entalpia da agua, que iremos calcular a seguir.\n",
    "Para isso, partiremos da configuração da Figura abaixo."
   ]
  },
  {
   "cell_type": "markdown",
   "metadata": {
    "cell_id": "072686d5015c419ab4b17cf101eb61d7",
    "deepnote_cell_height": 287,
    "deepnote_cell_type": "markdown",
    "tags": []
   },
   "source": [
    "![Picture title](https://github.com/carlos-adir/UnB-Courses/blob/main/instalacoes2/esquema-mistura-gases.png?raw=true)"
   ]
  },
  {
   "cell_type": "markdown",
   "metadata": {
    "cell_id": "8ea52effead846ccae4a6530722fa541",
    "deepnote_cell_height": 74.796875,
    "deepnote_cell_type": "markdown",
    "tags": []
   },
   "source": [
    "A princípio entrou uma quantidade $\\dot{m}_{ar,d}$ a uma temperatura $\\text{TBS}_{A}$.\n",
    "Então essa massa de ar foi esfriada até o ponto de orvalho **C**, trocando apenas calor latente,\n",
    "\n"
   ]
  },
  {
   "cell_type": "code",
   "execution_count": 18,
   "metadata": {
    "cell_id": "1eb3dbe68ce845a9afcc8fdf9320c2b5",
    "deepnote_cell_height": 166,
    "deepnote_cell_type": "code",
    "deepnote_to_be_reexecuted": false,
    "execution_millis": 38,
    "execution_start": 1651761124135,
    "source_hash": "397571fa",
    "tags": []
   },
   "outputs": [
    {
     "name": "stdout",
     "output_type": "stream",
     "text": [
      "TPOA = 23.940 oC\n"
     ]
    }
   ],
   "source": [
    "TPOA = A.get(\"TPO\")\n",
    "wA = A.get(\"w\")\n",
    "print(\"TPOA = %.3f oC\" % (TPOA-Celsius0))\n",
    "C = PsicrometryPoint(TPO=TPOA, UR=1)"
   ]
  },
  {
   "cell_type": "markdown",
   "metadata": {
    "cell_id": "48b44f51038b4efeaade4b4126df734f",
    "deepnote_cell_height": 133.921875,
    "deepnote_cell_type": "markdown",
    "tags": []
   },
   "source": [
    "Então diminuiu-se a temperatura até a temperatura $\\text{TBU}_{D}$, onde o ponto **D** é um ponto saturado tal que $\\overline{DBA}$ é uma linha reta, pra usarmos a **Lei da Linha Reta**.\n",
    "\n",
    "Para encontrar o ponto **D**, podemos fazer iterações, mas iremos utilizar outro método.\n",
    "Digamos que tenhamos uma função $w(TBS)$ (saturado) em um intervalo como $\\left[-50 \\ ^o\\text{C}, \\text{TPO}_{A}\\right]$.\n",
    "Vamos plotar o gráfico"
   ]
  },
  {
   "cell_type": "code",
   "execution_count": 19,
   "metadata": {
    "cell_id": "7753cbe0a8e14c8cbf55cbb2b6e5cfe6",
    "deepnote_cell_height": 189,
    "deepnote_cell_type": "code",
    "deepnote_to_be_reexecuted": false,
    "execution_millis": 1,
    "execution_start": 1651761124176,
    "source_hash": "6c40e0bf",
    "tags": []
   },
   "outputs": [],
   "source": [
    "import numpy as np\n",
    "TPOA = A.get(\"TPO\")\n",
    "TBSfunc = np.linspace(-50+Celsius0, TPOA, 129)\n",
    "wfunc = np.zeros(TBSfunc.shape)\n",
    "for i, TBSi in enumerate(TBSfunc):\n",
    "    P = PsicrometryPoint(TBS=TBSi, UR=1)\n",
    "    wfunc[i] = P.get(\"w\")"
   ]
  },
  {
   "cell_type": "markdown",
   "metadata": {
    "cell_id": "3b67951449b64377b4be66cf3654eeb9",
    "deepnote_cell_height": 188.125,
    "deepnote_cell_type": "markdown",
    "tags": []
   },
   "source": [
    "Agora chamamos de\n",
    "\n",
    "$$\n",
    "\\tan \\phi = \\dfrac{w_{A}-w_{B}}{\\text{TBS}_{A}-\\text{TBS}_{B}}\n",
    "$$\n",
    "\n",
    "$$\n",
    "\\tan \\theta = \\dfrac{w_{A}-w}{\\text{TBS}_{A}-\\text{TBS}}\n",
    "$$\n",
    "\n",
    "Queremos encontrar o valor de $\\text{TBS}$ quando $\\tan \\phi = \\tan \\theta$"
   ]
  },
  {
   "cell_type": "code",
   "execution_count": 20,
   "metadata": {
    "cell_id": "72b6b2291fcf4f5084c61d4487fb2fb2",
    "deepnote_cell_height": 207,
    "deepnote_cell_type": "code",
    "deepnote_to_be_reexecuted": false,
    "execution_millis": 0,
    "execution_start": 1651761124188,
    "source_hash": "dc75de7a",
    "tags": []
   },
   "outputs": [],
   "source": [
    "wA = A.get(\"w\")\n",
    "wB = B.get(\"w\")\n",
    "TBSA = A.get(\"TBS\")\n",
    "TBSB = B.get(\"TBS\")\n",
    "tanphi = (wA-wB)/(TBSA-TBSB)\n",
    "tantheta = np.zeros(TBSfunc.shape)\n",
    "for i, (TBSi, wi) in enumerate(zip(TBSfunc, wfunc)):\n",
    "    tantheta[i] = (wA-wi)/(TBSA-TBSi)"
   ]
  },
  {
   "cell_type": "markdown",
   "metadata": {
    "cell_id": "0728ffa807534c4a9243ebdfeab40727",
    "deepnote_cell_height": 52.390625,
    "deepnote_cell_type": "markdown",
    "tags": []
   },
   "source": [
    "E agora plotamos o gráfico para vermos a interseção."
   ]
  },
  {
   "cell_type": "code",
   "execution_count": 21,
   "metadata": {
    "cell_id": "b8b3119c1e2c4347b917e75194920d33",
    "deepnote_cell_height": 419,
    "deepnote_cell_type": "code",
    "deepnote_output_heights": [
     250
    ],
    "deepnote_to_be_reexecuted": false,
    "execution_millis": 205,
    "execution_start": 1651761124236,
    "source_hash": "3f5348b1",
    "tags": []
   },
   "outputs": [
    {
     "data": {
      "image/png": "[encoded data removed]",
      "text/plain": [
       "<Figure size 432x288 with 1 Axes>"
      ]
     },
     "metadata": {
      "needs_background": "light"
     },
     "output_type": "display_data"
    }
   ],
   "source": [
    "from matplotlib import pyplot as plt\n",
    "plt.plot(TBSfunc-Celsius0, tantheta, label=r\"$tan \\theta$\")\n",
    "plt.plot(TBSfunc-Celsius0, tanphi*np.ones(TBSfunc.shape), label=r\"$y = tan \\phi$\")\n",
    "plt.legend()\n",
    "plt.grid()"
   ]
  },
  {
   "cell_type": "markdown",
   "metadata": {
    "cell_id": "ebc07b18fa5043dcaf684a694766792c",
    "deepnote_cell_height": 74.796875,
    "deepnote_cell_type": "markdown",
    "tags": []
   },
   "source": [
    "Agora, como vemos as soluções, iremos pegar a de temperatura mais alta.\n",
    "Para descobrir o valor, vemos pelo grafico que está entre $\\left[-10, 20\\right]$.\n",
    "Agora fazemos uma busca binária"
   ]
  },
  {
   "cell_type": "code",
   "execution_count": 22,
   "metadata": {
    "cell_id": "0f932a4baf4f445f9b80e25f119c97a0",
    "deepnote_cell_height": 99,
    "deepnote_cell_type": "code",
    "deepnote_to_be_reexecuted": false,
    "execution_millis": 6,
    "execution_start": 1651761124443,
    "source_hash": "6d83a4ee",
    "tags": []
   },
   "outputs": [],
   "source": [
    "if tanphi < np.min(tantheta) or tanphi > np.max(tantheta):\n",
    "    raise Exception(\"Nao existe solucao!\")"
   ]
  },
  {
   "cell_type": "code",
   "execution_count": 23,
   "metadata": {
    "cell_id": "e7a3583fbd60453799f6ba1aa587710b",
    "deepnote_cell_height": 310,
    "deepnote_cell_type": "code",
    "deepnote_to_be_reexecuted": false,
    "execution_millis": 29,
    "execution_start": 1651761124449,
    "source_hash": "9ed30045",
    "tags": []
   },
   "outputs": [
    {
     "name": "stdout",
     "output_type": "stream",
     "text": [
      "TBSM = 17.175 oC\n"
     ]
    }
   ],
   "source": [
    "TBSmin = -10+Celsius0\n",
    "TBSmax = TPOA\n",
    "while TBSmax - TBSmin > 1e-3:  # queremos erro na temperatura de no maximo 0.001\n",
    "    TBSM = (TBSmin+TBSmax)/2\n",
    "    M = PsicrometryPoint(TBS=TBSM, UR=1)\n",
    "    wM = M.get(\"w\")\n",
    "    tantheta = (wA-wM)/(TBSA-TBSM)\n",
    "    if tantheta < tanphi:\n",
    "        TBSmax = TBSM\n",
    "    else:\n",
    "        TBSmin = TBSM\n",
    "print(\"TBSM = %.3f oC\" % (TBSM-Celsius0))"
   ]
  },
  {
   "cell_type": "markdown",
   "metadata": {
    "cell_id": "11e87278581d46ca8991b551826a0dc5",
    "deepnote_cell_height": 52.390625,
    "deepnote_cell_type": "markdown",
    "tags": []
   },
   "source": [
    "Então conseguimos o ponto **D**"
   ]
  },
  {
   "cell_type": "code",
   "execution_count": 24,
   "metadata": {
    "cell_id": "1a2ea2526b1b4c50a7c2ea8f21638f8f",
    "deepnote_cell_height": 166,
    "deepnote_cell_type": "code",
    "deepnote_to_be_reexecuted": false,
    "execution_millis": 12,
    "execution_start": 1651761124476,
    "source_hash": "aeb702db",
    "tags": []
   },
   "outputs": [
    {
     "name": "stdout",
     "output_type": "stream",
     "text": [
      "TBSD = 17.175 oC\n"
     ]
    }
   ],
   "source": [
    "D = PsicrometryPoint(TBS=TBSM, UR=1)\n",
    "TBSD = D.get(\"TBS\")\n",
    "wD = D.get(\"w\")\n",
    "print(\"TBSD = %.3f oC\" % (TBSD-Celsius0))"
   ]
  },
  {
   "cell_type": "markdown",
   "metadata": {
    "cell_id": "54ebc186559e43e5a74979fd7baf185e",
    "deepnote_cell_height": 168.796875,
    "deepnote_cell_type": "markdown",
    "tags": []
   },
   "source": [
    "Então usando a **Lei da Linha Reta**, teremos as frações de ar que foram resfriadas e que passaram direto.\n",
    "\n",
    "$$\n",
    "f_{resfriado} = \\dfrac{\\text{TBS}_{A}-\\text{TBS}_{B}}{\\text{TBS}_{A}-\\text{TBS}_{D}}\n",
    "$$\n",
    "$$\n",
    "f_{direto} = \\dfrac{\\text{TBS}_{B}-\\text{TBS}_{D}}{\\text{TBS}_{A}-\\text{TBS}_{D}}\n",
    "$$"
   ]
  },
  {
   "cell_type": "code",
   "execution_count": 25,
   "metadata": {
    "cell_id": "c3f61170210a43b1a87e88ae5a5a956d",
    "deepnote_cell_height": 186,
    "deepnote_cell_type": "code",
    "deepnote_to_be_reexecuted": false,
    "execution_millis": 6,
    "execution_start": 1651761124523,
    "source_hash": "7c5b48f5",
    "tags": []
   },
   "outputs": [
    {
     "name": "stdout",
     "output_type": "stream",
     "text": [
      "Parte resfriada: f resf = 0.7437\n",
      "   Parte direta: f direta = 0.2563\n"
     ]
    }
   ],
   "source": [
    "fresf = (TBSA-TBSB)/(TBSA-TBSD)\n",
    "fdire = (TBSB-TBSD)/(TBSA-TBSD)\n",
    "print(\"Parte resfriada: f resf = %.4f\" % fresf)\n",
    "print(\"   Parte direta: f direta = %.4f\" % fdire)"
   ]
  },
  {
   "cell_type": "markdown",
   "metadata": {
    "cell_id": "90d8967b1be94394a79d918875034e3f",
    "deepnote_cell_height": 139.84375,
    "deepnote_cell_type": "markdown",
    "tags": []
   },
   "source": [
    "Agora temos as proporções de massa refrigeradas:\n",
    "\n",
    "$$\n",
    "\\dot{m}_{ar, resf} = \\dot{m}_{ar} \\cdot f_{resfriado}\n",
    "$$\n",
    "$$\n",
    "\\dot{m}_{ar, dire} = \\dot{m}_{ar} \\cdot f_{direto}\n",
    "$$"
   ]
  },
  {
   "cell_type": "code",
   "execution_count": 26,
   "metadata": {
    "cell_id": "1ebd25b42eaa4bfd81b5207deba7eb62",
    "deepnote_cell_height": 356,
    "deepnote_cell_type": "code",
    "deepnote_to_be_reexecuted": false,
    "execution_millis": 5,
    "execution_start": 1651761124524,
    "source_hash": "80258ad",
    "tags": []
   },
   "outputs": [
    {
     "name": "stdout",
     "output_type": "stream",
     "text": [
      "Massa total de ar:\n",
      "    m dot ar = 16.628 kg/s\n",
      "Massa total resfriada:\n",
      "  m dot ar b = 12.366 kg/s\n",
      "Massa total direta:\n",
      "  m dot ar d = 4.262 kg/s\n"
     ]
    }
   ],
   "source": [
    "mdotarresf = mdotar * fresf\n",
    "mdotardire = mdotar * fdire\n",
    "\n",
    "print(\"Massa total de ar:\")\n",
    "print(\"    m dot ar = %.3f kg/s\" % mdotar)\n",
    "print(\"Massa total resfriada:\")\n",
    "print(\"  m dot ar b = %.3f kg/s\" % mdotarresf)\n",
    "print(\"Massa total direta:\")\n",
    "print(\"  m dot ar d = %.3f kg/s\" % mdotardire)"
   ]
  },
  {
   "cell_type": "markdown",
   "metadata": {
    "cell_id": "87de17ed307d47918d991df2846d2f46",
    "deepnote_cell_height": 139.84375,
    "deepnote_cell_type": "markdown",
    "tags": []
   },
   "source": [
    "Agora temos as variações de entalpia:\n",
    "\n",
    "$$\n",
    "\\Delta h_{A \\to C} = h_{A} - h_{C}\n",
    "$$\n",
    "$$\n",
    "\\Delta h_{C \\to D} = h_{C} - h_{D}\n",
    "$$"
   ]
  },
  {
   "cell_type": "code",
   "execution_count": 27,
   "metadata": {
    "cell_id": "f5e583804f1e48d9a57ef54a419b39dd",
    "deepnote_cell_height": 154.796875,
    "deepnote_cell_type": "code",
    "deepnote_to_be_reexecuted": false,
    "execution_millis": 15,
    "execution_start": 1651761124525,
    "source_hash": "326ffed1",
    "tags": []
   },
   "outputs": [
    {
     "name": "stdout",
     "output_type": "stream",
     "text": [
      "Warning: for (TPO, UR), conversion needed\n",
      "Cause:  Sorry, but cannot provide two inputs that are both water-content (humidity ratio, relative humidity, absolute humidity :: inputs were:\"H\",\"P\",1.0132500000000000e+05,\"D\",2.9709018111838236e+02,\"R\",1.0000000000000000e+00 \n"
     ]
    }
   ],
   "source": [
    "DeltahAC = A.get(\"h\") - C.get(\"h\")\n",
    "DeltahCD = C.get(\"h\") - D.get(\"h\")"
   ]
  },
  {
   "cell_type": "markdown",
   "metadata": {
    "cell_id": "3956b91cd21e4d1391b9844de81140af",
    "deepnote_cell_height": 103.125,
    "deepnote_cell_type": "markdown",
    "tags": []
   },
   "source": [
    "Calculamos a variação de energia pela parte resfriada:\n",
    "\n",
    "$$\n",
    "\\dot{Q}_{frio} = \\dot{m}_{ar, resf} \\cdot \\Delta h_{A \\to C} + \\dot{m}_{ar, resf} \\cdot \\Delta h_{C \\to D} + \\dot{m}_{agua}\\cdot \\Delta h_{agua}\n",
    "$$"
   ]
  },
  {
   "cell_type": "code",
   "execution_count": 28,
   "metadata": {
    "cell_id": "ba0facf38139485893c16e247feceb87",
    "deepnote_cell_height": 296,
    "deepnote_cell_type": "code",
    "deepnote_to_be_reexecuted": false,
    "execution_millis": 14,
    "execution_start": 1651761124530,
    "owner_user_id": "4ceab1a1-ba24-4c76-8c5a-89e7333425d4",
    "source_hash": "9dff91d5",
    "tags": []
   },
   "outputs": [
    {
     "name": "stdout",
     "output_type": "stream",
     "text": [
      "TBSC = 23.940 oC\n",
      "TBSD = 17.175 oC\n"
     ]
    },
    {
     "ename": "NameError",
     "evalue": "name 'PropsSI' is not defined",
     "output_type": "error",
     "traceback": [
      "\u001b[1;31m---------------------------------------------------------------------------\u001b[0m",
      "\u001b[1;31mNameError\u001b[0m                                 Traceback (most recent call last)",
      "\u001b[1;32m~\\AppData\\Local\\Temp\\ipykernel_5244\\1978754436.py\u001b[0m in \u001b[0;36m<module>\u001b[1;34m\u001b[0m\n\u001b[0;32m      3\u001b[0m \u001b[0mprint\u001b[0m\u001b[1;33m(\u001b[0m\u001b[1;34m\"TBSC = %.3f oC\"\u001b[0m \u001b[1;33m%\u001b[0m \u001b[1;33m(\u001b[0m\u001b[0mTBSC\u001b[0m\u001b[1;33m-\u001b[0m\u001b[0mCelsius0\u001b[0m\u001b[1;33m)\u001b[0m\u001b[1;33m)\u001b[0m\u001b[1;33m\u001b[0m\u001b[1;33m\u001b[0m\u001b[0m\n\u001b[0;32m      4\u001b[0m \u001b[0mprint\u001b[0m\u001b[1;33m(\u001b[0m\u001b[1;34m\"TBSD = %.3f oC\"\u001b[0m \u001b[1;33m%\u001b[0m \u001b[1;33m(\u001b[0m\u001b[0mTBSD\u001b[0m\u001b[1;33m-\u001b[0m\u001b[0mCelsius0\u001b[0m\u001b[1;33m)\u001b[0m\u001b[1;33m)\u001b[0m\u001b[1;33m\u001b[0m\u001b[1;33m\u001b[0m\u001b[0m\n\u001b[1;32m----> 5\u001b[1;33m \u001b[0mhaguaC\u001b[0m \u001b[1;33m=\u001b[0m \u001b[0mPropsSI\u001b[0m\u001b[1;33m(\u001b[0m\u001b[1;34m'H'\u001b[0m\u001b[1;33m,\u001b[0m\u001b[1;34m'P'\u001b[0m\u001b[1;33m,\u001b[0m\u001b[1;36m101325\u001b[0m\u001b[1;33m,\u001b[0m\u001b[1;34m'T'\u001b[0m\u001b[1;33m,\u001b[0m\u001b[0mTBSC\u001b[0m\u001b[1;33m,\u001b[0m\u001b[1;34m'Water'\u001b[0m\u001b[1;33m)\u001b[0m\u001b[1;33m\u001b[0m\u001b[1;33m\u001b[0m\u001b[0m\n\u001b[0m\u001b[0;32m      6\u001b[0m \u001b[0mhaguaD\u001b[0m \u001b[1;33m=\u001b[0m \u001b[0mPropsSI\u001b[0m\u001b[1;33m(\u001b[0m\u001b[1;34m'H'\u001b[0m\u001b[1;33m,\u001b[0m\u001b[1;34m'P'\u001b[0m\u001b[1;33m,\u001b[0m\u001b[1;36m101325\u001b[0m\u001b[1;33m,\u001b[0m\u001b[1;34m'T'\u001b[0m\u001b[1;33m,\u001b[0m\u001b[0mTBSD\u001b[0m\u001b[1;33m,\u001b[0m\u001b[1;34m'Water'\u001b[0m\u001b[1;33m)\u001b[0m\u001b[1;33m\u001b[0m\u001b[1;33m\u001b[0m\u001b[0m\n\u001b[0;32m      7\u001b[0m \u001b[1;31m# Deltahagua = haguaC - haguaD\u001b[0m\u001b[1;33m\u001b[0m\u001b[1;33m\u001b[0m\u001b[1;33m\u001b[0m\u001b[0m\n",
      "\u001b[1;31mNameError\u001b[0m: name 'PropsSI' is not defined"
     ]
    }
   ],
   "source": [
    "TBSC = C.get(\"TBS\")\n",
    "TBSD = D.get(\"TBS\")\n",
    "print(\"TBSC = %.3f oC\" % (TBSC-Celsius0))\n",
    "print(\"TBSD = %.3f oC\" % (TBSD-Celsius0))\n",
    "haguaC = PropsSI('H','P',101325,'T',TBSC,'Water')\n",
    "haguaD = PropsSI('H','P',101325,'T',TBSD,'Water')\n",
    "# Deltahagua = haguaC - haguaD\n",
    "Deltahagua = PropsSI('H','P',101325,'T',TBSA,'Water')\n",
    "print(\"Delta h agua = %.3f kJ/kg\" % (Deltahagua/1000))"
   ]
  },
  {
   "cell_type": "code",
   "execution_count": null,
   "metadata": {
    "cell_id": "868d99407fb2439dad208a43177d40f1",
    "deepnote_cell_height": 204,
    "deepnote_cell_type": "code",
    "deepnote_to_be_reexecuted": false,
    "execution_millis": 16,
    "execution_start": 1651761124541,
    "source_hash": "805eb8d4",
    "tags": []
   },
   "outputs": [],
   "source": [
    "Qdotfrio = mdotarresf * DeltahAC\n",
    "Qdotfrio += mdotarresf * DeltahCD\n",
    "Qdotfrio += mdotagua * Deltahagua\n",
    "print(\"Qdot frio = %.3f kW\" % (Qdotfrio/1000))\n",
    "print(\"          = %.3f TR\" % (Qdotfrio/3510))"
   ]
  },
  {
   "cell_type": "code",
   "execution_count": null,
   "metadata": {
    "cell_id": "6df69fc893c648638dfbf8f406857bf1",
    "deepnote_cell_height": 489,
    "deepnote_cell_type": "code",
    "deepnote_output_heights": [
     21,
     268
    ],
    "deepnote_to_be_reexecuted": false,
    "execution_millis": 6023,
    "execution_start": 1651761124557,
    "source_hash": "f7584d07",
    "tags": []
   },
   "outputs": [],
   "source": [
    "chart = PsicrometryChart([A,B,C,D])\n",
    "chart.plot()\n",
    "axis = chart.axis\n",
    "axis.plot((TBSD-Celsius0, TBSA-Celsius0), (1000*wD, 1000*wA))\n"
   ]
  },
  {
   "cell_type": "markdown",
   "metadata": {},
   "source": [
    "## Disponível online\n",
    "\n",
    "Esse python notebook está disponível online no GitHub através do link:\n",
    "\n",
    "* [GitHub/carlos-adir/UnB-Courses/instalacoes2/ProvaA-2022EAD](https://github.com/carlos-adir/UnB-Courses/blob/main/instalacoes2/ProvaA-2022EAD.ipynb)"
   ]
  }
 ],
 "metadata": {
  "deepnote": {},
  "deepnote_execution_queue": [],
  "deepnote_notebook_id": "8bff1932-d3e7-4444-9f55-3cbea2fa7e74",
  "kernelspec": {
   "display_name": "Python 3.9.1 64-bit",
   "language": "python",
   "name": "python3"
  },
  "language_info": {
   "codemirror_mode": {
    "name": "ipython",
    "version": 3
   },
   "file_extension": ".py",
   "mimetype": "text/x-python",
   "name": "python",
   "nbconvert_exporter": "python",
   "pygments_lexer": "ipython3",
   "version": "3.9.1"
  },
  "orig_nbformat": 2,
  "vscode": {
   "interpreter": {
    "hash": "11938c6bc6919ae2720b4d5011047913343b08a43b18698fd82dedb0d4417594"
   }
  }
 },
 "nbformat": 4,
 "nbformat_minor": 2
}
