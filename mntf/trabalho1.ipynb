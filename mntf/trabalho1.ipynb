{
 "cells": [
  {
   "cell_type": "markdown",
   "metadata": {},
   "source": [
    "## Disponível online\n",
    "\n",
    "[![Open In Colab](https://colab.research.google.com/assets/colab-badge.svg)](https://colab.research.google.com/github/carlos-adir/UnB-Courses/blob/main/mntf/trabalho1.ipynb)\n",
    "\n",
    "Esse python notebook está disponível online no GitHub através do link:\n",
    "\n",
    "* [GitHub/carlos-adir/UnB-Courses/mntf/trabalho1](https://github.com/carlos-adir/UnB-Courses/blob/main/mntf/trabalho1.ipynb)"
   ]
  },
  {
   "cell_type": "code",
   "execution_count": 1,
   "metadata": {},
   "outputs": [],
   "source": [
    "try:\n",
    "    import numpy as np\n",
    "    import pandas as pd\n",
    "    import seaborn as sns\n",
    "    from typing import List, Tuple, Callable, Optional\n",
    "    from matplotlib import pyplot as plt\n",
    "    import matplotlib.dates as mdates\n",
    "    import requests\n",
    "    import datetime\n",
    "    import warnings\n",
    "    warnings.filterwarnings(\"error\")\n",
    "except ModuleNotFoundError as e:\n",
    "    import os\n",
    "    os.system(\"pip install numpy\")\n",
    "    os.system(\"pip install pandas\")\n",
    "    os.system(\"pip install seaborn\")\n",
    "    os.system(\"pip install matplotlib\")\n",
    "    os.system(\"pip install datetime\")\n",
    "    # os.system(\"pip install warnings\")\n",
    "import numpy as np\n",
    "import pandas as pd\n",
    "import seaborn as sns\n",
    "from typing import List, Tuple, Callable, Optional\n",
    "from matplotlib import pyplot as plt\n",
    "import matplotlib.dates as mdates\n",
    "import requests\n",
    "import datetime\n",
    "import warnings\n",
    "warnings.filterwarnings(\"error\")"
   ]
  },
  {
   "cell_type": "markdown",
   "metadata": {},
   "source": [
    "### Exercicio 1\n",
    "\n",
    "> Escreva uma função cuja entrada sejam duas matrizes, $A$ e $B$, e a saída seja a matriz resultante do produto das entradas.\n",
    "> Não utilize nenhuma função de multiplicação de matrizes pronta, faça você mesmo os loops necessários para a multiplicação.\n",
    "> Coloque uma mensagem de erro quando o número de colunas de $A$ não for igual ao número de linhas de $B$.\n",
    "> Utilize as arrays do numpy."
   ]
  },
  {
   "cell_type": "markdown",
   "metadata": {},
   "source": [
    "**Solução:**\n",
    "\n",
    "A multiplicação de matrizes é efetuada pela operação:\n",
    "\n",
    "$$\\mathbf{C} = \\mathbf{A} \\cdot \\mathbf{B} \\Leftrightarrow C_{ij} = \\sum_{k} A_{ik} B_{kj}$$\n",
    "\n",
    "No python, a função que iremos fazer se chama **multiplica_matriz**:\n",
    "\n",
    "> ```python\n",
    "> def multiplica_matriz(A: np.ndarray, B: np.ndarray) -> np.ndarray:\n",
    "> ```\n",
    "\n",
    "Isso significa que \n",
    "\n",
    "* ```A``` é um array do numpy (```np.ndarray```)\n",
    "* ```B``` é um array do numpy (```np.ndarray```)\n",
    "* retorna um array do numpy (```np.ndarray```)\n",
    "\n",
    "Essa função vai retornar a matriz ```C```.\n",
    "Caso o tamanho de ```A``` e ```B``` sejam incompatíveis, ele retorna um erro.\n",
    "\n",
    "*Exemplo:* Sejam as matrizes\n",
    "\n",
    "$$\n",
    "\\mathbf{A} = \\begin{bmatrix} 1 & 2 \\\\ 5 & 4\\end{bmatrix} \\ \\ \\ \\ \\ \\ \\mathbf{B} = \\begin{bmatrix} 7 & 5 \\\\ -2 & 9\\end{bmatrix} \n",
    "$$\n",
    "\n",
    "Multiplicando as matrizes dá\n",
    "\n",
    "$$\n",
    "\\mathbf{A} \\cdot \\mathbf{B} = \\begin{bmatrix} 1 & 2 \\\\ 5 & 4\\end{bmatrix} \\cdot \\begin{bmatrix} 7 & 5 \\\\ -2 & 9\\end{bmatrix}  =  \\begin{bmatrix} 3 & 23 \\\\ 27 & 61\\end{bmatrix} = \\mathbf{C}\n",
    "$$"
   ]
  },
  {
   "cell_type": "code",
   "execution_count": 2,
   "metadata": {},
   "outputs": [
    {
     "name": "stdout",
     "output_type": "stream",
     "text": [
      "A = \n",
      "[[1 2]\n",
      " [5 4]]\n",
      "B = \n",
      "[[ 7  5]\n",
      " [-2  9]]\n",
      "C = \n",
      "[[ 3. 23.]\n",
      " [27. 61.]]\n"
     ]
    }
   ],
   "source": [
    "def verifica_se_eh_matriz(M: np.ndarray):\n",
    "    try:\n",
    "        M = np.array(M, dtype='float64')\n",
    "    except Exception as e:\n",
    "        raise TypeError(f\"O parametro recebido deve ser um numpy.ndarray. Nao {type(M)}\")\n",
    "    if M.ndim != 2:\n",
    "        raise ValueError(f\"O parametro recebido deve ser uma matriz 2D. Recebido {M.ndim}D\")\n",
    "    \n",
    "def multiplica_matriz(A: np.ndarray, B: np.ndarray) -> np.ndarray:\n",
    "    \"\"\"\n",
    "    Faz a multiplicacao da matriz A pela matriz B\n",
    "    \"\"\"\n",
    "    verifica_se_eh_matriz(A)\n",
    "    verifica_se_eh_matriz(B)\n",
    "    A = np.array(A)\n",
    "    B = np.array(B)\n",
    "    n, p = A.shape\n",
    "    q, m = B.shape\n",
    "    if p != q:\n",
    "        raise ValueError(f\"Nao pode multiplicar. A tem {A.shape[1]} colunas e B tem {B.shape[0]} linhas\")\n",
    "    M = np.zeros((n, m), dtype=\"float64\")  # Matriz resultado\n",
    "    for i in range(n):\n",
    "        for j in range(m):\n",
    "            for k in range(p):\n",
    "                M[i, j] += A[i, k] * B[k, j]\n",
    "    return M\n",
    "\n",
    "A = np.array([[1, 2], [5, 4]])\n",
    "B = np.array([[7, 5], [-2, 9]])\n",
    "C = multiplica_matriz(A, B)\n",
    "print(\"A = \")\n",
    "print(A)\n",
    "print(\"B = \")\n",
    "print(B)\n",
    "print(\"C = \")\n",
    "print(C)"
   ]
  },
  {
   "cell_type": "markdown",
   "metadata": {},
   "source": [
    "Quando as matrizes ```A``` e ```B``` não são compatíveis, obtemos um erro:"
   ]
  },
  {
   "cell_type": "code",
   "execution_count": 3,
   "metadata": {},
   "outputs": [
    {
     "name": "stdout",
     "output_type": "stream",
     "text": [
      "Problema recebido: Nao pode multiplicar. A tem 3 colunas e B tem 2 linhas\n"
     ]
    }
   ],
   "source": [
    "A = np.array([[1, 2, 3], [5, 4, 3]])\n",
    "B = np.array([[7, 5], [-2, 9]])\n",
    "try:\n",
    "    C = multiplica_matriz(A, B)\n",
    "except Exception as e:\n",
    "    print(f\"Problema recebido: {e}\")"
   ]
  },
  {
   "cell_type": "markdown",
   "metadata": {},
   "source": [
    "Podemos fazer também testes automatizados:\n",
    "\n",
    "* Usar o ```numpy.random.randint``` para sortear as variáveis ```n```, ```m``` e ```p``` aleatórios no intervalo $\\left[4, 10\\right]$\n",
    "* Usar ```numpy.random.uniform``` para fazer a matriz aleatória ```A``` de tamanho $(n, \\ p)$ com coeficientes entre $\\left[-2, \\ 2\\right]$\n",
    "* Usar ```numpy.random.uniform``` para fazer a matriz aleatória ```B``` de tamanho $(p, \\ m)$ com coeficientes entre $\\left[-2, \\ 2\\right]$\n",
    "* Usar ```numpy.dot``` para calcular a multiplicação das duas matrizes e armazenar em ```Cgood```\n",
    "* Usar ```multiplica_matriz``` para calcular a multiplicação usando nossa função e armazenar em ```Ctest``\n",
    "* Comparar o resultado da nossa função ```Ctest``` com o resultado do numpy ```Cgood```"
   ]
  },
  {
   "cell_type": "code",
   "execution_count": 4,
   "metadata": {},
   "outputs": [],
   "source": [
    "def test_multiplica_matriz(ntests = 100):\n",
    "    for i in range(ntests):\n",
    "        n, m, p = np.random.randint(4, 11, size=3)\n",
    "        A = np.random.uniform(-2, 2, size=(n, p))\n",
    "        B = np.random.uniform(-2, 2, size=(p, m))\n",
    "        Cgood = np.dot(A, B)  # Valor verdadeiro, calculado pelo proprio numpy\n",
    "        Ctest = multiplica_matriz(A, B)  # Resultado na nossa funcao\n",
    "        np.testing.assert_almost_equal(Ctest, Cgood)  # Compara pra ver se o resultado da funcao eh bom\n",
    "\n",
    "test_multiplica_matriz()"
   ]
  },
  {
   "cell_type": "markdown",
   "metadata": {},
   "source": [
    "### Exercício 2\n",
    "\n",
    "> Crie uma função que tenha como entrada uma matriz qualquer $M \\times N$ e como saída a média e o desvio padrão dos elementos dessa matriz"
   ]
  },
  {
   "cell_type": "markdown",
   "metadata": {},
   "source": [
    "**Solução:**\n",
    "\n",
    "Para a solução, criamos uma função ```calcula_media_desvio``` que recebe uma matriz ```A``` como entrada e retorna o valor de $\\mu$ (média) e $\\sigma$ (desvio).\n",
    "\n",
    "O valor da média de todos os elementos é dado por\n",
    "\n",
    "$$\n",
    "\\mu = \\dfrac{1}{M \\cdot N} \\sum_{i}^{M} \\sum_{j}^{N} A_{ij}\n",
    "$$\n",
    "\n",
    "Já o desvio padrão é calculado por\n",
    "\n",
    "$$\n",
    "\\sigma = \\sqrt{\\dfrac{1}{M \\cdot N} \\sum_{i}^{M} \\sum_{j}^{N} \\left(A_{ij} - \\mu\\right)^2}\n",
    "$$"
   ]
  },
  {
   "cell_type": "code",
   "execution_count": 5,
   "metadata": {},
   "outputs": [],
   "source": [
    "def calcula_media_desvio(A: np.ndarray) -> Tuple[float, float]:\n",
    "    verifica_se_eh_matriz(A)\n",
    "    M, N = A.shape\n",
    "    soma = 0\n",
    "    for i in range(M):\n",
    "        for j in range(N):\n",
    "            soma += A[i, j]\n",
    "    media = soma/(M*N)\n",
    "    somaquad = 0\n",
    "    for i in range(M):\n",
    "        for j in range(N):\n",
    "            somaquad += (A[i, j] - media)**2\n",
    "    variancia = somaquad/(M*N)\n",
    "    desvio = np.sqrt(variancia)\n",
    "    return media, desvio\n",
    "\n",
    "def test_calcula_medio_desvio(ntests: int = 100):\n",
    "    for i in range(ntests):\n",
    "        M, N = np.random.randint(4, 11, size=2)\n",
    "        A = np.random.uniform(-2, 2, [M, N])\n",
    "        mtest, dtest = calcula_media_desvio(A)\n",
    "        mgood = np.mean(A)\n",
    "        dgood = np.std(A)\n",
    "        np.testing.assert_almost_equal(mtest, mgood)\n",
    "        np.testing.assert_almost_equal(dtest, dgood)\n",
    "\n",
    "test_calcula_medio_desvio()"
   ]
  },
  {
   "cell_type": "markdown",
   "metadata": {},
   "source": [
    "### Exercício 3\n",
    "\n",
    "> Crie uma matriz $N \\times N$ de números aleatórios com valores entre $−2$ e $2$.\n",
    "> Utilize a função do exercício anterior para calcular a média e o desvio padrão dos elementos dessa matriz.\n",
    "> O que acontece com esses valores quando $N \\to \\infty$?\n",
    "> \n",
    "> Dica: o numpy tem uma função que gera números aleatórios"
   ]
  },
  {
   "cell_type": "markdown",
   "metadata": {},
   "source": [
    "**Solução:**\n",
    "\n",
    "Para criar uma matriz $B$ de tamanho $N \\times N$ de números aleatórios, usamos o ```numpy.random.uniform```:\n",
    "\n",
    "> ```python\n",
    "> A = numpy.random.uniform(-2, 2, [N, N]) \n",
    "> ```\n",
    "\n",
    "Como queremos observar os valores da média $\\mu$ e do desvio $\\sigma$ para diferentes valores de $N$, então criamos\n",
    "* um array ```Ns``` (para vários valores de $N$)\n",
    "* um array ```medias``` (para valores de $\\mu$)\n",
    "* ```desvios``` (para valores de $\\sigma$).\n"
   ]
  },
  {
   "cell_type": "code",
   "execution_count": 6,
   "metadata": {},
   "outputs": [],
   "source": [
    "Ns = np.arange(2, 101)  # Os numeros N que iremos modificar\n",
    "medias = np.zeros(Ns.shape)\n",
    "desvios = np.zeros(Ns.shape)\n",
    "for i, N in enumerate(Ns):\n",
    "    A = np.random.uniform(-2, 2, size=(N, N))\n",
    "    m, d = calcula_media_desvio(A)\n",
    "    medias[i] = m\n",
    "    desvios[i] = d"
   ]
  },
  {
   "cell_type": "markdown",
   "metadata": {},
   "source": [
    "E agora plotamos os gráficos para os diferentes valores"
   ]
  },
  {
   "cell_type": "code",
   "execution_count": 7,
   "metadata": {},
   "outputs": [
    {
     "data": {
      "image/png": "[encoded data removed]",
      "text/plain": [
       "<Figure size 432x288 with 1 Axes>"
      ]
     },
     "metadata": {
      "needs_background": "light"
     },
     "output_type": "display_data"
    }
   ],
   "source": [
    "plt.plot(Ns, medias, label=r\"medias $\\mu$\")\n",
    "plt.plot(Ns, desvios, label=r\"desvios $\\sigma$\")\n",
    "plt.axhline(y=0, color=\"k\", ls=\"dotted\")\n",
    "plt.axhline(y=0, color=\"green\", ls=\"dotted\")\n",
    "plt.axhline(y=2/np.sqrt(3), color=\"green\", ls=\"dotted\")\n",
    "plt.legend()\n",
    "plt.grid()\n",
    "plt.show()"
   ]
  },
  {
   "cell_type": "markdown",
   "metadata": {},
   "source": [
    "### Exercício 4\n",
    "\n",
    "> Desenvolva um programa que pede o nome e a idade do usuário (use a função ```input```) e imprime esses valores em um arquivo texto de saída.\n",
    "> Depois desenvolva um programa para ler os dados desse arquivo texto e imprimir o resultado na tela.\n",
    "> \n",
    "> **Observação**: a variável obtida a partir da função ```input``` é sempre do tipo ```string```.\n",
    "> Se você quiser utilizar o valor de entrada como ```int``` ou ```float``` você tem que fazer a conversão."
   ]
  },
  {
   "cell_type": "code",
   "execution_count": 8,
   "metadata": {},
   "outputs": [
    {
     "name": "stdout",
     "output_type": "stream",
     "text": [
      "Nome lido = Carlos\n",
      "Idade lida = 26\n",
      "Salvando no arquivo!\n",
      "Lendo o arquivo!\n",
      "Nome lido do arquivo = Carlos\n",
      "Idade lida do arquivo = 26\n"
     ]
    }
   ],
   "source": [
    "while True:\n",
    "    # nome = input(\"Digite seu nome\")\n",
    "    nome = \"Carlos\"\n",
    "    if len(nome) > 2:\n",
    "        break\n",
    "print(f\"Nome lido = {nome}\")\n",
    "\n",
    "while True:\n",
    "    # idade = input(\"Digite sua idade\")\n",
    "    idade = \"26\"\n",
    "    try:\n",
    "        idade = int(idade)\n",
    "        break\n",
    "    except ValueError as e:\n",
    "        print(\"Sua idade é invalida! Digite um inteiro!\")\n",
    "print(f\"Idade lida = {idade}\")\n",
    "\n",
    "print(\"Salvando no arquivo!\")\n",
    "filename = \"myfile.txt\"\n",
    "with open(filename, \"w\") as file:\n",
    "    file.write(nome + \"\\n\")\n",
    "    file.write(str(idade))\n",
    "\n",
    "print(\"Lendo o arquivo!\")\n",
    "with open(filename, \"r\") as file:\n",
    "    lines = file.readlines()\n",
    "nome_arquivo = lines[0].replace(\"\\n\", \"\")\n",
    "idade_arquivo = int(lines[1])\n",
    "print(f\"Nome lido do arquivo = {nome_arquivo}\")\n",
    "print(f\"Idade lida do arquivo = {idade_arquivo}\")"
   ]
  },
  {
   "cell_type": "markdown",
   "metadata": {},
   "source": [
    "### Exercício 5\n",
    "\n",
    "> Crie um jogo de pedra, papel e tesoura.\n",
    "> Utilize a função ```input``` para pegar a opção do jogador humano e utilize números aleatórios para gerar a resposta do computador.\n",
    "> Faça primeiro um jogo que tenha a mesma probabilidade de vitória, derrota ou empate.\n",
    "> Depois desenvolva um jogo em que a probabilidade do computador vencer seja maior, utilizando também números aleatórios.\n",
    "> Faça alguns testes."
   ]
  },
  {
   "cell_type": "markdown",
   "metadata": {},
   "source": [
    "**Solução:**\n",
    "\n",
    "O jogo pedra papel tesoura é um jogo em que um jogador joga contra outro (neste caso, o computador).\n",
    "Cada jogador escolhe uma opção entre ```Pedra```, ```Papel``` e ```Tesoura```.\n"
   ]
  },
  {
   "cell_type": "code",
   "execution_count": 9,
   "metadata": {},
   "outputs": [
    {
     "name": "stdout",
     "output_type": "stream",
     "text": [
      "Opcao escolhida:  Papel\n",
      "O computador escolheu: Tesoura\n",
      "O jogador perdeu!\n"
     ]
    }
   ],
   "source": [
    "def pedra_papel_tesoura(win = 1, draw = 1, lose = 1):\n",
    "    \"\"\"\n",
    "    Os argumentos dessa funcao sao os pesos para o computador.\n",
    "    Se forem iguais, os pesos sao os mesmos e entao a probabilidade de cada eh 1/3.\n",
    "    Se colocar algum 0, entao nao acontecera.\n",
    "    Se win = 1, draw = 0, lose = 0, o computador sempre ganhara\n",
    "    \"\"\"\n",
    "    \n",
    "    respostas = [\"Pedra\", \"Papel\", \"Tesoura\"]\n",
    "    probs = np.array([win, draw, lose], dtype=\"float16\")\n",
    "    probs /= np.sum(probs)\n",
    "    probs = np.cumsum(probs) - probs[0]\n",
    "    \n",
    "    while True:\n",
    "        while True:\n",
    "            resposta = input(\"Digite sua opcao: Pedra, Papel, Tesoura\")\n",
    "            if resposta in respostas:\n",
    "                break    \n",
    "            print(\"Nao entendi a resposta. Tente denovo\")\n",
    "        print(\"Opcao escolhida: \", resposta)\n",
    "        ind = respostas.index(resposta)\n",
    "        result = np.sum(np.random.rand() > probs)\n",
    "        com = (ind - result + 4) % 3\n",
    "        print(f\"O computador escolheu: {respostas[com]}\")\n",
    "        diff = (com - ind + 3)%3\n",
    "        if diff == 0:\n",
    "            print(\"Deu empate! Tente denovo\")\n",
    "        elif diff == 1:\n",
    "            print(\"O jogador perdeu!\")\n",
    "            break\n",
    "        else:\n",
    "            print(\"O jogador ganhou!\")\n",
    "            break\n",
    "\n",
    "pedra_papel_tesoura(win = 1, draw = 2, lose = 0)\n"
   ]
  },
  {
   "cell_type": "markdown",
   "metadata": {},
   "source": [
    "### Exercício 6\n",
    "\n",
    "> Faça um gráfico com o valor do dólar comercial nos últimos 20 dias. Utilize pontos\n",
    "e linhas. Personalize o seu gráfico."
   ]
  },
  {
   "cell_type": "code",
   "execution_count": 10,
   "metadata": {},
   "outputs": [],
   "source": [
    "today = datetime.date.today()\n",
    "years = np.arange(2010, today.year)\n",
    "alldates = []\n",
    "allprices = []\n",
    "\n",
    "def get_dates_prices(start_date: str, end_date: str):\n",
    "    dates = []\n",
    "    prices = []\n",
    "    base=\"USD\"\n",
    "    out_curr=\"BRL\"\n",
    "    url = \"https://api.exchangerate.host/timeseries?\"\n",
    "    url += f\"base={base}&\"\n",
    "    url += f\"start_date={start_date}&\"\n",
    "    url += f\"end_date={end_date}&\"\n",
    "    url += f\"symbols={out_curr}\"\n",
    "    response = requests.get(url)\n",
    "\n",
    "    data = response.json()\n",
    "    for date, dictprice in data['rates'].items():\n",
    "        year, month, day = [int(val) for val in date.split(\"-\")]\n",
    "        date = datetime.date(year, month, day)\n",
    "        dates.append(date)\n",
    "        prices.append(dictprice[out_curr])\n",
    "    return dates, prices\n",
    "\n",
    "for year in years:\n",
    "    start_date= f\"{year}-01-01\"\n",
    "    end_date= f\"{year}-12-31\"\n",
    "    dates, prices = get_dates_prices(start_date, end_date)\n",
    "    alldates += dates\n",
    "    allprices += prices\n",
    "\n",
    "todaystr = f\"{today.year}-{today.month}-{today.day}\"\n",
    "dates, prices = get_dates_prices(f\"{year+1}-01-01\", todaystr)\n",
    "alldates += dates\n",
    "allprices += prices\n",
    "\n"
   ]
  },
  {
   "cell_type": "code",
   "execution_count": 11,
   "metadata": {},
   "outputs": [
    {
     "name": "stdout",
     "output_type": "stream",
     "text": [
      "datemin =  2010-01-01\n",
      "datemax =  2022-11-24\n"
     ]
    },
    {
     "data": {
      "text/plain": [
       "[<matplotlib.lines.Line2D at 0x22161057e50>]"
      ]
     },
     "execution_count": 11,
     "metadata": {},
     "output_type": "execute_result"
    },
    {
     "data": {
      "image/png": "[encoded data removed]",
      "text/plain": [
       "<Figure size 432x288 with 1 Axes>"
      ]
     },
     "metadata": {
      "needs_background": "light"
     },
     "output_type": "display_data"
    }
   ],
   "source": [
    "datemin = min(alldates)\n",
    "datemax = max(alldates)\n",
    "print(\"datemin = \", datemin)\n",
    "print(\"datemax = \", datemax)\n",
    "ax = plt.gca()\n",
    "ax.set_xlim(datemin, datemax)\n",
    "def pricefmt(x):\n",
    "    return '$%1.2f' % x\n",
    "ax.format_xdata = mdates.DateFormatter('%Y-%m-%d')\n",
    "ax.format_ydata = pricefmt\n",
    "ax.grid(True)\n",
    "fig = plt.gcf()\n",
    "fig.autofmt_xdate()\n",
    "plt.xlabel(\"Data\")\n",
    "plt.ylabel(\"Currency\")\n",
    "plt.plot(alldates, allprices)\n"
   ]
  },
  {
   "cell_type": "markdown",
   "metadata": {},
   "source": [
    "### Exercício 7\n",
    "\n",
    "> Encontre a raiz $x^{\\star} \\approx 8.51$ da equação\n",
    "> \n",
    "> $$f(x) = 2 \\cosh\\left(\\dfrac{x}{4}\\right) − x$$\n",
    "> \n",
    "> usando o método do ponto fixo."
   ]
  },
  {
   "cell_type": "markdown",
   "metadata": {},
   "source": [
    "**Solução:**\n",
    "\n",
    "Primeiramente, vamos colocar aqui a aproximação das duas raizes existes da equação $f(x)$ que são\n",
    "\n",
    "$$\n",
    "x_{low}^{\\star} = 2.357551053877658\n",
    "$$\n",
    "$$\n",
    "x_{high}^{\\star} = 8.507199570713663\n",
    "$$"
   ]
  },
  {
   "cell_type": "code",
   "execution_count": 12,
   "metadata": {},
   "outputs": [],
   "source": [
    "def f(x: float) -> float:\n",
    "    return 2*np.cosh(x/4) - x\n",
    "\n",
    "# As raizes, com precisao de 10^{-15} sao\n",
    "lowroot = 2.357551053877658\n",
    "highroot = 8.507199570713663"
   ]
  },
  {
   "cell_type": "markdown",
   "metadata": {},
   "source": [
    "Então vamos criar a função do ponto fixo.\n",
    "Ela recebe a função $g$, o ponto inicial $x_0$, e então retorna a aproximação final $x$ tal que\n",
    "\n",
    "$$\n",
    "|x - x^{\\star}| < \\text{atol} \n",
    "$$\n",
    "\n",
    "Caso não seja possível encontrar a solução, retorna um erro\n",
    "* Seja porque o número de iterações ultrapassou o ```nitermax```\n",
    "* Seja porque divergiu: $|x_{k+1} - x_{k}| > \\text{atolmax}$"
   ]
  },
  {
   "cell_type": "code",
   "execution_count": 13,
   "metadata": {},
   "outputs": [],
   "source": [
    "def fixedpoint(g: Callable[[float], float], x0: float, atol: float, nitermax: Optional[int] = 100, atolmax: Optional[float] = 1e+4, verbose: bool = False):\n",
    "    \"\"\"\n",
    "    Find a root of the function 'f' given the initial point 'p0' using the fixed point method.\n",
    "    It returns the solution if it converges:\n",
    "        abs(p^{k+1} - p^{k}) < atol\n",
    "    It will give an error:\n",
    "        - If the number of iterations reached 'nitermax'\n",
    "        - If the distance of two points are bigger than 'atolmax'\n",
    "    \"\"\"\n",
    "    if not callable(g):\n",
    "        raise TypeError(\"The function g must be callable\")\n",
    "    if atol <= 0:\n",
    "        raise ValueError(\"The tolerance must be positive\")\n",
    "    x0 = float(x0)\n",
    "    if verbose:\n",
    "        print(f\"x[0] = \", x0)\n",
    "    nitermax = int(nitermax)\n",
    "    for n in range(nitermax):\n",
    "        x = g(x0)        \n",
    "        if verbose:\n",
    "            print(f\"x[{n}] = \", x)\n",
    "        error = np.abs(x-x0)\n",
    "        if error < atol:\n",
    "            return x\n",
    "        if error > atolmax:\n",
    "            raise ValueError(f\"At iteration {n+1}, the distance between two points is too big:\\n    x[{n+1}] = {p}\\n    p[{k}] = {p0}\")\n",
    "        x0 = x\n",
    "    raise ValueError(f\"Could not find the solution with tolerance {atol:.2e} with {nitermax} iterations\")\n"
   ]
  },
  {
   "cell_type": "markdown",
   "metadata": {},
   "source": [
    "Agora pegamos uma função de iteração $g$ dada por\n",
    "\n",
    "$$\n",
    "g(x) = 2 \\cosh \\left(\\dfrac{x}{4}\\right)\n",
    "$$"
   ]
  },
  {
   "cell_type": "code",
   "execution_count": 14,
   "metadata": {},
   "outputs": [
    {
     "name": "stdout",
     "output_type": "stream",
     "text": [
      "x[0] =  8.5\n",
      "x[0] =  8.492330456393985\n",
      "x[1] =  8.476520980662274\n",
      "x[2] =  8.444030662824513\n",
      "x[3] =  8.377672804127128\n",
      "x[4] =  8.243856838591412\n",
      "x[5] =  7.980869755254201\n",
      "x[6] =  7.489785938745872\n",
      "x[7] =  6.657936411570173\n",
      "x[8] =  5.472235375565866\n",
      "x[9] =  4.1823196748936065\n",
      "x[10] =  3.196535867745466\n",
      "x[11] =  2.6733326372222495\n",
      "x[12] =  2.4635448573385212\n",
      "x[13] =  2.391458502141875\n",
      "x[14] =  2.368216852328971\n",
      "x[15] =  2.3608877479826496\n",
      "x[16] =  2.3585931042522112\n",
      "x[17] =  2.357876310263873\n",
      "x[18] =  2.3576525593513957\n",
      "x[19] =  2.3575827298641867\n",
      " Initial guess:   x0 = 8.5\n",
      "Final solution:    x = 2.3575827298641867\n",
      "     Tolerance: atol = 1.0e-04\n",
      "         Error:  err = 3.2e-05\n"
     ]
    }
   ],
   "source": [
    "def g1(x: float) -> float:\n",
    "    return 2*np.cosh(x/4)\n",
    "\n",
    "x0 = 8.5  # Ponto inicial\n",
    "atol = 1e-4\n",
    "x = fixedpoint(g1, x0, atol, verbose=True)\n",
    "print(f\" Initial guess:   x0 = {x0}\")\n",
    "print(f\"Final solution:    x = {x}\")\n",
    "print(f\"     Tolerance: atol = {atol:.1e}\")\n",
    "print(f\"         Error:  err = {abs(x-lowroot):.1e}\")"
   ]
  },
  {
   "cell_type": "markdown",
   "metadata": {},
   "source": [
    "Vemos que o erro obtido é de orderm $10^{-5}$.\n",
    "Agora, podemos variar o chute inicial para ver para qual valor converge.\n",
    "\n",
    "Como exemplo, para a posição inicial de $x_0 = 8.5$, bem próximo de $x_{high}^{\\star}$, o método convergiu para $x_{low}^{\\star}$"
   ]
  },
  {
   "cell_type": "code",
   "execution_count": 15,
   "metadata": {},
   "outputs": [
    {
     "data": {
      "image/png": "[encoded data removed]",
      "text/plain": [
       "<Figure size 432x288 with 1 Axes>"
      ]
     },
     "metadata": {
      "needs_background": "light"
     },
     "output_type": "display_data"
    }
   ],
   "source": [
    "x0s = np.linspace(0, highroot-1e-4, 1029)\n",
    "xfs = np.zeros(x0s.shape)\n",
    "for i, x0 in enumerate(x0s):\n",
    "    try:\n",
    "        xfs[i] = fixedpoint(g1, x0, atol, nitermax=100)\n",
    "    except ValueError as e:\n",
    "        xfs[i] = float('inf')\n",
    "plt.scatter(x0s, xfs, marker=\".\")\n",
    "plt.xlabel(\"Initial guess\")\n",
    "plt.ylabel(\"Received solution\")\n",
    "plt.xlim(0, 10)\n",
    "plt.ylim(0, 10)\n",
    "plt.axhline(y=lowroot, ls=\"dotted\", color=\"k\")\n",
    "plt.axhline(y=highroot, ls=\"dotted\", color=\"k\")\n",
    "plt.axvline(x=lowroot, ls=\"dotted\", color=\"k\")\n",
    "plt.axvline(x=highroot, ls=\"dotted\", color=\"k\")\n",
    "plt.title(\"Return of fixed point function for different initial points\")\n",
    "plt.show()"
   ]
  },
  {
   "cell_type": "markdown",
   "metadata": {},
   "source": [
    "Então, como o método converge apenas para a raiz próximo de $2$, então temos que utilizar uma outra função $g$, partindo da função $f$:\n",
    "\n",
    "$$\n",
    "f(x) = 2\\cosh \\left(\\dfrac{x}{4}\\right) - x\n",
    "$$\n",
    "\n",
    "Como para $x^{\\star}$ teremos $f(x^{\\star}) = 0$, logo\n",
    "\n",
    "$$\n",
    "2\\cosh \\left(\\dfrac{x^{\\star}}{4}\\right) - x^{\\star} = 0\n",
    "$$\n",
    "$$\n",
    "\\cosh \\left(\\dfrac{x^{\\star}}{4}\\right) = \\dfrac{x^{\\star}}{2}\n",
    "$$\n",
    "$$\n",
    "x^{\\star} = 4 \\ \\text{arccosh} \\left(\\dfrac{x^{\\star}}{2}\\right)\n",
    "$$\n",
    "$$\n",
    "x^{\\star} = 4\\ln \\left(\\dfrac{x^{\\star}}{2} + \\sqrt{\\left(\\dfrac{x^{\\star}}{2}\\right)^2-1}\\right)\n",
    "$$\n",
    "$$\n",
    "g(x) = 4\\ln \\left(\\dfrac{x}{2} + \\sqrt{\\left(\\dfrac{x}{2}\\right)^2-1}\\right)\n",
    "$$\n",
    "\n",
    "É bom lembrar que a função é de $\\mathbb{R} \\to \\mathbb{R}$ que dá uma restrição de que\n",
    "\n",
    "$$\n",
    "\\sqrt{\\square} \\in \\mathbb{R} \\Rightarrow \\square > 0 \\Rightarrow x \\le 2 \\ \\ \\text{or} \\ \\ 2 \\le x\n",
    "$$\n",
    "$$\n",
    "\\ln \\square \\in \\mathbb{R} \\Rightarrow \\square > 0 \\Rightarrow x > 0\n",
    "$$"
   ]
  },
  {
   "cell_type": "code",
   "execution_count": 16,
   "metadata": {},
   "outputs": [
    {
     "data": {
      "image/png": "[encoded data removed]",
      "text/plain": [
       "<Figure size 432x288 with 1 Axes>"
      ]
     },
     "metadata": {
      "needs_background": "light"
     },
     "output_type": "display_data"
    }
   ],
   "source": [
    "def g2(x: float) -> float:\n",
    "    if x < 2:\n",
    "        raise ValueError(f\"Cannot compute g({x}). It's not real!\")\n",
    "    return 4*np.log((x/2) + np.sqrt( (x/2)**2-1))\n",
    "\n",
    "p0s = np.linspace(lowroot+1e-3, 10, 1029)\n",
    "pfs = np.zeros(p0s.shape)\n",
    "for i, p0 in enumerate(p0s):\n",
    "    try:\n",
    "        pfs[i] = fixedpoint(g2, p0, atol, nitermax=100)\n",
    "    except ValueError as e:\n",
    "        pfs[i] = float('inf')\n",
    "plt.scatter(p0s, pfs, marker=\".\")\n",
    "plt.xlabel(\"Initial guess\")\n",
    "plt.ylabel(\"Received solution\")\n",
    "plt.xlim(0, 10)\n",
    "plt.ylim(0, 10)\n",
    "plt.axhline(y=lowroot, ls=\"dotted\", color=\"k\")\n",
    "plt.axhline(y=highroot, ls=\"dotted\", color=\"k\")\n",
    "plt.axvline(x=lowroot, ls=\"dotted\", color=\"k\")\n",
    "plt.axvline(x=highroot, ls=\"dotted\", color=\"k\")\n",
    "plt.title(\"Return of fixed point function for different initial points\")\n",
    "plt.show()"
   ]
  },
  {
   "cell_type": "markdown",
   "metadata": {},
   "source": [
    "Contudo, podemos utilizar uma terceira função $g$, que é dado por\n",
    "\n",
    "$$\n",
    "g(x) = x - \\dfrac{f}{f'} \n",
    "$$\n",
    "$$\n",
    "g(x) = x - \\dfrac{2\\cosh \\left(\\dfrac{x}{4}\\right) - x}{\\dfrac{1}{2}\\sinh \\left(\\dfrac{x}{4}\\right) - 1}\n",
    "$$\n",
    "$$\n",
    "g(x) = \\dfrac{x \\sinh\\left(\\dfrac{x}{4}\\right) - 4\\cosh \\left(\\dfrac{x}{4}\\right)}{\\sinh \\left(\\dfrac{x}{4}\\right) - 2}\n",
    "$$"
   ]
  },
  {
   "cell_type": "code",
   "execution_count": 17,
   "metadata": {},
   "outputs": [
    {
     "data": {
      "image/png": "[encoded data removed]",
      "text/plain": [
       "<Figure size 432x288 with 1 Axes>"
      ]
     },
     "metadata": {
      "needs_background": "light"
     },
     "output_type": "display_data"
    }
   ],
   "source": [
    "def g3(x: float) -> float:\n",
    "    sinh = np.sinh(x/4)\n",
    "    cosh = np.cosh(x/4)\n",
    "    return (x*sinh - 4*cosh)/(sinh - 2)\n",
    "\n",
    "x0s = np.linspace(0, 10, 1029)\n",
    "xfs = np.zeros(x0s.shape)\n",
    "for i, x0 in enumerate(x0s):\n",
    "    try:\n",
    "        xfs[i] = fixedpoint(g3, x0, atol, nitermax=100)\n",
    "    except ValueError as e:\n",
    "        xfs[i] = float('inf')\n",
    "plt.scatter(x0s, xfs, marker=\".\")\n",
    "plt.xlabel(\"Initial guess\")\n",
    "plt.ylabel(\"Received solution\")\n",
    "plt.xlim(0, 10)\n",
    "plt.ylim(0, 10)\n",
    "plt.axhline(y=lowroot, ls=\"dotted\", color=\"k\")\n",
    "plt.axhline(y=highroot, ls=\"dotted\", color=\"k\")\n",
    "plt.axvline(x=lowroot, ls=\"dotted\", color=\"k\")\n",
    "plt.axvline(x=highroot, ls=\"dotted\", color=\"k\")\n",
    "plt.title(\"Return of fixed point function for different initial points\")\n",
    "plt.show()"
   ]
  },
  {
   "cell_type": "markdown",
   "metadata": {},
   "source": [
    "### Exercício 8\n",
    "\n",
    "> Encontre as raízes da equação\n",
    "> \n",
    "> $$f(x) = 2 \\cosh\\left(\\dfrac{x}{4}\\right) − x$$\n",
    "> \n",
    "> utilizando o método da secante.\n"
   ]
  },
  {
   "cell_type": "code",
   "execution_count": 18,
   "metadata": {},
   "outputs": [],
   "source": [
    "def secant(f: Callable[[float], float], p0: float, p1: float, atol: float, nitermax: Optional[int]=100, verbose: bool = False):\n",
    "    n = 1\n",
    "    q0 = f(p0)\n",
    "    q1 = f(p1)\n",
    "    if verbose:\n",
    "        print(\"p[0] = \", p0)\n",
    "        print(\"p[1] = \", p1)\n",
    "    for n in range(nitermax):\n",
    "        try:\n",
    "            p = p1 - q1 * (p1 - p0) / (q1 - q0)\n",
    "        except RuntimeWarning as e:\n",
    "            raise ValueError\n",
    "        if verbose:\n",
    "            print(f\"p[{n+2}] = \", p)\n",
    "        if abs(p - p1) < atol:\n",
    "            return p\n",
    "        p0 = p1\n",
    "        q0 = q1\n",
    "        p1 = p\n",
    "        try:\n",
    "            q1 = f(p)\n",
    "        except RuntimeWarning as e:\n",
    "            raise ValueError\n",
    "    raise ValueError(f\"Could not find the solution with tolerance {atol:.2e} with {nitermax} iterations\")\n"
   ]
  },
  {
   "cell_type": "code",
   "execution_count": 19,
   "metadata": {},
   "outputs": [
    {
     "name": "stdout",
     "output_type": "stream",
     "text": [
      "p[0] =  0\n",
      "p[1] =  4\n",
      "p[2] =  2.7455191382487723\n",
      "p[3] =  2.258358411337213\n",
      "p[4] =  2.3618634493443804\n",
      "p[5] =  2.3575962168915945\n",
      "p[6] =  2.357551033006328\n",
      " Initial guess:   p0 = 0\n",
      "              :   p1 = 4\n",
      "Final solution:    p = 2.357551033006328\n",
      "     Tolerance: atol =  1.00e-04\n",
      "         Error:  err =  2.09e-08 \n"
     ]
    }
   ],
   "source": [
    "def f(x: float) -> float:\n",
    "    return 2*np.cosh(x/4) - x\n",
    "\n",
    "p0 = 0\n",
    "p1 = 4\n",
    "atol = 1e-4\n",
    "p = secant(f, p0, p1, atol, verbose=True)\n",
    "print(f\" Initial guess:   p0 = {p0}\")\n",
    "print(f\"              :   p1 = {p1}\")\n",
    "print(f\"Final solution:    p = {p}\")\n",
    "print(f\"     Tolerance: atol = {atol: .2e}\")\n",
    "print(f\"         Error:  err = {np.abs(p-lowroot): .2e} \")"
   ]
  },
  {
   "cell_type": "code",
   "execution_count": 20,
   "metadata": {},
   "outputs": [
    {
     "data": {
      "image/png": "[encoded data removed]",
      "text/plain": [
       "<Figure size 432x288 with 2 Axes>"
      ]
     },
     "metadata": {
      "needs_background": "light"
     },
     "output_type": "display_data"
    }
   ],
   "source": [
    "npts = 512\n",
    "p0s = np.linspace(0, 10, npts)\n",
    "p1s = np.linspace(0, 10, npts)\n",
    "pfs = np.zeros((npts, npts))\n",
    "for i, p0 in enumerate(p0s):\n",
    "    for j, p1 in enumerate(p1s):\n",
    "        try:\n",
    "            pfs[i, j] = secant(f, p0, p1, atol)\n",
    "        except ValueError as e:\n",
    "            pfs[i, j] = float('inf')\n",
    "pfs[:, :] = pfs[::-1, :]\n",
    "df = pd.DataFrame(pfs)\n",
    "df.columns = p0s\n",
    "df.index = p1s[::-1]\n",
    "heatmap = sns.heatmap(df, cmap='viridis', vmin=2, vmax=9)\n",
    "heatmap.set_xticklabels(f'{np.round(c, decimals=2):.2f}' for c in np.linspace(p0s[0], p0s[-1], 26))\n",
    "heatmap.set_yticklabels(f'{np.round(c, decimals=2):.2f}' for c in np.linspace(p1s[-1], p1s[0], 21))\n",
    "heatmap.set_xlabel(r\"Initial value of $p_0$\")\n",
    "heatmap.set_ylabel(r\"Initial value of $p_1$\")\n",
    "plt.show()\n"
   ]
  },
  {
   "cell_type": "markdown",
   "metadata": {},
   "source": [
    "### Exercicio 9\n",
    "\n",
    "> Utilizando a função do exercício anterior, compare a convergência para o resultado final obtida pelos 4 métodos:\n",
    "> * bissecção\n",
    "> * ponto fixo\n",
    "> * Newton\n",
    "> * Secante\n",
    "> \n",
    "> Faça um gráfico de $k \\times e_{k}$, com $e_{k} = \\left|x^{\\star} − x_{k}\\right|$ sendo o erro da iteração $k$, comparando os métodos (utilize escala logarítmica para $e_{k}$).\n",
    "> Comente os seus resultados.\n",
    "> Considere as duas raízes como sendo\n",
    "> \n",
    "> * $x^{\\star} = 2.3575510538774$\n",
    "> * $x^{\\star} = 8.5071995707130$\n",
    "> \n",
    "> e utilize uma tolerância de $10^{−10}$."
   ]
  },
  {
   "cell_type": "code",
   "execution_count": 21,
   "metadata": {},
   "outputs": [],
   "source": [
    "def bisseccao(f: Callable[[float], float], a: float, b: float, atol: float) -> List[float]:\n",
    "    ms = []\n",
    "    fa, fb = f(a), f(b)\n",
    "    while True:\n",
    "        m = (a+b)/2\n",
    "        ms.append(m)\n",
    "        if np.abs(b-a) < 2*atol:\n",
    "            return ms\n",
    "        fm = f(m)\n",
    "        if fm == 0:  # Happy ending\n",
    "            return ms\n",
    "        if fm*fa < 0:\n",
    "            b, fb = m, fm\n",
    "        else:\n",
    "            a, fa = m, fm\n",
    "\n",
    "def pontofixo(g: Callable[[float], float], p0: float, atol: float) -> List[float]:\n",
    "    atolmax = 1e+5\n",
    "    nitermax = 100\n",
    "    ps = []\n",
    "    p0 = float(p0)\n",
    "    ps.append(p0)\n",
    "    for n in range(nitermax):\n",
    "        p = g(p0)\n",
    "        ps.append(p)       \n",
    "        error = np.abs(p-p0)\n",
    "        if error < atol:\n",
    "            return ps\n",
    "        if error > atolmax:\n",
    "            raise ValueError(f\"At iteration {k+1}, the distance between two points is too big:\\n    p[{k+1}] = {p}\\n    p[{k}] = {p0}\")\n",
    "        p0 = p\n",
    "    raise ValueError(\"Nao convergiu\")\n",
    "\n",
    "def newton(f: Callable[[float], float], f_: Callable[[float], float], p0: float, atol: float) -> List[float]:\n",
    "    g = lambda x: x - f(x)/f_(x)\n",
    "    return pontofixo(g, p0, atol)\n",
    "\n",
    "def secante(f: Callable[[float], float], p0: float, p1: float, atol: float) -> List[float]:\n",
    "    p0, p1 = float(p0), float(p1)\n",
    "    ps = [p0, p1]\n",
    "    nitermax = 100\n",
    "    q0 = f(p0)\n",
    "    q1 = f(p1)\n",
    "    for n in range(nitermax):\n",
    "        p = p1 - q1 * (p1 - p0) / (q1 - q0)\n",
    "        ps.append(p)\n",
    "        if abs(p - p1) < atol:\n",
    "            return ps\n",
    "        p0 = p1\n",
    "        q0 = q1\n",
    "        p1 = p\n",
    "        q1 = f(p)\n",
    "    raise ValueError(f\"Could not find the solution with tolerance {atol:.2e} with {nitermax} iterations\")\n",
    "    "
   ]
  },
  {
   "cell_type": "markdown",
   "metadata": {},
   "source": [
    "Para a raiz inferior, $x^{\\star} \\approx 2.36$"
   ]
  },
  {
   "cell_type": "code",
   "execution_count": 22,
   "metadata": {},
   "outputs": [],
   "source": [
    "atol = 1e-10\n",
    "root = lowroot\n",
    "\n",
    "# bisseccao\n",
    "a, b = 0, 5\n",
    "f = lambda x: 2*np.cosh(x/4)-x\n",
    "ms = bisseccao(f, a, b, atol)\n",
    "ms = np.array(ms)\n",
    "ems = np.abs(ms - root)\n",
    "\n",
    "# ponto fixo\n",
    "p0 = 2\n",
    "g = lambda x: 2*np.cosh(x/4)\n",
    "ps = pontofixo(g, p0, atol)\n",
    "ps = np.array(ps)\n",
    "eps = np.abs(ps - root)\n",
    "\n",
    "# newton\n",
    "p0 = 2\n",
    "f_ = lambda x: np.sinh(x/4)/2 - 1\n",
    "ns = newton(f, f_, p0, atol)\n",
    "ns = np.array(ns)\n",
    "ens = np.abs(ns - root)\n",
    "\n",
    "# secante\n",
    "p0 = 2\n",
    "p1 = 3\n",
    "ss = secante(f, p0, p1, atol)\n",
    "ss = np.array(ss)\n",
    "ess = np.abs(ss - root)"
   ]
  },
  {
   "cell_type": "code",
   "execution_count": 23,
   "metadata": {},
   "outputs": [
    {
     "data": {
      "image/png": "[encoded data removed]",
      "text/plain": [
       "<Figure size 432x288 with 1 Axes>"
      ]
     },
     "metadata": {
      "needs_background": "light"
     },
     "output_type": "display_data"
    }
   ],
   "source": [
    "plt.plot(np.arange(len(ems)), ems, label=\"bisseccao\")\n",
    "plt.plot(np.arange(len(eps)), eps, label=\"ponto fixo\")\n",
    "plt.plot(np.arange(len(ens)), ens, label=\"newton\")\n",
    "plt.plot(np.arange(len(ess)), ess, label=\"secante\")\n",
    "plt.grid()\n",
    "plt.legend()\n",
    "plt.yscale(\"log\")"
   ]
  },
  {
   "cell_type": "markdown",
   "metadata": {},
   "source": [
    "Para a raiz superior, $x^{\\star} \\approx 8.51$"
   ]
  },
  {
   "cell_type": "code",
   "execution_count": 24,
   "metadata": {},
   "outputs": [],
   "source": [
    "atol = 1e-10\n",
    "root = highroot\n",
    "\n",
    "# bisseccao\n",
    "a, b = 5, 10\n",
    "f = lambda x: 2*np.cosh(x/4)-x\n",
    "ms = bisseccao(f, a, b, atol)\n",
    "ms = np.array(ms)\n",
    "ems = np.abs(ms - root)\n",
    "\n",
    "# ponto fixo\n",
    "p0 = 8\n",
    "g = lambda x: 4*np.log(x/2 + np.sqrt(-1+(x/2)**2))\n",
    "ps = pontofixo(g, p0, atol)\n",
    "ps = np.array(ps)\n",
    "eps = np.abs(ps - root)\n",
    "\n",
    "# newton\n",
    "p0 = 8\n",
    "f_ = lambda x: np.sinh(x/4)/2 - 1\n",
    "ns = newton(f, f_, p0, atol)\n",
    "ns = np.array(ns)\n",
    "ens = np.abs(ns - root)\n",
    "\n",
    "# secante\n",
    "p0 = 7\n",
    "p1 = 8\n",
    "ss = secante(f, p0, p1, atol)\n",
    "ss = np.array(ss)\n",
    "ess = np.abs(ss - root)"
   ]
  },
  {
   "cell_type": "code",
   "execution_count": 25,
   "metadata": {},
   "outputs": [
    {
     "data": {
      "image/png": "[encoded data removed]",
      "text/plain": [
       "<Figure size 432x288 with 1 Axes>"
      ]
     },
     "metadata": {
      "needs_background": "light"
     },
     "output_type": "display_data"
    }
   ],
   "source": [
    "plt.plot(np.arange(len(ems)), ems, label=\"bisseccao\")\n",
    "plt.plot(np.arange(len(eps)), eps, label=\"ponto fixo\")\n",
    "plt.plot(np.arange(len(ens)), ens, label=\"newton\")\n",
    "plt.plot(np.arange(len(ess)), ess, label=\"secante\")\n",
    "plt.grid()\n",
    "plt.legend()\n",
    "plt.yscale(\"log\")"
   ]
  },
  {
   "cell_type": "markdown",
   "metadata": {},
   "source": [
    "### Exercício 10\n",
    "\n",
    "> Encontre um valor aproximado para $\\sqrt{2}$ utilizando o método do ponto fixo.\n"
   ]
  },
  {
   "cell_type": "markdown",
   "metadata": {},
   "source": [
    "Encontrar o valor de $\\sqrt{2}$ é basicamente encontrar o valor de $x^{\\star}$ positivo tal que:\n",
    "\n",
    "$$\n",
    "f(x) = x^2 - 2 \\ \\ \\ \\ \\ \\ \\ \\ \\ f(x^{\\star}) = 0\n",
    "$$\n",
    "\n",
    "Para o método do ponto fixo, podemos pegar $g(x)$ especificamente\n",
    "\n",
    "$$\n",
    "g(x) = x - \\dfrac{f(x)}{f'(x)} = x - \\dfrac{x^2-2}{2x} = \\dfrac{x^2+2}{2x} = \\dfrac{1}{2}\\left(x + \\dfrac{2}{x}\\right)\n",
    "$$\n",
    "\n",
    "Como ponto inicial, podemos pegar o próximo valor que queremos encontrar as raizes:"
   ]
  },
  {
   "cell_type": "code",
   "execution_count": 26,
   "metadata": {},
   "outputs": [
    {
     "name": "stdout",
     "output_type": "stream",
     "text": [
      "x[0] =  2.0\n",
      "x[0] =  1.5\n",
      "x[1] =  1.4166666666666665\n",
      "x[2] =  1.4142156862745097\n",
      "x[3] =  1.4142135623746899\n",
      "x[4] =  1.414213562373095\n",
      " Raiz de 2 = 1.41421356237309\n",
      "np.sqrt(2) = 1.4142135623731\n"
     ]
    }
   ],
   "source": [
    "def g(x: float) -> float:\n",
    "    return (x + 2/x)/2\n",
    "\n",
    "p0 = 2\n",
    "p = fixedpoint(g, p0, 1e-7, verbose=True)\n",
    "print(f\" Raiz de 2 = {p:.15}\")\n",
    "print(f\"np.sqrt(2) = {np.sqrt(2):.15}\")"
   ]
  },
  {
   "cell_type": "markdown",
   "metadata": {},
   "source": [
    "### Exercicio 11\n",
    "\n",
    "> Desenvolva um código para o método da bissecção que verifique se $f(a) \\cdot f(b) < 0$ antes de iniciar o processo iterativo e que tenha um limite no número de iterações.\n",
    "> Se o *loop* alcançar esse limite, o código para e uma mensagem de erro é exibida.\n",
    "> Coloque todo o método dentro de uma função (do Python), com entradas e saídas de acordo com o algoritmo. \n",
    "> Faça alguns testes.\n"
   ]
  },
  {
   "cell_type": "code",
   "execution_count": 27,
   "metadata": {},
   "outputs": [],
   "source": [
    "def biseccao(f: Callable[[float], float], a: float, b: float, nitermax: Optional[float] = 20, verbose: bool=True):\n",
    "    if b <= a:\n",
    "        raise ValueError(f\"The value of b must be greater than a. [a, b] = [{a}, {b}]\")\n",
    "    \n",
    "    fa = f(a)\n",
    "    fb = f(b)\n",
    "    if verbose:\n",
    "        print(\"a = \", a)\n",
    "        print(\"b = \", b)\n",
    "    if fa*fb > 0:\n",
    "        raise ValueError(\"The value of f(a) * f(b) is positive! No root here!\")\n",
    "    for n in range(nitermax):\n",
    "        p = (a+b)/2\n",
    "        print(f\"p[{n+1}] = \", p)\n",
    "        fp = f(p)\n",
    "        if fp == 0:  # Happy ending\n",
    "            return p\n",
    "        if fa*fp < 0:\n",
    "            b = p\n",
    "        else:\n",
    "            a = p\n",
    "    return (a+b)/2"
   ]
  },
  {
   "cell_type": "markdown",
   "metadata": {},
   "source": [
    "Testando o caso de sucesso"
   ]
  },
  {
   "cell_type": "code",
   "execution_count": 28,
   "metadata": {},
   "outputs": [
    {
     "name": "stdout",
     "output_type": "stream",
     "text": [
      "a =  0\n",
      "b =  5\n",
      "p[1] =  2.5\n",
      "p[2] =  1.25\n",
      "p[3] =  1.875\n",
      "p[4] =  2.1875\n",
      "p[5] =  2.34375\n",
      "p[6] =  2.421875\n",
      "p[7] =  2.3828125\n",
      "p[8] =  2.36328125\n",
      "p[9] =  2.353515625\n",
      "p[10] =  2.3583984375\n",
      "p[11] =  2.35595703125\n",
      "p[12] =  2.357177734375\n",
      "p[13] =  2.3577880859375\n",
      "p[14] =  2.35748291015625\n",
      "p[15] =  2.357635498046875\n",
      "p[16] =  2.3575592041015625\n",
      "p[17] =  2.3575210571289062\n",
      "p[18] =  2.3575401306152344\n",
      "p[19] =  2.3575496673583984\n",
      "p[20] =  2.3575544357299805\n",
      "bissection =  2.3575520515441895\n",
      "  low root =  2.357551053877658\n",
      " error = 9.98e-07\n"
     ]
    }
   ],
   "source": [
    "a, b = 0, 5\n",
    "def f(x: float) -> float:\n",
    "    return 2*np.cosh(x/4) - x\n",
    "xstar = biseccao(f, a, b, verbose=True)\n",
    "print(\"bissection = \", xstar)\n",
    "print(\"  low root = \", lowroot)\n",
    "print(\" error = %.2e\" % np.abs(xstar-lowroot))"
   ]
  },
  {
   "cell_type": "markdown",
   "metadata": {},
   "source": [
    "Testando o caso que dá erro"
   ]
  },
  {
   "cell_type": "code",
   "execution_count": 29,
   "metadata": {},
   "outputs": [
    {
     "name": "stdout",
     "output_type": "stream",
     "text": [
      "a =  0\n",
      "b =  10\n",
      "Nao pude calcular a raiz. Causa\n",
      "The value of f(a) * f(b) is positive! No root here!\n"
     ]
    }
   ],
   "source": [
    "a, b = 0, 10\n",
    "def f(x: float) -> float:\n",
    "    return 2*np.cosh(x/4) - x\n",
    "try:\n",
    "    xstar = biseccao(f, a, b, verbose=True)\n",
    "except ValueError as e:\n",
    "    print(\"Nao pude calcular a raiz. Causa\")\n",
    "    print(e)"
   ]
  },
  {
   "cell_type": "markdown",
   "metadata": {},
   "source": [
    "### Exercício 12\n",
    "\n",
    "> Seja uma função $f$ contínua em um intervalo $\\left[a, \\ b\\right]$, com $f'$ e $f''$ também contínuas\n",
    "nesse intervalo.\n",
    "> Considere ainda que existe uma raiz $x^{\\star} \\in \\left[a, \\ b\\right]$ tal que $f(x^{\\star}) = 0$ e $f'(x^{\\star}) \\ne 0$.\n",
    "> Nesse caso, mostre que o método de Newton tem convergência de segunda ordem."
   ]
  },
  {
   "cell_type": "markdown",
   "metadata": {},
   "source": [
    "**Solução:**\n",
    "\n",
    "Sendo $f$ uma função de classe $C^2$ (pois $f''$ é contínua em $\\left[a, \\ b\\right]$), então pelo Teorema de Valor Intermediário, existe $\\varepsilon(x)$ tal que, temos uma expansão em séries de Taylor ao redor de $x_k$:\n",
    "\n",
    "$$\n",
    "f(x) = f(x_k) + (x-x_k) \\cdot f'(x_k) + \\dfrac{(x-x_k)^2}{2} \\cdot f''(\\varepsilon(x))  \\ \\ \\ \\ \\ \\ \\ \\ \\ \\ (1)\n",
    "$$\n",
    "\n",
    "Com $\\varepsilon(x)$ entre $x$ e $x_k$\n",
    "\n",
    "Como sabemos que existe uma raiz entre $\\left[a, \\ b \\right]$, na posição $x^{\\star}$ então também tem-se:\n",
    "\n",
    "$$\n",
    "0 = f(x^{\\star}) = f(x_{k}) + (x^{\\star}-x_{k}) \\cdot f'(x_{k}) + \\dfrac{(x^{\\star}-x_{k})^2}{2} \\cdot f''(\\varepsilon(x^{\\star})) \\ \\ \\ \\ \\ \\ \\ \\ \\ \\ (2)\n",
    "$$\n",
    "\n",
    "Chamando de $e_{k} = x^{\\star} - x_{k}$, então reescrevemos $(2)$ como $(3)$ e $(4)$\n",
    "\n",
    "$$\n",
    "0 = f(x_{k}) + e_k \\cdot f'(x_{k}) + \\dfrac{e_k^2}{2} \\cdot f''(\\varepsilon(x^{\\star})) \\ \\ \\ \\ \\ \\ \\ \\ \\ \\ (3)\n",
    "$$\n",
    "\n",
    "Então como o próximo ponto $x_{k+1}$ é calculado por\n",
    "\n",
    "$$\n",
    "x_{k+1} = x_{k} - \\dfrac{f(x_k)}{f'(x_k)} \\ \\ \\ \\ \\ \\ \\ \\ \\ \\ (4)\n",
    "$$\n",
    "$$\n",
    "e_{k+1} = \\dfrac{f(x_k) + e_{k} f'(x_{k})}{f'(x_k)} \\ \\ \\ \\ \\ \\ \\ \\ \\ \\ (5)\n",
    "$$\n",
    "\n",
    "Ainda, como $f''$ é contínua no intervalo, então ela é limitada superiormente e inferiormente, isto é, existe um $M \\in \\mathbb{R}^{+}$ tal que\n",
    "\n",
    "$$\n",
    "\\left|f''(x)\\right| < M \\ \\ \\ \\ \\forall \\  x \\in \\left[a, \\ b \\right]  \\ \\ \\ \\ \\ \\ \\ \\ \\ \\ (6)\n",
    "$$\n",
    "\n",
    "Desta forma, tem-se aplicando $(3)$ com $(6)$\n",
    "\n",
    "$$\n",
    "\\left|f(x_k) + e_k f'(x_k)\\right| < \\dfrac{e_{k}^2}{2}M  \\ \\ \\forall \\ x \\in \\left[a, \\ b\\right]  \\ \\ \\ \\ \\ \\ \\ \\ \\ \\ (7)\n",
    "$$\n",
    "\n",
    "De mesmo modo, como $f'(x)$ é diferente de zero para $x \\in \\left[x^{\\star}-\\delta x, \\ x^{\\star}+\\delta x\\right]$, então existe $N \\in \\mathbb{R}^{+}$ tal que \n",
    "\n",
    "$$\n",
    "\\left|\\dfrac{1}{f'(x)}\\right| < N \\ \\ \\ \\ \\forall \\  x \\in \\left[x^{\\star}-\\delta x, \\ x^{\\star}+\\delta x \\right]   \\ \\ \\ \\ \\ \\ \\ \\ \\ \\ (8)\n",
    "$$\n",
    "\n",
    "Que juntando com $(7)$ obtemos\n",
    "\n",
    "$$\n",
    "\\left|\\dfrac{f(x_k) + e_k f'(x_k)}{f'(x_k)}\\right| < \\dfrac{e_{k}^2}{2}MN  \\ \\ \\ \\ \\ \\ \\ \\ \\ \\ (9)\n",
    "$$\n",
    "\n",
    "Logo, com a expressão $(5)$ tem-se\n",
    "\n",
    "$$ \\left|e_{k+1}\\right| < \\dfrac{MN}{2} \\cdot e_{k}^2$$\n",
    "\n",
    "Se e somente se não houver raiz de $f'(x)$ no intervalo $\\left[x^{\\star}-\\delta x, \\ x^{\\star}+\\delta x \\right]$ e que $x_{k}$ pertença a esse intervalo.\n",
    "A condição de que $f'(x^{\\star}) \\ne 0$ não é suficiente para mostrar que a convergência é quadrática.\n",
    "\n",
    "\n",
    "\n"
   ]
  },
  {
   "cell_type": "markdown",
   "metadata": {},
   "source": [
    "### Exercício 13\n",
    "\n",
    "> Use um polinômio de Taylor em torno de $45 \\ ^o$ para aproximar $\\cos 41 \\ ^o$\n",
    "com uma precisão de $10^{−6}$.\n"
   ]
  },
  {
   "cell_type": "markdown",
   "metadata": {},
   "source": [
    "Temos a expansão em série de Taylor ao redor de $x_0$ é dado por\n",
    "\n",
    "$$\n",
    "f(x) = f(x_0) + (x-x_0) \\cdot f'(x_0) + \\dfrac{1}{2}(x-x_0)^2 \\cdot f''(x_0) + \\Omega \\left(\\left(x-x_0\\right)^{3}\\right)\n",
    "$$\n",
    "\n",
    "Para o cosseno, temos que\n",
    "\n",
    "$$\n",
    "\\cos \\theta = \\cos \\theta_0 - \\left(\\theta - \\theta_0\\right) \\cdot \\sin \\theta_0 - \\dfrac{1}{2}\\left(\\theta-\\theta_0\\right)^2 \\cdot \\cos \\theta_0 + \\Omega \\left(\\left(\\theta-\\theta_0\\right)^{3}\\right)\n",
    "$$\n",
    "\n",
    "Com $\\theta_0 = \\dfrac{\\pi}{4}$, teremos\n",
    "\n",
    "$$\\cos \\theta_0 = \\sin \\theta_0 = \\dfrac{1}{\\sqrt{2}}$$\n",
    "\n",
    "$$\n",
    "\\cos \\theta = \\dfrac{1}{\\sqrt{2}}\\left[1 - \\left(\\theta - \\dfrac{\\pi}{4}\\right) - \\dfrac{1}{2}\\left(\\theta - \\dfrac{\\pi}{4}\\right)^2+ \\dfrac{1}{6}\\left(\\theta - \\dfrac{\\pi}{4}\\right)^3\\right]\n",
    "$$"
   ]
  },
  {
   "cell_type": "code",
   "execution_count": 30,
   "metadata": {},
   "outputs": [
    {
     "name": "stdout",
     "output_type": "stream",
     "text": [
      "Nossa aproximacao cos 41 = 0.7547088707\n",
      "      Numpy valor cos 41 = 0.7547095802\n",
      "           Erro absoluto = 7.095e-07\n"
     ]
    }
   ],
   "source": [
    "def cosseno_approx(theta: float) -> float:\n",
    "    dtheta = theta - (np.pi/4)\n",
    "    result = 1 - dtheta - (dtheta**2)/2 + (dtheta**3)/6\n",
    "    return result/np.sqrt(2)\n",
    "\n",
    "theta = 41 * (np.pi/180)\n",
    "cos41approx = cosseno_approx(theta)\n",
    "cos41numpy = np.cos(theta)\n",
    "error = np.abs(cos41numpy-cos41approx)\n",
    "print(\"Nossa aproximacao cos 41 = %.10f\" % cos41approx)\n",
    "print(\"      Numpy valor cos 41 = %.10f\" % cos41numpy)\n",
    "print(\"           Erro absoluto = %.3e\" % error)"
   ]
  },
  {
   "cell_type": "markdown",
   "metadata": {},
   "source": [
    "### Exercicio 14\n",
    "\n",
    "> Quando um fluido incompressível escoa em um tubo circular, em regime permanente, a queda de pressão $\\Delta P$ devido ao atrito com a parede é dada pela equação\n",
    "> \n",
    "> $$\\Delta P = -0.5 \\ f\\rho V^2 \\ \\left(\\dfrac{L}{D}\\right)$$\n",
    "> \n",
    "> em que \n",
    "> \n",
    "> * $\\rho$ é a densidade do fluido\n",
    "> * $V$ é a velocidade média\n",
    "> * $L$ é o comprimento do tubo\n",
    "> * $D$ é o diâmetro.\n",
    "> * $f$ representa o fator de atrito de Darcy\n",
    ">\n",
    "> Existem diferentes fórmulas empíricas para o fator $f$ em função do número de Reynolds $Re = \\dfrac{\\rho V D}{\\mu}$, em que $\\mu$ é a viscosidade dinâmica do fluido.\n",
    "> \n",
    "> Para um escoamento turbulento completamente desenvolvido em um tubo com rugosidade de superfície $\\varepsilon$, o modelo desenvolvido por Colebrook é dado por\n",
    "> \n",
    "> $$\\dfrac{1}{f^{1/2}} = -2 \\cdot \\log_{10}\\left(\\dfrac{\\varepsilon/D}{3.7} + \\dfrac{2.51}{Re \\cdot f^{1/2}}\\right)$$\n",
    "> \n",
    "> Desenvolva um método numérico para calcular $f$, dados $\\varepsilon/D$ e $Re$.\n",
    "> Utilize, como chute inicial em suas iterações, o valor aproximado de $f$ dado por Generaux,\n",
    "> \n",
    "> $$f = 0.16 \\cdot Re^{-0.16}$$\n",
    "> \n",
    "> Faça um gráfico de $Re \\times f$ para $\\varepsilon/D = 0.001$, com $10^4 ≤ Re ≤ 10^7$."
   ]
  },
  {
   "cell_type": "markdown",
   "metadata": {},
   "source": [
    "Seja a função $h(f)$ a que queremos encontrar a raiz, com parâmetros fixos $r$ (rugosidade relativa) e $R$ (Reynolds)\n",
    "\n",
    "$$\n",
    "h(f) = \\dfrac{1}{f^{1/2}} + 2 \\cdot \\log_{10}\\left(\\dfrac{r}{3.7} + \\dfrac{2.51}{R \\cdot f^{1/2}}\\right)\n",
    "$$\n",
    "\n",
    "Para calcular, utilizaremos o método de Newton\n",
    "\n",
    "$$\n",
    "g(f) = f - \\dfrac{h}{h'}\n",
    "$$"
   ]
  },
  {
   "cell_type": "code",
   "execution_count": 31,
   "metadata": {},
   "outputs": [],
   "source": [
    "import sympy as sp\n",
    "f = sp.symbols(\"f\", real=True, positive=True)\n",
    "r, R = sp.symbols(\"r R\", real=True, positive=True)\n",
    "h = 1/sp.sqrt(f) + (2/sp.log(10)) * sp.log((r/3.7) + 2.51/(R*sp.sqrt(f)))\n",
    "h_ = sp.diff(h, f)\n",
    "g3var = f - h/h_\n",
    "g3var = sp.lambdify((f, r, R), g3var)"
   ]
  },
  {
   "cell_type": "code",
   "execution_count": 32,
   "metadata": {},
   "outputs": [],
   "source": [
    "r = 0.001\n",
    "Rs = 10**np.linspace(4, 7, 1029, dtype=\"float64\")\n",
    "fs = np.zeros(Rs.shape, dtype=\"float64\")\n",
    "atol = 1e-9\n",
    "for i, R in enumerate(Rs):\n",
    "    f0 = 0.16 * R**(-0.16)\n",
    "    g = lambda f: g3var(f, r, R)\n",
    "    fs[i] = fixedpoint(g, f0, atol)"
   ]
  },
  {
   "cell_type": "code",
   "execution_count": 33,
   "metadata": {},
   "outputs": [
    {
     "data": {
      "image/png": "[encoded data removed]",
      "text/plain": [
       "<Figure size 432x288 with 1 Axes>"
      ]
     },
     "metadata": {
      "needs_background": "light"
     },
     "output_type": "display_data"
    }
   ],
   "source": [
    "plt.plot(Rs, fs, label=r\"$\\epsilon/D = 0.001$\")\n",
    "plt.plot(Rs, 0.16*Rs**(-0.16), ls=\"dotted\", label=\"Generaux\")\n",
    "plt.xscale(\"log\")\n",
    "plt.yscale(\"log\")\n",
    "plt.xlabel(r\"Reynolds $Re$\")\n",
    "plt.ylabel(r\"Fator atrito  $f$\")\n",
    "plt.legend()\n",
    "plt.grid()"
   ]
  }
 ],
 "metadata": {
  "kernelspec": {
   "display_name": "Python 3.10.5 64-bit",
   "language": "python",
   "name": "python3"
  },
  "language_info": {
   "codemirror_mode": {
    "name": "ipython",
    "version": 3
   },
   "file_extension": ".py",
   "mimetype": "text/x-python",
   "name": "python",
   "nbconvert_exporter": "python",
   "pygments_lexer": "ipython3",
   "version": "3.10.5"
  },
  "orig_nbformat": 4,
  "vscode": {
   "interpreter": {
    "hash": "9bd63d4d0e53dd854605697514204d0a3a6bfb81f118d4d4374019a86f3401eb"
   }
  }
 },
 "nbformat": 4,
 "nbformat_minor": 2
}
