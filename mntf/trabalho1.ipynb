{
 "cells": [
  {
   "cell_type": "code",
   "execution_count": 1,
   "metadata": {},
   "outputs": [],
   "source": [
    "import numpy as np\n",
    "from typing import Tuple, Callable, Optional\n",
    "from matplotlib import pyplot as plt"
   ]
  },
  {
   "cell_type": "markdown",
   "metadata": {},
   "source": [
    "### Exercicio 1\n",
    "\n",
    "Escreva uma função cuja entrada sejam duas matrizes, $A$ e $B$, e a saída seja a matriz resultante do produto das entradas.\n",
    "Não utilize nenhuma função de multiplicação de matrizes pronta, faça você mesmo os loops necessários para a multiplicação.\n",
    "Coloque uma mensagem de erro quando o número de colunas de $A$ não for igual ao número de linhas de $B$. Utilize as arrays do numpy."
   ]
  },
  {
   "cell_type": "code",
   "execution_count": 2,
   "metadata": {},
   "outputs": [],
   "source": [
    "def verifica_se_eh_matriz(M: np.ndarray):\n",
    "    if not isinstance(M, np.ndarray):\n",
    "        raise TypeError(f\"O parametro recebido deve ser um numpy.ndarray. Nao {type(M)}\")\n",
    "    if M.ndim != 2:\n",
    "        raise ValueError(f\"O parametro recebido deve ser uma matriz 2D. Recebido {M.ndim}D\")\n",
    "    \n",
    "    \n",
    "def multiplica_matriz(A: np.ndarray, B: np.ndarray) -> np.ndarray:\n",
    "    verifica_se_eh_matriz(A)\n",
    "    verifica_se_eh_matriz(B)\n",
    "    n, p = A.shape\n",
    "    q, m = B.shape\n",
    "    if p != q:\n",
    "        raise ValueError(f\"Nao pode multiplicar. A e B tem formatos {A.shape} e {B.shape}\")\n",
    "    M = np.zeros((n, m), dtype=\"float64\")  # Matriz resultado\n",
    "    for i in range(n):\n",
    "        for j in range(m):\n",
    "            for k in range(p):\n",
    "                M[i, j] += A[i, k] * B[k, j]\n",
    "    return M\n",
    "\n",
    "def test_multiplica_matriz(ntests = 100):\n",
    "    for i in range(ntests):\n",
    "        n, m, p= np.random.randint(4, 11, size=3)\n",
    "        A = 4*np.random.rand(n, p) - 2\n",
    "        B = 4*np.random.rand(p, m) - 2\n",
    "        Cgood = np.dot(A, B)  # Valor verdadeiro, calculado pelo proprio numpy\n",
    "        Ctest = multiplica_matriz(A, B)  # Resultado na nossa funcao\n",
    "        np.testing.assert_equal(Ctest, Cgood)  # Compara pra ver se o resultado da funcao eh bom"
   ]
  },
  {
   "cell_type": "markdown",
   "metadata": {},
   "source": [
    "### Exercício 2\n",
    "\n",
    "Crie uma função que tenha como entrada uma matriz qualquer $M \\times N$ e como saída a média e o desvio padrão dos elementos dessa matriz"
   ]
  },
  {
   "cell_type": "code",
   "execution_count": 3,
   "metadata": {},
   "outputs": [],
   "source": [
    "def calcula_media_desvio(A: np.ndarray) -> Tuple[float, float]:\n",
    "    verifica_se_eh_matriz(A)\n",
    "    M, N = A.shape\n",
    "    soma = 0\n",
    "    for i in range(M):\n",
    "        for j in range(N):\n",
    "            soma += A[i, j]\n",
    "    media = soma/(M*N)\n",
    "    somaquad = 0\n",
    "    for i in range(M):\n",
    "        for j in range(N):\n",
    "            somaquad += (A[i, j] - media)**2\n",
    "    variancia = somaquad/(M*N)\n",
    "    desvio = np.sqrt(variancia)\n",
    "    return media, desvio\n",
    "\n",
    "def test_calcula_medio_desvio(ntests: int = 100):\n",
    "    for i in range(ntests):\n",
    "        M, N = np.random.randint(4, 11, size=2)\n",
    "        A = 4*np.random.rand(M, N) - 2\n",
    "        mtest, dtest = calcula_media_desvio(A)\n",
    "        mgood = np.mean(A)\n",
    "        dgood = np.std(A)\n",
    "        np.testing.assert_almost_equal(mtest, mgood)\n",
    "        np.testing.assert_almost_equal(dtest, dgood)\n",
    "\n",
    "test_calcula_medio_desvio()"
   ]
  },
  {
   "cell_type": "markdown",
   "metadata": {},
   "source": [
    "### Exercício 3\n",
    "\n",
    "Crie uma matriz $N \\times N$ de números aleatórios com valores entre $−2$ e $2$.\n",
    "Utilize a função do exercício anterior para calcular a média e o desvio padrão dos elementos dessa matriz.\n",
    "O que acontece com esses valores quando $N \\to \\infty$?\n",
    "\n",
    "Dica: o numpy tem uma função que gera números aleatórios"
   ]
  },
  {
   "cell_type": "code",
   "execution_count": 4,
   "metadata": {},
   "outputs": [
    {
     "data": {
      "image/png": "[encoded data removed]",
      "text/plain": [
       "<Figure size 432x288 with 1 Axes>"
      ]
     },
     "metadata": {
      "needs_background": "light"
     },
     "output_type": "display_data"
    }
   ],
   "source": [
    "Ns = np.arange(2, 101)\n",
    "medias = np.zeros(Ns.shape)\n",
    "desvios = np.zeros(Ns.shape)\n",
    "for i, N in enumerate(Ns):\n",
    "    A = 4*np.random.rand(N, N)-2\n",
    "    m, d = calcula_media_desvio(A)\n",
    "    medias[i] = m\n",
    "    desvios[i] = d\n",
    "\n",
    "plt.plot(Ns, medias, label=\"medias\")\n",
    "plt.plot(Ns, desvios, label=\"desvios\")\n",
    "plt.axhline(y=0, color=\"k\")\n",
    "plt.legend()\n",
    "plt.grid()\n",
    "plt.show()"
   ]
  },
  {
   "cell_type": "markdown",
   "metadata": {},
   "source": [
    "### Exercício 4\n",
    "\n",
    "Desenvolva um programa que pede o nome e a idade do usuário (use a função ```input```) e imprime esses valores em um arquivo texto de saída.\n",
    "Depois desenvolva um programa para ler os dados desse arquivo texto e imprimir o resultado na tela.\n",
    "\n",
    "**Observação**: a variável obtida a partir da função ```input``` é sempre do tipo ```string```.\n",
    "Se você quiser utilizar o valor de entrada como ```int``` ou ```float``` você tem que fazer a conversão."
   ]
  },
  {
   "cell_type": "code",
   "execution_count": 5,
   "metadata": {},
   "outputs": [
    {
     "name": "stdout",
     "output_type": "stream",
     "text": [
      "Nome lido = Carlos Adir\n",
      "Idade lida = 26\n",
      "Salvando no arquivo!\n",
      "Lendo o arquivo!\n",
      "Nome lido do arquivo = Carlos Adir\n",
      "Idade lida do arquivo = 26\n"
     ]
    }
   ],
   "source": [
    "while True:\n",
    "    nome = input(\"Digite seu nome\")\n",
    "    if len(nome) > 2:\n",
    "        break\n",
    "print(f\"Nome lido = {nome}\")\n",
    "\n",
    "while True:\n",
    "    idade = input(\"Digite sua idade\")\n",
    "    try:\n",
    "        idade = int(idade)\n",
    "        break\n",
    "    except ValueError as e:\n",
    "        print(\"Sua idade é invalida! Digite um inteiro!\")\n",
    "print(f\"Idade lida = {idade}\")\n",
    "\n",
    "print(\"Salvando no arquivo!\")\n",
    "filename = \"myfile.txt\"\n",
    "with open(filename, \"w\") as file:\n",
    "    file.write(nome + \"\\n\")\n",
    "    file.write(str(idade))\n",
    "\n",
    "print(\"Lendo o arquivo!\")\n",
    "with open(filename, \"r\") as file:\n",
    "    lines = file.readlines()\n",
    "nome_arquivo = lines[0].replace(\"\\n\", \"\")\n",
    "idade_arquivo = int(lines[1])\n",
    "print(f\"Nome lido do arquivo = {nome_arquivo}\")\n",
    "print(f\"Idade lida do arquivo = {idade_arquivo}\")"
   ]
  },
  {
   "cell_type": "markdown",
   "metadata": {},
   "source": [
    "### Exercício 5\n",
    "\n",
    "Crie um jogo de pedra, papel e tesoura.\n",
    "Utilize a função ```input``` para pegar a opção do jogador humano e utilize números aleatórios para gerar a resposta do computador.\n",
    "Faça primeiro um jogo que tenha a mesma probabilidade de vitória, derrota ou empate.\n",
    "Depois desenvolva um jogo em que a probabilidade do computador vencer seja maior, utilizando também números aleatórios.\n",
    "Faça alguns testes."
   ]
  },
  {
   "cell_type": "code",
   "execution_count": null,
   "metadata": {},
   "outputs": [],
   "source": []
  },
  {
   "cell_type": "markdown",
   "metadata": {},
   "source": [
    "### Exercício 6\n",
    "\n",
    "Faça um gráfico com o valor do dólar comercial nos últimos 20 dias. Utilize pontos\n",
    "e linhas. Personalize o seu gráfico."
   ]
  },
  {
   "cell_type": "code",
   "execution_count": null,
   "metadata": {},
   "outputs": [],
   "source": []
  },
  {
   "cell_type": "markdown",
   "metadata": {},
   "source": [
    "### Exercício 7\n",
    "\n",
    "Encontre a raiz $x^{\\star} \\approx 8.51$ da equação\n",
    "\n",
    "$$f(x) = 2 \\cosh\\left(\\dfrac{x}{4}\\right) − x$$\n",
    "\n",
    "usando o método do ponto fixo."
   ]
  },
  {
   "cell_type": "code",
   "execution_count": 6,
   "metadata": {},
   "outputs": [],
   "source": [
    "def fixedpoint(g: Callable[[float], float], p0: float, atol: float, nitermax: Optional[int] = 100, atolmax: Optional[float] = 1e+4):\n",
    "    \"\"\"\n",
    "    Find a root of the function 'f' given the initial point 'p0' using the fixed point method.\n",
    "    It returns the solution if it converges:\n",
    "        abs(p^{k+1} - p^{k}) < atol\n",
    "    If it could not find the solution, it will give an error:\n",
    "        - If the number of iterations reached 'nitermax'\n",
    "        - If the distance of two points are bigger than 'atolmax'\n",
    "    \"\"\"\n",
    "    if not callable(g):\n",
    "        raise TypeError(\"The function f must be callable\")\n",
    "    if atol <= 0:\n",
    "        raise ValueError(\"The tolerance must be positive\")\n",
    "    p0 = float(p0)\n",
    "    nitermax = int(nitermax)\n",
    "    for k in range(nitermax):\n",
    "        p = g(p0)\n",
    "        error = np.abs(p-p0)\n",
    "        if error < atol:\n",
    "            return p\n",
    "        if error > atolmax:\n",
    "            raise ValueError(f\"At iteration {k+1}, the distance between two points is too big:\\n    p[{k+1}] = {p}\\n    p[{k}] = {p0}\")\n",
    "        p0 = p\n",
    "    raise ValueError(f\"Could not find the solution with tolerance {atol:.2e} with {nitermax} iterations\")\n"
   ]
  },
  {
   "cell_type": "code",
   "execution_count": 7,
   "metadata": {},
   "outputs": [
    {
     "name": "stdout",
     "output_type": "stream",
     "text": [
      " Initial guess:   p0 = 8.5\n",
      "Final solution:    p = 2.3575827298641867\n",
      "     Tolerance: atol = 1.0e-04\n"
     ]
    }
   ],
   "source": [
    "def f(x: float) -> float:\n",
    "    return 2*np.cosh(x/4) - x\n",
    "\n",
    "def g(x: float) -> float:\n",
    "    return 2*np.cosh(x/4)\n",
    "\n",
    "p0 = 8.5\n",
    "atol = 1e-4\n",
    "p = fixedpoint(g, p0, atol)\n",
    "print(f\" Initial guess:   p0 = {p0}\")\n",
    "print(f\"Final solution:    p = {p}\")\n",
    "print(f\"     Tolerance: atol = {atol:.1e}\")"
   ]
  },
  {
   "cell_type": "code",
   "execution_count": 8,
   "metadata": {},
   "outputs": [
    {
     "name": "stderr",
     "output_type": "stream",
     "text": [
      "C:\\Users\\Carlos\\AppData\\Local\\Temp\\ipykernel_8244\\834651874.py:5: RuntimeWarning: overflow encountered in cosh\n",
      "  return 2*np.cosh(x/4)\n"
     ]
    },
    {
     "data": {
      "image/png": "[encoded data removed]",
      "text/plain": [
       "<Figure size 432x288 with 1 Axes>"
      ]
     },
     "metadata": {
      "needs_background": "light"
     },
     "output_type": "display_data"
    }
   ],
   "source": [
    "p0s = np.linspace(0, 10, 1029)\n",
    "pfs = np.zeros(p0s.shape)\n",
    "for i, p0 in enumerate(p0s):\n",
    "    try:\n",
    "        pfs[i] = fixedpoint(g, p0, atol, nitermax=100)\n",
    "    except ValueError as e:\n",
    "        pfs[i] = float('inf')\n",
    "plt.scatter(p0s, pfs, marker=\".\")\n",
    "plt.xlabel(\"Initial guess\")\n",
    "plt.ylabel(\"Received solution\")\n",
    "plt.xlim(0, 10)\n",
    "plt.ylim(0, 10)\n",
    "plt.show()"
   ]
  },
  {
   "cell_type": "markdown",
   "metadata": {},
   "source": [
    "### Exercício 8\n",
    "\n",
    "Encontre as raízes da equação\n",
    "\n",
    "$$f(x) = 2 \\cosh\\left(\\dfrac{x}{4}\\right) − x$$\n",
    "\n",
    "utilizando o método da secante.\n"
   ]
  },
  {
   "cell_type": "code",
   "execution_count": 9,
   "metadata": {},
   "outputs": [],
   "source": [
    "def secant(f: Callable[[float], float], p0: float, p1: float, atol: float, nitermax: Optional[int]=10):\n",
    "    n = 1\n",
    "    q0 = f(p0)\n",
    "    q1 = f(p1)\n",
    "    for k in range(nitermax):\n",
    "        p = p1 - q1 * (p1 - p0) / (q1 - q0)\n",
    "        n += 1\n",
    "        if abs(p - p1) < atol:\n",
    "            return p\n",
    "        p0 = p1\n",
    "        q0 = q1\n",
    "        p1 = p\n",
    "        q1 = f(p)\n",
    "    raise ValueError(f\"Could not find the solution with tolerance {atol:.2e} with {nitermax} iterations\")\n"
   ]
  },
  {
   "cell_type": "code",
   "execution_count": 10,
   "metadata": {},
   "outputs": [
    {
     "name": "stdout",
     "output_type": "stream",
     "text": [
      " Initial guess:   p0 = 0\n",
      "              :   p1 = 4\n",
      "Final solution:    p = 2.357551033006328\n",
      "     Tolerance: atol =  1.0e-04\n"
     ]
    }
   ],
   "source": [
    "def f(x: float) -> float:\n",
    "    return 2*np.cosh(x/4) - x\n",
    "\n",
    "p0 = 0\n",
    "p1 = 4\n",
    "atol = 1e-4\n",
    "p = secant(f, p0, p1, atol)\n",
    "print(f\" Initial guess:   p0 = {p0}\")\n",
    "print(f\"              :   p1 = {p1}\")\n",
    "print(f\"Final solution:    p = {p}\")\n",
    "print(f\"     Tolerance: atol = {atol: .1e}\")"
   ]
  },
  {
   "cell_type": "markdown",
   "metadata": {},
   "source": [
    "### Exercicio 9\n",
    "\n",
    "Utilizando a função do exercício anterior, compare a convergência para o resultado final obtida pelos 4 métodos:\n",
    "* bissecção\n",
    "* ponto fixo\n",
    "* Newton\n",
    "* Secante\n",
    "\n",
    "Faça um gráfico de $k \\times e_{k}$, com $e_{k} = \\left|x^{\\star} − x_{k}\\right|$ sendo o erro da iteração $k$, comparando os métodos (utilize escala logarítmica para $e_{k}$).\n",
    "Comente os seus resultados.\n",
    "Considere as duas raízes como sendo\n",
    "\n",
    "* $x^{\\star} = 2.3575510538774$\n",
    "* $x^{\\star} = 8.5071995707130$\n",
    "\n",
    "e utilize uma tolerância de $10^{−10}$."
   ]
  },
  {
   "cell_type": "code",
   "execution_count": null,
   "metadata": {},
   "outputs": [],
   "source": []
  },
  {
   "cell_type": "markdown",
   "metadata": {},
   "source": [
    "### Exercício 10\n",
    "\n",
    "Encontre um valor aproximado para $\\sqrt{2}$ utilizando o método do ponto fixo.\n"
   ]
  },
  {
   "cell_type": "markdown",
   "metadata": {},
   "source": [
    "Encontrar o valor de $\\sqrt{2}$ é basicamente encontrar o valor de $x^{\\star}$ tal que:\n",
    "\n",
    "$$\n",
    "f(x) = x^2 - 2 \\ \\ \\ \\ \\ \\ \\ \\ \\ f(x^{\\star}) = 0\n",
    "$$\n",
    "\n",
    "Para o método do ponto fixo, podemos pegar $g(x)$ especificamente\n",
    "\n",
    "$$\n",
    "g(x) = x - \\dfrac{f(x)}{f'(x)} = x - \\dfrac{x^2-2}{2x} = \\dfrac{x^2+2}{2x}\n",
    "$$\n",
    "\n",
    "Como ponto inicial, podemos pegar o próximo valor que queremos encontrar as raizes:"
   ]
  },
  {
   "cell_type": "code",
   "execution_count": 11,
   "metadata": {},
   "outputs": [
    {
     "name": "stdout",
     "output_type": "stream",
     "text": [
      " Raiz de 2 = 1.414213562373095\n",
      "np.sqrt(2) = 1.4142135623730951\n"
     ]
    }
   ],
   "source": [
    "def g(x: float) -> float:\n",
    "    return (x**2+2)/(2*x)\n",
    "\n",
    "p0 = 2\n",
    "p = fixedpoint(g, p0, 1e-7)\n",
    "print(f\" Raiz de 2 = {p}\")\n",
    "print(f\"np.sqrt(2) = {np.sqrt(2)}\")"
   ]
  },
  {
   "cell_type": "markdown",
   "metadata": {},
   "source": [
    "### Exercicio 11\n",
    "\n",
    "Desenvolva um código para o método da bissecção que verifique se $f(a) \\cdot f(b) < 0$ antes de iniciar o processo iterativo e que tenha um limite no número de iterações.\n",
    "Se o *loop* alcançar esse limite, o código para e uma mensagem de erro é exibida.\n",
    "Coloque todo o método dentro de uma função (do Python), com entradas e saídas de acordo com o algoritmo. \n",
    "Faça alguns testes.\n"
   ]
  },
  {
   "cell_type": "code",
   "execution_count": 12,
   "metadata": {},
   "outputs": [
    {
     "name": "stdout",
     "output_type": "stream",
     "text": [
      "solution =  2.357551053877402\n"
     ]
    }
   ],
   "source": [
    "def biseccao(f: Callable[[float], float], a: float, b: float, nitermax: Optional[float] = 40):\n",
    "    if b <= a:\n",
    "        raise ValueError(f\"The value of b must be greater than a. [a, b] = [{a}, {b}]\")\n",
    "    if atol <= 0:\n",
    "        raise ValueError(f\"The tolerance must be positive!\")\n",
    "    \n",
    "    fa = f(a)\n",
    "    fb = f(b)\n",
    "    if fa*fb > 0:\n",
    "        raise ValueError(\"The value of f(a) * f(b) is positive! No root here!\")\n",
    "    for k in range(nitermax):\n",
    "        p = (a+b)/2\n",
    "        fp = f(p)\n",
    "        if fp == 0:  # Happy ending\n",
    "            return p\n",
    "        if fa*fp < 0:\n",
    "            b = p\n",
    "        else:\n",
    "            a = p\n",
    "    raise ValueError(f\"Could not find the solution with tolerance {atol:.2e} with {nitermax} iterations\")\n",
    "\n",
    "a, b = 0, 8\n",
    "def f(x: float) -> float:\n",
    "    return 2*np.cosh(x/4) - x\n",
    "xstar = biseccao(f, a, b, 70)\n",
    "print(\"solution = \", xstar)"
   ]
  },
  {
   "cell_type": "markdown",
   "metadata": {},
   "source": [
    "### Exercício 12\n",
    "\n",
    "Seja uma função $f$ contínua em um intervalo $\\left[a, \\ b\\right]$, com $f'$ e $f''$ também contínuas\n",
    "nesse intervalo.\n",
    "Considere ainda que existe uma raiz $x^{\\star} \\in \\left[a, \\ b\\right]$ tal que $f(x^{\\star}) = 0$ e $f'(x^{\\star}) \\ne 0$.\n",
    "Nesse caso, mostre que o método de Newton tem convergência de segunda ordem."
   ]
  },
  {
   "cell_type": "markdown",
   "metadata": {},
   "source": [
    "### Exercício 13\n",
    "\n",
    "Use um polinômio de Taylor em torno de $45 \\ ^o$ para aproximar $\\cos 41 \\ ^o$\n",
    "com uma precisão de $10^{−6}$.\n"
   ]
  },
  {
   "cell_type": "markdown",
   "metadata": {},
   "source": [
    "Temos a expansão em série de Taylor ao redor de $x_0$ é dado por\n",
    "\n",
    "$$\n",
    "f(x) = f(x_0) + (x-x_0) \\cdot f'(x_0) + \\dfrac{1}{2}(x-x_0)^2 \\cdot f''(x_0) + \\Omega \\left(\\left(x-x_0\\right)^{3}\\right)\n",
    "$$\n",
    "\n",
    "Para o cosseno, temos que\n",
    "\n",
    "$$\n",
    "\\cos \\theta = \\cos \\theta_0 - \\left(\\theta - \\theta_0\\right) \\cdot \\sin \\theta_0 - \\dfrac{1}{2}\\left(\\theta-\\theta_0\\right)^2 \\cdot \\cos \\theta_0 + \\Omega \\left(\\left(\\theta-\\theta_0\\right)^{3}\\right)\n",
    "$$\n",
    "\n",
    "Com $\\theta_0 = \\dfrac{\\pi}{4}$, teremos\n",
    "\n",
    "$$\\cos \\theta_0 = \\sin \\theta_0 = \\dfrac{1}{\\sqrt{2}}$$\n",
    "\n",
    "$$\n",
    "\\cos \\theta = \\dfrac{1}{\\sqrt{2}}\\left[1 - \\left(\\theta - \\dfrac{\\pi}{4}\\right) - \\dfrac{1}{2}\\left(\\theta - \\dfrac{\\pi}{4}\\right)^2+ \\dfrac{1}{6}\\left(\\theta - \\dfrac{\\pi}{4}\\right)^3\\right]\n",
    "$$"
   ]
  },
  {
   "cell_type": "code",
   "execution_count": 13,
   "metadata": {},
   "outputs": [
    {
     "name": "stdout",
     "output_type": "stream",
     "text": [
      "Nossa aproximacao = 0.7547088707\n",
      "      Numpy valor = 0.7547095802\n",
      " Error = 7.095e-07\n"
     ]
    }
   ],
   "source": [
    "def cosseno_approx(theta: float) -> float:\n",
    "    dtheta = theta - (np.pi/4)\n",
    "    result = 1 - dtheta - (dtheta**2)/2 + (dtheta**3)/6\n",
    "    return result/np.sqrt(2)\n",
    "\n",
    "theta = 41 * (np.pi/180)\n",
    "cos41approx = cosseno_approx(theta)\n",
    "cos41numpy = np.cos(theta)\n",
    "error = np.abs(cos41numpy-cos41approx)\n",
    "print(\"Nossa aproximacao = %.10f\" % cos41approx)\n",
    "print(\"      Numpy valor = %.10f\" % cos41numpy)\n",
    "print(\" Error = %.3e\" % error)"
   ]
  },
  {
   "cell_type": "markdown",
   "metadata": {},
   "source": [
    "### Exercicio 14\n",
    "\n",
    "Quando um fluido incompressível escoa em um tubo circular, em regime permanente, a queda de pressão $\\Delta P$ devido ao atrito com a parede é dada pela equação\n",
    "\n",
    "$$\\Delta P = -0.5 \\ f\\rho V^2 \\ \\left(\\dfrac{L}{D}\\right)$$\n",
    "\n",
    "em que $\\rho$ é a densidade do fluido, $V$ é a velocidade média, $L$ é o comprimento do tubo e $D$ é o\n",
    "diâmetro.\n",
    "Na equação (3), $f$ representa o fator de atrito de Darcy.\n",
    "Existem diferentes fórmulas empíricas para o fator $f$ em função do número de Reynolds $Re = \\dfrac{\\rho V D}{\\mu}$, em que $\\mu$ é a viscosidade dinâmica do fluido.\n",
    "Para um escoamento turbulento completamente desenvolvido em um tubo com rugosidade de superfície $\\varepsilon$, o modelo desenvolvido por Colebrook é dado por\n",
    "\n",
    "$$\n",
    "\\dfrac{1}{f^{1/2}} = -2 \\cdot \\log_{10}\\left(\\dfrac{\\varepsilon/D}{3.7} + \\dfrac{2.51}{Re \\cdot f^{1/2}}\\right)\n",
    "$$\n",
    "\n",
    "Desenvolva um método numérico para calcular $f$, dados $\\varepsilon/D$ e $Re$.\n",
    "Utilize, como chute inicial em suas iterações, o valor aproximado de $f$ dado por Generaux,\n",
    "\n",
    "$$\n",
    "f = 0.16 \\cdot Re^{-0.16}\n",
    "$$\n",
    "\n",
    "Faça um gráfico de $Re \\times f$ para $\\varepsilon/D = 0.001$, com $10^4 ≤ Re ≤ 10^7$."
   ]
  }
 ],
 "metadata": {
  "kernelspec": {
   "display_name": "Python 3.10.5 64-bit",
   "language": "python",
   "name": "python3"
  },
  "language_info": {
   "codemirror_mode": {
    "name": "ipython",
    "version": 3
   },
   "file_extension": ".py",
   "mimetype": "text/x-python",
   "name": "python",
   "nbconvert_exporter": "python",
   "pygments_lexer": "ipython3",
   "version": "3.10.5"
  },
  "orig_nbformat": 4,
  "vscode": {
   "interpreter": {
    "hash": "bc7696eeafa34b5eae99a8ff85011d0682d74fe0e2a2436bba17f9270709e3f6"
   }
  }
 },
 "nbformat": 4,
 "nbformat_minor": 2
}
