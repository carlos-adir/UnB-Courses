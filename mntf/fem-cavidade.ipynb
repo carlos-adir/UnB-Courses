{
 "cells": [
  {
   "cell_type": "code",
   "execution_count": null,
   "metadata": {},
   "outputs": [],
   "source": [
    "import numpy as np\n",
    "from matplotlib import pyplot as plt"
   ]
  },
  {
   "attachments": {},
   "cell_type": "markdown",
   "metadata": {},
   "source": [
    "# Formulação FEM para Navier-Stokes\n",
    "\n",
    "No notebook anterior tratamos EDPs de diferentes tipos, todos lineares. Mas a mema abordagem utilizada não funciona para o problema que trataremos aqui: resolver a Equação de Navier Stokes.\n",
    "\n",
    "Antes disso, teremos as quantidades:\n",
    "\n",
    "* Velocidade do fluido: $\\mathbf{u} = \\left(u_1, \\ u_2, \\ u_3\\right) = \\left(u, \\ v, \\ w\\right)$\n",
    "* Pressão do fluido: $p$\n",
    "* Fator de campo: $\\mathbf{g}$\n",
    "* Densidade: $\\rho$\n",
    "* Fluido newtoniano de viscosidade: $\\mu$\n",
    "* Tempo: $t$\n",
    "* Espaço: $\\left(x, \\ y, \\ z\\right) = \\left(x_1, \\ x_2, \\ x_3\\right)$\n",
    "\n",
    "Resolver a equação de Navier Stokes se resume a encontrar os valores da velocidade $\\mathbf{u}$ e pressão $p$ ao longo do domínio $\\Omega_{xyzt}$.\n",
    "\n",
    "Na notação vetorial temos a equação de balanço de massa dado por $(1.1)$ e o balanço de momento dado por $(1.2)$\n",
    "\n",
    "$$\\dfrac{\\partial \\rho}{\\partial t} + \\nabla \\cdot \\left(\\rho \\mathbf{u}\\right) = 0 \\tag{1.1}$$\n",
    "\n",
    "$$\\dfrac{\\partial \\left(\\rho \\mathbf{u}\\right)}{\\partial t} + \\nabla \\cdot \\left( \\rho \\mathbf{u} \\otimes \\mathbf{u} \\right) = -\\nabla p + \\rho \\mathbf{g} + \\mu \\nabla^2 \\mathbf{u}\\tag{1.2}$$\n",
    "\n",
    "\n",
    "Na notação indicial, $(1.1)$ e $(1.2)$ se tornam $(1.3)$ e $(1.4)$\n",
    "\n",
    "$$\\dfrac{\\partial \\rho}{\\partial t} + \\sum_{i = 1}^{3} \\dfrac{\\partial \\left(\\rho u_i\\right)}{\\partial x_i} = 0\n",
    "\\tag{1.3}$$\n",
    "$$\\dfrac{\\partial \\rho u_i}{\\partial t} + \\sum_{j=1}^{3} \\dfrac{\\partial \\left(\\rho u_i u_j\\right)}{\\partial x_j} = -\\dfrac{\\partial p}{\\partial x_i} + \\rho g_i + \\mu \\sum_{j=1}^{3} \\dfrac{\\partial^2 u_i}{\\partial x_j^2} \\ \\ \\ \\ \\ \\forall i \\tag{1.4}$$\n",
    "\n",
    "Para o primeiro exemplo, simplificaremos: Utilizaremos uma malha bidimensional $u_3 = 0$ de um fluido incompressível $\\rho = \\text{const}$, com campo nulo $\\mathbf{g} = \\mathbf{0}$.\n",
    "\n",
    "Também fazemos a adimensionalização do problema, resultando em $(1.5)$, $(1.6)$ e $(1.7)$:\n",
    "\n",
    "$$\n",
    "\\begin{align*}\n",
    "\\dfrac{\\partial u}{\\partial x} + \\dfrac{\\partial v}{\\partial y} & = 0 \\tag{1.5} \\\\ \\dfrac{\\partial u}{\\partial t} + u \\dfrac{\\partial u}{\\partial x} + v\\dfrac{\\partial u}{\\partial y} & = -\\dfrac{\\partial p}{\\partial x} + \\mu \\left(\\dfrac{\\partial^2 u}{\\partial x^2}+\\dfrac{\\partial^2 u}{\\partial y^2}\\right) \\tag{1.6} \\\\\n",
    "\\dfrac{\\partial v}{\\partial t} + u\\dfrac{\\partial v}{\\partial x} + v\\dfrac{\\partial v}{\\partial y} & = -\\dfrac{\\partial p}{\\partial y} + \\mu \\left(\\dfrac{\\partial^2 v}{\\partial x^2}+\\dfrac{\\partial^2 v}{\\partial y^2}\\right) \\tag{1.7}\n",
    "\\end{align*}\n",
    "$$\n",
    "\n",
    "Na malha $\\Omega_{xyt} = \\left[0, \\ 1\\right] \\times \\left[0, \\ 1\\right] \\times \\left[0, \\ \\infty\\right)$."
   ]
  },
  {
   "attachments": {},
   "cell_type": "markdown",
   "metadata": {},
   "source": [
    "### FEM com BSpline\n",
    "\n",
    "Com a equação de navier stokes, iremos utilizar BSpline apenas para as variáveis no espaço.\n",
    "Desta forma, calculamos progressivamente no tempo, resolvendo um sistema para cada passo de tempo e obtendo uma EDO em relação a $t$ .\n",
    "Então no tempo $t_{l} \\in \\left[0, \\ \\infty\\right)$\n",
    "\n",
    "$$\\begin{align*}u_{l}(x, \\ y) & = \\sum_{i=0}^{nx-1} \\sum_{j=0}^{ny-1} N_{i,px}(x) \\cdot N_{j, py}(y) \\cdot U_{l,i,j} \\tag{1.8} \\\\\n",
    "v_{l}(x, \\ y) & = \\sum_{i=0}^{nx-1} \\sum_{j=0}^{ny-1} N_{i,px}(x) \\cdot N_{j, py}(y) \\cdot V_{l,i,j} \\tag{1.9} \\\\ p_{l}(x, \\ y) & = \\sum_{i=0}^{nx-1} \\sum_{j=0}^{ny-1} N_{i,px}(x) \\cdot N_{j, py}(y) \\cdot P_{l,i,j} \\tag{1.10}\\end{align*}$$\n",
    "\n",
    "Então no tempo $t_l$, há $3n_xn_y$ variáveis a serem encontradas.\n",
    "A partir daqui omitiremos o indice $l$.\n",
    "\n",
    "Na formulação de Galerkin, teremos para a Equação $(1.5)$:\n",
    "\n",
    "$$\\int_{\\Omega} \\left(\\dfrac{\\partial u}{\\partial x} + \\dfrac{\\partial u}{\\partial y}\\right)\\cdot \\varphi \\ d\\Omega = 0 \\ \\ \\ \\ \\ \\forall \\varphi$$\n",
    "$$\\begin{align*}\\sum_{a=0}^{nx-1} \\sum_{b=0}^{ny-1} & \\left(\\int_{0}^{1} N_{i,px} \\dfrac{dN_{a,px}}{dx} \\ dx\\right)\\left(\\int_{0}^{1}N_{j,py}N_{b,py} \\ dy \\right)U_{a,b} \\\\ & +\\left(\\int_{0}^{1} N_{i,px} N_{a,px} \\ dx\\right)\\left(\\int_{0}^{1}N_{j,py}\\dfrac{dN_{b,py}}{dy} \\ dy \\right)V_{a,b} = 0 \\ \\ \\ \\ \\forall i, \\ j \\end{align*} $$\n",
    "$$\\sum_{a,b}\\left(\\left[H_{px, px-1}\\right] \\left[D_{px}\\right]^{T}\\right)_{ia}\\left[H_{py,py}\\right]_{jb} \\left[U\\right]_{ab} + \\left[H_{px,px}\\right]_{ia}\\left(\\left[H_{py, py-1}\\right] \\left[D_{py}\\right]^{T}\\right)_{jb} \\left[V\\right]_{ab}= 0 \\ \\ \\ \\forall i, \\ j$$\n",
    "\n",
    "Já para a Equação $(1.6)$ teremos\n",
    "\n",
    "$$\\int_{\\Omega} \\left( \\dfrac{\\partial u}{\\partial t} + u\\dfrac{\\partial u}{\\partial x} + v\\dfrac{\\partial u}{\\partial y} + \\dfrac{\\partial p}{\\partial x} - \\mu \\left(\\dfrac{\\partial^2 u}{\\partial x^2}+\\dfrac{\\partial^2 u}{\\partial y^2}\\right)\\right) N_{i,px}N_{j,py} \\ d\\Omega = 0 \\ \\ \\ \\ \\forall i, \\ j$$\n",
    "---------------\n",
    "$$\\begin{align*} \\sum_{a, b} &  \\left(\\int_{\\Omega} N_{i,px}N_{j,py}N_{a,px}N_{b,py} \\ d\\Omega\\right) \\dfrac{dU_{a,b}}{dt} \\\\ \n",
    "+ \\sum_{a1, b1, a2, b2} & \\left(\\int_{\\Omega} N_{a1,px}N_{b1,py} \\dfrac{dN_{a2,px}}{dx} N_{b2,py} N_{i,px}N_{j,py} \\ d\\Omega\\right) U_{a1,b1} U_{a2,b2} \\\\\n",
    "+ \\sum_{a_1, b_1, a_2, b_2} & \\left(\\int_{\\Omega} N_{a1,px}N_{b1,py} N_{a2,px} \\dfrac{dN_{b2,py}}{dy} N_{i,px}N_{j,py} \\ d\\Omega\\right) V_{a1,b1}U_{a2,b2} \\\\\n",
    "+ \\sum_{a, b} & \\left(\\int_{\\Omega} N_{i,px}N_{j,py}\\dfrac{dN_{a,px}}{dx}N_{b,py} \\ d\\Omega\\right) P_{a,b} \\\\ \n",
    "- \\mu \\sum_{a,b} &  \\left(\\int_{\\Omega}N_{i,px}N_{j,py}\\dfrac{d^2N_{a,px}}{dx^2}N_{b,py} \\ d\\Omega\\right) U_{a,b} \\\\ \n",
    "- \\mu \\sum_{a,b}&  \\left(\\int_{\\Omega}N_{i,px}N_{j,py}N_{a,px}\\dfrac{d^2N_{b,py}}{dy^2} \\ d\\Omega\\right) U_{a,b} = 0 \\ \\ \\ \\forall i, \\ j\\end{align*}$$\n",
    "-------------\n",
    "$$\\begin{align*} \\sum_{a, b} & \\left[H_{px,px}\\right]_{i,a} \\left[H_{py,py}\\right]_{j,b} \\dfrac{dU_{a,b}}{dt} \\\\\n",
    "+ \\sum_{a1, b1, a2, b2} & \\left(\\left[H_{px,px,px-1}\\right]\\left[D_{px}^{T}\\right]\\right)_{i,a1,a2} \\left[H_{py,py,py}\\right]_{j,b1,b2} U_{a1,b1} U_{a2,b2} \\\\\n",
    "+ \\sum_{a_1, b_1, a_2, b_2} & \\left[H_{px,px,px}\\right]_{i,a1,a2} \\left(\\left[H_{py,py,py-1}\\right]\\left[D_{py}\\right]^{T}\\right)_{j,b1,b2} V_{a1,b1}U_{a2,b2} \\\\\n",
    "+ \\sum_{a, b}  & \\left(\\left[H_{px,px-1}\\right]\\left[D_{px}\\right]^{T}\\right)_{i,a} \\left[H_{py,py}\\right]_{j,b} P_{a,b} \\\\ \n",
    "- \\mu \\sum_{a,b} &  \\left(\\left[X_{bound}\\right]\\left[D_{px}\\right]^{T}-\\left[D_{px}\\right]\\left[H_{px-1,px-1}\\right]\\left[D_{px}\\right]^{T}\\right)_{i,a}\\left[H_{py,py}\\right]_{j,b} U_{a,b} \\\\ \n",
    "- \\mu \\sum_{a,b}& \\left[H_{px,px}\\right]_{i,a} \\left(\\left[Y_{bound}\\right]\\left[D_{py}\\right]^{T}-\\left[D_{py}\\right]\\left[H_{py-1,py-1}\\right]\\left[D_{py}\\right]^{T}\\right)_{j,b} U_{a,b} = 0 \\ \\ \\ \\forall i, \\ j\\end{align*}$$\n",
    "\n",
    "Da mesma forma com a equação $(1.7)$ obtemos:\n",
    "\n",
    "\n",
    "$$\\begin{align*} \\sum_{a, b} & \\left[H_{px,px}\\right]_{i,a} \\left[H_{py,py}\\right]_{j,b} \\dfrac{dU_{a,b}}{dt} \\\\\n",
    "+ \\sum_{a1, b1, a2, b2} & \\left(\\left[H_{px,px,px-1}\\right]\\left[D_{px}^{T}\\right]\\right)_{i,a1,a2} \\left[H_{py,py,py}\\right]_{j,b1,b2} U_{a1,b1} U_{a2,b2} \\\\\n",
    "+ \\sum_{a_1, b_1, a_2, b_2} & \\left[H_{px,px,px}\\right]_{i,a1,a2} \\left(\\left[H_{py,py,py-1}\\right]\\left[D_{py}\\right]^{T}\\right)_{j,b1,b2} V_{a1,b1}U_{a2,b2} \\\\\n",
    "+ \\sum_{a, b}  & \\left(\\left[H_{px,px-1}\\right]\\left[D_{px}\\right]^{T}\\right)_{i,a} \\left[H_{py,py}\\right]_{j,b} P_{a,b} \\\\ \n",
    "- \\mu \\sum_{a,b} &  \\left(\\left[X_{bound}\\right]\\left[D_{px}\\right]^{T}-\\left[D_{px}\\right]\\left[H_{px-1,px-1}\\right]\\left[D_{px}\\right]^{T}\\right)_{i,a}\\left[H_{py,py}\\right]_{j,b} V_{a,b} \\\\ \n",
    "- \\mu \\sum_{a,b}& \\left[H_{px,px}\\right]_{i,a} \\left(\\left[Y_{bound}\\right]\\left[D_{py}\\right]^{T}-\\left[D_{py}\\right]\\left[H_{py-1,py-1}\\right]\\left[D_{py}\\right]^{T}\\right)_{j,b} V_{a,b} = 0 \\ \\ \\ \\forall i, \\ j\\end{align*}$$"
   ]
  },
  {
   "cell_type": "markdown",
   "metadata": {},
   "source": []
  },
  {
   "cell_type": "code",
   "execution_count": null,
   "metadata": {},
   "outputs": [],
   "source": []
  }
 ],
 "metadata": {
  "kernelspec": {
   "display_name": "Python 3",
   "language": "python",
   "name": "python3"
  },
  "language_info": {
   "name": "python",
   "version": "3.10.5 (tags/v3.10.5:f377153, Jun  6 2022, 16:14:13) [MSC v.1929 64 bit (AMD64)]"
  },
  "orig_nbformat": 4,
  "vscode": {
   "interpreter": {
    "hash": "bc7696eeafa34b5eae99a8ff85011d0682d74fe0e2a2436bba17f9270709e3f6"
   }
  }
 },
 "nbformat": 4,
 "nbformat_minor": 2
}
