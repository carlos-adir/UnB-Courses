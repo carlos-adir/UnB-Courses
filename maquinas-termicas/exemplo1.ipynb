{
 "cells": [
  {
   "cell_type": "code",
   "execution_count": 18,
   "metadata": {},
   "outputs": [],
   "source": [
    "try:\n",
    "    import CoolProp\n",
    "except ModuleNotFoundError as e:\n",
    "    import os\n",
    "    os.system(\"pip install CoolProp\")\n",
    "    import CoolProp"
   ]
  },
  {
   "cell_type": "code",
   "execution_count": 19,
   "metadata": {},
   "outputs": [
    {
     "name": "stdout",
     "output_type": "stream",
     "text": [
      "State 1\n",
      "T1 = 91.758 oC\n",
      "P1 = 75.000 kPa\n",
      "v1 = 0.308 L/kg\n",
      "h1 = 384.437 kJ/kg\n",
      "s1 = 1.213 kJ/(kg*K)\n",
      "q1 = 0.000\n"
     ]
    }
   ],
   "source": [
    "fluido = \"Water\"\n",
    "P1 = 75e+3  # Pa\n",
    "q1 = 0  # Liquido saturado\n",
    "T1 = CoolProp.CoolProp.PropsSI('T', 'P', P1, 'Q', q1, fluido)\n",
    "h1 = CoolProp.CoolProp.PropsSI('H', 'P', P1, 'Q', q1, fluido)\n",
    "v1 = CoolProp.CoolProp.PropsSI('V', 'P', P1, 'Q', q1, fluido)\n",
    "s1 = CoolProp.CoolProp.PropsSI('S', 'P', P1, 'Q', q1, fluido)\n",
    "print(\"State 1\")\n",
    "print(\"T1 = %.3f oC\" % (T1-273.15))\n",
    "print(\"P1 = %.3f kPa\" %(P1/1000))\n",
    "print(\"v1 = %.3f L/kg\" % (1000*v1))\n",
    "print(\"h1 = %.3f kJ/kg\"% (h1/1000))\n",
    "print(\"s1 = %.3f kJ/(kg*K)\" %(s1/1000))\n",
    "print(\"q1 = %.3f\" % q1)"
   ]
  },
  {
   "cell_type": "code",
   "execution_count": 20,
   "metadata": {},
   "outputs": [
    {
     "name": "stdout",
     "output_type": "stream",
     "text": [
      "State 2\n",
      "T2 = 91.943 oC\n",
      "P2 = 3000.000 kPa\n",
      "v2 = 0.308 L/kg\n",
      "h2 = 387.469 kJ/kg\n",
      "s2 = 1.213 kJ/(kg*K)\n"
     ]
    }
   ],
   "source": [
    "P2 = 3e+6  # Pa\n",
    "s2 = s1\n",
    "h2 = CoolProp.CoolProp.PropsSI('H', 'P', P2, 'S', s2, fluido)\n",
    "v2 = CoolProp.CoolProp.PropsSI('V', 'P', P2, 'S', s2, fluido)\n",
    "T2 = CoolProp.CoolProp.PropsSI('T', 'P', P2, 'S', s2, fluido)\n",
    "print(\"State 2\")\n",
    "print(\"T2 = %.3f oC\" % (T2-273.15))\n",
    "print(\"P2 = %.3f kPa\" %(P2/1000))\n",
    "print(\"v2 = %.3f L/kg\" % (1000*v2))\n",
    "print(\"h2 = %.3f kJ/kg\"% (h2/1000))\n",
    "print(\"s2 = %.3f kJ/(kg*K)\" %(s2/1000))"
   ]
  },
  {
   "cell_type": "code",
   "execution_count": 21,
   "metadata": {},
   "outputs": [
    {
     "name": "stdout",
     "output_type": "stream",
     "text": [
      "State 3\n",
      "T3 = 350.000 oC\n",
      "P3 = 3000.000 kPa\n",
      "v3 = 0.022 L/kg\n",
      "h3 = 3116.063 kJ/kg\n",
      "s3 = 6.745 kJ/(kg*K)\n"
     ]
    }
   ],
   "source": [
    "P3 = P2\n",
    "T3 = 350 + 273.15\n",
    "h3 = CoolProp.CoolProp.PropsSI('H', 'P', P3, 'T', T3, fluido)\n",
    "s3 = CoolProp.CoolProp.PropsSI('S', 'P', P3, 'T', T3, fluido)\n",
    "v3 = CoolProp.CoolProp.PropsSI('V', 'P', P3, 'T', T3, fluido)\n",
    "print(\"State 3\")\n",
    "print(\"T3 = %.3f oC\" % (T3-273.15))\n",
    "print(\"P3 = %.3f kPa\" %(P3/1000))\n",
    "print(\"v3 = %.3f L/kg\" % (1000*v3))\n",
    "print(\"h3 = %.3f kJ/kg\"% (h3/1000))\n",
    "print(\"s3 = %.3f kJ/(kg*K)\" %(s3/1000))"
   ]
  },
  {
   "cell_type": "code",
   "execution_count": 22,
   "metadata": {},
   "outputs": [
    {
     "name": "stdout",
     "output_type": "stream",
     "text": [
      "State 4\n",
      "T4 = 91.758 oC\n",
      "P4 = 75.000 kPa\n",
      "v4 = 0.012 L/kg\n",
      "h4 = 2403.021 kJ/kg\n",
      "s4 = 6.745 kJ/(kg*K)\n",
      "q4 = 0.886\n"
     ]
    }
   ],
   "source": [
    "T4 = T1\n",
    "s4 = s3\n",
    "h4 = CoolProp.CoolProp.PropsSI('H', 'T', T4, 'S', s4, fluido)\n",
    "P4 = CoolProp.CoolProp.PropsSI('P', 'T', T4, 'S', s4, fluido)\n",
    "v4 = CoolProp.CoolProp.PropsSI('V', 'T', T4, 'S', s4, fluido)\n",
    "q4 = CoolProp.CoolProp.PropsSI('Q', 'T', T4, 'S', s4, fluido)\n",
    "print(\"State 4\")\n",
    "print(\"T4 = %.3f oC\" % (T4-273.15))\n",
    "print(\"P4 = %.3f kPa\" %(P4/1000))\n",
    "print(\"v4 = %.3f L/kg\" % (1000*v4))\n",
    "print(\"h4 = %.3f kJ/kg\"% (h4/1000))\n",
    "print(\"s4 = %.3f kJ/(kg*K)\" %(s4/1000))\n",
    "print(\"q4 = %.3f\" % q4)"
   ]
  },
  {
   "cell_type": "code",
   "execution_count": 23,
   "metadata": {},
   "outputs": [
    {
     "name": "stdout",
     "output_type": "stream",
     "text": [
      "wpump = 3.032 kJ/kg\n",
      "qin =2728.594 kJ/kg \n",
      "qout = 2018.584 kJ/kg\n",
      "eta = 0.260\n"
     ]
    }
   ],
   "source": [
    "wpump = h2-h1\n",
    "qin = h3-h2\n",
    "qout = h4-h1\n",
    "eta = 1-(qout/qin)\n",
    "\n",
    "print(\"wpump = %.3f kJ/kg\"% (wpump/1000))\n",
    "print(\"qin =%.3f kJ/kg \"% (qin/1000))\n",
    "print(\"qout = %.3f kJ/kg\"% (qout/1000))\n",
    "print(\"eta = %.3f\"% eta)"
   ]
  }
 ],
 "metadata": {
  "kernelspec": {
   "display_name": "Python 3.10.5 64-bit",
   "language": "python",
   "name": "python3"
  },
  "language_info": {
   "codemirror_mode": {
    "name": "ipython",
    "version": 3
   },
   "file_extension": ".py",
   "mimetype": "text/x-python",
   "name": "python",
   "nbconvert_exporter": "python",
   "pygments_lexer": "ipython3",
   "version": "3.10.5"
  },
  "orig_nbformat": 4,
  "vscode": {
   "interpreter": {
    "hash": "9bd63d4d0e53dd854605697514204d0a3a6bfb81f118d4d4374019a86f3401eb"
   }
  }
 },
 "nbformat": 4,
 "nbformat_minor": 2
}
