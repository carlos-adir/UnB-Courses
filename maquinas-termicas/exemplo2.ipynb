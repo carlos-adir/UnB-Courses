{
 "cells": [
  {
   "cell_type": "code",
   "execution_count": 1,
   "metadata": {},
   "outputs": [],
   "source": [
    "import CoolProp"
   ]
  },
  {
   "cell_type": "code",
   "execution_count": 3,
   "metadata": {},
   "outputs": [],
   "source": [
    "#mass flow rate\n",
    "m = 0.05\n",
    "fluido = \"R134a\""
   ]
  },
  {
   "cell_type": "code",
   "execution_count": 4,
   "metadata": {},
   "outputs": [
    {
     "name": "stdout",
     "output_type": "stream",
     "text": [
      "h1= 387.31996904223126 KJ/kg\n",
      "s1= 1.7402255901854515 KJ/kg.k\n",
      "T1= -18.759570375783227 oC\n"
     ]
    }
   ],
   "source": [
    "#State 1\n",
    "P1 = 0.14e+6\n",
    "q1 = 1\n",
    "# The absolute enthalpy values might be different because of\n",
    "# the different standard state\n",
    "h1 = CoolProp.CoolProp.PropsSI('H', 'P', P1, 'Q', q1, fluido)\n",
    "s1 = CoolProp.CoolProp.PropsSI('S', 'P', P1, 'Q', q1, fluido)\n",
    "T1 = CoolProp.CoolProp.PropsSI('T', 'P', P1, 'Q', q1, fluido)\n",
    "print(\"State 1\")\n",
    "print(\"T1 = %.3f oC\" % (T1-273.15))\n",
    "print(\"P1 = %.3f kPa\" %(P1/1000))\n",
    "print(\"v1 = %.3f L/kg\" % (1000*v1))\n",
    "print(\"h1 = %.3f kJ/kg\"% (h1/1000))\n",
    "print(\"s1 = %.3f kJ/(kg*K)\" %(s1/1000))\n",
    "print(\"q1 = %.3f\" % q1)"
   ]
  },
  {
   "cell_type": "code",
   "execution_count": 5,
   "metadata": {},
   "outputs": [
    {
     "name": "stdout",
     "output_type": "stream",
     "text": [
      "State 2\n",
      "T2 = -18.760 oC\n",
      "P2 = 800.000 kPa\n",
      "v2 = 0.012 L/kg\n",
      "h2 = 423.532 kJ/kg\n",
      "s2 = 1.740 kJ/(kg*K)\n"
     ]
    }
   ],
   "source": [
    "P2 = 0.8e6\n",
    "s2 = s1\n",
    "h2 = CoolProp.CoolProp.PropsSI('H', 'P', P2, 'S', s2, fluido)\n",
    "v2 = CoolProp.CoolProp.PropsSI('V', 'P', P2, 'S', s2, fluido)\n",
    "T2 = CoolProp.CoolProp.PropsSI('T', 'P', P1, 'S', s2, fluido)\n",
    "print(\"State 2\")\n",
    "print(\"T2 = %.3f oC\" % (T2-273.15))\n",
    "print(\"P2 = %.3f kPa\" %(P2/1000))\n",
    "print(\"v2 = %.3f L/kg\" % (1000*v2))\n",
    "print(\"h2 = %.3f kJ/kg\"% (h2/1000))\n",
    "print(\"s2 = %.3f kJ/(kg*K)\" %(s2/1000))"
   ]
  },
  {
   "cell_type": "code",
   "execution_count": 6,
   "metadata": {},
   "outputs": [
    {
     "name": "stdout",
     "output_type": "stream",
     "text": [
      "State 3\n",
      "T3 = 31.327 oC\n",
      "P3 = 800.000 kPa\n",
      "v3 = 0.180 L/kg\n",
      "h3 = 243.645 kJ/kg\n",
      "s3 = 1.150 kJ/(kg*K)\n",
      "q3 = 0.000\n"
     ]
    }
   ],
   "source": [
    "P3 = 0.8e6\n",
    "q3 = 0\n",
    "h3 = CoolProp.CoolProp.PropsSI('H', 'P', P3, 'Q', q3, fluido)\n",
    "T3 = CoolProp.CoolProp.PropsSI('T', 'P', P3, 'Q', q3, fluido)\n",
    "v3 = CoolProp.CoolProp.PropsSI('V', 'P', P3, 'Q', q3, fluido)\n",
    "s3 = CoolProp.CoolProp.PropsSI('S', 'P', P3, 'Q', q3, fluido)\n",
    "print(\"State 3\")\n",
    "print(\"T3 = %.3f oC\" % (T3-273.15))\n",
    "print(\"P3 = %.3f kPa\" %(P3/1000))\n",
    "print(\"v3 = %.3f L/kg\" % (1000*v3))\n",
    "print(\"h3 = %.3f kJ/kg\"% (h3/1000))\n",
    "print(\"s3 = %.3f kJ/(kg*K)\" %(s3/1000))\n",
    "print(\"q3 = %.3f\" % q3)"
   ]
  },
  {
   "cell_type": "code",
   "execution_count": 12,
   "metadata": {},
   "outputs": [
    {
     "name": "stdout",
     "output_type": "stream",
     "text": [
      "State 4\n",
      "T4 = -18.760 oC\n",
      "P4 = 140.000 kPa\n",
      "v4 = 0.010 L/kg\n",
      "h4 = 243.645 kJ/kg\n",
      "s4 = 1.175 kJ/(kg*K)\n",
      "q4 = 0.323\n"
     ]
    }
   ],
   "source": [
    "P4 = P1\n",
    "h4 = h3\n",
    "T4 = CoolProp.CoolProp.PropsSI('T', 'P', P4, 'H', h4, fluido)\n",
    "v4 = CoolProp.CoolProp.PropsSI('V', 'P', P4, 'H', h4, fluido)\n",
    "s4 = CoolProp.CoolProp.PropsSI('S', 'P', P4, 'H', h4, fluido)\n",
    "q4 = CoolProp.CoolProp.PropsSI('Q', 'P', P4, 'H', h4, fluido)\n",
    "print(\"State 4\")\n",
    "print(\"T4 = %.3f oC\" % (T4-273.15))\n",
    "print(\"P4 = %.3f kPa\" %(P4/1000))\n",
    "print(\"v4 = %.3f L/kg\" % (1000*v4))\n",
    "print(\"h4 = %.3f kJ/kg\"% (h4/1000))\n",
    "print(\"s4 = %.3f kJ/(kg*K)\" %(s4/1000))\n",
    "print(\"q4 = %.3f\" % q4)"
   ]
  },
  {
   "cell_type": "code",
   "execution_count": 13,
   "metadata": {},
   "outputs": [
    {
     "name": "stdout",
     "output_type": "stream",
     "text": [
      "QLow = 7.184 kJ/s\n",
      "QHigh = 8.994 kJ/s\n",
      "Win = 1.811 kJ/s\n",
      "COP = 3.968\n"
     ]
    }
   ],
   "source": [
    "QLow = m*(h1 - h4)\n",
    "QHigh = m*(h2 - h3)\n",
    "Win = m*(h2-h1)\n",
    "COP = QLow/Win\n",
    "print(\"QLow = %.3f kJ/s\" % (QLow/1000))\n",
    "print(\"QHigh = %.3f kJ/s\" % (QHigh/1000))\n",
    "print(\"Win = %.3f kJ/s\" % (Win/1000))\n",
    "print(\"COP = %.3f\" % COP)"
   ]
  }
 ],
 "metadata": {
  "kernelspec": {
   "display_name": "Python 3.10.5 64-bit",
   "language": "python",
   "name": "python3"
  },
  "language_info": {
   "codemirror_mode": {
    "name": "ipython",
    "version": 3
   },
   "file_extension": ".py",
   "mimetype": "text/x-python",
   "name": "python",
   "nbconvert_exporter": "python",
   "pygments_lexer": "ipython3",
   "version": "3.10.5"
  },
  "orig_nbformat": 4,
  "vscode": {
   "interpreter": {
    "hash": "9bd63d4d0e53dd854605697514204d0a3a6bfb81f118d4d4374019a86f3401eb"
   }
  }
 },
 "nbformat": 4,
 "nbformat_minor": 2
}
