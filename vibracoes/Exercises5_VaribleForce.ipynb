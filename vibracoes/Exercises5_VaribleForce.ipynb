{
 "cells": [
  {
   "cell_type": "markdown",
   "metadata": {},
   "source": [
    "[![Open In Colab](https://colab.research.google.com/assets/colab-badge.svg)](https://colab.research.google.com/github/carlos-adir/UnB-Courses/blob/main/vibracoes/Exercises5_VariableForce.ipynb)"
   ]
  },
  {
   "cell_type": "code",
   "execution_count": 1,
   "metadata": {
    "cell_id": "426669822dcb4ccda2cef67ad1593791",
    "deepnote_cell_height": 460.546875,
    "deepnote_cell_type": "code",
    "deepnote_to_be_reexecuted": false,
    "execution_millis": 5983,
    "execution_start": 1656340283440,
    "source_hash": "65dab9a9",
    "tags": []
   },
   "outputs": [],
   "source": [
    "import numpy as np\n",
    "try:\n",
    "    from scipy.integrate import odeint \n",
    "except ModuleNotFoundError:\n",
    "    import os\n",
    "    os.system(\"pip install scipy\")\n",
    "    from scipy.integrate import odeint\n",
    "try:\n",
    "    from matplolib import pyplot as plt\n",
    "except ModuleNotFoundError:\n",
    "    import os\n",
    "    os.system(\"pip install matplotlib\")\n",
    "    from matplotlib import pyplot as plt"
   ]
  },
  {
   "cell_type": "markdown",
   "metadata": {},
   "source": [
    "# Description\n",
    "\n",
    "This exercise is to see the behavior of a mass-spring-damper system like as show bellow.\n",
    "\n",
    "![sistema massa mola amortecedor](https://raw.githubusercontent.com/carlos-adir/UnB-Courses/main/vibracoes/img/model-mck.png)\n",
    "\n",
    "The ODE (Ordinary Differential Equation) for this 1 DOF problem is given by\n",
    "\n",
    "$$m\\ddot{x} + c\\dot{x} + kx = f$$\n",
    "\n",
    "Which applied force $f$ is given by the graph\n",
    "\n",
    "![graphforce](https://raw.githubusercontent.com/carlos-adir/UnB-Courses/main/vibracoes/img/GraphForce.png)\n",
    "\n",
    "Where we can write it as\n",
    "\n",
    "$$\n",
    "f(t) = \\dfrac{f_0}{t_1-t_0} \\cdot \\text{ramp}(t-t_0) - \\dfrac{f_0}{t_1-t_0} \\cdot \\text{ramp}(t-t_1) - f_0 \\cdot \\text{step}(t-t_2)\n",
    "$$\n"
   ]
  },
  {
   "cell_type": "markdown",
   "metadata": {},
   "source": [
    "## Divide problem in homogeneous and forced\n",
    "\n",
    "To solve this ODE with the initial conditions $x(0) = x_0$ and $\\dot{x}(0) = v_0$, we use the Laplace transform:\n",
    "\n",
    "$$\n",
    "F(s) = \\mathcal{L}\\left\\{f(t)\\right\\}=\\int_{0}^{\\infty}f(t) \\cdot \\exp\\left(-st\\right)\\ dt \n",
    "$$\n",
    "\n",
    "Transforming the ODE into a algebric equation using the laplace transform we get\n",
    "\n",
    "$$\n",
    "\\left[ms^2+cs+k\\right]\\cdot X(s) - \\left[\\left(ms+c\\right)x_0 + m \\cdot v_0\\right] = F(s)\n",
    "$$\n",
    "\n",
    "$$\n",
    "X(s) = \\underbrace{\\dfrac{ms+c}{ms^2+cs+k}}_{X_{pos}} \\cdot x_0 + \\underbrace{\\dfrac{m}{ms^2 +cs+k}}_{X_{vel}} \\cdot v_0 + \\underbrace{\\dfrac{F(s)}{ms^2+cs+k}}_{X_{forc}}\n",
    "$$\n",
    "\n",
    "So, we can decompose the solution in two parts: The **homogeneous**(with initial conditions) and the **forced** solutions.\n",
    "\n",
    "$$\n",
    "x(t) = x_{homo}(t) + x_{forc}(t) = \\mathcal{L}^{-1}\\left\\{X_{homo}\\right\\} + \\mathcal{L}^{-1}\\left\\{X_{forc}\\right\\}\n",
    "$$\n",
    "\n",
    "From [this notebook](https://github.com/carlos-adir/UnB-Courses/blob/main/vibracoes/forcamento-harmonico.ipynb) we can get the homogenous solution which is given by\n",
    "\n",
    "$$\n",
    "x_{pos}(t) = \\mathcal{L}^{-1}\\left\\{X_{pos}\\right\\}  = \\exp\\left(-\\xi \\omega_{n}t\\right) \\left[\\cos \\left(\\mu \\omega_{n}t\\right) + \\dfrac{\\xi}{\\mu} \\sin \\left(\\mu \\omega_{n}t\\right)\\right]\n",
    "$$\n",
    "$$\n",
    "x_{vel}(t) = \\mathcal{L}^{-1}\\left\\{X_{vel}\\right\\} = \\dfrac{1}{\\mu \\omega_{n}}\\cdot \\exp\\left(-\\xi \\omega_{n}t\\right)\\sin \\left(\\mu \\omega_{n}t\\right)\n",
    "$$\n",
    "$$\n",
    "x_{homo}(t) = x_0 \\cdot x_{pos}(t) + v_0 \\cdot x_{vel}(t)\n",
    "$$\n",
    "\n",
    "For the forced solution, we have to dive in more than that.\n",
    "Our final objective is:\n",
    "\n",
    "* If $f(t)$ can be decomposed in a sum of 'trivial' functions with constants $a_i$\n",
    "\n",
    "$$\n",
    "f(t) = \\sum_{i} a_i \\cdot f_i(t)\n",
    "$$\n",
    "\n",
    "* Then, the final solution is given by\n",
    "\n",
    "$$\n",
    "x_{forc}(t) = \\sum_{i} a_i \\cdot x_{forc,i}(t)\n",
    "$$\n",
    "\n",
    "$$\n",
    "x_{forc, i} = \\mathcal{L}^{-1}\\left\\{\\dfrac{1}{ms^2+cs+k} \\cdot \\mathcal{L}\\left\\{f_i\\right\\}\\right\\}\n",
    "$$"
   ]
  },
  {
   "cell_type": "markdown",
   "metadata": {},
   "source": [
    "## Singularity functions"
   ]
  },
  {
   "cell_type": "markdown",
   "metadata": {},
   "source": [
    "For this problem, we are going to use the [singularity functions](https://en.wikipedia.org/wiki/Singularity_function) $\\langle x-a\\rangle^{n}$:\n",
    "\n",
    "$$\n",
    "\\langle x-a \\rangle^{-1} \\equiv \\text{dirac}\\left(x-a\\right)\n",
    "$$\n",
    "$$\n",
    "\\langle x-a \\rangle^{0} \\equiv \\text{step}\\left(x-a\\right)\n",
    "$$\n",
    "$$\n",
    "\\langle x-a \\rangle^{1} \\equiv \\text{ramp}\\left(x-a\\right)\n",
    "$$\n",
    "\n",
    "In general que have\n",
    "\n",
    "$$\n",
    "\\langle x-a\\rangle^{n} = \n",
    "\\begin{cases}\n",
    "0 \\ \\ \\ \\ \\ \\ \\ \\ \\ \\ \\ \\ \\ \\ \\ \\ \\text{if} \\ x < a \\\\\n",
    "(x-a)^{n} \\ \\ \\ \\ \\text{if} \\ a < x \n",
    "\\end{cases}\n",
    "$$\n",
    "\n",
    "The Laplace Transform of these functions are given by.\n",
    "\n",
    "$$\n",
    "\\mathcal{L}\\left\\{\\langle t-a\\rangle^{-1}\\right\\} = \\int_{0}^{\\infty} \\langle t-a\\rangle^{-1} \\cdot \\exp\\left(-st\\right) \\ dt = \\exp \\left(-sa\\right)\n",
    "$$\n",
    "$$\n",
    "\\mathcal{L}\\left\\{\\langle t-a\\rangle^{0}\\right\\} = \\int_{0}^{\\infty} \\langle t-a\\rangle^{0} \\cdot \\exp\\left(-st\\right) \\ dt = \\cdots = \\dfrac{\\exp \\left(-sa\\right)}{s}\n",
    "$$\n",
    "$$\n",
    "\\mathcal{L}\\left\\{\\langle t-a\\rangle^{1}\\right\\} = \\int_{0}^{\\infty} \\langle t-a\\rangle^{1} \\exp\\left(-st\\right) \\ dt = \\cdots =\\dfrac{\\exp \\left(-sa\\right)}{s^2}\n",
    "$$"
   ]
  },
  {
   "cell_type": "markdown",
   "metadata": {},
   "source": [
    "## Solution of base functions\n",
    "\n",
    "### Step function\n",
    "\n",
    "For the step function centered on the origin ($a=0$) the ODE is given by \n",
    "\n",
    "$$\n",
    "m\\ddot{x} + c\\dot{x} + kx = \\langle t-a \\rangle^{0}\n",
    "$$\n",
    "\n",
    "Transforming it to Laplace we get\n",
    "\n",
    "$$\n",
    "X_{step}(s) = \\dfrac{1}{ms^2+cs+k} \\cdot \\dfrac{\\exp \\left(-sa\\right)}{s}\n",
    "$$\n",
    "\n",
    "Then we can decompose it using partial fractions\n",
    "\n",
    "$$\n",
    "\\dfrac{\\exp (-sa)}{s} \\cdot \\dfrac{1}{ms^2+cs+k} = \\dfrac{\\exp(-sa)}{k} \\left[ \\dfrac{1}{s} - \\underbrace{\\dfrac{ms+c}{ms^2+cs+k}}_{X_{pos}} \\right]\n",
    "$$\n",
    "\n",
    "Then the solution $x_{step}(t)$ is given by\n",
    "\n",
    "$$\n",
    "x_{step}(t) = \\dfrac{1}{k}\\mathcal{L}^{-1}\\left\\{\\dfrac{\\exp \\left(-sa\\right)}{s}\\right\\} - \\dfrac{1}{k}\\mathcal{L}^{-1}\\left\\{\\exp \\left(-sa\\right)\\cdot X_{pos}\\right\\}\n",
    "$$\n",
    "\n",
    "$$\n",
    "x_{step}(t) = \\dfrac{\\langle t-a\\rangle^{0}}{k} - \\dfrac{\\langle t-a \\rangle^{0}}{k} x_{pos}(t-a)\n",
    "$$\n",
    "\n",
    "### Ramp function\n",
    "\n",
    "For the ramp\n",
    "\n",
    "$$\n",
    "m\\ddot{x} + c\\dot{x} + kx = \\langle t-a\\rangle ^{1}\n",
    "$$\n",
    "\n",
    "$$\n",
    "X_{ramp}(s) = \\dfrac{1}{ms^2+cs+k} \\cdot \\dfrac{\\exp \\left(-sa\\right)}{s^2}\n",
    "$$\n",
    "\n",
    "Making the partial fractions\n",
    "\n",
    "$$\n",
    "\\dfrac{1}{s^2} \\cdot \\dfrac{1}{ms^2+cs+k} = \\dfrac{1}{k} \\cdot \\left(\\dfrac{1}{s^2}\\right) - \\dfrac{c}{k^2} \\cdot \\left(\\dfrac{1}{s}\\right) + \\dfrac{c}{k^2} \\cdot \\underbrace{\\left(\\dfrac{ms + c}{ms^2+cs+k}\\right)}_{X_{pos}} - \\dfrac{1}{k} \\cdot \\underbrace{\\left(\\dfrac{m}{ms^2+cs+k}\\right)}_{X_{vel}}\n",
    "$$\n",
    "\n",
    "$$\n",
    "X_{ramp} = \\dfrac{1}{k} \\cdot \\left(\\dfrac{\\exp(-sa)}{s^2}\\right) - \\dfrac{c}{k} X_{step} - \\dfrac{1}{k} \\cdot \\exp(-sa) X_{vel}\n",
    "$$\n",
    "\n",
    "Then the solution is \n",
    "\n",
    "$$\n",
    "x_{ramp}(t) = \\dfrac{\\langle t-a\\rangle^{1}}{k} - \\dfrac{c}{k}x_{step}(t) - \\dfrac{\\langle t-a\\rangle^{0}}{k} \\cdot x_{vel}(t-a)\n",
    "$$\n",
    "\n"
   ]
  },
  {
   "cell_type": "code",
   "execution_count": 2,
   "metadata": {},
   "outputs": [
    {
     "name": "stdout",
     "output_type": "stream",
     "text": [
      "1\n"
     ]
    }
   ],
   "source": [
    "import sympy as sp\n",
    "\n",
    "m, c, k = sp.symbols(\"m c k\")\n",
    "s = sp.symbols(\"s\")\n",
    "\n",
    "Xpos = (m*s+c)/(m*s**2+c*s+k)\n",
    "Xvel = m/(m*s**2+c*s+k)\n",
    "expr = 1/(k*s**2)\n",
    "expr -= c/(s*k**2)\n",
    "expr += (c/k**2)*Xpos\n",
    "expr -= (1/k)*Xvel\n",
    "expr *= (m*s**2+c*s+k)\n",
    "expr *= s**2\n",
    "expr = sp.simplify(expr)\n",
    "expr = sp.expand(expr)\n",
    "print(expr)"
   ]
  },
  {
   "cell_type": "markdown",
   "metadata": {},
   "source": [
    "## Find final solution"
   ]
  },
  {
   "cell_type": "markdown",
   "metadata": {},
   "source": [
    "From the top whe have that, with $a=0$ the base functions become\n",
    "\n",
    "$$\n",
    "x_{pos}(t) = \\exp\\left(-\\xi \\omega_{n}t\\right) \\left[\\cos \\left(\\mu \\omega_{n}t\\right) + \\dfrac{\\xi}{\\mu} \\sin \\left(\\mu \\omega_{n}t\\right)\\right]\n",
    "$$\n",
    "$$\n",
    "x_{vel}(t) = \\dfrac{1}{\\mu \\omega_{n}}\\cdot \\exp\\left(-\\xi \\omega_{n}t\\right)\\sin \\left(\\mu \\omega_{n}t\\right)\n",
    "$$\n",
    "$$\n",
    "x_{step}(t) = \\dfrac{\\langle t\\rangle^{0}}{k} - \\dfrac{\\langle t\\rangle^{0}}{k} x_{pos}(t)\n",
    "$$\n",
    "$$\n",
    "x_{ramp}(t) = \\dfrac{\\langle t\\rangle^{1}}{k} - \\dfrac{c}{k} x_{step}(t) + \\dfrac{\\langle t\\rangle^{0}}{k} \\cdot x_{vel}(t)\n",
    "$$\n",
    "\n",
    "As we can rewrite \n",
    "\n",
    "$$\n",
    "f(t) = \\dfrac{f_0}{t_1-t_0} \\cdot \\langle t-t_0\\rangle^{1} - \\dfrac{f_0}{t_1-t_0} \\langle t-t_1\\rangle^{1} - f_0 \\cdot \\langle t-t_2\\rangle^{0}\n",
    "$$\n",
    "\n",
    "Then the final solution is given by\n",
    "\n",
    "$$\n",
    "x_{homo}(t) = x_0 \\cdot x_{pos}(t) + v_0 \\cdot x_{vel}(t)\n",
    "$$\n",
    "\n",
    "$$\n",
    "x_{forc}(t) = \\dfrac{f_0}{t_1-t_0} \\cdot x_{ramp}(t-t_0) - \\dfrac{f_0}{t_1-t_0} \\cdot x_{ramp}(t-t_1) - f_0 \\cdot x_{step}(t-t_2)\n",
    "$$\n",
    "\n",
    "$$\n",
    "x(t) = x_{homo}(t) + x_{forc}(t)\n",
    "$$\n"
   ]
  },
  {
   "cell_type": "markdown",
   "metadata": {},
   "source": [
    "## Implement numerical solution"
   ]
  },
  {
   "cell_type": "code",
   "execution_count": 3,
   "metadata": {},
   "outputs": [],
   "source": [
    "def solution_xpos(m: float, c: float, k: float, t):\n",
    "    wn = np.sqrt(k/m)\n",
    "    xi = c/(2*np.sqrt(k*m))\n",
    "    mu = np.sqrt(1-xi**2)\n",
    "    return np.exp(-xi*wn*t)*(np.cos(mu*wn*t) + (xi/mu)*np.sin(mu*wn*t))\n",
    "\n",
    "def solution_xvel(m: float, c: float, k: float, t):\n",
    "    wn = np.sqrt(k/m)\n",
    "    xi = c/(2*np.sqrt(k*m))\n",
    "    mu = np.sqrt(1-xi**2)\n",
    "    return np.exp(-xi*wn*t)*np.sin(mu*wn*t)/(mu*wn)\n",
    "\n",
    "def solution_step(m: float, c: float, k: float, t):\n",
    "    mask = t > 0\n",
    "    xpos = solution_xpos(m, c, k, t)\n",
    "    values = (1 - xpos)/k\n",
    "    return mask*values\n",
    "\n",
    "def solution_ramp(m: float, c: float, k: float, t):\n",
    "    mask = t > 0\n",
    "    xstep = solution_step(m, c, k, t)\n",
    "    xvel = solution_xvel(m, c, k, t)\n",
    "    values = (t/k) - (c/k)*xstep - (1/k)*xvel\n",
    "    return mask*values"
   ]
  },
  {
   "cell_type": "code",
   "execution_count": 4,
   "metadata": {},
   "outputs": [
    {
     "name": "stdout",
     "output_type": "stream",
     "text": [
      "Initial parameters:\n",
      "    m = 10.000 kg\n",
      "    c = 1.200 N*s/m\n",
      "    k = 10.000 N/m\n"
     ]
    }
   ],
   "source": [
    "k = 10  # Spring constant\n",
    "m = 10  # Mass constant\n",
    "c = 1.2  # Damper constant\n",
    "print(\"Initial parameters:\")\n",
    "print(\"    m = %.3f kg\" % m)\n",
    "print(\"    c = %.3f N*s/m\" % c)\n",
    "print(\"    k = %.3f N/m\" % k)"
   ]
  },
  {
   "cell_type": "code",
   "execution_count": 5,
   "metadata": {},
   "outputs": [
    {
     "name": "stdout",
     "output_type": "stream",
     "text": [
      "Parameters:\n",
      "   xi = 0.060\n",
      "   mu = 0.998\n",
      "   wn = 1.000 rad/s\n"
     ]
    }
   ],
   "source": [
    "xi = c/(2*np.sqrt(k*m))\n",
    "mu = np.sqrt(1-xi**2)\n",
    "wn = np.sqrt(k/m)\n",
    "print(\"Parameters:\")\n",
    "print(\"   xi = %.3f\" % xi)\n",
    "print(\"   mu = %.3f\" % mu)\n",
    "print(\"   wn = %.3f rad/s\" % wn)"
   ]
  },
  {
   "cell_type": "code",
   "execution_count": 6,
   "metadata": {},
   "outputs": [
    {
     "name": "stdout",
     "output_type": "stream",
     "text": [
      "Initial time:\n",
      "    Position = x0 = 1.000\n",
      "       Speed = v0 = -0.300\n"
     ]
    }
   ],
   "source": [
    "x0 = 1\n",
    "v0 = -0.3\n",
    "print(\"Initial time:\")\n",
    "print(\"    Position = x0 = %.3f\" % x0)\n",
    "print(\"       Speed = v0 = %.3f\" % v0)"
   ]
  },
  {
   "cell_type": "code",
   "execution_count": 7,
   "metadata": {},
   "outputs": [
    {
     "name": "stdout",
     "output_type": "stream",
     "text": [
      "Force parameters\n",
      "    f0 = 10.000\n",
      "    t0 = 1.000\n",
      "    t1 = 2.000\n",
      "    t2 = 3.000\n"
     ]
    }
   ],
   "source": [
    "f0 = 10\n",
    "t0, t1, t2 = 1, 2, 3\n",
    "print(\"Force parameters\")\n",
    "print(\"    f0 = %.3f\" % f0)\n",
    "print(\"    t0 = %.3f\" % t0)\n",
    "print(\"    t1 = %.3f\" % t1)\n",
    "print(\"    t2 = %.3f\" % t2)"
   ]
  },
  {
   "cell_type": "code",
   "execution_count": 8,
   "metadata": {},
   "outputs": [],
   "source": [
    "def f(t):\n",
    "    if t < t0:\n",
    "        return 0\n",
    "    if t < t1:\n",
    "        return f0 * (t-t0)/(t1-t0)\n",
    "    if t < t2:\n",
    "        return f0\n",
    "    return 0\n",
    "\n",
    "MAT = np.array([[0, 1],\n",
    "                [-k/m, -c/m]])\n",
    "VEC = np.zeros(2)\n",
    "def dydt(y, t):\n",
    "    VEC[1] = f(t)/m\n",
    "    return MAT @ y + VEC\n",
    "y0 = np.array([x0, v0])\n",
    "npts = 10250\n",
    "t = np.linspace(0, max(t2, 50), npts)\n",
    "Ynum = odeint(dydt, y0, t)"
   ]
  },
  {
   "cell_type": "code",
   "execution_count": 9,
   "metadata": {},
   "outputs": [
    {
     "data": {
      "image/png": "[encoded data removed]",
      "text/plain": [
       "<Figure size 1440x360 with 1 Axes>"
      ]
     },
     "metadata": {
      "needs_background": "light"
     },
     "output_type": "display_data"
    }
   ],
   "source": [
    "xpos = solution_xpos(m, c, k, t)\n",
    "xvel = solution_xvel(m, c, k, t)\n",
    "xhomo = x0*xpos + v0*xvel\n",
    "df0 = f0/(t1-t0)\n",
    "xforc0 = df0*solution_ramp(m, c, k, t-t0)\n",
    "xforc1 = -df0*solution_ramp(m, c, k, t-t1)\n",
    "xforc2 = -f0*solution_step(m, c, k, t-t2) \n",
    "xforc = xforc0 + xforc1 + xforc2\n",
    "plt.figure(figsize=(20, 5))\n",
    "for ti in [t0, t1, t2]:\n",
    "    plt.axvline(x=ti, ls=\"dotted\", color=\"g\")\n",
    "plt.plot(t, xhomo+xforc, color=\"k\", label=\"Analitic\")\n",
    "plt.plot(t, Ynum[:, 0], color=\"orange\", label=\"Numeric\")\n",
    "plt.plot(t, xhomo, ls=\"dotted\", color=\"b\", label=\"homogeneous\")\n",
    "plt.plot(t, xforc, ls=\"dotted\", color=\"r\", label=\"forced\")\n",
    "plt.legend()\n",
    "plt.grid()"
   ]
  },
  {
   "cell_type": "markdown",
   "metadata": {
    "created_in_deepnote_cell": true,
    "deepnote_cell_type": "markdown",
    "tags": []
   },
   "source": [
    "## Online available\n",
    "\n",
    "This python notebook is available online in GitHub on the link:\n",
    "\n",
    "* [GitHub/carlos-adir/UnB-Courses/vibracoes/Exercises5_VariableForce](https://github.com/carlos-adir/UnB-Courses/blob/main/vibracoes/Exercises5_VariableForce.ipynb)"
   ]
  }
 ],
 "metadata": {
  "deepnote": {},
  "deepnote_execution_queue": [],
  "deepnote_notebook_id": "b33895b7-d274-4096-893d-d1aaa9cd50e6",
  "kernelspec": {
   "display_name": "Python 3.10.5 64-bit",
   "language": "python",
   "name": "python3"
  },
  "language_info": {
   "codemirror_mode": {
    "name": "ipython",
    "version": 3
   },
   "file_extension": ".py",
   "mimetype": "text/x-python",
   "name": "python",
   "nbconvert_exporter": "python",
   "pygments_lexer": "ipython3",
   "version": "3.10.5"
  },
  "orig_nbformat": 2,
  "vscode": {
   "interpreter": {
    "hash": "bc7696eeafa34b5eae99a8ff85011d0682d74fe0e2a2436bba17f9270709e3f6"
   }
  }
 },
 "nbformat": 4,
 "nbformat_minor": 2
}
