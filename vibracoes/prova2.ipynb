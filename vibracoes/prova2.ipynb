{
 "cells": [
  {
   "cell_type": "code",
   "execution_count": 34,
   "metadata": {},
   "outputs": [],
   "source": [
    "import numpy as np\n",
    "import sympy as sp\n",
    "import scipy"
   ]
  },
  {
   "cell_type": "markdown",
   "metadata": {},
   "source": [
    "# Questão 1"
   ]
  },
  {
   "cell_type": "code",
   "execution_count": 35,
   "metadata": {},
   "outputs": [
    {
     "name": "stdout",
     "output_type": "stream",
     "text": [
      "wns = \n",
      "[0.61803399 1.61803399]\n",
      "phi = (1+sqrt(5))/2 =  1.618033988749895\n",
      "wns = \n",
      "[1/phi, phi]\n",
      "\n",
      "V1 = \n",
      "[phi, -1] =  [1.618033988749895, -1]\n",
      "V2 = \n",
      "[1, phi] =  [1, 1.618033988749895]\n",
      "\n",
      "V = \n",
      "[phi,  1]\n",
      "[-1, phi]\n",
      "\n",
      "ms = [3+4*phi, 3-phi]\n",
      "   = [4*phi + 3, 3 - phi]\n",
      "ks = [2+phi, 2+phi]\n",
      "   = [phi + 2, phi + 2]\n"
     ]
    }
   ],
   "source": [
    "m = 1\n",
    "L = 1\n",
    "Ic = m*L**2\n",
    "k1 = k2 = 1\n",
    "M = np.array([[2*m, -m],\n",
    "              [-m, m]])\n",
    "K = np.array([[k1, 0],\n",
    "              [0, k2]])\n",
    "wns2, B = scipy.linalg.eigh(K, M)\n",
    "print(\"wns = \")\n",
    "print(np.sqrt(wns2))\n",
    "phi = (1+np.sqrt(5))/2\n",
    "print(\"phi = (1+sqrt(5))/2 = \", phi)\n",
    "print(\"wns = \")\n",
    "print(\"[1/phi, phi]\")\n",
    "print(\"\")\n",
    "print(\"V1 = \")\n",
    "print(\"[phi, -1] = \", [phi, -1])\n",
    "print(\"V2 = \")\n",
    "print(\"[1, phi] = \", [1, phi])\n",
    "print(\"\")\n",
    "print(\"V = \")\n",
    "print(\"[phi,  1]\")\n",
    "print(\"[-1, phi]\")\n",
    "print(\"\")\n",
    "phi = sp.symbols(\"phi\")\n",
    "V = np.array([[phi,  1],\n",
    "              [-1, phi]])\n",
    "ms = [3+4*phi, 3-phi]\n",
    "ks = [2+phi, 2+phi]\n",
    "print(\"ms = [3+4*phi, 3-phi]\")\n",
    "print(\"   =\", ms)\n",
    "print(\"ks = [2+phi, 2+phi]\")\n",
    "print(\"   =\", ks)\n"
   ]
  },
  {
   "cell_type": "markdown",
   "metadata": {},
   "source": [
    "# Questão 2"
   ]
  },
  {
   "cell_type": "code",
   "execution_count": 36,
   "metadata": {},
   "outputs": [],
   "source": [
    "m1 = 73  # kg\n",
    "k1 = 2600  # N/m\n",
    "da = 0.002  # m\n",
    "F0 = 13  # N\n",
    "wop = 3*2*np.pi  # rad/s"
   ]
  },
  {
   "cell_type": "markdown",
   "metadata": {},
   "source": [
    "Temos que \n",
    "\n",
    "$$\n",
    "[M]\\{\\ddot{X}\\} + [C]\\{\\ddot{X}\\} + [K]\\{X\\} = \\{F_0\\} \\cdot \\exp(i\\omega t)\n",
    "$$\n",
    "$$\n",
    "\\left(-\\omega^2 [M] + i\\omega [C] + [K]\\right)\\cdot X = \\{F_0\\}\\exp \\left(i\\omega t\\right)\n",
    "$$\n",
    "$$\n",
    "X = \\left(-\\omega^2 [M] + i\\omega [C] + [K]\\right)^{-1} \\cdot \\{F_0\\} \\cdot \\exp\\left(i\\omega t \\right)\n",
    "$$"
   ]
  },
  {
   "cell_type": "markdown",
   "metadata": {},
   "source": [
    "Seja \n",
    "\n",
    "$$\n",
    "[M] = \\begin{bmatrix} m_1 & 0 \\\\ 0 & m_2\n",
    "\\end{bmatrix}\n",
    "$$\n",
    "$$\n",
    "[C] = \\begin{bmatrix} 0 & 0 \\\\ 0 & 0\n",
    "\\end{bmatrix}\n",
    "$$\n",
    "$$\n",
    "[K] = \\begin{bmatrix} k_1+k_2 & -k_2 \\\\ -k_2 & k_2\n",
    "\\end{bmatrix}\n",
    "$$\n",
    "\n",
    "Então temos\n",
    "$$\n",
    "[K]-\\omega^2 [M] = \\begin{bmatrix}\n",
    "k_1+k_2 -\\omega^2 m_1 & -k_2 \\\\\n",
    "-k_2 & k_2 -\\omega^2 m_2\n",
    "\\end{bmatrix}\n",
    "$$\n",
    "$$\n",
    "\\det \\left([K]-\\omega^2 [M]\\right) = m_1m_2 \\omega^4 - \\omega^2 \\left(k_1m_2+k_2m_1+k_2m_2\\right)+k_1k_2\n",
    "$$\n",
    "$$\n",
    "\\left([K]-\\omega^2 [M]\\right)^{-1} = \\dfrac{1}{\\det \\left([K]-\\omega^2[M]\\right)} \\cdot \\begin{bmatrix}\n",
    "k_2 -\\omega^2 m_2 & k_2 \\\\ k_2 & k_1 + k_2 - \\omega^2 m_1\\end{bmatrix}\n",
    "$$\n"
   ]
  },
  {
   "cell_type": "markdown",
   "metadata": {},
   "source": [
    "Desta forma, teremos\n",
    "$$\n",
    "\\begin{bmatrix}\n",
    "X_1 \\\\ X_2\n",
    "\\end{bmatrix}\n",
    "= \\left([K]-\\omega^2[M]\\right)^{-1} \\cdot \\begin{bmatrix}\n",
    "F_0 \\\\ 0 \\end{bmatrix} \\cdot \\exp \\left(i\\omega t\\right)\n",
    "$$\n",
    "\n",
    "De forma que temos\n",
    "\n",
    "$$\n",
    "X_1 = \\dfrac{k_2 - \\omega^2 m_2}{\\det \\left([K]-\\omega^2[M]\\right)} \\cdot F_0 \\cdot \\exp \\left(i\\omega t\\right)\n",
    "$$\n",
    "$$\n",
    "X_2 = \\dfrac{k_2}{\\det \\left([K]-\\omega^2[M]\\right)} \\cdot F_0 \\cdot \\exp \\left(i\\omega t\\right)\n",
    "$$"
   ]
  },
  {
   "cell_type": "markdown",
   "metadata": {},
   "source": [
    "Tomando a frequência $\\omega$ aquela que queremos anular o termo $X_1$ teremos\n",
    "\n",
    "$$\n",
    "k_2 - \\omega^2 m_2 = 0 \\Rightarrow k_2 = m_2\\omega^2 \\ \\ \\ \\ \\ \\ \\ \\ \\ (2)\n",
    "$$"
   ]
  },
  {
   "cell_type": "markdown",
   "metadata": {},
   "source": [
    "Agora, teremos a limitação devido ao deslocamento da massa 2. Isto se traduz como\n",
    "\n",
    "$$\n",
    "\\dfrac{k_2}{\\det\\left([K]-\\omega^2[M]\\right)}=\\dfrac{X_2}{F_0} \\le \\dfrac{\\Delta a}{F_0}\\ \\ \\ \\ \\ \\ \\ \\ (3)\n",
    "$$\n",
    "\n",
    "Então substituindo teremos\n",
    "\n",
    "$$\n",
    "\\dfrac{k_2}{m_1m_2 \\omega^4 - \\omega^2 \\left(k_1m_2+k_2m_1+k_2m_2\\right)+k_1k_2} \\le \\dfrac{\\Delta a}{F_0}\\ \\ \\ \\ \\ \\ \\ \\ (4) \n",
    "$$\n",
    "\n",
    "Colocando $(2)$ em $(4)$ teremos\n",
    "\n",
    "$$\n",
    "\\dfrac{m_2 \\omega^2}{m_1m_2 \\omega^4 - \\omega^2 \\left(k_1m_2+m_2\\omega^2m_1+m_2m_2\\omega^2\\right)+k_1m_2\\omega^2} \\le \\dfrac{\\Delta a}{F_0}\n",
    "$$\n",
    "\n",
    "Substituindo os valores utilizando o python teremos"
   ]
  },
  {
   "cell_type": "code",
   "execution_count": 42,
   "metadata": {},
   "outputs": [
    {
     "name": "stdout",
     "output_type": "stream",
     "text": [
      "left = \n",
      "0.00281447732339828/m2\n",
      "right = \n",
      "0.00015384615384615385\n",
      "m2 =  -4.329965112920425e-07\n"
     ]
    }
   ],
   "source": [
    "m2 = sp.symbols(\"m2\", real=True, positive=True)\n",
    "k2 = sp.symbols(\"k2\", real=True, positive=True)\n",
    "K = np.array([[k1+k2, -k2],\n",
    "              [-k2, k2]])\n",
    "M = np.array([])\n",
    "\n",
    "denominador = m1*m2*w**4 - w**2 *(k1*m2+k2*m1+k2*m2)+k1*k2\n",
    "left = k2/denominador\n",
    "left = 355.305758439217*m2/(126242.181980067*m2**2)\n",
    "right = da/F0\n",
    "print(\"left = \")\n",
    "print(left)\n",
    "print(\"right = \")\n",
    "print(right)\n",
    "m2 = (right*355.305758439217)/(-126242.181980067)\n",
    "print(\"m2 = \", m2)"
   ]
  }
 ],
 "metadata": {
  "kernelspec": {
   "display_name": "Python 3.10.5 64-bit",
   "language": "python",
   "name": "python3"
  },
  "language_info": {
   "codemirror_mode": {
    "name": "ipython",
    "version": 3
   },
   "file_extension": ".py",
   "mimetype": "text/x-python",
   "name": "python",
   "nbconvert_exporter": "python",
   "pygments_lexer": "ipython3",
   "version": "3.10.5"
  },
  "orig_nbformat": 4,
  "vscode": {
   "interpreter": {
    "hash": "bc7696eeafa34b5eae99a8ff85011d0682d74fe0e2a2436bba17f9270709e3f6"
   }
  }
 },
 "nbformat": 4,
 "nbformat_minor": 2
}
