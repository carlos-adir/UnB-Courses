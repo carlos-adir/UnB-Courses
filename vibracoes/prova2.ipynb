{
 "cells": [
  {
   "cell_type": "code",
   "execution_count": 1,
   "metadata": {},
   "outputs": [],
   "source": [
    "import numpy as np\n",
    "import sympy as sp\n",
    "import scipy"
   ]
  },
  {
   "cell_type": "markdown",
   "metadata": {},
   "source": [
    "# Questão 1"
   ]
  },
  {
   "cell_type": "code",
   "execution_count": 2,
   "metadata": {},
   "outputs": [
    {
     "name": "stdout",
     "output_type": "stream",
     "text": [
      "wns = \n",
      "[0.61803399 1.61803399]\n",
      "phi = (1+sqrt(5))/2 =  1.618033988749895\n",
      "wns = \n",
      "[1/phi, phi]\n",
      "\n",
      "V1 = \n",
      "[phi, -1] =  [1.618033988749895, -1]\n",
      "V2 = \n",
      "[1, phi] =  [1, 1.618033988749895]\n",
      "\n",
      "V = \n",
      "[phi,  1]\n",
      "[-1, phi]\n",
      "\n",
      "ms = [3+4*phi, 3-phi]\n",
      "ks = [2+phi, 2+phi]\n",
      "B simbolico = \n",
      "[phi/sqrt(3+4*phi)      1/sqrt(3-phi)]\n",
      "[ -1/sqrt(3+4*phi)    phi/sqrt(3-phi)]\n",
      "B simbolico = \n",
      "[[ 0.52573111  0.85065081]\n",
      " [-0.3249197   1.37638192]]\n",
      "B scipy = \n",
      "[[-0.52573111  0.85065081]\n",
      " [ 0.3249197   1.37638192]]\n"
     ]
    }
   ],
   "source": [
    "m = 1\n",
    "L = 1\n",
    "Ic = m*L**2\n",
    "k1 = k2 = 1\n",
    "M = np.array([[2*m, -m],\n",
    "              [-m, m]])\n",
    "K = np.array([[k1, 0],\n",
    "              [0, k2]])\n",
    "wns2, B = scipy.linalg.eigh(K, M)\n",
    "print(\"wns = \")\n",
    "print(np.sqrt(wns2))\n",
    "phi = (1+np.sqrt(5))/2\n",
    "print(\"phi = (1+sqrt(5))/2 = \", phi)\n",
    "print(\"wns = \")\n",
    "print(\"[1/phi, phi]\")\n",
    "print(\"\")\n",
    "print(\"V1 = \")\n",
    "print(\"[phi, -1] = \", [phi, -1])\n",
    "print(\"V2 = \")\n",
    "print(\"[1, phi] = \", [1, phi])\n",
    "print(\"\")\n",
    "print(\"V = \")\n",
    "print(\"[phi,  1]\")\n",
    "print(\"[-1, phi]\")\n",
    "print(\"\")\n",
    "# phi = sp.symbols(\"phi\")\n",
    "V = np.array([[phi,  1],\n",
    "              [-1, phi]])\n",
    "ms = [3+4*phi, 3-phi]\n",
    "ks = [2+phi, 2+phi]\n",
    "print(\"ms = [3+4*phi, 3-phi]\")\n",
    "print(\"ks = [2+phi, 2+phi]\")\n",
    "print(\"B simbolico = \")\n",
    "print(\"[phi/sqrt(3+4*phi)      1/sqrt(3-phi)]\")\n",
    "print(\"[ -1/sqrt(3+4*phi)    phi/sqrt(3-phi)]\")\n",
    "Bsymb = np.array([[phi/np.sqrt(3+4*phi), 1/np.sqrt(3-phi)],\n",
    "                  [-1/np.sqrt(3+4*phi), phi/np.sqrt(3-phi)]])\n",
    "print(\"B simbolico = \")\n",
    "print(Bsymb)\n",
    "print(\"B scipy = \")\n",
    "print(B)"
   ]
  },
  {
   "cell_type": "markdown",
   "metadata": {},
   "source": [
    "# Questão 2"
   ]
  },
  {
   "cell_type": "code",
   "execution_count": 3,
   "metadata": {},
   "outputs": [],
   "source": [
    "m1 = 73  # kg\n",
    "k1 = 2600  # N/m\n",
    "da = 0.002  # m\n",
    "F0 = 13  # N\n",
    "wop = 3*2*np.pi  # rad/s\n",
    "m2, k2 = sp.symbols(\"m2 k2\", real=True, positive=True)  # A descobrir"
   ]
  },
  {
   "cell_type": "markdown",
   "metadata": {},
   "source": [
    "Temos que \n",
    "\n",
    "$$\n",
    "[M]\\{\\ddot{X}\\} + [C]\\{\\ddot{X}\\} + [K]\\{X\\} = \\{F_0\\} \\cdot \\exp(i\\omega t)\n",
    "$$\n",
    "$$\n",
    "\\left(-\\omega^2 [M] + i\\omega [C] + [K]\\right)\\cdot \\{X\\} = \\{F_0\\}\\exp \\left(i\\omega t\\right)\n",
    "$$\n",
    "$$\n",
    "\\{X\\} = \\left(-\\omega^2 [M] + i\\omega [C] + [K]\\right)^{-1} \\cdot \\{F_0\\} \\cdot \\exp\\left(i\\omega t \\right)\n",
    "$$"
   ]
  },
  {
   "cell_type": "markdown",
   "metadata": {},
   "source": [
    "Seja \n",
    "\n",
    "$$\n",
    "[M] = \\begin{bmatrix} m_1 & 0 \\\\ 0 & m_2\n",
    "\\end{bmatrix}\n",
    "$$\n",
    "$$\n",
    "[C] = \\begin{bmatrix} 0 & 0 \\\\ 0 & 0\n",
    "\\end{bmatrix}\n",
    "$$\n",
    "$$\n",
    "[K] = \\begin{bmatrix} k_1+k_2 & -k_2 \\\\ -k_2 & k_2\n",
    "\\end{bmatrix}\n",
    "$$\n",
    "\n"
   ]
  },
  {
   "cell_type": "code",
   "execution_count": 4,
   "metadata": {},
   "outputs": [
    {
     "name": "stdout",
     "output_type": "stream",
     "text": [
      "K = \n",
      "Matrix([[k2 + 2600, -k2], [-k2, k2]])\n",
      "M = \n",
      "Matrix([[73, 0], [0, m2]])\n"
     ]
    }
   ],
   "source": [
    "K = sp.Matrix([[k1+k2, -k2],\n",
    "               [-k2, k2]])\n",
    "M = sp.Matrix([[m1, 0],\n",
    "               [0, m2]])\n",
    "print(\"K = \")\n",
    "print(K)\n",
    "print(\"M = \")\n",
    "print(M)"
   ]
  },
  {
   "cell_type": "markdown",
   "metadata": {},
   "source": [
    "Então temos\n",
    "\n",
    "$$\n",
    "[K]-\\omega^2 [M] = \\begin{bmatrix}\n",
    "k_1+k_2 -\\omega^2 m_1 & -k_2 \\\\\n",
    "-k_2 & k_2 -\\omega^2 m_2\n",
    "\\end{bmatrix}\n",
    "$$\n",
    "$$\n",
    "\\det \\left([K]-\\omega^2 [M]\\right) = m_1m_2 \\omega^4 - \\omega^2 \\left(k_1m_2+k_2m_1+k_2m_2\\right)+k_1k_2\n",
    "$$\n",
    "$$\n",
    "\\left([K]-\\omega^2 [M]\\right)^{-1} = \\dfrac{1}{\\det \\left([K]-\\omega^2[M]\\right)} \\cdot \\begin{bmatrix}\n",
    "k_2 -\\omega^2 m_2 & k_2 \\\\ k_2 & k_1 + k_2 - \\omega^2 m_1\\end{bmatrix}\n",
    "$$"
   ]
  },
  {
   "cell_type": "code",
   "execution_count": 5,
   "metadata": {},
   "outputs": [
    {
     "name": "stdout",
     "output_type": "stream",
     "text": [
      "Mat = \n",
      "Matrix([[k2 - 23337.3203660628, -k2], [-k2, k2 - 355.305758439217*m2]])\n",
      "det(Mat) = \n",
      "-355.305758439217*k2*m2 - 23337.3203660628*k2 + 8291884.31260294*m2\n",
      "inv(Mat) = \n"
     ]
    },
    {
     "data": {
      "text/latex": [
       "$\\displaystyle \\left[\\begin{matrix}\\frac{- 1.0 k_{2} + 355.305758439217 m_{2}}{355.305758439217 k_{2} m_{2} + 23337.3203660628 k_{2} - 8291884.31260294 m_{2}} & - \\frac{1.0 k_{2}}{355.305758439217 k_{2} m_{2} + 23337.3203660628 k_{2} - 8291884.31260294 m_{2}}\\\\- \\frac{1.0 k_{2}}{355.305758439217 k_{2} m_{2} + 23337.3203660628 k_{2} - 8291884.31260294 m_{2}} & \\frac{23337.3203660628 - 1.0 k_{2}}{355.305758439217 k_{2} m_{2} + 23337.3203660628 k_{2} - 8291884.31260294 m_{2}}\\end{matrix}\\right]$"
      ],
      "text/plain": [
       "Matrix([\n",
       "[(-1.0*k2 + 355.305758439217*m2)/(355.305758439217*k2*m2 + 23337.3203660628*k2 - 8291884.31260294*m2),                     -1.0*k2/(355.305758439217*k2*m2 + 23337.3203660628*k2 - 8291884.31260294*m2)],\n",
       "[                        -1.0*k2/(355.305758439217*k2*m2 + 23337.3203660628*k2 - 8291884.31260294*m2), (23337.3203660628 - 1.0*k2)/(355.305758439217*k2*m2 + 23337.3203660628*k2 - 8291884.31260294*m2)]])"
      ]
     },
     "execution_count": 5,
     "metadata": {},
     "output_type": "execute_result"
    }
   ],
   "source": [
    "Mat = sp.Matrix(K - wop**2 * M)\n",
    "print(\"Mat = \")\n",
    "print(Mat)\n",
    "print(\"det(Mat) = \")\n",
    "detMat = Mat.det()\n",
    "print(detMat)\n",
    "invMat = Mat.inv()\n",
    "print(\"inv(Mat) = \")\n",
    "invMat"
   ]
  },
  {
   "cell_type": "markdown",
   "metadata": {},
   "source": [
    "Desta forma, teremos\n",
    "$$\n",
    "\\begin{bmatrix}\n",
    "X_1 \\\\ X_2\n",
    "\\end{bmatrix}\n",
    "= \\left([K]-\\omega^2[M]\\right)^{-1} \\cdot \\begin{bmatrix}\n",
    "F_0 \\\\ 0 \\end{bmatrix} \\cdot \\exp \\left(i\\omega t\\right)\n",
    "$$\n",
    "\n",
    "De forma que temos\n",
    "\n",
    "$$\n",
    "X_1 = \\dfrac{k_2 - \\omega^2 m_2}{\\det \\left([K]-\\omega^2[M]\\right)} \\cdot F_0 \\cdot \\exp \\left(i\\omega t\\right)\n",
    "$$\n",
    "$$\n",
    "X_2 = \\dfrac{k_2}{\\det \\left([K]-\\omega^2[M]\\right)} \\cdot F_0 \\cdot \\exp \\left(i\\omega t\\right)\n",
    "$$"
   ]
  },
  {
   "cell_type": "code",
   "execution_count": 6,
   "metadata": {},
   "outputs": [
    {
     "name": "stdout",
     "output_type": "stream",
     "text": [
      "X1 = \n",
      "13*(-1.0*k2 + 355.305758439217*m2)/(355.305758439217*k2*m2 + 23337.3203660628*k2 - 8291884.31260294*m2)\n",
      "X2 = \n",
      "-13.0*k2/(355.305758439217*k2*m2 + 23337.3203660628*k2 - 8291884.31260294*m2)\n"
     ]
    }
   ],
   "source": [
    "F = sp.Matrix([[F0], [0]])\n",
    "X1, X2 = invMat @ F\n",
    "print(\"X1 = \")\n",
    "print(X1)\n",
    "print(\"X2 = \")\n",
    "print(X2)"
   ]
  },
  {
   "cell_type": "markdown",
   "metadata": {},
   "source": [
    "Tomando a frequência $\\omega$ aquela que queremos anular o termo $X_1$ teremos\n",
    "\n",
    "$$\n",
    "k_2 - \\omega^2 m_2 = 0 \\Rightarrow k_2 = m_2\\omega^2 \\ \\ \\ \\ \\ \\ \\ \\ \\ (2)\n",
    "$$"
   ]
  },
  {
   "cell_type": "code",
   "execution_count": 7,
   "metadata": {},
   "outputs": [
    {
     "data": {
      "text/latex": [
       "$\\displaystyle \\frac{0.0365882052041775}{m_{2}}$"
      ],
      "text/plain": [
       "0.0365882052041775/m2"
      ]
     },
     "execution_count": 7,
     "metadata": {},
     "output_type": "execute_result"
    }
   ],
   "source": [
    "K = K.subs(k2, m2*wop**2)\n",
    "M = M.subs(k2, m2*wop**2)\n",
    "Mat = K - wop**2 * M\n",
    "invMat = Mat.inv()\n",
    "_, X2 = sp.Abs(invMat @ F)\n",
    "X2"
   ]
  },
  {
   "cell_type": "markdown",
   "metadata": {},
   "source": [
    "Agora, teremos a limitação devido ao deslocamento da massa 2. Isto se traduz como\n",
    "\n",
    "$$\n",
    "\\dfrac{k_2}{\\det\\left([K]-\\omega^2[M]\\right)}=\\dfrac{X_2}{F_0} \\le \\dfrac{\\Delta a}{F_0}\\ \\ \\ \\ \\ \\ \\ \\ (3)\n",
    "$$\n",
    "\n",
    "Então resolvendo utilizando o ```sympy```"
   ]
  },
  {
   "cell_type": "code",
   "execution_count": 8,
   "metadata": {},
   "outputs": [
    {
     "name": "stdout",
     "output_type": "stream",
     "text": [
      "m2 = 18.294\n",
      "k2 = 6500.000\n"
     ]
    }
   ],
   "source": [
    "solution = sp.solve(X2-da, m2)\n",
    "m2 = solution[0]\n",
    "k2 = wop**2 * m2\n",
    "print(\"m2 = %.3f\" % m2)\n",
    "print(\"k2 = %.3f\" % k2)"
   ]
  },
  {
   "cell_type": "markdown",
   "metadata": {},
   "source": [
    "Logo, temos os valores da mola e da massa\n",
    "\n",
    "$$\n",
    "k_2 = 6500 N/m\n",
    "$$\n",
    "$$\n",
    "m_2 = 18.294 kg\n",
    "$$"
   ]
  }
 ],
 "metadata": {
  "kernelspec": {
   "display_name": "Python 3.10.5 64-bit",
   "language": "python",
   "name": "python3"
  },
  "language_info": {
   "codemirror_mode": {
    "name": "ipython",
    "version": 3
   },
   "file_extension": ".py",
   "mimetype": "text/x-python",
   "name": "python",
   "nbconvert_exporter": "python",
   "pygments_lexer": "ipython3",
   "version": "3.10.5"
  },
  "orig_nbformat": 4,
  "vscode": {
   "interpreter": {
    "hash": "bc7696eeafa34b5eae99a8ff85011d0682d74fe0e2a2436bba17f9270709e3f6"
   }
  }
 },
 "nbformat": 4,
 "nbformat_minor": 2
}
