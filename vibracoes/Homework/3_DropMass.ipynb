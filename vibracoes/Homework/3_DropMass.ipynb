{
 "cells": [
  {
   "cell_type": "markdown",
   "metadata": {},
   "source": [
    "[![Open In Colab](https://colab.research.google.com/assets/colab-badge.svg)](https://colab.research.google.com/github/carlos-adir/UnB-Courses/blob/main/vibracoes/dropmass.ipynb)"
   ]
  },
  {
   "cell_type": "code",
   "execution_count": 1,
   "metadata": {
    "cell_id": "426669822dcb4ccda2cef67ad1593791",
    "deepnote_cell_height": 460.546875,
    "deepnote_cell_type": "code",
    "deepnote_to_be_reexecuted": false,
    "execution_millis": 5983,
    "execution_start": 1656340283440,
    "source_hash": "65dab9a9",
    "tags": []
   },
   "outputs": [],
   "source": [
    "import numpy as np\n",
    "try:\n",
    "    from matplolib import pyplot as plt\n",
    "except ModuleNotFoundError:\n",
    "    import os\n",
    "    os.system(\"pip install matplotlib\")\n",
    "    from matplotlib import pyplot as plt"
   ]
  },
  {
   "cell_type": "markdown",
   "metadata": {},
   "source": [
    "# Description\n",
    "\n",
    "There is a system of mass $m_1$ which has connected a spring $k$ and a damper $c$. There is another mass $m_2$ at height $h$ with respect to the mass $m_1$ and both mass is in action of the gravity $g$.\n",
    "\n",
    "\n",
    "Then, we compute the futher moments given the initial conditions."
   ]
  },
  {
   "cell_type": "code",
   "execution_count": 2,
   "metadata": {},
   "outputs": [
    {
     "name": "stdout",
     "output_type": "stream",
     "text": [
      "Initial parameters:\n",
      "   m1 = 1.000 kg\n",
      "   m2 = 1.000 kg\n",
      "    c = 1.200 N*s/m\n",
      "    k = 10.000 N/m\n",
      "    g = 9.800 m/s^2\n",
      " coef = 0.000\n"
     ]
    }
   ],
   "source": [
    "k = 10  # Spring constant\n",
    "m1 = 1  # Mass of object 1\n",
    "m2 = 1  # Mass of object 2\n",
    "c = 1.2  # Damper constant\n",
    "g = 9.8  # Gravity\n",
    "coef = 0.0 # Colision coefficient, between [0, 1]\n",
    "inelastic = False if coef else True\n",
    "print(\"Initial parameters:\")\n",
    "print(\"   m1 = %.3f kg\" % m1)\n",
    "print(\"   m2 = %.3f kg\" % m2)\n",
    "print(\"    c = %.3f N*s/m\" % c)\n",
    "print(\"    k = %.3f N/m\" % k)\n",
    "print(\"    g = %.3f m/s^2\" % g)\n",
    "print(\" coef = %.3f\" % coef)"
   ]
  },
  {
   "cell_type": "code",
   "execution_count": 3,
   "metadata": {},
   "outputs": [
    {
     "name": "stdout",
     "output_type": "stream",
     "text": [
      "Parameters before the contact:\n",
      "   xi1 = 0.190\n",
      "   mu1 = 0.982\n",
      "   wn1 = 3.162 rad/s\n",
      "   Td1 = 2.024 s\n",
      "   xe1 = -0.980 m\n",
      "Parameters after the contact:\n",
      "   xi2 = 0.134\n",
      "   mu2 = 0.991\n",
      "   wn2 = 2.236 rad/s\n",
      "   Td2 = 2.836 s\n",
      "   xe2 = -1.960 m\n"
     ]
    }
   ],
   "source": [
    "xi1 = c/(2*np.sqrt(k*m1))\n",
    "mu1 = np.sqrt(1-xi1**2)\n",
    "wn1 = np.sqrt(k/m1)\n",
    "Td1 = 2*np.pi/(mu1*wn1)\n",
    "xe1 = -m1*g/k\n",
    "print(\"Parameters before the contact:\")\n",
    "print(\"   xi1 = %.3f\" % xi1)\n",
    "print(\"   mu1 = %.3f\" % mu1)\n",
    "print(\"   wn1 = %.3f rad/s\" % wn1)\n",
    "print(\"   Td1 = %.3f s\" % Td1)\n",
    "print(\"   xe1 = %.3f m\" % xe1)\n",
    "\n",
    "if inelastic:\n",
    "    wn2 = np.sqrt(k/(m1+m2))\n",
    "    xi2 = c/(2*np.sqrt(k*(m1+m2)))\n",
    "    mu2 = np.sqrt(1-xi2**2)\n",
    "    Td2 = 2*np.pi/(mu2*wn2)\n",
    "    xe2 = -(m1+m2)*g/k\n",
    "    print(\"Parameters after the contact:\")\n",
    "    print(\"   xi2 = %.3f\" % xi2)\n",
    "    print(\"   mu2 = %.3f\" % mu2)\n",
    "    print(\"   wn2 = %.3f rad/s\" % wn2)\n",
    "    print(\"   Td2 = %.3f s\" % Td2)\n",
    "    print(\"   xe2 = %.3f m\" % xe2)"
   ]
  },
  {
   "cell_type": "code",
   "execution_count": 4,
   "metadata": {},
   "outputs": [
    {
     "name": "stdout",
     "output_type": "stream",
     "text": [
      "Point x:\n",
      "    Position = x0 = 3.000\n",
      "       Speed = v0 = 1.000\n",
      "Point y:\n",
      "    Position = y0 = 3.200\n",
      "       Speed = u0 = 1.000\n"
     ]
    }
   ],
   "source": [
    "x0 = 3\n",
    "v0 = 1\n",
    "h = 0.2\n",
    "y0 = h + x0\n",
    "u0 = 1\n",
    "\n",
    "print(\"Point x:\")\n",
    "print(\"    Position = x0 = %.3f\" % x0)\n",
    "print(\"       Speed = v0 = %.3f\" % v0)\n",
    "print(\"Point y:\")\n",
    "print(\"    Position = y0 = %.3f\" % y0)\n",
    "print(\"       Speed = u0 = %.3f\" % u0)"
   ]
  },
  {
   "cell_type": "markdown",
   "metadata": {},
   "source": [
    "### Describe kinematic equations\n",
    "\n",
    "The frist object, as we will consider it's underdamped, that means the solution for $x(t)$ in a general way is given by\n",
    "\n",
    "$$\n",
    "x(t) = x_e + \\exp \\left(-\\xi \\omega t\\right) \\left[A \\cos \\mu \\omega t + B \\sin \\mu \\omega t\\right]\n",
    "$$\n",
    "\n",
    "Where\n",
    "\n",
    "* $x_e$ is the stationary point\n",
    "* $\\xi$ is the damper coefficient\n",
    "* $\\omega$ is the natural frequency\n",
    "* $\\mu$ is $\\sqrt{1-\\xi^2}$ to facilitate notation\n",
    "* $A$ and $B$ are dependend on the initial conditions\n",
    "\n",
    "$$\n",
    "A = x_0  \\ \\ \\ \\ \\ \\ \\ \\ \\ \\ \\ \\ \\ \\ B = \\dfrac{\\xi}{\\mu} \\cdot x_0 + \\dfrac{1}{\\mu \\omega} \\cdot v_0\n",
    "$$\n",
    "\n",
    "It's velocity is therefore\n",
    "\n",
    "$$\n",
    "v(t) = \\omega \\exp \\left(-\\xi \\omega t\\right)\\left[(-\\xi A + \\mu B) \\cos \\mu \\omega t - (\\mu A + \\xi B) \\sin \\mu \\omega t\\right]\n",
    "$$"
   ]
  },
  {
   "cell_type": "code",
   "execution_count": 5,
   "metadata": {},
   "outputs": [],
   "source": [
    "def get_AB(x0: float, v0:float, xi:float, wn:float):\n",
    "    mu = np.sqrt(1-xi**2)\n",
    "    A = x0\n",
    "    B = A * xi/mu + v0/(mu*wn)\n",
    "    return A, B\n",
    "\n",
    "def compute_px(t, x0:float, v0:float, xi:float, wn:float, xe:float):\n",
    "    mu = np.sqrt(1-xi**2)\n",
    "    A, B = get_AB(x0 - xe, v0, xi, wn)\n",
    "    COS = np.cos(mu*wn*t)\n",
    "    SIN = np.sin(mu*wn*t)\n",
    "    EXP = np.exp(-xi*wn*t)\n",
    "    return xe + EXP * (A * COS + B * SIN)\n",
    "\n",
    "def compute_vx(t, x0:float, v0:float, xi:float, wn:float, xe:float):\n",
    "    mu = np.sqrt(1-xi**2)\n",
    "    A, B = get_AB(x0 - xe, v0, xi, wn)\n",
    "    COS = np.cos(mu*wn*t)\n",
    "    SIN = np.sin(mu*wn*t)\n",
    "    EXP = np.exp(-xi*wn*t)\n",
    "    return wn * EXP * ( COS * (-xi * A + mu * B) - SIN * (mu * A + xi * B))"
   ]
  },
  {
   "cell_type": "markdown",
   "metadata": {},
   "source": [
    "For the second object, we will have only one parabola\n",
    "\n",
    "$$\n",
    "y(t) = y_0 + u_0 t - \\dfrac{1}{2} g t^2\n",
    "$$\n",
    "\n",
    "$$\n",
    "u(t) = u_0 - g t\n",
    "$$"
   ]
  },
  {
   "cell_type": "code",
   "execution_count": 6,
   "metadata": {},
   "outputs": [],
   "source": [
    "def compute_py(t, y0:float, u0:float, g:float):\n",
    "    return y0 + u0*t - g * t**2/2\n",
    "\n",
    "def compute_vy(t, y0:float, u0:float, g:float):\n",
    "    return u0 - g * t"
   ]
  },
  {
   "cell_type": "markdown",
   "metadata": {},
   "source": [
    "### Compute colision time\n",
    "\n",
    "Then, with the initial conditions $(x_0, v_0, y_0, u_0)$ we can compute the colision time $T_1$ which is when\n",
    "\n",
    "$$\n",
    "x(T_1) = y(T_1)\n",
    "$$\n",
    "\n",
    "Unfortunately this is a non-linear equation to solve cause there are terms $\\exp$, $\\cos$ and $\\sin$ with $t$ inside.\n",
    "To find $T_1$ we can use Newton's method described by the function\n",
    "\n",
    "$$\n",
    "f(t) = y(t) - x(t)\n",
    "$$\n",
    "\n",
    "$$\n",
    "t_{i+1} = t_{i} - \\dfrac{f(t_i)}{f'(t_i)}\n",
    "$$\n",
    "\n",
    "The problem with this method is that $f'(t)$ can be zero in the interval, which allows the method to be very unstable.\n",
    "So, we compute a time $T_{max}$ that, for sure, the colision would already happened and start the newton's method from this point.\n",
    "\n",
    "As we know, the mass $m_1$ will oscilate around the stationary point $x_{e}$ with an decreasing amplitude. But it will we always be at\n",
    "\n",
    "$$\n",
    "x(t) \\in \\left[x_{e} - C, \\ x_{e} + C\\right] \\ \\ \\forall t\n",
    "$$\n",
    "\n",
    "Where the $C$ is given by the values of $A$ and $B$\n",
    "\n",
    "$$\n",
    "C = \\sqrt{A^2 + B^2}\n",
    "$$\n",
    "\n",
    "Then, the $T_{max}$ will happen when the object $m_2$ would achieve the position at the minimum of $x$:\n",
    "\n",
    "$$\n",
    "y(T_{max}) = x_{e} - C\n",
    "$$\n",
    "\n",
    "Calculating is we get that\n",
    "\n",
    "$$\n",
    "T_{max} = \\dfrac{u_0}{g} + \\sqrt{\\left(\\dfrac{u_0}{g}\\right)^2 - \\dfrac{2(x_e - C - y_0)}{g}}\n",
    "$$\n"
   ]
  },
  {
   "cell_type": "code",
   "execution_count": 7,
   "metadata": {},
   "outputs": [
    {
     "name": "stdout",
     "output_type": "stream",
     "text": [
      "Tmax = 1.408 s\n"
     ]
    }
   ],
   "source": [
    "def get_Tmax(x0:float, v0:float, y0:float, u0:float, xi:float, wn:float, xe:float):\n",
    "    \"\"\"\n",
    "    Returns the value of Tmax such that y(Tmax) <= x(Tmax) for sure\n",
    "    To do that, we compute the xmin of the spring from the values (x0, v0, xi, wn)\n",
    "        We have the stationary point at 'xe', and then the minimum value is xe - Amp\n",
    "    Then, we found the value when\n",
    "        y(Tmax) = y0 + u0 * Tmax - g * Tmax^2 /2 = xe - Amp\n",
    "    \"\"\"\n",
    "    A, B = get_AB(x0 - xe, v0, xi, wn)\n",
    "    Amp = np.sqrt(A**2 + B**2)\n",
    "    Delta = u0**2 - 2 * g * (xe - Amp - y0)\n",
    "    return (u0 + np.sqrt(Delta))/g\n",
    "\n",
    "Tmax = get_Tmax(x0, v0, y0, u0, xi1, wn1, xe1)\n",
    "print(\"Tmax = %.3f s\" % Tmax)   "
   ]
  },
  {
   "cell_type": "markdown",
   "metadata": {},
   "source": [
    "And know we start Newton's iteration starting at $T_{max}$."
   ]
  },
  {
   "cell_type": "code",
   "execution_count": 8,
   "metadata": {},
   "outputs": [
    {
     "name": "stdout",
     "output_type": "stream",
     "text": [
      "Time of first collision = 1.217 s\n"
     ]
    }
   ],
   "source": [
    "def find_Tcolision(x0:float, v0:float, y0:float, u0:float, xi:float, wn:float, xe:float):\n",
    "    T1 = get_Tmax(x0, v0, y0, u0, xi, wn, xe)\n",
    "    for i in range(3):\n",
    "        fi = compute_py(T1, y0, u0, g) - compute_px(T1, x0, v0, xi, wn, xe)\n",
    "        dfi = compute_vy(T1, y0, u0, g) - compute_vx(T1, x0, v0, xi, wn, xe)\n",
    "        T1 -= fi/dfi\n",
    "    return T1\n",
    "\n",
    "T1 = find_Tcolision(x0, v0, y0, u0, xi1, wn1, xe1)\n",
    "print(\"Time of first collision = %.3f s\" % T1) "
   ]
  },
  {
   "cell_type": "markdown",
   "metadata": {},
   "source": [
    "### Describe colision\n",
    "\n",
    "Now we compute how the colision between both objects behave.\n",
    "There are two extremily states\n",
    "\n",
    "* Completely Inelastic: When the maximum of energy possible is dissipated\n",
    "* Completely Elastic: When the energy is conserved\n",
    "\n",
    "Then we will use one parameter, call $c \\in \\left[0, \\ 1\\right]$, such will describe this behavior\n",
    "\n",
    "* $c = 0$: Completely Inelastic\n",
    "* $c = 1$: Completely Elastic\n",
    "* $0 < c < 1$: Intermediate State\n",
    "\n",
    "Now we describe it mathematically:\n",
    "\n",
    "* Momentum conservation:\n",
    "\n",
    "$$\n",
    "m_1 v_{1b} + m_2 v_{2b} = m_1 v_{1a} + m_2 v_{2a} \\ \\ \\ \\ \\ \\ \\ \\ \\ \\ \\left(1\\right)\n",
    "$$\n",
    "\n",
    "Where $v_{1b}$ and $v_{2b}$ are the velocities **before** the colision; $v_{1a}$ and $v_{2a}$ are the velocities **after** the colision.\n",
    "\n",
    "In the inelastic colision we will have that $v_{i} = v_{1a} = v_{2a}$ with\n",
    "\n",
    "$$\n",
    "(m_1+m_2)v_{i} = m_1 v_{1b}+ m_2 v_{2b}  \\ \\ \\ \\ \\ \\ \\ \\ \\ \\ \\left(2\\right)\n",
    "$$\n",
    "\n",
    "* Final Kinetic Energy\n",
    "\n",
    "$$\n",
    "E_{a} = E_{i} + c ( E_{b} - E_{i})  \\ \\ \\ \\ \\ \\ \\ \\ \\ \\ \\left(3\\right)\n",
    "$$\n",
    "\n",
    "Where $E_{i}$ is the Inelastic Energy, $E_{b}$ is the initial energy (**before** the colision) and $E_{a}$ is the final energy (**after** the colision). So we have\n",
    "\n",
    "$$\n",
    "E_{b} = \\dfrac{1}{2}m_1 v_{1b}^2 + \\dfrac{1}{2} m_2 v_{2b}^2   \\ \\ \\ \\ \\ \\ \\ \\ \\ \\ \\left(4\\right)\n",
    "$$\n",
    "$$\n",
    "E_{i} = \\dfrac{1}{2}(m_1+m_2) v_{i}^2   \\ \\ \\ \\ \\ \\ \\ \\ \\ \\ \\left(5\\right)\n",
    "$$\n",
    "$$\n",
    "E_{a} = \\dfrac{1}{2}m_1 v_{1a}^2 + \\dfrac{1}{2} m_2 v_{2b}^2   \\ \\ \\ \\ \\ \\ \\ \\ \\ \\ \\left(6\\right)\n",
    "$$\n",
    "\n",
    "With the equations $(1)$, $(2)$, $(3)$, $(4)$, $(5)$ and $(6)$, after some computations we get\n",
    "\n",
    "$$\n",
    "v_{1a} = v_{i} - \\sqrt{c} \\cdot \\dfrac{m_2}{m_1+m_2} \\cdot (v_{1b}-v_{2b})\n",
    "$$\n",
    "\n",
    "$$\n",
    "v_{2a} = v_{i} + \\sqrt{c} \\cdot \\dfrac{m_1}{m_1+m_2} \\cdot (v_{1b}-v_{2b})\n",
    "$$\n",
    "\n",
    "Since $v_{1b} > v_{2b}$, we can see that $v_{1a} \\le v_{2a}$ \n"
   ]
  },
  {
   "cell_type": "code",
   "execution_count": 9,
   "metadata": {},
   "outputs": [],
   "source": [
    "def compute_colision(m1: float, v1b: float, m2: float, v2b: float, coef: float=0.0):\n",
    "    # If coef = 0, completly inelastic\n",
    "    # If coef = 1, completly elastic\n",
    "    Qmovi = m1*v1b + m2*v2b  # Linear momentum\n",
    "    vi = Qmovi/(m1+m2)  # Velocity inelastic\n",
    "    v1a = vi - np.sqrt(coef)*(v1b-v2b)*m2/(m1+m2)\n",
    "    v2a = vi + np.sqrt(coef)*(v1b-v2b)*m1/(m1+m2)\n",
    "    return v1a, v2a"
   ]
  },
  {
   "cell_type": "markdown",
   "metadata": {},
   "source": [
    "Now we can compute the initial velocities before the colision and after the colision:"
   ]
  },
  {
   "cell_type": "code",
   "execution_count": 10,
   "metadata": {},
   "outputs": [
    {
     "name": "stdout",
     "output_type": "stream",
     "text": [
      "At the contact:\n",
      "               Time = 1.217\n",
      "           Position = -2.836\n",
      "Before the contact:\n",
      "      Velocity of x = 3.335\n",
      "      Velocity of y = -10.922\n",
      "      Kine energy x = 5.562\n",
      "      Kine energy y = 59.650\n",
      "    Kine energy tot = 65.212\n",
      "After the contact:\n",
      "      Velocity of x = -3.794\n",
      "      Velocity of y = -3.794\n",
      "      Kine energy x = 7.195\n",
      "      Kine energy y = 7.195\n",
      "    Kine energy tot = 14.391\n"
     ]
    }
   ],
   "source": [
    "pac = compute_py(T1, y0, u0, g)  # Colision position\n",
    "vbx = compute_vx(T1, x0, v0, xi1, wn1, xe1)\n",
    "vby = compute_vy(T1, y0, u0, g)\n",
    "vax, vay = compute_colision(m1, vbx, m2, vby, coef)\n",
    "Ekbx = 0.5*m1*vbx**2\n",
    "Ekby = 0.5*m2*vby**2\n",
    "Ekax = 0.5*m1*vax**2\n",
    "Ekay = 0.5*m2*vay**2\n",
    "print(\"At the contact:\")\n",
    "print(\"               Time = %.3f\" % T1)\n",
    "print(\"           Position = %.3f\" % pac)\n",
    "print(\"Before the contact:\")\n",
    "print(\"      Velocity of x = %.3f\" % vbx)\n",
    "print(\"      Velocity of y = %.3f\" % vby)\n",
    "print(\"      Kine energy x = %.3f\" % Ekbx)\n",
    "print(\"      Kine energy y = %.3f\" % Ekby)\n",
    "print(\"    Kine energy tot = %.3f\" % (Ekbx+Ekby))\n",
    "print(\"After the contact:\")\n",
    "print(\"      Velocity of x = %.3f\" % vax)\n",
    "print(\"      Velocity of y = %.3f\" % vay)\n",
    "print(\"      Kine energy x = %.3f\" % Ekax)\n",
    "print(\"      Kine energy y = %.3f\" % Ekay)\n",
    "print(\"    Kine energy tot = %.3f\" % (Ekax+Ekay))"
   ]
  },
  {
   "cell_type": "markdown",
   "metadata": {},
   "source": [
    "### Plotting the curves\n",
    "\n",
    "Now, we plot the curves of both objects."
   ]
  },
  {
   "cell_type": "code",
   "execution_count": 11,
   "metadata": {},
   "outputs": [],
   "source": [
    "t1 = np.linspace(0, T1, 1025)\n",
    "x1 = compute_px(t1, x0, v0, xi1, wn1, xe1)\n",
    "y1 = compute_py(t1, y0, u0, g)\n",
    "\n",
    "if coef == 0:\n",
    "    Td2 = 2 * np.pi/(mu2*wn2)\n",
    "    T2 = T1 + 4 * Td2\n",
    "else:\n",
    "    T2 = T1 + find_Tcolision(pac, vax, pac, vay, xi1, wn1, xe1)\n",
    "t2 = np.linspace(T1, T2, 1025)\n",
    "x1cont = compute_px(t2, x0, v0, xi1, wn1, xe1)\n",
    "y1cont = compute_py(t2, y0, u0, g)\n",
    "if inelastic:\n",
    "    x2 = compute_px(t2-T1, pac, vax, xi2, wn2, xe2)\n",
    "    y2 = x2\n",
    "else:\n",
    "    x2 = compute_px(t2-T1, pac, vax, xi1, wn1, xe1)\n",
    "    y2 = compute_py(t2-T1, pac, vay, g)"
   ]
  },
  {
   "cell_type": "code",
   "execution_count": 12,
   "metadata": {},
   "outputs": [
    {
     "data": {
      "text/plain": [
       "<matplotlib.legend.Legend at 0x21cdcf8cfd0>"
      ]
     },
     "execution_count": 12,
     "metadata": {},
     "output_type": "execute_result"
    },
    {
     "data": {
      "image/png": "[encoded data removed]",
      "text/plain": [
       "<Figure size 432x288 with 1 Axes>"
      ]
     },
     "metadata": {
      "needs_background": "light"
     },
     "output_type": "display_data"
    }
   ],
   "source": [
    "plt.plot(t1, x1, color=\"b\", label=r\"$x_1$\")\n",
    "plt.plot(t2, x1cont, color=\"b\", ls=\"dotted\")\n",
    "plt.plot(t2, x2, color=\"b\", ls=\"dashed\", label=r\"$x_{2}$\")\n",
    "plt.plot(t1, y1, color=\"r\", label=r\"$y_1$\")\n",
    "plt.plot(t2, y1cont, color=\"r\", ls=\"dotted\")\n",
    "plt.plot(t2, y2, color=\"r\", ls=\"dashed\", label=r\"$y_2$\")\n",
    "plt.axhline(y=xe1, color=\"k\", ls=\"dotted\")\n",
    "if inelastic:\n",
    "    plt.axhline(y=xe2, color=\"k\", ls=\"dashed\")\n",
    "plt.axvline(x=T1, color=\"g\", ls=\"dotted\")\n",
    "yplotmin = np.min(x1)\n",
    "yplotmax = np.max([x1, y1, y2])\n",
    "dyplot = yplotmax - yplotmin\n",
    "plt.ylim(yplotmin - 0.2*dyplot, yplotmax + 0.2*dyplot)\n",
    "plt.xlabel(\"Time $t$ (s)\")\n",
    "plt.ylabel(\"Position (m)\")\n",
    "plt.legend()"
   ]
  },
  {
   "cell_type": "markdown",
   "metadata": {},
   "source": [
    "And the velocities are"
   ]
  },
  {
   "cell_type": "code",
   "execution_count": 13,
   "metadata": {},
   "outputs": [],
   "source": [
    "v1 = compute_vx(t1, x0, v0, xi1, wn1, xe1)\n",
    "u1 = compute_vy(t1, y0, u0, g)\n",
    "if inelastic:\n",
    "    v2 = compute_vx(t2-T1, pac, vax, xi2, wn2, xe2)\n",
    "    u2 = v2\n",
    "else:\n",
    "    v2 = compute_vx(t2-T1, pac, vax, xi1, wn1, xe1)\n",
    "    u2 = compute_vy(t2-T1, pac, vay, g)\n"
   ]
  },
  {
   "cell_type": "code",
   "execution_count": 14,
   "metadata": {},
   "outputs": [
    {
     "data": {
      "text/plain": [
       "<matplotlib.legend.Legend at 0x21cdaf068e0>"
      ]
     },
     "execution_count": 14,
     "metadata": {},
     "output_type": "execute_result"
    },
    {
     "data": {
      "image/png": "[encoded data removed]",
      "text/plain": [
       "<Figure size 432x288 with 1 Axes>"
      ]
     },
     "metadata": {
      "needs_background": "light"
     },
     "output_type": "display_data"
    }
   ],
   "source": [
    "plt.plot(t1, v1, color=\"b\", label=r\"$\\dot{x}_1$\")\n",
    "plt.plot(t2, v2, color=\"b\", ls=\"dashed\", label=r\"$\\dot{x}_{2}$\")\n",
    "plt.plot(t1, u1, color=\"r\", label=r\"$\\dot{y}_1$\")\n",
    "plt.plot(t2, u2, color=\"r\", ls=\"dashed\", label=r\"$\\dot{y}_2$\")\n",
    "plt.axvline(x=T1, color=\"g\", ls=\"dotted\")\n",
    "yplotmin = np.min(v1)\n",
    "yplotmax = np.max([v1, u1, u2])\n",
    "dyplot = yplotmax - yplotmin\n",
    "plt.ylim(yplotmin - 0.2*dyplot, yplotmax + 0.2*dyplot)\n",
    "plt.xlabel(\"Time $t$ (s)\")\n",
    "plt.ylabel(\"Speed (m/s)\")\n",
    "plt.legend()"
   ]
  },
  {
   "cell_type": "code",
   "execution_count": 15,
   "metadata": {},
   "outputs": [],
   "source": [
    "n, m = len(t1), len(t2)\n",
    "t = np.concatenate([t1, t2])\n",
    "# Mass m1 energies\n",
    "Ekx = np.zeros(n+m)\n",
    "Epx = np.zeros(n+m)\n",
    "Ekx[:n] += 0.5*m1*v1**2\n",
    "Ekx[n:] += 0.5*m1*v2**2\n",
    "Epx[:n] += m1*g*x1+0.5*k*x1**2\n",
    "Epx[n:] += m1*g*x2+0.5*k*x2**2 \n",
    "\n",
    "# Masa m2 energies\n",
    "Eky = np.zeros(n+m)\n",
    "Epy = np.zeros(n+m)\n",
    "Eky[:n] += 0.5*m2*u1**2\n",
    "Eky[n:] += 0.5*m2*u2**2\n",
    "Epy[:n] += m2*g*y1\n",
    "Epy[n:] += m2*g*y2"
   ]
  },
  {
   "cell_type": "code",
   "execution_count": 16,
   "metadata": {},
   "outputs": [
    {
     "data": {
      "text/plain": [
       "<matplotlib.legend.Legend at 0x21cdd26efa0>"
      ]
     },
     "execution_count": 16,
     "metadata": {},
     "output_type": "execute_result"
    },
    {
     "data": {
      "image/png": "[encoded data removed]",
      "text/plain": [
       "<Figure size 432x288 with 1 Axes>"
      ]
     },
     "metadata": {
      "needs_background": "light"
     },
     "output_type": "display_data"
    },
    {
     "data": {
      "image/png": "[encoded data removed]",
      "text/plain": [
       "<Figure size 432x288 with 1 Axes>"
      ]
     },
     "metadata": {
      "needs_background": "light"
     },
     "output_type": "display_data"
    },
    {
     "data": {
      "image/png": "[encoded data removed]",
      "text/plain": [
       "<Figure size 432x288 with 1 Axes>"
      ]
     },
     "metadata": {
      "needs_background": "light"
     },
     "output_type": "display_data"
    }
   ],
   "source": [
    "plt.figure()\n",
    "plt.plot(t, Ekx, color=\"r\", label=r\"$x$\")\n",
    "plt.plot(t, Eky, color=\"b\", label=r\"$y$\")\n",
    "plt.plot(t, Ekx+Eky, color=\"g\", label=r\"x+y\")\n",
    "plt.title(\"Kinetic Energy\")\n",
    "plt.xlabel(r\"Time $t$ (s)\")\n",
    "plt.ylabel(r\"Energy $E_{k}$ (J)\")\n",
    "plt.legend()\n",
    "\n",
    "plt.figure()\n",
    "plt.plot(t, Epx, color=\"r\", label=r\"$x$\")\n",
    "plt.plot(t, Epy, color=\"b\", label=r\"$y$\")\n",
    "plt.plot(t, Epx+Epy, color=\"g\", label=r\"x+y\")\n",
    "plt.title(\"Potential Energy\")\n",
    "plt.xlabel(r\"Time $t$ (s)\")\n",
    "plt.ylabel(r\"Energy $E_{p}$ (J)\")\n",
    "plt.legend()\n",
    "\n",
    "plt.figure()\n",
    "plt.plot(t, Ekx+Epx, color=\"r\", label=r\"$x$\")\n",
    "plt.plot(t, Eky+Epy, color=\"b\", label=r\"$y$\")\n",
    "plt.plot(t, Ekx+Eky+Epx+Epy, color=\"g\", label=r\"x+y\")\n",
    "plt.title(\"Total Energy\")\n",
    "plt.xlabel(r\"Time $t$ (s)\")\n",
    "plt.ylabel(r\"Energy $E_{total}$ (J)\")\n",
    "plt.legend()"
   ]
  },
  {
   "cell_type": "markdown",
   "metadata": {
    "created_in_deepnote_cell": true,
    "deepnote_cell_type": "markdown",
    "tags": []
   },
   "source": [
    "## Online available\n",
    "\n",
    "This python notebook is available online in GitHub on the link:\n",
    "\n",
    "* [GitHub/carlos-adir/UnB-Courses/vibracoes/dropmass](https://github.com/carlos-adir/UnB-Courses/blob/main/vibracoes/dropmass.ipynb)"
   ]
  }
 ],
 "metadata": {
  "deepnote": {},
  "deepnote_execution_queue": [],
  "deepnote_notebook_id": "b33895b7-d274-4096-893d-d1aaa9cd50e6",
  "kernelspec": {
   "display_name": "Python 3.9.1 64-bit",
   "language": "python",
   "name": "python3"
  },
  "language_info": {
   "codemirror_mode": {
    "name": "ipython",
    "version": 3
   },
   "file_extension": ".py",
   "mimetype": "text/x-python",
   "name": "python",
   "nbconvert_exporter": "python",
   "pygments_lexer": "ipython3",
   "version": "3.9.1"
  },
  "orig_nbformat": 2,
  "vscode": {
   "interpreter": {
    "hash": "11938c6bc6919ae2720b4d5011047913343b08a43b18698fd82dedb0d4417594"
   }
  }
 },
 "nbformat": 4,
 "nbformat_minor": 2
}
