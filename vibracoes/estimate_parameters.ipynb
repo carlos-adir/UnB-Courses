{
 "cells": [
  {
   "cell_type": "code",
   "execution_count": 1,
   "metadata": {},
   "outputs": [],
   "source": [
    "import numpy as np\n",
    "import sympy as sp\n",
    "from matplotlib import pyplot as plt\n",
    "from tqdm import tqdm"
   ]
  },
  {
   "cell_type": "markdown",
   "metadata": {},
   "source": [
    "## Estimate parameters of a mass-spring-damper model\n",
    "\n",
    "We have a model of mass-spring-damper which equation is given by\n",
    "\n",
    "$$\n",
    "m\\ddot{x} + c\\dot{x} + kx = 0\n",
    "$$\n",
    "\n",
    "We can rewrite this equation in terms of $\\xi$ and $\\omega$ to get\n",
    "\n",
    "$$\n",
    "\\ddot{x} + 2\\xi \\omega \\dot{x} + \\omega^2 x = 0\n",
    "$$\n",
    "\n",
    "Where\n",
    "\n",
    "$$\n",
    "\\omega = \\sqrt{\\dfrac{k}{m}} \\ \\ \\ \\ \\ \\ \\ \\ \\ \\ \\ \\ \\ \\ \n",
    "\\xi = \\dfrac{c}{2\\sqrt{km}}\n",
    "$$"
   ]
  },
  {
   "cell_type": "markdown",
   "metadata": {},
   "source": [
    "From now on, we will use a auxiliar term $\\mu$ to facilitate the notation\n",
    "\n",
    "$$\n",
    "\\mu = \\sqrt{1-\\xi^2}\n",
    "$$"
   ]
  },
  {
   "cell_type": "markdown",
   "metadata": {},
   "source": [
    "Then we write the solution response in function of time wth the initial conditions $x_0$ and $v_0$ depending on the parameter $\\xi$ and $\\omega$. \n",
    "Here we will treat only the **underdamped** oscillation ($0 < \\xi < 1$) which solution is\n",
    "\n",
    "$$\n",
    "x(t) = \\exp \\left(-\\xi \\omega t\\right) \\left[\\underbrace{x_0}_{A} \\cos \\mu \\omega t + \\underbrace{\\left(\\frac{\\xi}{\\mu} x_0 + \\frac{1}{\\mu \\omega} v_0\\right)}_{B}\\sin \\mu \\omega t\\right]\n",
    "$$"
   ]
  },
  {
   "cell_type": "code",
   "execution_count": 2,
   "metadata": {},
   "outputs": [],
   "source": [
    "def solution_underdamped(xi:float, wn:float, t, x0:float, v0:float):\n",
    "    mu = np.sqrt(1-xi**2)\n",
    "    x = sp.exp(-xi*wn*t) * (x0 * sp.cos(mu*wn*t) + (xi*x0/mu + v0/(mu*wn)) * sp.sin(mu*wn*t))\n",
    "    return x\n",
    "\n",
    "def solution_x(xi:float, wn:float, x0:float, v0:float):\n",
    "    t = sp.symbols(\"t\")\n",
    "    if 0 < xi < 1:\n",
    "        x = solution_underdamped(xi, wn, t, x0, v0)\n",
    "    else:\n",
    "        raise Exception(\"The value of xi must be in (0, 1). Received %.3f\" % xi)\n",
    "    return sp.lambdify(t, x)\n",
    "\n",
    "def solution_v(xi:float, wn:float, x0:float, v0:float):\n",
    "    t = sp.symbols(\"t\")\n",
    "    if 0 < xi < 1:\n",
    "        x = solution_underdamped(xi, wn, t, x0, v0)\n",
    "    else:\n",
    "        raise Exception(\"The value of xi must be in (0, 1). Received %.3f\" % xi)\n",
    "    v = sp.diff(x, t)\n",
    "    return sp.lambdify(t, v)"
   ]
  },
  {
   "cell_type": "markdown",
   "metadata": {},
   "source": [
    "As an example, we will have the following conditions\n",
    "\n",
    "$$\n",
    "\\xi = 0.2 \\ \\ \\ \\ \\ \\ \\ \\ \\ \\ \\omega = 1\n",
    "$$\n",
    "\n",
    "$$\n",
    "x_0 = 1 \\ \\ \\ \\ \\ \\ \\ \\ \\ \\ v_0 = 1\n",
    "$$\n",
    "\n"
   ]
  },
  {
   "cell_type": "code",
   "execution_count": 3,
   "metadata": {},
   "outputs": [],
   "source": [
    "def initial_conditions():\n",
    "    wn = 1\n",
    "    xi = 0.2\n",
    "    x0, v0 = 1, 1\n",
    "    return xi, wn, x0, v0\n",
    "\n",
    "xi, wn, x0, v0 = initial_conditions()\n",
    "Tn = 2*np.pi/wn  # Natural period\n",
    "TotalTime = 10*Tn\n",
    "nplot = 1029\n",
    "tplot = np.linspace(0, TotalTime, nplot)"
   ]
  },
  {
   "cell_type": "code",
   "execution_count": 4,
   "metadata": {},
   "outputs": [
    {
     "data": {
      "text/plain": [
       "Text(0.5, 1.0, 'Exact solution - given parameters')"
      ]
     },
     "execution_count": 4,
     "metadata": {},
     "output_type": "execute_result"
    },
    {
     "data": {
      "image/png": "[encoded data removed]",
      "text/plain": [
       "<Figure size 432x288 with 1 Axes>"
      ]
     },
     "metadata": {
      "needs_background": "light"
     },
     "output_type": "display_data"
    }
   ],
   "source": [
    "xplot = solution_x(xi, wn, x0, v0)(tplot)\n",
    "plt.plot(tplot, xplot)\n",
    "plt.xlabel(\"Time $t$ (s)\")\n",
    "plt.ylabel(\"Position $x$ (m)\")\n",
    "plt.title(\"Exact solution - given parameters\")"
   ]
  },
  {
   "cell_type": "markdown",
   "metadata": {},
   "source": [
    "## Noisy data\n",
    "\n",
    "For now, we don't have any experimental data (we will have it in the future) and therefore we will add an artificial noise into our known exact data. \n",
    "Then we will compare the estimated values (using the noisy values) with the exact parameters values.\n",
    "\n",
    "There's $n$ values of position $x_i$ mesured at the time $t_i$.\n",
    "\n",
    "$$\n",
    "(t_i, x_i)\n",
    "$$"
   ]
  },
  {
   "cell_type": "code",
   "execution_count": 5,
   "metadata": {},
   "outputs": [
    {
     "name": "stdout",
     "output_type": "stream",
     "text": [
      "Statistics of the noisy data\n",
      "    Mean linear distance = 4.96e-02\n",
      "    Mean square distance = 3.28e-03\n",
      "    Sum square distances = 1.81e+00\n"
     ]
    }
   ],
   "source": [
    "nsample = 1000 # Quantity of mesured points\n",
    "tsample = np.linspace(0, TotalTime, nsample)  # Mesured time\n",
    "uncertainty = 1e-1  # Noise's amplitude\n",
    "xexact = solution_x(xi, wn, x0, v0)(tsample)\n",
    "noise = uncertainty*(2*np.random.rand(nsample)-1)\n",
    "xsample = xexact + noise  # Gotten values at the distance\n",
    "print(\"Statistics of the noisy data\")\n",
    "print(\"    Mean linear distance = %.2e\" % np.mean(np.abs(xsample-xexact)))\n",
    "print(\"    Mean square distance = %.2e\" % np.mean((xsample-xexact)**2))\n",
    "print(\"    Sum square distances = %.2e\" % np.linalg.norm(xsample-xexact))"
   ]
  },
  {
   "cell_type": "markdown",
   "metadata": {},
   "source": [
    "We will save the exact values for later"
   ]
  },
  {
   "cell_type": "code",
   "execution_count": 6,
   "metadata": {},
   "outputs": [],
   "source": [
    "mu = np.sqrt(1-xi**2)\n",
    "exact_vals = {}\n",
    "exact_vals[\"xi\"] = xi\n",
    "exact_vals[\"mu\"] = mu\n",
    "exact_vals[\"wn\"] = wn\n",
    "exact_vals[\"wx\"] = -xi * wn\n",
    "exact_vals[\"wd\"] = mu * wn\n",
    "exact_vals[\"x0\"] = x0\n",
    "exact_vals[\"v0\"] = v0\n",
    "exact_vals[\"A\"] = x0\n",
    "exact_vals[\"B\"] = xi*x0/mu + v0/(mu*wn)\n",
    "exact_vals[\"C\"] = np.sqrt(exact_vals[\"A\"]**2 + exact_vals[\"B\"]**2)\n",
    "exact_vals[\"phi\"] = np.arctan2(exact_vals[\"A\"], exact_vals[\"B\"])\n",
    "exact_vals[\"X\"] = np.array([exact_vals[\"A\"], exact_vals[\"B\"], exact_vals[\"wx\"], exact_vals[\"wd\"]])"
   ]
  },
  {
   "cell_type": "code",
   "execution_count": 7,
   "metadata": {},
   "outputs": [
    {
     "data": {
      "text/plain": [
       "Text(0.5, 1.0, 'Valores ruidosos produtos artificialmente')"
      ]
     },
     "execution_count": 7,
     "metadata": {},
     "output_type": "execute_result"
    },
    {
     "data": {
      "image/png": "[encoded data removed]",
      "text/plain": [
       "<Figure size 432x288 with 1 Axes>"
      ]
     },
     "metadata": {
      "needs_background": "light"
     },
     "output_type": "display_data"
    }
   ],
   "source": [
    "plt.scatter(tsample, xsample, color=\"r\", marker=\".\", label=\"Pontos 'lidos'\")\n",
    "plt.plot(tsample, xexact, color=\"b\", ls=\"dotted\", label=\"Curva exata\")\n",
    "plt.xlabel(\"Tempo $t$ (s)\")\n",
    "plt.ylabel(\"Posição $x$ (m)\")\n",
    "plt.legend()\n",
    "plt.title(\"Valores ruidosos produtos artificialmente\")"
   ]
  },
  {
   "cell_type": "markdown",
   "metadata": {},
   "source": [
    "## Estimate parameters from noisy values"
   ]
  },
  {
   "cell_type": "markdown",
   "metadata": {},
   "source": [
    "As we know $\\xi<1$ and we will have the solution\n",
    "\n",
    "$$\n",
    "x(t) = \\exp \\left(-\\xi \\omega t\\right) \\left[A \\cos \\left(\\mu \\omega t\\right) + B \\sin \\left(\\mu \\omega t\\right)\\right]\n",
    "$$\n",
    "\n",
    "With constants $A$ and $B$ which are dependent on the initial conditions $x_0$ and $v_0$."
   ]
  },
  {
   "cell_type": "markdown",
   "metadata": {},
   "source": [
    "As we don't know tha values $A$, $B$, $\\xi$ e $\\omega$ from the gotten experimental data, we are going to estimate then using the **Least Square Method** on the noisy data.\n",
    "\n",
    "Let's call $J$ the function that sum the difference's squares.\n",
    "\n",
    "$$\n",
    "J = \\dfrac{1}{2} \\sum_{i} w_{i}\\left(x(t_{i}) - x_i\\right)^{2}\n",
    "$$\n",
    "\n",
    "Where $(t_i, \\ x_i)$ are the gotten values from the experiment.\n",
    "The values of $w_i$ are the **weights** that we will artificially add cause we will consider that the lasts values are less important then the first values and we want to reduce the noise influence from the lasts values.\n",
    "In a general way, we arbitrally choose\n",
    "\n",
    "$$\n",
    "w_{i} = \\exp\\left(-\\dfrac{t_{i}^2}{T_n^2}\\right) \\ \\ \\ \\ \\ \\ \\ \\ \\ \\ T_n = \\dfrac{2\\pi}{\\omega}  \n",
    "$$\n",
    "\n",
    "Where $T_{n}$ is the natural oscillation period."
   ]
  },
  {
   "cell_type": "markdown",
   "metadata": {},
   "source": [
    "Therefore, to minimize the function $J$ we get its gradient and set equals zero to get the minimum.\n",
    "\n",
    "$$\n",
    "\\nabla J = \\vec{0} \\Leftrightarrow \\dfrac{\\partial J}{\\partial q_i} = 0\n",
    "$$\n",
    "\n",
    "And then get an expression to find the parameters.\n",
    "\n",
    "But, instead of using the parameters $(A, B, \\xi, \\omega)$, we will use $(A, B, \\omega_{x}, \\ \\omega_{d})$ cause it's more stable and easier to compute on the methods.\n",
    "\n",
    "$$\n",
    "\\omega_{x} = -\\xi \\omega \\ \\ \\ \\ \\ \\ \\ \\ \\ \\omega_{d} = \\mu \\omega \n",
    "$$\n",
    "\n",
    "So\n",
    "\n",
    "$$\n",
    "x(t) = \\exp\\left(\\omega_{x}t\\right)\\left(A\\cos \\omega_{d}t + B\\sin \\omega_{d} t\\right)\n",
    "$$\n",
    "\n",
    "As it is a non-linear equation (cause of $\\exp$, $\\cos$ and $\\sin$), we will use the **Newton-Raphson Method** to iterate and achieve the solution. \n",
    "\n",
    "$$\n",
    "x_{j+1} = x_{j} - \\dfrac{f(x_j)}{f'(x_j)}\n",
    "$$\n",
    "\n",
    "In a our case, from the point $X_{j}$ we compute the next point $X_{j+1}$ using\n",
    "\n",
    "$$\n",
    "X_{j+1} = \n",
    "X_{j} - \\left[\\nabla \\nabla J\\right]^{-1} \\cdot \\left[\\nabla J\\right]\n",
    "$$\n",
    "\n",
    "Where \n",
    "\n",
    "$$\n",
    "X_{j} = (A_{j}, \\ B_{j}, \\ \\omega_{x,j}, \\ \\omega_{d,j})\n",
    "$$\n"
   ]
  },
  {
   "cell_type": "markdown",
   "metadata": {},
   "source": [
    "We compute the partial derivatives"
   ]
  },
  {
   "cell_type": "markdown",
   "metadata": {},
   "source": [
    "$$\n",
    "\\nabla x = \\exp \\cdot \\begin{bmatrix} \\cos \\\\ \\sin \\\\ At\\cos + Bt \\sin \\\\ -At\\sin + Bt\\cos \n",
    "\\end{bmatrix}\n",
    "$$\n",
    "\n",
    "$$\n",
    "\\nabla J = \\sum_{i} \\left(x(t_i) - x_i\\right) \\cdot \\nabla x(t_i)\n",
    "$$\n",
    "\n",
    "$$\n",
    "\\nabla \\nabla x = \\exp \\cdot \\begin{bmatrix}\n",
    "0 & 0 & t \\cos & -t \\sin \\\\\n",
    "& 0 & t \\sin & t \\cos \\\\\n",
    "& & t^2(A\\cos + B \\sin) & t^2\\left(-A\\sin + B\\cos\\right) \\\\\n",
    "\\text{sym} & & & -t^2 \\left(A\\cos + B \\sin\\right)\n",
    "\\end{bmatrix}\n",
    "$$\n",
    "\n",
    "$$\n",
    "\\nabla \\nabla J = \\sum_{i} w_{i} \\left[ \\nabla x(t_i) \\otimes \\nabla x(t_i) + x(t_i) \\nabla \\nabla x(t_i)\\right] - w_{i} x_i \\nabla \\nabla x(t_i)\n",
    "$$"
   ]
  },
  {
   "cell_type": "markdown",
   "metadata": {},
   "source": [
    "In a matricial form, we create matrix (to put in the code)\n",
    "\n",
    "$$\n",
    "\\left[L\\right]_{k} = x(t_k)\n",
    "$$\n",
    "\n",
    "$$\n",
    "\\left[dL\\right]_{ik} = \\dfrac{\\partial x(t_k)}{\\partial q_{i}}  = \\left[\\nabla x\\right]_{i}(t_k)\n",
    "$$\n",
    "\n",
    "$$\n",
    "\\left[ddL\\right]_{ijk} = \\dfrac{\\partial^2 x(t_{k})}{\\partial q_{i} \\partial q_{j}} = \\left[\\nabla \\nabla x\\right]_{ij}(t_k)\n",
    "$$\n",
    "\n",
    "$$\n",
    "\\left[x\\right]_{k} = x_{k}\n",
    "$$\n",
    "\n",
    "$$\n",
    "\\left[W\\right]_{ik} = \\begin{cases}w_{i} \\ \\ \\ \\ \\text{if} \\ i = k \\\\ \n",
    "0 \\ \\ \\ \\ \\ \\ \\text{else}\\end{cases}\n",
    "$$\n",
    "\n",
    "And then we get\n",
    "\n",
    "$$\n",
    "\\left[B\\right] = \\left[ \\nabla J \\right] = \\left[dL\\right] \\cdot \\left[W\\right] \\cdot \\left[L\\right] - \\left[dL\\right] \\cdot \\left[W\\right] \\cdot \\left[x\\right]\n",
    "$$\n",
    "\n",
    "$$\n",
    "\\left[M\\right] = \\left[ \\nabla \\nabla J \\right] = \\left[dL\\right] \\cdot \\left[W\\right] \\cdot \\left[dL\\right] + \\left[ddL\\right] \\cdot \\left[W\\right] \\cdot \\left[L\\right] - \\left[ddL\\right] \\cdot \\left[W\\right] \\cdot \\left[x\\right]\n",
    "$$"
   ]
  },
  {
   "cell_type": "code",
   "execution_count": 8,
   "metadata": {},
   "outputs": [],
   "source": [
    "def getMB(tvals: np.ndarray, xvals: np.ndarray, Xj: np.ndarray):\n",
    "    # Given the Xj vector\n",
    "    #     Xj = (Aj, Bj, wxj, wdj),\n",
    "    # and the points (ti, xi),\n",
    "    #     xi = xvals[i]\n",
    "    #     ti = tvals[i]\n",
    "    # It returns a [M] and [B] such that\n",
    "    #     [M] = [nabla nabla J], shape = (4 x 4)\n",
    "    #     [B] = [nabla J], shape = (4) \n",
    "    n = len(xvals)\n",
    "    m = len(Xj)\n",
    "    A, B, wx, wd = Xj\n",
    "    exp = np.exp(wx*tvals)\n",
    "    cos = np.cos(wd*tvals)\n",
    "    sin = np.sin(wd*tvals)\n",
    "    expcos = exp * cos\n",
    "    expsin = exp * sin\n",
    "    \n",
    "    L = A * expcos + B * expsin\n",
    "    dL = np.zeros((m, n), dtype=\"float64\")\n",
    "    ddL = np.zeros((m, m, n), dtype=\"float64\")\n",
    "    \n",
    "    dL[0] = expcos\n",
    "    dL[1] = expsin\n",
    "    dL[2] = tsample * L\n",
    "    dL[3] = tsample * (-A*expsin + B*expcos)\n",
    "    \n",
    "    ddL[0, 2] = ddL[2, 0] = tsample * expcos\n",
    "    ddL[0, 3] = ddL[3, 0] = -tsample * expsin\n",
    "    ddL[1, 2] = ddL[2, 1] = -ddL[0, 3]\n",
    "    ddL[1, 3] = ddL[3, 1] = ddL[0, 2]\n",
    "    ddL[2, 3] = ddL[3, 2] = tsample * dL[3]\n",
    "    ddL[2, 2] = tsample * dL[2]\n",
    "    ddL[3, 3] = - ddL[2, 2]\n",
    "    \n",
    "    Tn = 2*np.pi/Xj[3]\n",
    "    weight = np.exp(-(tvals/Tn)**2)\n",
    "    # weight = np.ones(len(tvals))\n",
    "    \n",
    "    W = np.diag(weight)\n",
    "    M = dL @ W @ dL.T - ddL @ W @ xvals + ddL @ W @ L\n",
    "    B = dL @ W @ L - dL @ W @ xvals\n",
    "    return M, B"
   ]
  },
  {
   "cell_type": "markdown",
   "metadata": {},
   "source": [
    "#### Estimate the frist point\n",
    "\n",
    "As we will use Newton's Method, a initial point $X_{0}$ is needed. \n",
    "Our objective is find a estimative for $\\omega_{x}$ and $\\omega_{d}$ and then we will estimate $A$ and $B$ using these two **Least Square Method**, but this one is linear."
   ]
  },
  {
   "cell_type": "markdown",
   "metadata": {},
   "source": [
    "Frist, we will filter all the values. It depends on the data we got"
   ]
  },
  {
   "cell_type": "code",
   "execution_count": 9,
   "metadata": {},
   "outputs": [
    {
     "data": {
      "text/plain": [
       "<matplotlib.legend.Legend at 0x252daf54fd0>"
      ]
     },
     "execution_count": 9,
     "metadata": {},
     "output_type": "execute_result"
    },
    {
     "data": {
      "image/png": "[encoded data removed]",
      "text/plain": [
       "<Figure size 432x288 with 1 Axes>"
      ]
     },
     "metadata": {
      "needs_background": "light"
     },
     "output_type": "display_data"
    }
   ],
   "source": [
    "def filter(xvalues: np.ndarray):\n",
    "    n = len(xvalues)\n",
    "    b = n//200\n",
    "    xfiltered = np.zeros(xvalues.shape)\n",
    "    for i in range(b):\n",
    "        xfiltered[i] = np.mean(xvalues[:i+1])\n",
    "    for i in range(b, n-b):\n",
    "        xfiltered[i] = np.mean(xvalues[i-b:i+b])\n",
    "    for i in range(n-b, n):\n",
    "        xfiltered[i] = np.mean(xvalues[i:])\n",
    "    return xfiltered\n",
    "\n",
    "xfiltered = filter(xsample)\n",
    "plt.scatter(tsample, xsample, marker=\".\", color=\"red\", label=\"original\")\n",
    "plt.plot(tsample, xfiltered, ls='dotted', color=\"blue\", label=\"filtered\")\n",
    "plt.legend()"
   ]
  },
  {
   "cell_type": "markdown",
   "metadata": {},
   "source": [
    "As we know, the function oscilates and we will get the **minimum** and **maximum**. To do that, first we will need the roots $r_{i}$"
   ]
  },
  {
   "cell_type": "code",
   "execution_count": 10,
   "metadata": {},
   "outputs": [
    {
     "data": {
      "text/plain": [
       "<matplotlib.legend.Legend at 0x252daf95d90>"
      ]
     },
     "execution_count": 10,
     "metadata": {},
     "output_type": "execute_result"
    },
    {
     "data": {
      "image/png": "[encoded data removed]",
      "text/plain": [
       "<Figure size 432x288 with 1 Axes>"
      ]
     },
     "metadata": {
      "needs_background": "light"
     },
     "output_type": "display_data"
    }
   ],
   "source": [
    "def find_roots(x):\n",
    "    roots = []\n",
    "    absx = np.abs(x)\n",
    "    i = 0\n",
    "    while len(roots) < 4:\n",
    "        while x[i] * x[i+1] > 0:\n",
    "            i += 1\n",
    "        roots.append(i)\n",
    "        i = np.where(absx[i:] == np.max(absx[i:]))[0][0] + roots[-1]\n",
    "    return roots\n",
    "\n",
    "roots = find_roots(xfiltered)\n",
    "troots = [tsample[r] for r in roots]\n",
    "xroots = [xsample[r] for r in roots]\n",
    "xfiltered = filter(xsample)\n",
    "plt.scatter(tsample, xsample, marker=\".\", color=\"red\", label=\"original\")\n",
    "plt.plot(tsample, xfiltered, ls='dotted', color=\"blue\", label=\"filtered\")\n",
    "plt.scatter(troots, xroots, color=\"k\", label=\"roots\")\n",
    "plt.axhline(y=0, ls=\"dashed\", color=\"k\")\n",
    "plt.legend()"
   ]
  },
  {
   "cell_type": "markdown",
   "metadata": {},
   "source": [
    "Then we get the period which is the mean of the roots \n",
    "\n",
    "$$\n",
    "T_d = \\text{mean}\\left(t_{r_{i+1}} - t_{r_{i}}\\right)\n",
    "$$\n",
    "\n",
    "And as we know it's given by\n",
    "\n",
    "$$\n",
    "T_{d} = \\dfrac{2\\pi}{\\omega_{d}}\n",
    "$$"
   ]
  },
  {
   "cell_type": "markdown",
   "metadata": {},
   "source": [
    "In another way, we have that the maximums between the roots are given in the index $\\alpha$ and $\\beta$\n",
    "\n",
    "$$\n",
    "x_{\\alpha} = C \\cdot \\exp \\left(\\omega_{x} t_{\\alpha} \\right)\n",
    "$$\n",
    "$$\n",
    "x_{\\beta} = - C \\cdot \\exp \\left(\\omega_{x} t_{\\beta} \\right)\n",
    "$$\n",
    "\n",
    "In that way we will have\n",
    "\n",
    "$$\n",
    "\\dfrac{x_{\\alpha}}{x_{\\beta}} = \\dfrac{C \\exp \\left(\\omega_{x} t_{\\alpha}\\right)}{-C \\exp \\left(\\omega_{x} t_{\\beta}\\right)} = -\\exp \\left(\\omega_{x} \\left(t_{\\alpha} - t_{\\beta}\\right)\\right) \\Rightarrow \\omega_{x} = \\dfrac{1}{t_{\\alpha} - t_{\\beta}} \\ln \\left(\\dfrac{-x_{\\alpha}}{x_{\\beta}}\\right)\n",
    "$$"
   ]
  },
  {
   "cell_type": "code",
   "execution_count": 11,
   "metadata": {},
   "outputs": [
    {
     "name": "stdout",
     "output_type": "stream",
     "text": [
      "wx:\n",
      "    Estimated: -0.158\n",
      "        Exact: -0.200\n",
      "wd:\n",
      "    Estimated: 0.979\n",
      "        Exact: 0.980\n"
     ]
    }
   ],
   "source": [
    "def get_initial_wxwd(tsample, xsample):\n",
    "    xfiltered = filter(xsample)\n",
    "    roots = find_roots(xfiltered)\n",
    "    xabs = np.abs(xsample)\n",
    "    r0 = roots[0]\n",
    "    r1 = roots[1]\n",
    "    alpha = np.where(xabs[r0:] == np.max(xabs[r0:]))[0][0] + r0\n",
    "    beta = np.where(xabs[r1:] == np.max(xabs[r1:]))[0][0] + r1\n",
    "\n",
    "    Td = 2*(tsample[r1] - tsample[r0])\n",
    "    wd = 2*np.pi/Td\n",
    "    wx = np.log(-xfiltered[alpha]/xfiltered[beta])/(tsample[alpha] - tsample[beta])\n",
    "    return wx, wd\n",
    "\n",
    "wx0, wd0 = get_initial_wxwd(tsample, xsample)\n",
    "print(\"wx:\")\n",
    "print(\"    Estimated: %.3f\" % wx0)\n",
    "print(\"        Exact: %.3f\" % exact_vals[\"wx\"])\n",
    "print(\"wd:\")\n",
    "print(\"    Estimated: %.3f\" % wd0)\n",
    "print(\"        Exact: %.3f\" % exact_vals[\"wd\"])"
   ]
  },
  {
   "cell_type": "markdown",
   "metadata": {},
   "source": [
    "To find the values of $A$ and $B$, we will use the values of $\\omega_{x0}$ and $\\omega_{d0}$ and find the best curve\n",
    "\n",
    "$$\n",
    "\\phi(A, B) = \\sum_{i} \\left(x_i - \\exp\\left(\\omega_{x}t_i\\right) \\left[A \\cos \\omega_{d0}t_i + B \\sin \\omega_{d0}t_i\\right]\\right)^{2}\n",
    "$$\n",
    "\n",
    "The same way, to minimize $\\phi(A, B)$ we have\n",
    "\n",
    "$$\n",
    "\\sum_{i}\n",
    "\\begin{bmatrix}\n",
    "y_i^2 & y_i z_i \\\\\n",
    "y_i z_i & z_i^2\n",
    "\\end{bmatrix}\n",
    "\\begin{bmatrix}\n",
    "A \\\\ B\n",
    "\\end{bmatrix} =\n",
    "\\sum_{i}\n",
    "\\begin{bmatrix}\n",
    "x_i y_i \\\\\n",
    "x_i z_i \\\\\n",
    "\\end{bmatrix}\n",
    "$$\n",
    "\n",
    "With\n",
    "\n",
    "$$\n",
    "y_{i} = \\exp \\left(\\omega_{x}t_i\\right) \\cos \\left(\\omega_{d} t_{i}\\right)\n",
    "$$\n",
    "$$\n",
    "z_{i} = \\exp \\left(\\omega_{x}t_i\\right) \\sin \\left(\\omega_{d} t_{i}\\right)\n",
    "$$"
   ]
  },
  {
   "cell_type": "code",
   "execution_count": 12,
   "metadata": {},
   "outputs": [
    {
     "name": "stdout",
     "output_type": "stream",
     "text": [
      "A:\n",
      "    Estimated: 0.926\n",
      "        Exact: 1.000\n",
      "B:\n",
      "    Estimated: 1.055\n",
      "        Exact: 1.225\n",
      "C:\n",
      "    Estimated: 1.404\n",
      "        Exact: 1.581\n"
     ]
    }
   ],
   "source": [
    "def get_initial_AB(tsample, xsample, wx, wd):\n",
    "    exp = np.exp(wx*tsample)\n",
    "    L = np.array([exp*np.cos(wd*tsample), exp*np.sin(wd*tsample)])\n",
    "    return np.linalg.solve(L @ L.T, L @ xsample)\n",
    "\n",
    "A0, B0 = get_initial_AB(tsample, xsample, wx0, wd0)\n",
    "C0 = np.sqrt(A0**2 + B0**2)\n",
    "print(\"A:\")\n",
    "print(\"    Estimated: %.3f\" % A0)\n",
    "print(\"        Exact: %.3f\" % exact_vals[\"A\"])\n",
    "print(\"B:\")\n",
    "print(\"    Estimated: %.3f\" % B0)\n",
    "print(\"        Exact: %.3f\" % exact_vals[\"B\"])\n",
    "print(\"C:\")\n",
    "print(\"    Estimated: %.3f\" % C0)\n",
    "print(\"        Exact: %.3f\" % exact_vals[\"C\"])"
   ]
  },
  {
   "cell_type": "markdown",
   "metadata": {},
   "source": [
    "Now we mount the initial vector $X_0$ to iterate"
   ]
  },
  {
   "cell_type": "code",
   "execution_count": 13,
   "metadata": {},
   "outputs": [
    {
     "name": "stdout",
     "output_type": "stream",
     "text": [
      "X: \n",
      "    Estimate =  [ 0.9264981   1.0545999  -0.15798516  0.97941176]\n",
      "       Exact =  [ 1.          1.22474487 -0.2         0.9797959 ]\n"
     ]
    }
   ],
   "source": [
    "X = np.array([A0, B0, wx0, wd0])\n",
    "print(\"X: \")\n",
    "print(\"    Estimate = \", X)\n",
    "print(\"       Exact = \", exact_vals[\"X\"])"
   ]
  },
  {
   "cell_type": "markdown",
   "metadata": {},
   "source": [
    "Now we iterate to solve. But at first, we will define functions to evaluate how good the current solution is"
   ]
  },
  {
   "cell_type": "code",
   "execution_count": 14,
   "metadata": {},
   "outputs": [],
   "source": [
    "def compute_residuo(tvals, xvals, X):\n",
    "    xi, wn, x0, v0 = transform_X2Z(X)\n",
    "    xtest = solution_x(xi, wn, x0, v0)(tvals)\n",
    "    return np.linalg.norm(xtest - xvals)\n",
    "    \n",
    "def compute_error(Xgood, Xtest):\n",
    "    diff = Xgood-Xtest\n",
    "    divisor = np.copy(Xgood)\n",
    "    divisor[divisor<1e-9] = 1\n",
    "    return np.max(diff/divisor)\n",
    "\n",
    "def transform_X2Z(X):\n",
    "    A, B, wx, wd = X\n",
    "    wn = np.sqrt(wx**2 + wd**2)\n",
    "    xi = -wx/wn\n",
    "    x0 = A\n",
    "    v0 = B * wd - xi * wn * x0\n",
    "    return xi, wn, x0, v0"
   ]
  },
  {
   "cell_type": "code",
   "execution_count": 15,
   "metadata": {},
   "outputs": [
    {
     "name": "stdout",
     "output_type": "stream",
     "text": [
      " ---- Begin ---- \n",
      "X0 =  [ 0.9264981   1.0545999  -0.15798516  0.97941176]\n",
      "    Error =  0.13892278814401374\n",
      "    Residuo =  1.9662294633486992\n",
      " ---- Iteration 1 ---- \n",
      "X1 =  [ 0.96824768  1.11400548 -0.1766998   0.97940901]\n",
      "    Error =  0.09041833409670812\n",
      "    Residuo =  1.8419428163042542\n",
      " ---- Iteration 2 ---- \n",
      "X2 =  [ 0.98829892  1.15137465 -0.18790926  0.98037896]\n",
      "    Error =  0.05990653621329056\n",
      "    Residuo =  1.8093871008353237\n",
      " ---- Iteration 3 ---- \n",
      "X3 =  [ 0.99792977  1.17303145 -0.19424775  0.98121816]\n",
      "    Error =  0.04222383195835613\n",
      "    Residuo =  1.8029449709968939\n",
      " ---- Iteration 4 ---- \n",
      "X4 =  [ 1.00260124  1.18484851 -0.19766515  0.98175212]\n",
      "    Error =  0.032575245961861204\n",
      "    Residuo =  1.8026986883424618\n",
      " ---- Exact ----\n",
      "X =  [ 1.          1.22474487 -0.2         0.9797959 ]\n",
      "    Residuo =  1.811198946043435\n",
      "Difference residuo:\n",
      "    8.50e-03\n"
     ]
    },
    {
     "data": {
      "text/plain": [
       "<matplotlib.legend.Legend at 0x252db0372e0>"
      ]
     },
     "execution_count": 15,
     "metadata": {},
     "output_type": "execute_result"
    },
    {
     "data": {
      "image/png": "[encoded data removed]",
      "text/plain": [
       "<Figure size 432x288 with 1 Axes>"
      ]
     },
     "metadata": {
      "needs_background": "light"
     },
     "output_type": "display_data"
    }
   ],
   "source": [
    "print(\" ---- Begin ---- \")    \n",
    "print(\"X0 = \", X)\n",
    "print(\"    Error = \", compute_error(exact_vals[\"X\"], X))\n",
    "print(\"    Residuo = \", compute_residuo(tsample, xsample, X))\n",
    "\n",
    "for zr in range(4):  # Numero de iteracoes\n",
    "    M, B = getMB(tsample, xsample, X)\n",
    "    X -= 0.5*np.linalg.solve(M, B)\n",
    "    error = compute_error(exact_vals[\"X\"], X)\n",
    "    residuo = compute_residuo(tsample, xsample, X)\n",
    "    print(\" ---- Iteration %d ---- \" % (zr+1))\n",
    "    print(\"X%d = \" % (zr+1), X)\n",
    "    print(\"    Error = \", error)\n",
    "    print(\"    Residuo = \", residuo)\n",
    "exact_residuo = compute_residuo(tsample, xsample, exact_vals[\"X\"])\n",
    "print(\" ---- Exact ----\")\n",
    "print(\"X = \", exact_vals[\"X\"])\n",
    "print(\"    Residuo = \", exact_residuo)\n",
    "print(\"Difference residuo:\")\n",
    "print(\"    %.2e\" % np.abs(residuo - exact_residuo))\n",
    "xi, wn, x0, v0 = transform_X2Z(X)\n",
    "plt.plot(tsample, solution_x(xi, wn, x0, v0)(tsample), color=\"r\", label=\"Estimate\")\n",
    "plt.plot(tplot, xplot, ls=\"dotted\", label=\"Exact\")\n",
    "plt.legend()"
   ]
  },
  {
   "cell_type": "markdown",
   "metadata": {},
   "source": [
    "#### Map convergence for many $x_0$ and $v_0$\n",
    "\n",
    "Now we will verify if our solution to find the parameters is good when we change the initial conditions $(x_0, v_0)$.\n",
    "Now we will create a function that will receive all the points $(t_i, \\ x_i)$ and returns the estimate values for $X$.\n",
    "In the code above, we only considered $5$ iterations, but now we will will control it by the ```residuo```. We will put a tolerance and when the ```residuo``` doesn't change, it means we found the solution."
   ]
  },
  {
   "cell_type": "code",
   "execution_count": 16,
   "metadata": {},
   "outputs": [],
   "source": [
    "def find_initial_vector(tsample:np.ndarray, xsample:np.ndarray):\n",
    "    wx0, wd0 = get_initial_wxwd(tsample, xsample)\n",
    "    A0, B0 = get_initial_AB(tsample, xsample, wx0, wd0)\n",
    "    return np.array([A0, B0, wx0, wd0])\n",
    "\n",
    "def LeastSquare(tsample, xsample, tolerance=1e-6, nitermax = 10, verbose=False):\n",
    "    X = find_initial_vector(tsample, xsample)\n",
    "    oldresiduo = 0\n",
    "    if verbose:\n",
    "        print(\" ---- Begin ---- \")\n",
    "    for niter in range(nitermax):\n",
    "        residuo = compute_residuo(tsample, xsample, X)\n",
    "        if verbose:\n",
    "            print(\"    X%d = \" % niter, X)\n",
    "            print(\"    Residuo = \", residuo)\n",
    "        if np.abs(residuo - oldresiduo) < tolerance:\n",
    "            break\n",
    "        oldresiduo = residuo\n",
    "        M, B = getMB(tsample, xsample, X)\n",
    "        X -= np.linalg.solve(M, B)\n",
    "    return X"
   ]
  },
  {
   "cell_type": "code",
   "execution_count": 17,
   "metadata": {},
   "outputs": [
    {
     "name": "stderr",
     "output_type": "stream",
     "text": [
      "100%|██████████| 33/33 [05:00<00:00,  9.11s/it]\n"
     ]
    },
    {
     "data": {
      "text/plain": [
       "<matplotlib.colorbar.Colorbar at 0x252db7df8e0>"
      ]
     },
     "execution_count": 17,
     "metadata": {},
     "output_type": "execute_result"
    },
    {
     "data": {
      "image/png": "[encoded data removed]",
      "text/plain": [
       "<Figure size 432x288 with 2 Axes>"
      ]
     },
     "metadata": {
      "needs_background": "light"
     },
     "output_type": "display_data"
    }
   ],
   "source": [
    "xi = exact_vals[\"xi\"]\n",
    "wn = exact_vals[\"wn\"]\n",
    "Tn = 2*np.pi/wn\n",
    "uncertainty = 1e-3\n",
    "\n",
    "x0s = np.linspace(-1, 1, 33)\n",
    "v0s = np.linspace(-1, 1, 33)\n",
    "residuos = np.zeros((len(x0s), len(v0s)))\n",
    "nsample = 1001\n",
    "tsample = np.linspace(0, 10*Tn, nsample)\n",
    "for i, x0 in enumerate(tqdm(x0s)):\n",
    "    for j, v0 in enumerate(v0s):\n",
    "        A = x0\n",
    "        B = xi*x0/mu + v0/(mu*wn)\n",
    "        C = np.sqrt(A**2 + B**2)\n",
    "        if C < 0.2:\n",
    "            continue\n",
    "        xsample = solution_x(xi, wn, x0, v0)(tsample)\n",
    "        xsample += uncertainty*(2*np.random.rand(nsample)-1)\n",
    "        X = LeastSquare(tsample, xsample, verbose=False)\n",
    "        residuos[i, j] = compute_residuo(tsample, xsample, X)\n",
    "fig, axes = plt.subplots()\n",
    "c = axes.pcolormesh(x0s, v0s, residuos, shading=\"nearest\")\n",
    "fig.colorbar(c)"
   ]
  }
 ],
 "metadata": {
  "kernelspec": {
   "display_name": "Python 3.9.1 64-bit",
   "language": "python",
   "name": "python3"
  },
  "language_info": {
   "codemirror_mode": {
    "name": "ipython",
    "version": 3
   },
   "file_extension": ".py",
   "mimetype": "text/x-python",
   "name": "python",
   "nbconvert_exporter": "python",
   "pygments_lexer": "ipython3",
   "version": "3.9.1"
  },
  "orig_nbformat": 4,
  "vscode": {
   "interpreter": {
    "hash": "11938c6bc6919ae2720b4d5011047913343b08a43b18698fd82dedb0d4417594"
   }
  }
 },
 "nbformat": 4,
 "nbformat_minor": 2
}
