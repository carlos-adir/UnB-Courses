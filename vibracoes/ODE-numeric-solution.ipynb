{
 "cells": [
  {
   "cell_type": "markdown",
   "metadata": {},
   "source": [
    "[![Open In Colab](https://colab.research.google.com/assets/colab-badge.svg)](https://colab.research.google.com/github/carlos-adir/UnB-Courses/blob/main/vibracoes/multi-dofs-system.ipynb)"
   ]
  },
  {
   "cell_type": "markdown",
   "metadata": {},
   "source": [
    "# 1 - Introduction\n",
    "\n",
    "The given ODE we treat here is given by\n",
    "\n",
    "$$\n",
    "m\\ddot{x} + c\\dot{x} +kx = f\n",
    "$$\n",
    "\n",
    "With initial conditions $x(0) = x_0$ and $\\dot{x}(0) = v_0$.\n",
    "\n",
    "A helpful notation is\n",
    "\n",
    "$$\n",
    "\\omega_n = \\sqrt{\\dfrac{k}{m}} \\ \\ \\ \\ \\ \\ \\ \\ \\ \\ \\xi = \\dfrac{c}{2\\sqrt{km}} \\ \\ \\ \\ \\ \\ \\ \\ \\ \\ \\mu = \\sqrt{1-\\xi^2}\n",
    "$$\n",
    "\n",
    "The solution for this ODE depends on the force $f$.\n",
    "\n",
    "As it's a linear ODE we can always decompose the solution as\n",
    "\n",
    "$$\n",
    "x(t) = x_{h}(t) + x_{f}(t)\n",
    "$$\n",
    "\n",
    "Where\n",
    "\n",
    "* $x_{h}$ represents the homogeneous response\n",
    "    * $m\\ddot{x}_{h} + c\\dot{x}_{h} +kx_{h} = 0$\n",
    "    * $x_{h}(0) = x_0$\n",
    "    * $\\dot{x}_{h}(0) = v_0$\n",
    "* $x_f$ represents the forced response:\n",
    "    * If $f=0$ then $x_{f}(t) = 0$\n",
    "    * $x_{f}(0) = 0$ \n",
    "    * $\\dot{x}_{f}(0) = 0$\n",
    "\n",
    "Then, we are going to find the theoric solution for the homogeneous case and the forced solution."
   ]
  },
  {
   "cell_type": "markdown",
   "metadata": {},
   "source": [
    "# 2 - Theory\n",
    "\n",
    "## 2.1 - Homogeneous solution\n",
    "\n",
    "The homogeneous solution $x_h$ satisfies\n",
    "\n",
    "$$m\\ddot{x}_h + c\\dot{x}_h +kx_h = 0$$\n",
    "\n",
    "With initial conditions\n",
    "\n",
    "$$\n",
    "x(0) = x_0 \\ \\ \\ \\ \\ \\ \\ \\ \\ \\ \\ \\ \\ \\ \\dot{x}(0) = v_0\n",
    "$$\n",
    "\n",
    "Then, we can divide the homogeneous solution using two base solutions\n",
    "\n",
    "$$\n",
    "x_h(t) = x_0  \\cdot x_{p}(t) + v_0  \\cdot x_{v}(t)\n",
    "$$\n",
    "\n",
    "With\n",
    "\n",
    "$$\n",
    "x_p(0) = 1 \\ \\ \\ \\ \\ \\ \\ \\ \\ \\ \\ \\ \\ \\ \\dot{x}(0) = 0\n",
    "$$\n",
    "$$\n",
    "x_v(0) = 0 \\ \\ \\ \\ \\ \\ \\ \\ \\ \\ \\ \\ \\ \\ \\dot{x}(0) = 1\n",
    "$$\n",
    "\n",
    "There are many ways to solve it. We are going to use Laplace transformation\n",
    "\n",
    "$$\n",
    "ms^2 \\cdot X + cs \\cdot X + kX = m \\cdot x(0) + (ms+c) \\cdot \\dot{x}(0) = 0\n",
    "$$\n",
    "$$\n",
    "X = \\underbrace{\\dfrac{m}{ms^2 + cs + k}}_{X_{p}} \\cdot x(0) + \\underbrace{\\dfrac{ms+c}{ms^2 + cs + k}}_{X_{v}} \\cdot \\dot{x}\n",
    "$$\n",
    "\n",
    "The solution depends on the parameters $m$, $c$ and $k$, which we divide in three groups:"
   ]
  },
  {
   "cell_type": "markdown",
   "metadata": {},
   "source": [
    "* Se $0\\le \\xi < 1$\n",
    "> Temos a solução dada por\n",
    "> \n",
    "> $$x_{p}(t) = \\exp \\left(-\\xi \\omega_n t\\right) \\cdot \\left[\\cos \\mu \\omega_n t + \\dfrac{\\xi}{\\mu} \\cdot \\sin \\mu \\omega_n t\\right]$$\n",
    "> $$x_{v}(t) = \\dfrac{1}{\\mu \\omega_{n}}\\exp \\left(-\\xi \\omega_n t\\right) \\cdot \\sin \\mu \\omega_n t$$\n",
    "> Cujas derivadas são\n",
    "> \n",
    "> $$\\dot{x}_p(t) = - \\omega_n \\cdot \\exp \\left(-\\xi \\omega_n t\\right) \\cdot \\sin \\mu \\omega_n t$$\n",
    "> $$\\dot{x}_v(t) = \\exp \\left(-\\xi \\omega_n t\\right) \\cdot \\left[\\cos \\mu \\omega_n t - \\dfrac{\\xi}{\\mu} \\cdot \\sin \\mu \\omega_n t\\right] $$\n",
    "> \n",
    "* Se $\\xi = 1$\n",
    "> Temos a solução dada por\n",
    "> \n",
    "> $$x_{p}(t) = \\left(1+\\omega_n t\\right) \\exp \\left(- \\omega_n t\\right) $$\n",
    "> $$x_{v}(t) = t \\cdot \\exp \\left(-\\xi \\omega_n t\\right)$$\n",
    ">\n",
    "> Cujas derivadas são\n",
    ">\n",
    "> $$\\dot{x}_p(t) = - \\omega_n \\cdot \\exp \\left(-\\xi \\omega_n t\\right) \\cdot \\sin \\mu \\omega_n t$$\n",
    "> $$\\dot{x}_v(t) = \\exp \\left(-\\xi \\omega_n t\\right) \\cdot \\left[\\cos \\mu \\omega_n t - \\dfrac{\\xi}{\\mu} \\cdot \\sin \\mu \\omega_n t\\right] $$\n",
    "> \n",
    "* Se $\\xi > 1$\n",
    "> \n",
    "> Para esse específico caso temos que\n",
    "> $$\\mu = \\sqrt{\\xi^2 - 1}\\ \\ \\ \\ \\ \\ \\ \\ \\ \\ \\ \\ \\alpha = \\xi - \\mu\\ \\ \\ \\ \\ \\ \\ \\ \\ \\ \\ \\ \\beta = \\xi + \\mu$$\n",
    "> \n",
    "> Disto, temos a solução dada por\n",
    "> \n",
    "> $$x_p(t) = \\dfrac{1}{2\\mu}\\left[\\beta  \\cdot \\exp \\left(-\\alpha \\omega_n t\\right) - \\alpha \\cdot \\exp \\left(-\\beta \\omega_n t\\right)\\right]$$\n",
    "> $$x_v(t) = \\dfrac{1}{2\\mu\\omega_n} \\cdot \\left[ \\exp \\left(-\\alpha \\omega_n t\\right) - \\exp \\left(-\\beta \\omega_n t\\right)\\right]$$\n",
    ">\n",
    "> Cujas derivadas são\n",
    ">\n",
    "> $$\\dot{x}_p(t) = \\dfrac{-\\alpha\\beta \\omega_n}{2\\mu}  \\left[ \\exp \\left(-\\alpha \\omega_n t\\right) -  \\exp \\left(-\\beta \\omega_n t\\right)\\right]$$\n",
    "> $$\\dot{x}_v(t) = \\dfrac{1}{2\\mu} \\left[ \\beta \\exp \\left(-\\beta \\omega_n t\\right) - \\alpha \\cdot \\exp \\left(-\\alpha \\omega_n t\\right) \\right] $$"
   ]
  },
  {
   "cell_type": "markdown",
   "metadata": {},
   "source": []
  },
  {
   "cell_type": "markdown",
   "metadata": {},
   "source": [
    "This OD"
   ]
  },
  {
   "cell_type": "code",
   "execution_count": null,
   "metadata": {},
   "outputs": [],
   "source": []
  }
 ],
 "metadata": {
  "kernelspec": {
   "display_name": "Python 3.10.5 64-bit",
   "language": "python",
   "name": "python3"
  },
  "language_info": {
   "name": "python",
   "version": "3.10.5"
  },
  "orig_nbformat": 4,
  "vscode": {
   "interpreter": {
    "hash": "9bd63d4d0e53dd854605697514204d0a3a6bfb81f118d4d4374019a86f3401eb"
   }
  }
 },
 "nbformat": 4,
 "nbformat_minor": 2
}
