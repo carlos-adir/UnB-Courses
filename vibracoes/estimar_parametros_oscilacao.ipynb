{
 "cells": [
  {
   "cell_type": "code",
   "execution_count": 92,
   "metadata": {},
   "outputs": [],
   "source": [
    "import numpy as np\n",
    "import sympy as sp\n",
    "from matplotlib import pyplot as plt"
   ]
  },
  {
   "cell_type": "markdown",
   "metadata": {},
   "source": [
    "## Estimação de parâmetros por experimento\n",
    "\n",
    "Temos um sistema massa-mola governado pela Equação \n",
    "\n",
    "$$\n",
    "m\\ddot{x} + c\\dot{x} + kx = 0\n",
    "$$\n",
    "\n",
    "Reescrevendo tal equação em termos de $\\xi$ e $\\omega$ obtemos\n",
    "\n",
    "$$\n",
    "\\ddot{x} + 2\\xi \\omega \\dot{x} + \\omega^2 x = 0\n",
    "$$\n",
    "\n",
    "Em que\n",
    "\n",
    "$$\n",
    "\\omega = \\sqrt{\\dfrac{k}{m}} \\ \\ \\ \\ \\ \\ \\ \\ \\ \\ \\ \\ \\ \\ \n",
    "\\xi = \\dfrac{c}{2\\sqrt{km}}\n",
    "$$"
   ]
  },
  {
   "cell_type": "markdown",
   "metadata": {},
   "source": [
    "E um termo auxiliar $\\mu$ que utilizaremos para facilitar a notação\n",
    "\n",
    "$$\n",
    "\\mu = \\sqrt{1-\\xi^2}\n",
    "$$"
   ]
  },
  {
   "cell_type": "markdown",
   "metadata": {},
   "source": [
    "E então conseguimos descrever a resposta da solução em função do tempo com condições iniciais $x_0$ e $v_0$ dependendo do parâmetro $\\xi$. \n",
    "Aqui iremos abordar apenas quando temos o oscilamento sub-amortecido ($0 < \\xi < 1$), de modo que a solução é descrita por\n",
    "\n",
    "$$\n",
    "x(t) = \\exp \\left(-\\xi \\omega t\\right) \\left[\\underbrace{x_0}_{A} \\cos \\mu \\omega t + \\underbrace{\\left(\\frac{\\xi}{\\mu} x_0 + \\frac{1}{\\mu \\omega} v_0\\right)}_{B}\\sin \\mu \\omega t\\right]\n",
    "$$"
   ]
  },
  {
   "cell_type": "code",
   "execution_count": 93,
   "metadata": {},
   "outputs": [],
   "source": [
    "def solucao_sub_amortecida(xi:float, wn:float, t, x0:float, v0:float):\n",
    "    mu = np.sqrt(1-xi**2)\n",
    "    x = sp.exp(-xi*wn*t) * (x0 * sp.cos(mu*wn*t) + (xi*x0/mu + v0/(mu*wn)) * sp.sin(mu*wn*t))\n",
    "    return x\n",
    "\n",
    "def solucao_x(xi:float, wn:float, x0:float, v0:float):\n",
    "    t = sp.symbols(\"t\")\n",
    "    if 0 < xi < 1:\n",
    "        x = solucao_sub_amortecida(xi, wn, t, x0, v0)\n",
    "    else:\n",
    "        raise Exception(\"The value of xi must be in (0, 1). Received %.3f\" % xi)\n",
    "    return sp.lambdify(t, x)\n",
    "\n",
    "def solucao_v(xi:float, wn:float, x0:float, v0:float):\n",
    "    t = sp.symbols(\"t\")\n",
    "    if 0 < xi < 1:\n",
    "        x = solucao_sub_amortecida(xi, wn, t, x0, v0)\n",
    "    else:\n",
    "        raise Exception(\"The value of xi must be in (0, 1). Received %.3f\" % xi)\n",
    "    v = sp.diff(x, t)\n",
    "    return sp.lambdify(t, v)"
   ]
  },
  {
   "cell_type": "markdown",
   "metadata": {},
   "source": [
    "Então pegaremos um exemplo com as seguintes condições iniciais\n",
    "\n",
    "$$\n",
    "\\xi = 0.2 \\ \\ \\ \\ \\ \\ \\ \\ \\ \\ \\omega = 1\n",
    "$$\n",
    "\n",
    "$$\n",
    "x_0 = 1 \\ \\ \\ \\ \\ \\ \\ \\ \\ \\ v_0 = 1\n",
    "$$\n",
    "\n"
   ]
  },
  {
   "cell_type": "code",
   "execution_count": 94,
   "metadata": {},
   "outputs": [],
   "source": [
    "def initial_conditions():\n",
    "    wn = 1\n",
    "    xi = 0.2\n",
    "    x0, v0 = 1, 1\n",
    "    return xi, wn, x0, v0\n",
    "\n",
    "xi, wn, x0, v0 = initial_conditions()\n",
    "Tn = 2*np.pi/wn\n",
    "TotalTime = 10*Tn\n",
    "nplot = 1029\n",
    "tplot = np.linspace(0, TotalTime, nplot)"
   ]
  },
  {
   "cell_type": "code",
   "execution_count": null,
   "metadata": {},
   "outputs": [],
   "source": []
  },
  {
   "cell_type": "code",
   "execution_count": 95,
   "metadata": {},
   "outputs": [
    {
     "data": {
      "text/plain": [
       "Text(0.5, 1.0, 'Solução exata para os parâmetros encontrados')"
      ]
     },
     "execution_count": 95,
     "metadata": {},
     "output_type": "execute_result"
    },
    {
     "data": {
      "image/png": "[encoded data removed]",
      "text/plain": [
       "<Figure size 432x288 with 1 Axes>"
      ]
     },
     "metadata": {
      "needs_background": "light"
     },
     "output_type": "display_data"
    }
   ],
   "source": [
    "xplot = solucao_x(xi, wn, x0, v0)(tplot)\n",
    "plt.plot(tplot, xplot)\n",
    "plt.xlabel(\"Tempo $t$ (s)\")\n",
    "plt.ylabel(\"Posição $x$ (m)\")\n",
    "plt.title(\"Solução exata para os parâmetros encontrados\")"
   ]
  },
  {
   "cell_type": "markdown",
   "metadata": {},
   "source": [
    "## Dados ruidosos\n",
    "\n",
    "Por enquanto não temos os dados de nenhum experimento e dessa forma iremos adicionar um ruido artificial à solução exata já conhecida.\n",
    "E então compararemos os valores exatos dos parâmetros com aqueles estimados apenas pelos valores nos pontos.\n",
    "\n",
    "No caso teremos $n$ valores de $x$ medidos ao longo do tempo, formando os pontos $(t_i, \\ x_i)$."
   ]
  },
  {
   "cell_type": "code",
   "execution_count": 96,
   "metadata": {},
   "outputs": [
    {
     "name": "stdout",
     "output_type": "stream",
     "text": [
      "Distância média linear entre pontos = 4.96e-02\n",
      "         Distância média quadrática = 3.27e-03\n",
      "                   Norma quadrática = 1.81e+00\n"
     ]
    }
   ],
   "source": [
    "nsample = 1000 # Quantidade de pontos medidos durante o experimento\n",
    "tsample = np.linspace(0, TotalTime, nsample)\n",
    "incerteza = 1e-1  # Medimos em metros, e temos a incerteza de 100 mm\n",
    "xexact = solucao_x(xi, wn, x0, v0)(tsample)\n",
    "xsample = np.copy(xexact) + incerteza*(2*np.random.rand(nsample)-1)  # Valores lidos\n",
    "print(\"Distância média linear entre pontos = %.2e\" % np.mean(np.abs(xsample-xexact)))\n",
    "print(\"         Distância média quadrática = %.2e\" % np.mean((xsample-xexact)**2))\n",
    "print(\"                   Norma quadrática = %.2e\" % np.linalg.norm(xsample-xexact))"
   ]
  },
  {
   "cell_type": "code",
   "execution_count": 97,
   "metadata": {},
   "outputs": [],
   "source": [
    "xi_exact = xi\n",
    "mu_exact = np.sqrt(1-xi**2)\n",
    "wn_exact = wn\n",
    "x0_exact = x0\n",
    "v0_exact = v0\n",
    "A_exact = x0\n",
    "B_exact = xi*x0/mu_exact + v0/(mu_exact*wn)"
   ]
  },
  {
   "cell_type": "code",
   "execution_count": 98,
   "metadata": {},
   "outputs": [
    {
     "data": {
      "text/plain": [
       "Text(0.5, 1.0, 'Valores ruidosos produtos artificialmente')"
      ]
     },
     "execution_count": 98,
     "metadata": {},
     "output_type": "execute_result"
    },
    {
     "data": {
      "image/png": "[encoded data removed]",
      "text/plain": [
       "<Figure size 432x288 with 1 Axes>"
      ]
     },
     "metadata": {
      "needs_background": "light"
     },
     "output_type": "display_data"
    }
   ],
   "source": [
    "plt.scatter(tsample, xsample, color=\"r\", marker=\".\", label=\"Pontos 'lidos'\")\n",
    "plt.plot(tsample, xexact, color=\"b\", ls=\"dotted\", label=\"Curva exata\")\n",
    "plt.xlabel(\"Tempo $t$ (s)\")\n",
    "plt.ylabel(\"Posição $x$ (m)\")\n",
    "plt.legend()\n",
    "plt.title(\"Valores ruidosos produtos artificialmente\")"
   ]
  },
  {
   "cell_type": "markdown",
   "metadata": {},
   "source": [
    "## Estimativa do parâmetro $\\xi$ usando os valores ruidosos"
   ]
  },
  {
   "cell_type": "markdown",
   "metadata": {},
   "source": [
    "Como sabemos que $\\xi<1$ teremos a solução dada por\n",
    "\n",
    "$$\n",
    "x(t) = \\exp \\left(-\\xi \\omega t\\right) \\left[A \\cos \\left(\\mu \\omega t\\right) + B \\sin \\left(\\mu \\omega t\\right)\\right]\n",
    "$$\n",
    "\n",
    "Com constantes $A$ e $B$ que vêm das condições iniciais."
   ]
  },
  {
   "cell_type": "markdown",
   "metadata": {},
   "source": [
    "Então, como não sabemos os parâmetros $A$, $B$, $\\xi$ e $\\omega$ quando são obtidos os resultados experimentais, vamos utilizar os **métodos dos mínimos quadráticos** para estima-los usando os valores ruidosos obtidos mais acima.\n",
    "\n",
    "Seja $J$ a função que soma os quadrados das diferenças, teremos\n",
    "\n",
    "$$\n",
    "J(A, B, \\xi, \\omega) = \\dfrac{1}{2} \\sum_{i} w_{i}\\left(x(t_{i}) - x_i\\right)^{2}\n",
    "$$\n",
    "\n",
    "Em que $(t_i, \\ x_i)$ são os valores medidos pelo experimento. Os valores de $w_i$ são os **pesos** que iremos colocar pois consideraremos que os primeiros pontos lidos são mais importantes que os ultimos, pois o ruido afeta bastante os ultimos valores lidos e queremos diminuir esse efeito do ruido.\n",
    "De modo geral usaremos\n",
    "\n",
    "$$\n",
    "w_{i} = \\exp\\left(-\\dfrac{t_{i}^2}{T_n^2}\\right) \\ \\ \\ \\ \\ \\ \\ \\ \\ \\ T_n = \\dfrac{2\\pi}{\\omega}  \n",
    "$$\n",
    "\n",
    "Onde $T_{n}$ é o período de uma oscilação natural."
   ]
  },
  {
   "cell_type": "markdown",
   "metadata": {},
   "source": [
    "Assim, para minimizar a função $J$ podemos pegar a derivada (no caso multidimensional, o gradiente) de $J$ e igualar a $0$\n",
    "\n",
    "$$\n",
    "\\nabla J = \\vec{0} \\Leftrightarrow \\dfrac{\\partial J}{\\partial q_i} = 0\n",
    "$$\n",
    "\n",
    "E então pegar uma expressão pra encontrar os parâmetros.\n",
    "\n",
    "Para evitar o calculo de derivadas à mão, utilizaremos a biblioteca ```sympy``` para fazer os calculos algébrico das derivadas.\n",
    "Caso seja necessário aumentar a velocidade do código (performance) por exemplo, seria interessante de ter as fórmulas das derivadas e montar manualmente os códigos para evitar re-calculo. No nosso caso, não faremos isso.\n"
   ]
  },
  {
   "cell_type": "code",
   "execution_count": 99,
   "metadata": {},
   "outputs": [],
   "source": [
    "X = sp.symbols(\"A B xi wn\")\n",
    "t = sp.symbols(\"t\")\n",
    "A, B, xi, wn = X\n",
    "\n",
    "mu = sp.sqrt(1-xi**2)\n",
    "x = sp.exp(-xi*wn*t)*(A*sp.cos(mu*wn*t) + B*sp.sin(mu*wn*t))"
   ]
  },
  {
   "cell_type": "markdown",
   "metadata": {},
   "source": [
    "Para calcular as derivadas, será util as expressões\n",
    "\n",
    "$$\n",
    "Gx = \\nabla x = \\begin{bmatrix}\n",
    "\\dfrac{\\partial x}{\\partial A} \\\\ \\dfrac{\\partial x}{\\partial B} \\\\ \\dfrac{\\partial x}{\\partial \\xi} \\\\ \\dfrac{\\partial x}{\\partial \\omega} \n",
    "\\end{bmatrix}\n",
    "$$\n",
    "\n",
    "$$\n",
    "GGx = \\nabla \\nabla x = \\begin{bmatrix}\n",
    "\\dfrac{\\partial^2 x}{\\partial A^2} & \\dfrac{\\partial^2 x}{\\partial A \\partial B} & \\dfrac{\\partial^2 x}{\\partial A \\partial \\xi} & \\dfrac{\\partial^2 x}{\\partial A \\partial \\omega}  \\\\  & \\dfrac{\\partial^2 x}{\\partial B^2} & \\dfrac{\\partial^2 x}{\\partial B \\partial \\xi} & \\dfrac{\\partial^2 x}{\\partial B \\partial \\omega} \\\\ & & \\dfrac{\\partial^2 x}{\\partial \\xi^2} & \\dfrac{\\partial^2 x}{\\partial \\xi \\partial \\omega}  \\\\ \\text{sym} & & & \\dfrac{\\partial^2 x}{\\partial \\omega^2} \n",
    "\\end{bmatrix}\n",
    "$$"
   ]
  },
  {
   "cell_type": "code",
   "execution_count": 100,
   "metadata": {},
   "outputs": [],
   "source": [
    "Gx = sp.derive_by_array(x, X)\n",
    "GGx = sp.derive_by_array(Gx, X)\n",
    "x = sp.lambdify((t, A, B, xi, wn), x, \"numpy\")\n",
    "Gx = sp.lambdify((t, A, B, xi, wn), Gx, \"numpy\")\n",
    "GGx = sp.lambdify((t, A, B, xi, wn), GGx, \"numpy\")"
   ]
  },
  {
   "cell_type": "markdown",
   "metadata": {},
   "source": [
    "Então calculando a derivada de $J$:\n",
    "\n",
    "$$\n",
    "\\nabla J = \\sum_{i}\\left(x(t_i) - x_i\\right) \\nabla x(t_i)\n",
    "$$"
   ]
  },
  {
   "cell_type": "markdown",
   "metadata": {},
   "source": [
    "Mas como essa é uma equação não linear, iremos utilizar o método de Newton para encontrar tal raiz.\n",
    "Em resumo ele consiste em encontrar a raiz de $f(x)$ então\n",
    "\n",
    "$$\n",
    "x_{j+1} = x_{j} - \\dfrac{f(x_j)}{f'(x_j)}\n",
    "$$\n",
    "\n",
    "No nosso caso, partindo de uma estimativa $X_{j} = (A_{j}, \\ B_{j}, \\ \\xi_{j}, \\ \\omega_{j})$ calculamos os próximos passos usando\n",
    "\n",
    "$$\n",
    "\\underbrace{\\begin{bmatrix}\n",
    "A_{j+1} \\\\ B_{j+1} \\\\ \\xi_{j+1} \\\\ \\omega_{j+1}\n",
    "\\end{bmatrix}}_{X_{j+1}} = \n",
    "\\underbrace{\\begin{bmatrix}\n",
    "A_{j} \\\\ B_{j} \\\\ \\xi_{j} \\\\ \\omega_{j} \n",
    "\\end{bmatrix}}_{X_{j}} - \\left[\\nabla \\nabla J\\right]^{-1} \\cdot \\left[\\nabla J\\right]\n",
    "$$"
   ]
  },
  {
   "cell_type": "markdown",
   "metadata": {},
   "source": [
    "With \n",
    "\n",
    "$$\n",
    "\\nabla \\nabla J = \\sum w_i \\left[\\nabla x \\otimes \\nabla x + x \\nabla \\nabla x\\right] - \\sum w_i x_i \\nabla \\nabla x\n",
    "$$"
   ]
  },
  {
   "cell_type": "markdown",
   "metadata": {},
   "source": [
    "Em uma foma matricial podemos colocar que\n",
    "\n",
    "$$\n",
    "\\left[L\\right]_{k} = x(t_k)\n",
    "$$\n",
    "\n",
    "$$\n",
    "\\left[dL\\right]_{ik} = \\dfrac{\\partial x(t_k)}{\\partial q_{i}}  = \\left[Gx\\right]_{i}(t_k)\n",
    "$$\n",
    "\n",
    "$$\n",
    "\\left[ddL\\right]_{ijk} = \\dfrac{\\partial^2 x(t_{k})}{\\partial q_{i} \\partial q_{j}} = \\left[GGx\\right]_{ij}(t_k)\n",
    "$$\n",
    "\n",
    "$$\n",
    "\\left[x\\right]_{k} = x_{k}\n",
    "$$\n",
    "\n",
    "$$\n",
    "\\left[W\\right]_{ik} = \\begin{cases}w_{i} \\ \\ \\ \\ \\text{se} \\ i = k \\\\ \n",
    "0 \\ \\ \\ \\ \\ \\ \\text{senão}\\end{cases}\n",
    "$$\n",
    "\n",
    "E então teremos\n",
    "\n",
    "$$\n",
    "\\left[ \\nabla J \\right] = \\left[dL\\right] \\cdot \\left[W\\right] \\cdot \\left[L\\right] - \\left[dL\\right] \\cdot \\left[W\\right] \\cdot \\left[x\\right]\n",
    "$$\n",
    "\n",
    "$$\n",
    "\\left[ \\nabla \\nabla J \\right] = \\left[dL\\right] \\cdot \\left[W\\right] \\cdot \\left[dL\\right] + \\left[ddL\\right] \\cdot \\left[W\\right] \\cdot \\left[L\\right] - \\left[ddL\\right] \\cdot \\left[W\\right] \\cdot \\left[x\\right]\n",
    "$$"
   ]
  },
  {
   "cell_type": "code",
   "execution_count": 101,
   "metadata": {},
   "outputs": [],
   "source": [
    "\n",
    "def getMB(tvals, xvals, Xj):\n",
    "    n = len(xvals)\n",
    "    m = len(Xj)\n",
    "    L = np.zeros(n, dtype=\"float64\")\n",
    "    dL = np.zeros((m, n), dtype=\"float64\")\n",
    "    ddL = np.zeros((m, m, n), dtype=\"float64\")\n",
    "    Tn = 2*np.pi/Xj[3]\n",
    "    weight = np.exp(-(tvals/Tn)**2)\n",
    "    # weight = np.ones(len(tvals))\n",
    "    for i, ti in enumerate(tvals):\n",
    "        L[i] = x(ti, Xj[0], Xj[1], Xj[2], Xj[3])\n",
    "        dL[:, i] = np.array(Gx(ti, Xj[0], Xj[1], Xj[2], Xj[3]), dtype=\"float64\")\n",
    "        ddL[:, :, i] = np.array(GGx(ti, Xj[0], Xj[1], Xj[2], Xj[3]), dtype=\"float64\")\n",
    "    \n",
    "    M = dL @ np.diag(weight) @ dL.T - ddL @ np.diag(weight) @ xvals + ddL @ np.diag(weight) @ L.T\n",
    "    B = dL @ np.diag(weight) @ L.T - dL @ np.diag(weight) @ xvals\n",
    "    return M, B"
   ]
  },
  {
   "cell_type": "markdown",
   "metadata": {},
   "source": [
    "#### Estimar o ponto inicial"
   ]
  },
  {
   "cell_type": "markdown",
   "metadata": {},
   "source": [
    "Agora, para o método de Newton, precisamos do ponto inicial $X_0 = (A_{0}, \\ B_{0}, \\ \\xi_{0}, \\ \\omega_{0})$ o qual vamos procurar a solução.\n",
    "\n",
    "Para a estimativa de $A_{0}$, como $x(t = 0) = A$ então podemos apenas pegar o primeiro ponto\n",
    "\n",
    "$$\n",
    "A_{0} = x_0\n",
    "$$"
   ]
  },
  {
   "cell_type": "code",
   "execution_count": 102,
   "metadata": {},
   "outputs": [
    {
     "name": "stdout",
     "output_type": "stream",
     "text": [
      "A estimado =  0.9382163371864775\n",
      "   A exato =  1\n"
     ]
    }
   ],
   "source": [
    "A0 = xsample[0]\n",
    "print(\"A estimado = \", A0)\n",
    "print(\"   A exato = \", A_exact)"
   ]
  },
  {
   "cell_type": "markdown",
   "metadata": {},
   "source": [
    "Agora, pra $B$ é mais complicado e então primeiro pegaremos $\\xi_{0}$ e $\\omega_{0}$.\n",
    "Sejam $\\alpha$ e $\\beta$ os índices tais que\n",
    "\n",
    "$$x_{\\alpha} = \\max_{i} x_{i}$$\n",
    "\n",
    "$$x_{\\beta} = \\min_{i} x_{i}$$\n",
    "\n",
    "Como sabemos, a distância no tempo entre dois picos é equivalente a meio período, de forma que teremos\n",
    "\n",
    "$$\n",
    "\\dfrac{1}{2}T = |t_{\\beta} - t_{\\alpha}|\n",
    "$$\n",
    "\n",
    "De forma que $T$ é o tempo de uma oscilação\n",
    "\n",
    "$$\n",
    "T = \\dfrac{2\\pi}{\\omega_{d}} = \\dfrac{2\\pi}{\\mu \\omega} \\Rightarrow \\mu \\omega = \\dfrac{2\\pi}{T} = \\dfrac{\\pi}{|t_{\\beta} - t_{\\alpha}|} \n",
    "$$"
   ]
  },
  {
   "cell_type": "markdown",
   "metadata": {},
   "source": [
    "Por outro lado, sabemos que o decaimento é exponencial, de forma para algum $C = C(A, B)$ que\n",
    "\n",
    "$$\n",
    "x_{\\alpha} = C \\exp\\left(-\\xi \\omega t_\\alpha\\right)\n",
    "$$\n",
    "$$\n",
    "x_{\\beta} = -C \\exp\\left(-\\xi \\omega t_\\beta\\right)\n",
    "$$\n",
    "\n",
    "Dividindo uma equação pela outra\n",
    "\n",
    "$$\n",
    "\\exp \\left(-\\xi \\omega \\left(t_{\\beta} - t_{\\alpha}\\right)\\right) = \\dfrac{-x_{\\beta}}{x_{\\alpha}}\n",
    "$$\n",
    "\n",
    "$$\n",
    "\\xi \\omega = \\dfrac{-1}{t_{\\beta} - t_{\\alpha}} \\cdot \\ln \\left(\\dfrac{-x_{\\beta}}{x_{\\alpha}}\\right)\n",
    "$$"
   ]
  },
  {
   "cell_type": "markdown",
   "metadata": {},
   "source": [
    "Elevando ao quadrado ambas equações e as somando obteremos\n",
    "\n",
    "$$\n",
    "\\xi^2 \\omega^2 + \\mu^2 \\omega^2 = \\omega^2 = \\dfrac{\\pi^2}{\\left(t_{\\beta}-t_{\\alpha}\\right)^2} + \\dfrac{1}{(t_{\\beta}-t_{\\alpha})^2} \\ln^2 \\left(\\dfrac{-x_{\\beta}}{x_{\\alpha}}\\right)\n",
    "$$\n",
    "\n",
    "$$\n",
    "\\boxed{\\omega_{0} =\\dfrac{1}{|t_{\\beta} - t_{\\alpha}|} \\sqrt{\\pi^2 + \\ln^2 \\left(\\dfrac{-x_{\\beta}}{x_{\\alpha}}\\right)}}\n",
    "$$"
   ]
  },
  {
   "cell_type": "code",
   "execution_count": 103,
   "metadata": {},
   "outputs": [
    {
     "name": "stdout",
     "output_type": "stream",
     "text": [
      "wn estimado =  0.9551168027661089\n",
      "   wn exato =  1\n"
     ]
    }
   ],
   "source": [
    "alpha = np.where(xsample == np.max(xsample))[0][0]\n",
    "beta = np.where(xsample == np.min(xsample[alpha:]))[0][0]\n",
    "alpha = np.where(xsample == np.max(xsample[beta:]))[0][0]\n",
    "xalpha = xsample[alpha]\n",
    "xbeta = xsample[beta]\n",
    "talpha = tsample[alpha]\n",
    "tbeta = tsample[beta]\n",
    "wn0 = np.sqrt(np.pi**2 + np.log(-xbeta/xalpha)**2)/np.abs(tbeta-talpha)\n",
    "print(\"wn estimado = \", wn0)\n",
    "print(\"   wn exato = \", wn_exact)"
   ]
  },
  {
   "cell_type": "markdown",
   "metadata": {},
   "source": [
    "E então o valor de $\\mu$ e $\\xi$\n",
    "\n",
    "$$\n",
    "\\mu_{0} = \\dfrac{\\pi}{\\omega_{0} |t_{\\beta} - t_{\\alpha}|}\n",
    "$$\n",
    "\n",
    "$$\n",
    "\\xi_{0} = \\sqrt{1-\\mu_{0}^2}\n",
    "$$"
   ]
  },
  {
   "cell_type": "code",
   "execution_count": 104,
   "metadata": {},
   "outputs": [
    {
     "name": "stdout",
     "output_type": "stream",
     "text": [
      "xi estimado =  0.16230330225295225\n",
      "   xi exato =  0.2\n",
      "mu estimado =  0.9867409174032395\n",
      "   mu exato =  0.9797958971132712\n"
     ]
    }
   ],
   "source": [
    "mu0 = np.pi/(wn0*np.abs(tbeta-talpha))\n",
    "xi0 = np.sqrt(1-mu0**2)\n",
    "print(\"xi estimado = \", xi0)\n",
    "print(\"   xi exato = \", xi_exact)\n",
    "print(\"mu estimado = \", mu0)\n",
    "print(\"   mu exato = \", mu_exact)"
   ]
  },
  {
   "cell_type": "markdown",
   "metadata": {},
   "source": [
    "Por ultimo, queremos encontrar o valor de $B_0$. Sabemos que a amplitude total é dada por\n",
    "\n",
    "$$\n",
    "C = \\sqrt{A^2 + B^2}\n",
    "$$\n",
    "\n",
    "Tal que, para algum $\\phi$, podemos reescrever a solução como\n",
    "\n",
    "$$\n",
    "x(t) = C \\exp\\left(-\\xi \\omega t\\right) \\sin(\\mu \\omega t + \\phi )\n",
    "$$\n",
    "\n",
    "E então teremos\n",
    "\n",
    "$$\n",
    "x(t_{\\alpha}) = C \\exp \\left(-\\xi \\omega t_{\\alpha}\\right) \\underbrace{\\sin \\left(\\mu \\omega t_{\\alpha} + \\phi\\right)}_{1}\n",
    "$$\n",
    "\n",
    "$$\n",
    "\\sqrt{A^2 + B^2} = C = \\dfrac{x(t_{\\alpha})}{\\exp \\left(-\\xi \\omega t_{\\alpha}\\right)}\n",
    "$$\n",
    "\n",
    "$$\n",
    "\\Rightarrow B = \\sqrt{\\dfrac{x(t_{\\alpha})^2}{\\exp \\left(-2\\xi \\omega t_{\\alpha}\\right)} - A^2}\n",
    "$$\n",
    "\n",
    "E para decidir o sinal de $B$, usaremos o valor mais próximo da origem:\n",
    "\n",
    "$$\n",
    "\\begin{cases} \n",
    "B > 0 \\ \\ \\ \\ \\text{se} \\ \\ t_{\\alpha} < t_{\\beta}\\\\\n",
    "B < 0 \\ \\ \\ \\ \\text{senão} \n",
    "\\end{cases}\n",
    "$$"
   ]
  },
  {
   "cell_type": "code",
   "execution_count": 105,
   "metadata": {},
   "outputs": [
    {
     "name": "stdout",
     "output_type": "stream",
     "text": [
      "B estimado =  1.0904157723174188\n",
      "   B exato =  1.2247448713915892\n"
     ]
    }
   ],
   "source": [
    "C0 = xalpha/np.exp(-xi0*wn0*talpha)\n",
    "B0 = np.sqrt( np.abs(C0**2-A0**2) )\n",
    "print(\"B estimado = \", B0)\n",
    "print(\"   B exato = \", B_exact)"
   ]
  },
  {
   "cell_type": "markdown",
   "metadata": {},
   "source": [
    "Logo montamos o vetor inicial $X$ que vamos utilizar para iterar"
   ]
  },
  {
   "cell_type": "code",
   "execution_count": 106,
   "metadata": {},
   "outputs": [
    {
     "name": "stdout",
     "output_type": "stream",
     "text": [
      "X estimado =  [0.93821634 1.09041577 0.1623033  0.9551168 ]\n",
      "   X exato =  [1.         1.22474487 0.2        1.        ]\n"
     ]
    }
   ],
   "source": [
    "X = np.array([A0, B0, xi0, wn0])\n",
    "X_exact = np.array([A_exact, B_exact, xi_exact, wn_exact])\n",
    "print(\"X estimado = \", X)\n",
    "print(\"   X exato = \", X_exact)"
   ]
  },
  {
   "cell_type": "markdown",
   "metadata": {},
   "source": [
    "Agora é resolver iterando. Mas primeiro vamos definir funções para avaliar a solução"
   ]
  },
  {
   "cell_type": "code",
   "execution_count": 107,
   "metadata": {},
   "outputs": [],
   "source": [
    "def compute_residuo(tvals, xvals, X):\n",
    "    A, B, xi, wn = X\n",
    "    wd = wn * np.sqrt(1-xi**2)\n",
    "    x0 = A\n",
    "    v0 = B * wd - xi * wn * x0\n",
    "    xtest = solucao_x(xi, wn, x0, v0)(tvals)\n",
    "    return np.linalg.norm(xtest - xvals)\n",
    "    \n",
    "def compute_error(Xgood, Xtest):\n",
    "    diff = Xgood-Xtest\n",
    "    divisor = np.copy(Xgood)\n",
    "    divisor[divisor<1e-9] = 1\n",
    "    return np.max(diff/divisor)\n",
    "\n",
    "def plot_current_solution(X, zr):\n",
    "    A, B, xi, wn = X\n",
    "    wd = wn * np.sqrt(1-xi**2)\n",
    "    x0 = A \n",
    "    v0 = B * wd - xi * wn * x0\n",
    "    xtest = solucao_x(xi, wn, x0, v0)(tplot)\n",
    "    plt.plot(tplot, xtest, label=f\"{zr}\")"
   ]
  },
  {
   "cell_type": "code",
   "execution_count": 108,
   "metadata": {},
   "outputs": [
    {
     "name": "stdout",
     "output_type": "stream",
     "text": [
      " ---- Begin ---- \n",
      "X0 =  [0.93821634 1.09041577 0.1623033  0.9551168 ]\n",
      "    Error =  0.1884834887352388\n",
      "    Residuo =  2.174608803159997\n",
      " ---- Iteration 1 ---- \n",
      "X1 =  [0.97675175 1.17730664 0.18657414 0.99224827]\n",
      "    Error =  0.0671293032011129\n",
      "    Residuo =  1.8104059562893746\n",
      " ---- Iteration 2 ---- \n",
      "X2 =  [0.98495275 1.17814378 0.19112678 0.99384946]\n",
      "    Error =  0.04436610503136665\n",
      "    Residuo =  1.8027600144167975\n",
      " ---- Iteration 3 ---- \n",
      "X3 =  [0.98520236 1.17811744 0.19126242 0.99386279]\n",
      "    Error =  0.04368791809444231\n",
      "    Residuo =  1.8026585569652864\n",
      " ---- Iteration 4 ---- \n",
      "X4 =  [0.98520259 1.17811715 0.19126247 0.99386273]\n",
      "    Error =  0.043687639905346104\n",
      "    Residuo =  1.8026585209887476\n",
      " ---- Iteration 5 ---- \n",
      "X5 =  [0.98520259 1.17811715 0.19126247 0.99386274]\n",
      "    Error =  0.04368763861372402\n",
      "    Residuo =  1.8026585207973327\n",
      " ---- Exato ----\n",
      "X =  [1.         1.22474487 0.2        1.        ]\n",
      "    Residuo =  1.8081438517439765\n"
     ]
    },
    {
     "data": {
      "text/plain": [
       "[<matplotlib.lines.Line2D at 0x1e9537b6550>]"
      ]
     },
     "execution_count": 108,
     "metadata": {},
     "output_type": "execute_result"
    },
    {
     "data": {
      "image/png": "[encoded data removed]",
      "text/plain": [
       "<Figure size 432x288 with 1 Axes>"
      ]
     },
     "metadata": {
      "needs_background": "light"
     },
     "output_type": "display_data"
    }
   ],
   "source": [
    "print(\" ---- Begin ---- \")    \n",
    "print(\"X0 = \", X)\n",
    "print(\"    Error = \", compute_error(X_exact, X))\n",
    "print(\"    Residuo = \", compute_residuo(tsample, xsample, X))\n",
    "\n",
    "for zr in range(5):  # Numero de iteracoes\n",
    "    # plot_current_solution(Xvec, zr)\n",
    "    M, B = getMB(tsample, xsample, X)\n",
    "    X -= np.linalg.solve(M, B)\n",
    "    print(\" ---- Iteration %d ---- \" % (zr+1))\n",
    "    print(\"X%d = \" % (zr+1), X)\n",
    "    print(\"    Error = \", compute_error(X_exact, X))\n",
    "    print(\"    Residuo = \", compute_residuo(tsample, xsample, X))\n",
    "print(\" ---- Exato ----\")\n",
    "print(\"X = \", X_exact)\n",
    "print(\"    Residuo = \", compute_residuo(tsample, xsample, X_exact))\n",
    "plot_current_solution(X, zr+1)    \n",
    "plt.legend()\n",
    "plt.plot(tplot, xplot, ls=\"dotted\")\n",
    "C = np.sqrt(A_exact**2 + B_exact**2)\n",
    "plt.plot(tplot, C*np.exp(-xi_exact*wn_exact*tplot), ls=\"dotted\")"
   ]
  },
  {
   "cell_type": "markdown",
   "metadata": {},
   "source": [
    "#### Variando condições iniciais\n",
    "\n",
    "Agora vamos verificar se a nossa solução é adequada para diferentes valores das condições iniciais $(x_0, v_0)$.\n",
    "Para deixar mais modularizado, vamos criar uma função que recebe os pontos $(t_i, \\ x_i)$ e então devolve os valores estimados $(A, \\ B, \\ \\xi, \\ \\omega)$.\n",
    "No codigo acima consideramos fazer apenas $5$ iterações, mas neste colocaremos uma tolerância para a solução a ser encontrada."
   ]
  },
  {
   "cell_type": "markdown",
   "metadata": {},
   "source": [
    "Para algo mais genérico, a situação é mais complicada pois para encontrar $X_0$ dependemos de pegar os máximos e mínimos da função, e às vezes a incerteza da medição faz com que pegamos os valores e posições sejam errados.\n",
    "Disso, vamos procuras as $3$ primerias raizes medidos, que com certeza teremos uma raiz entre picos:"
   ]
  },
  {
   "cell_type": "code",
   "execution_count": 112,
   "metadata": {},
   "outputs": [],
   "source": [
    "def findRoots(xsample):\n",
    "    index_raizes = []\n",
    "    position = 0\n",
    "    absxsample = np.abs(np.copy(xsample))\n",
    "    for i in range(3):\n",
    "        while xsample[position] * xsample[position+1] > 0:\n",
    "            position += 1\n",
    "        index_raizes.append(position)\n",
    "        position += np.where(absxsample[position:] == np.max(absxsample[position:]))[0][0]\n",
    "    return index_raizes"
   ]
  },
  {
   "cell_type": "code",
   "execution_count": 128,
   "metadata": {},
   "outputs": [],
   "source": [
    "def regressaoQuadratica(tsample, xsample):\n",
    "    n = len(tsample)\n",
    "    L = np.ones((3, n))\n",
    "    L[1] = xsample\n",
    "    L[2] = xsample**2\n",
    "    return np.linalg.solve(L @ L.T, L @ xsample)\n",
    "\n",
    "def filter(xsample):\n",
    "    n = len(xsample)\n",
    "    m = n//100\n",
    "    xfiltered = np.copy(xsample)\n",
    "    for i in range(m, n-m):\n",
    "        xfiltered[m+i] = np.mean(xsample[i:i+2*m])\n",
    "    return xfiltered"
   ]
  },
  {
   "cell_type": "code",
   "execution_count": 129,
   "metadata": {},
   "outputs": [],
   "source": [
    "def findInitialValues(tsample:np.ndarray, xsample:np.ndarray):\n",
    "    index_raizes = findRoots(xsample)\n",
    "    root0 = index_raizes[0]\n",
    "    root1 = index_raizes[1]\n",
    "    root2 = index_raizes[2]\n",
    "    Td = 2*(tsample[root2] - tsample[root1])\n",
    "    absxsample = np.copy(np.abs(xsample))\n",
    "    alpha = np.where(absxsample[root1:root2] == np.max(absxsample[root1:root2]))[0][0] + root1\n",
    "    beta = np.where(absxsample[root2:] == np.max(absxsample[root2:]))[0][0] + root2\n",
    "    mu0wn0 = 2*np.pi/Td\n",
    "    xi0wn0 = 2*np.log(absxsample[alpha]/absxsample[beta])/Td\n",
    "    wn0 = np.sqrt(mu0wn0**2 + xi0wn0**2)\n",
    "    xi0 = xi0wn0/wn0\n",
    "\n",
    "    ind = np.max(10, root0//2)\n",
    "    A0, _, _ = regressaoQuadratica(tsample[:ind], xsample[:ind])\n",
    "    C0 = absxsample[alpha]/np.exp(-xi0*wn0*tsample[alpha])\n",
    "    B0 = np.sqrt( np.abs(C0**2-A0**2) )\n",
    "    X0 = np.array([A0, B0, xi0, wn0])\n",
    "    print(\"X0 = \", X0)\n",
    "    return X0\n",
    "\n",
    "def SquareMinimum(tsample, xsample, tolerance=1e-6, nitermax = 10, verbose=True):\n",
    "    X = findInitialValues(tsample, xsample)\n",
    "    residuo = compute_residuo(tsample, xsample, X)\n",
    "    if verbose:\n",
    "        print(\" ---- Begin ---- \")    \n",
    "        print(\"    X0 = \", X)\n",
    "        print(\"    Error = \", compute_error(X_exact, X))\n",
    "        print(\"    Residuo = \", residuo)\n",
    "\n",
    "    niter = 0\n",
    "    for niter in range(nitermax)\n",
    "        M, B = getMB(tsample, xsample, X)\n",
    "        dX = np.linalg.solve(M, B)\n",
    "        if X[2] - dX[2] <= 0:\n",
    "            const = X[2]/np.abs(2*dX[2])\n",
    "        elif X[2] - dX[2] >= 1:\n",
    "            const = (1-X[2])/np.abs(2*dX[2])\n",
    "        else:\n",
    "            const = 1\n",
    "        X -= const * dX\n",
    "        newresiduo = compute_residuo(tsample, xsample, X)\n",
    "        if verbose:\n",
    "            print(\" ---- Iteration %d ---- \" % (zr+1))\n",
    "            print(\"    X%d = \" % (zr+1), X)\n",
    "            print(\"    Error = \", compute_error(X_exact, X))\n",
    "            print(\"    Residuo = \", compute_residuo(tsample, xsample, X))\n",
    "        if np.abs(newresiduo - residuo) < tolerance:\n",
    "            break\n",
    "        if niter > nitermax:\n",
    "            break\n",
    "        residuo = newresiduo\n",
    "        niter += 1\n",
    "    except Exception as e:\n",
    "        print(\"const = \", const)\n",
    "        print(\"oldX[2] = \", X[2] + const*dX[2])\n",
    "        print(\"newX[2] = \", X[2])\n",
    "        print(\"  dX[2] = \", dX[2])\n",
    "        print(\"    val = \", val)\n",
    "        raise e\n",
    "    return X"
   ]
  },
  {
   "cell_type": "code",
   "execution_count": 125,
   "metadata": {},
   "outputs": [
    {
     "name": "stdout",
     "output_type": "stream",
     "text": [
      "(x0, v0) = (-1.0, -1.0)\n",
      "(x0, v0) = (-1.00, -1.00)\n"
     ]
    },
    {
     "ename": "AxisError",
     "evalue": "axis 19 is out of bounds for array of dimension 0",
     "output_type": "error",
     "traceback": [
      "\u001b[1;31m---------------------------------------------------------------------------\u001b[0m",
      "\u001b[1;31mAxisError\u001b[0m                                 Traceback (most recent call last)",
      "\u001b[1;32m~\\AppData\\Local\\Temp\\ipykernel_12048\\3082959257.py\u001b[0m in \u001b[0;36m<module>\u001b[1;34m\u001b[0m\n\u001b[0;32m     18\u001b[0m         \u001b[1;32mexcept\u001b[0m \u001b[0mException\u001b[0m \u001b[1;32mas\u001b[0m \u001b[0me\u001b[0m\u001b[1;33m:\u001b[0m\u001b[1;33m\u001b[0m\u001b[1;33m\u001b[0m\u001b[0m\n\u001b[0;32m     19\u001b[0m             \u001b[0mprint\u001b[0m\u001b[1;33m(\u001b[0m\u001b[1;34m\"(x0, v0) = (%.2f, %.2f)\"\u001b[0m \u001b[1;33m%\u001b[0m \u001b[1;33m(\u001b[0m\u001b[0mx0\u001b[0m\u001b[1;33m,\u001b[0m \u001b[0mv0\u001b[0m\u001b[1;33m)\u001b[0m\u001b[1;33m)\u001b[0m\u001b[1;33m\u001b[0m\u001b[1;33m\u001b[0m\u001b[0m\n\u001b[1;32m---> 20\u001b[1;33m             \u001b[1;32mraise\u001b[0m \u001b[0me\u001b[0m\u001b[1;33m\u001b[0m\u001b[1;33m\u001b[0m\u001b[0m\n\u001b[0m\u001b[0;32m     21\u001b[0m         \u001b[0mresiduos\u001b[0m\u001b[1;33m[\u001b[0m\u001b[0mi\u001b[0m\u001b[1;33m,\u001b[0m \u001b[0mj\u001b[0m\u001b[1;33m]\u001b[0m \u001b[1;33m=\u001b[0m \u001b[0mcompute_residuo\u001b[0m\u001b[1;33m(\u001b[0m\u001b[0mtsample\u001b[0m\u001b[1;33m,\u001b[0m \u001b[0mxsample\u001b[0m\u001b[1;33m,\u001b[0m \u001b[0mX\u001b[0m\u001b[1;33m)\u001b[0m\u001b[1;33m\u001b[0m\u001b[1;33m\u001b[0m\u001b[0m\n\u001b[0;32m     22\u001b[0m \u001b[0mfig\u001b[0m\u001b[1;33m,\u001b[0m \u001b[0maxes\u001b[0m \u001b[1;33m=\u001b[0m \u001b[0mplt\u001b[0m\u001b[1;33m.\u001b[0m\u001b[0msubplots\u001b[0m\u001b[1;33m(\u001b[0m\u001b[1;33m)\u001b[0m\u001b[1;33m\u001b[0m\u001b[1;33m\u001b[0m\u001b[0m\n",
      "\u001b[1;32m~\\AppData\\Local\\Temp\\ipykernel_12048\\3082959257.py\u001b[0m in \u001b[0;36m<module>\u001b[1;34m\u001b[0m\n\u001b[0;32m     15\u001b[0m         \u001b[0mxsample\u001b[0m \u001b[1;33m+=\u001b[0m \u001b[0mincerteza\u001b[0m\u001b[1;33m*\u001b[0m\u001b[1;33m(\u001b[0m\u001b[1;36m2\u001b[0m\u001b[1;33m*\u001b[0m\u001b[0mnp\u001b[0m\u001b[1;33m.\u001b[0m\u001b[0mrandom\u001b[0m\u001b[1;33m.\u001b[0m\u001b[0mrand\u001b[0m\u001b[1;33m(\u001b[0m\u001b[0mnsample\u001b[0m\u001b[1;33m)\u001b[0m\u001b[1;33m-\u001b[0m\u001b[1;36m1\u001b[0m\u001b[1;33m)\u001b[0m\u001b[1;33m\u001b[0m\u001b[1;33m\u001b[0m\u001b[0m\n\u001b[0;32m     16\u001b[0m         \u001b[1;32mtry\u001b[0m\u001b[1;33m:\u001b[0m\u001b[1;33m\u001b[0m\u001b[1;33m\u001b[0m\u001b[0m\n\u001b[1;32m---> 17\u001b[1;33m             \u001b[0mX\u001b[0m \u001b[1;33m=\u001b[0m \u001b[0mSquareMinimum\u001b[0m\u001b[1;33m(\u001b[0m\u001b[0mtsample\u001b[0m\u001b[1;33m,\u001b[0m \u001b[0mxsample\u001b[0m\u001b[1;33m,\u001b[0m \u001b[0mverbose\u001b[0m\u001b[1;33m=\u001b[0m\u001b[1;32mFalse\u001b[0m\u001b[1;33m)\u001b[0m\u001b[1;33m\u001b[0m\u001b[1;33m\u001b[0m\u001b[0m\n\u001b[0m\u001b[0;32m     18\u001b[0m         \u001b[1;32mexcept\u001b[0m \u001b[0mException\u001b[0m \u001b[1;32mas\u001b[0m \u001b[0me\u001b[0m\u001b[1;33m:\u001b[0m\u001b[1;33m\u001b[0m\u001b[1;33m\u001b[0m\u001b[0m\n\u001b[0;32m     19\u001b[0m             \u001b[0mprint\u001b[0m\u001b[1;33m(\u001b[0m\u001b[1;34m\"(x0, v0) = (%.2f, %.2f)\"\u001b[0m \u001b[1;33m%\u001b[0m \u001b[1;33m(\u001b[0m\u001b[0mx0\u001b[0m\u001b[1;33m,\u001b[0m \u001b[0mv0\u001b[0m\u001b[1;33m)\u001b[0m\u001b[1;33m)\u001b[0m\u001b[1;33m\u001b[0m\u001b[1;33m\u001b[0m\u001b[0m\n",
      "\u001b[1;32m~\\AppData\\Local\\Temp\\ipykernel_12048\\887833327.py\u001b[0m in \u001b[0;36mSquareMinimum\u001b[1;34m(tsample, xsample, tolerance, nitermax, verbose)\u001b[0m\n\u001b[0;32m     22\u001b[0m \u001b[1;33m\u001b[0m\u001b[0m\n\u001b[0;32m     23\u001b[0m \u001b[1;32mdef\u001b[0m \u001b[0mSquareMinimum\u001b[0m\u001b[1;33m(\u001b[0m\u001b[0mtsample\u001b[0m\u001b[1;33m,\u001b[0m \u001b[0mxsample\u001b[0m\u001b[1;33m,\u001b[0m \u001b[0mtolerance\u001b[0m\u001b[1;33m=\u001b[0m\u001b[1;36m1e-6\u001b[0m\u001b[1;33m,\u001b[0m \u001b[0mnitermax\u001b[0m \u001b[1;33m=\u001b[0m \u001b[1;36m10\u001b[0m\u001b[1;33m,\u001b[0m \u001b[0mverbose\u001b[0m\u001b[1;33m=\u001b[0m\u001b[1;32mTrue\u001b[0m\u001b[1;33m)\u001b[0m\u001b[1;33m:\u001b[0m\u001b[1;33m\u001b[0m\u001b[1;33m\u001b[0m\u001b[0m\n\u001b[1;32m---> 24\u001b[1;33m     \u001b[0mX\u001b[0m \u001b[1;33m=\u001b[0m \u001b[0mfindInitialValues\u001b[0m\u001b[1;33m(\u001b[0m\u001b[0mtsample\u001b[0m\u001b[1;33m,\u001b[0m \u001b[0mxsample\u001b[0m\u001b[1;33m)\u001b[0m\u001b[1;33m\u001b[0m\u001b[1;33m\u001b[0m\u001b[0m\n\u001b[0m\u001b[0;32m     25\u001b[0m     \u001b[0mresiduo\u001b[0m \u001b[1;33m=\u001b[0m \u001b[0mcompute_residuo\u001b[0m\u001b[1;33m(\u001b[0m\u001b[0mtsample\u001b[0m\u001b[1;33m,\u001b[0m \u001b[0mxsample\u001b[0m\u001b[1;33m,\u001b[0m \u001b[0mX\u001b[0m\u001b[1;33m)\u001b[0m\u001b[1;33m\u001b[0m\u001b[1;33m\u001b[0m\u001b[0m\n\u001b[0;32m     26\u001b[0m     \u001b[1;32mif\u001b[0m \u001b[0mverbose\u001b[0m\u001b[1;33m:\u001b[0m\u001b[1;33m\u001b[0m\u001b[1;33m\u001b[0m\u001b[0m\n",
      "\u001b[1;32m~\\AppData\\Local\\Temp\\ipykernel_12048\\887833327.py\u001b[0m in \u001b[0;36mfindInitialValues\u001b[1;34m(tsample, xsample)\u001b[0m\n\u001b[0;32m     13\u001b[0m     \u001b[0mxi0\u001b[0m \u001b[1;33m=\u001b[0m \u001b[0mxi0wn0\u001b[0m\u001b[1;33m/\u001b[0m\u001b[0mwn0\u001b[0m\u001b[1;33m\u001b[0m\u001b[1;33m\u001b[0m\u001b[0m\n\u001b[0;32m     14\u001b[0m \u001b[1;33m\u001b[0m\u001b[0m\n\u001b[1;32m---> 15\u001b[1;33m     \u001b[0mind\u001b[0m \u001b[1;33m=\u001b[0m \u001b[0mnp\u001b[0m\u001b[1;33m.\u001b[0m\u001b[0mmax\u001b[0m\u001b[1;33m(\u001b[0m\u001b[1;36m10\u001b[0m\u001b[1;33m,\u001b[0m \u001b[0mroot0\u001b[0m\u001b[1;33m//\u001b[0m\u001b[1;36m2\u001b[0m\u001b[1;33m)\u001b[0m\u001b[1;33m\u001b[0m\u001b[1;33m\u001b[0m\u001b[0m\n\u001b[0m\u001b[0;32m     16\u001b[0m     \u001b[0mA0\u001b[0m\u001b[1;33m,\u001b[0m \u001b[0m_\u001b[0m\u001b[1;33m,\u001b[0m \u001b[0m_\u001b[0m \u001b[1;33m=\u001b[0m \u001b[0mregressaoQuadratica\u001b[0m\u001b[1;33m(\u001b[0m\u001b[0mtsample\u001b[0m\u001b[1;33m[\u001b[0m\u001b[1;33m:\u001b[0m\u001b[0mind\u001b[0m\u001b[1;33m]\u001b[0m\u001b[1;33m,\u001b[0m \u001b[0mxsample\u001b[0m\u001b[1;33m[\u001b[0m\u001b[1;33m:\u001b[0m\u001b[0mind\u001b[0m\u001b[1;33m]\u001b[0m\u001b[1;33m)\u001b[0m\u001b[1;33m\u001b[0m\u001b[1;33m\u001b[0m\u001b[0m\n\u001b[0;32m     17\u001b[0m     \u001b[0mC0\u001b[0m \u001b[1;33m=\u001b[0m \u001b[0mabsxsample\u001b[0m\u001b[1;33m[\u001b[0m\u001b[0malpha\u001b[0m\u001b[1;33m]\u001b[0m\u001b[1;33m/\u001b[0m\u001b[0mnp\u001b[0m\u001b[1;33m.\u001b[0m\u001b[0mexp\u001b[0m\u001b[1;33m(\u001b[0m\u001b[1;33m-\u001b[0m\u001b[0mxi0\u001b[0m\u001b[1;33m*\u001b[0m\u001b[0mwn0\u001b[0m\u001b[1;33m*\u001b[0m\u001b[0mtsample\u001b[0m\u001b[1;33m[\u001b[0m\u001b[0malpha\u001b[0m\u001b[1;33m]\u001b[0m\u001b[1;33m)\u001b[0m\u001b[1;33m\u001b[0m\u001b[1;33m\u001b[0m\u001b[0m\n",
      "\u001b[1;32mc:\\Program Files\\Python39\\lib\\site-packages\\numpy\\core\\overrides.py\u001b[0m in \u001b[0;36mamax\u001b[1;34m(*args, **kwargs)\u001b[0m\n",
      "\u001b[1;32mc:\\Program Files\\Python39\\lib\\site-packages\\numpy\\core\\fromnumeric.py\u001b[0m in \u001b[0;36mamax\u001b[1;34m(a, axis, out, keepdims, initial, where)\u001b[0m\n\u001b[0;32m   2791\u001b[0m     \u001b[1;36m5\u001b[0m\u001b[1;33m\u001b[0m\u001b[1;33m\u001b[0m\u001b[0m\n\u001b[0;32m   2792\u001b[0m     \"\"\"\n\u001b[1;32m-> 2793\u001b[1;33m     return _wrapreduction(a, np.maximum, 'max', axis, None, out,\n\u001b[0m\u001b[0;32m   2794\u001b[0m                           keepdims=keepdims, initial=initial, where=where)\n\u001b[0;32m   2795\u001b[0m \u001b[1;33m\u001b[0m\u001b[0m\n",
      "\u001b[1;32mc:\\Program Files\\Python39\\lib\\site-packages\\numpy\\core\\fromnumeric.py\u001b[0m in \u001b[0;36m_wrapreduction\u001b[1;34m(obj, ufunc, method, axis, dtype, out, **kwargs)\u001b[0m\n\u001b[0;32m     84\u001b[0m                 \u001b[1;32mreturn\u001b[0m \u001b[0mreduction\u001b[0m\u001b[1;33m(\u001b[0m\u001b[0maxis\u001b[0m\u001b[1;33m=\u001b[0m\u001b[0maxis\u001b[0m\u001b[1;33m,\u001b[0m \u001b[0mout\u001b[0m\u001b[1;33m=\u001b[0m\u001b[0mout\u001b[0m\u001b[1;33m,\u001b[0m \u001b[1;33m**\u001b[0m\u001b[0mpasskwargs\u001b[0m\u001b[1;33m)\u001b[0m\u001b[1;33m\u001b[0m\u001b[1;33m\u001b[0m\u001b[0m\n\u001b[0;32m     85\u001b[0m \u001b[1;33m\u001b[0m\u001b[0m\n\u001b[1;32m---> 86\u001b[1;33m     \u001b[1;32mreturn\u001b[0m \u001b[0mufunc\u001b[0m\u001b[1;33m.\u001b[0m\u001b[0mreduce\u001b[0m\u001b[1;33m(\u001b[0m\u001b[0mobj\u001b[0m\u001b[1;33m,\u001b[0m \u001b[0maxis\u001b[0m\u001b[1;33m,\u001b[0m \u001b[0mdtype\u001b[0m\u001b[1;33m,\u001b[0m \u001b[0mout\u001b[0m\u001b[1;33m,\u001b[0m \u001b[1;33m**\u001b[0m\u001b[0mpasskwargs\u001b[0m\u001b[1;33m)\u001b[0m\u001b[1;33m\u001b[0m\u001b[1;33m\u001b[0m\u001b[0m\n\u001b[0m\u001b[0;32m     87\u001b[0m \u001b[1;33m\u001b[0m\u001b[0m\n\u001b[0;32m     88\u001b[0m \u001b[1;33m\u001b[0m\u001b[0m\n",
      "\u001b[1;31mAxisError\u001b[0m: axis 19 is out of bounds for array of dimension 0"
     ]
    }
   ],
   "source": [
    "Tn = 2*np.pi/wn_exact\n",
    "incerteza = 1e-3\n",
    "\n",
    "x0s = np.linspace(-1, 1, 3)\n",
    "v0s = np.linspace(-1, 1, 3)\n",
    "residuos = np.zeros((len(x0s), len(v0s)))\n",
    "nsample = 1001\n",
    "tsample = np.linspace(0, 10*Tn, nsample)\n",
    "for i, x0 in enumerate(x0s):\n",
    "    for j, v0 in enumerate(v0s):\n",
    "        print(f\"(x0, v0) = ({x0}, {v0})\")\n",
    "        if (-0.3 < x0 < 0.3) and (-0.3< v0 < 0.3):\n",
    "            continue\n",
    "        xsample = solucao_x(xi_exact, wn_exact, x0, v0)(tsample)\n",
    "        xsample += incerteza*(2*np.random.rand(nsample)-1)\n",
    "        try:\n",
    "            X = SquareMinimum(tsample, xsample, verbose=False)\n",
    "        except Exception as e:\n",
    "            print(\"(x0, v0) = (%.2f, %.2f)\" % (x0, v0))\n",
    "            raise e\n",
    "        residuos[i, j] = compute_residuo(tsample, xsample, X)\n",
    "fig, axes = plt.subplots()\n",
    "c = axes.pcolormesh(x0s, v0s, residuos, shading=\"nearest\")\n",
    "fig.colorbar(c)"
   ]
  },
  {
   "cell_type": "markdown",
   "metadata": {},
   "source": [
    "E então podemos mudar os parâmetros $\\xi$ e $\\omega$, para avaliar o resíduo "
   ]
  }
 ],
 "metadata": {
  "kernelspec": {
   "display_name": "Python 3.9.1 64-bit",
   "language": "python",
   "name": "python3"
  },
  "language_info": {
   "codemirror_mode": {
    "name": "ipython",
    "version": 3
   },
   "file_extension": ".py",
   "mimetype": "text/x-python",
   "name": "python",
   "nbconvert_exporter": "python",
   "pygments_lexer": "ipython3",
   "version": "3.9.1"
  },
  "orig_nbformat": 4,
  "vscode": {
   "interpreter": {
    "hash": "11938c6bc6919ae2720b4d5011047913343b08a43b18698fd82dedb0d4417594"
   }
  }
 },
 "nbformat": 4,
 "nbformat_minor": 2
}
